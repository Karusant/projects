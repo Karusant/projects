{
 "cells": [
  {
   "cell_type": "markdown",
   "metadata": {
    "id": "4mJbK1knrJgz"
   },
   "source": [
    "# Проект: Исследование стартапов\n"
   ]
  },
  {
   "cell_type": "markdown",
   "metadata": {
    "id": "P6j0r3worJg0"
   },
   "source": [
    "## Введение\n",
    "\n",
    "### **Цель проекта:**  \n",
    "Подготовить датасет и проверить, что данные в нём соответствуют здравому смыслу, а также ответить на вопросы заказчика как о предобработке, так и о значении данных для бизнеса.\n",
    "### **Задачи проекта:**  \n",
    "\n",
    "**1. По каким столбцам можно объединять данные из разных таблиц;**\n",
    "\n",
    "**2. Можно ли доверять данным о сотрудниках стартапов и их образовании;**\n",
    "\n",
    "**3. Что означают покупки за 0 или за 1 доллар;**\n",
    "\n",
    "**4. Какая цена в зависимости от категории стартапов и количества раундов финансирования перед его покупкой;**\n",
    "\n",
    "**5. Как рассчитать и отобразить численные показатели и динамику.**"
   ]
  },
  {
   "cell_type": "markdown",
   "metadata": {},
   "source": [
    "### Описание данных\n",
    "\n",
    "**Таблица** `acquisition` (Сделки приобретения)\n",
    "\n",
    "| Поле | Описание |\n",
    "|------|----------|\n",
    "| `id` | Уникальный идентификатор сделки |\n",
    "| `acquiring_company_id` | ID компании-покупателя |\n",
    "| `acquired_company_id` | ID приобретаемой компании |\n",
    "| `term_code` | Условия расчета по сделке |\n",
    "| `price_amount` | Сумма сделки |\n",
    "| `acquired_at` | Дата совершения сделки |\n",
    "\n",
    "**Таблица** `company_and_rounds` (Компании и раунды финансирования)\n",
    "\n",
    "| Поле | Описание |\n",
    "|------|----------|\n",
    "| `company ID` | Уникальный ID компании |\n",
    "| `name` | Название компании |\n",
    "| `category code` | Категория деятельности |\n",
    "| `status` | Статус компании |\n",
    "| `founded at` | Дата основания |\n",
    "| `closed at` | Дата закрытия |\n",
    "| `domain` | Домен компании |\n",
    "| `network username` | Ник в соцсетях |\n",
    "| `country code` | Код страны |\n",
    "| `investment rounds` | Число инвестиционных раундов |\n",
    "| `funding rounds` | Число раундов финансирования |\n",
    "| `funding total` | Общий объем финансирования |\n",
    "| `milestones` | Вехи развития |\n",
    "| `funding round id` | ID раунда финансирования |\n",
    "| `company id` | ID компании |\n",
    "| `funded at` | Дата финансирования |\n",
    "| `funding round type` | Тип раунда |\n",
    "| `raised amount` | Сумма финансирования |\n",
    "| `pre money valuation` | Предварительная оценка |\n",
    "| `participants` | Количество участников |\n",
    "| `is first round` | Первый раунд? |\n",
    "| `is last round` | Последний раунд? |\n",
    "\n",
    "**Таблица** `education` (Образование сотрудников)\n",
    "\n",
    "| Поле | Описание |\n",
    "|------|----------|\n",
    "| `id` | ID записи |\n",
    "| `person_id` | ID сотрудника |\n",
    "| `instituition` | Учебное заведение |\n",
    "| `graduated_at` | Дата окончания |\n",
    "\n",
    "**Таблица** `people` (Сотрудники)\n",
    "\n",
    "| Поле | Описание |\n",
    "|------|----------|\n",
    "| `id` | ID сотрудника |\n",
    "| `first_name` | Имя |\n",
    "| `last_name` | Фамилия |\n",
    "| `company_id` | ID компании |\n",
    "| `network_username` | Ник в соцсетях |\n",
    "\n",
    "**Таблица** `degrees` (Образовательные степени)\n",
    "\n",
    "| Поле | Описание |\n",
    "|------|----------|\n",
    "| `id` | ID записи |\n",
    "| `object_id` | ID сотрудника |\n",
    "| `degree_type` | Тип степени |\n",
    "| `subject` | Специальность |\n",
    "\n",
    "Опциональные датасеты:\n",
    "\n",
    "**Таблица** `fund` (Инвестиционные фонды)\n",
    "\n",
    "| Поле | Описание |\n",
    "|------|----------|\n",
    "| `id` | Уникальный идентификатор фонда |\n",
    "| `name` | Название фонда |\n",
    "| `category_code` | Сфера деятельности фонда |\n",
    "| `founded_at` | Дата основания фонда |\n",
    "| `domain` | Официальный сайт фонда |\n",
    "| `network_username` | Ник фонда в социальных сетях |\n",
    "| `country_code` | Страна регистрации фонда (код) |\n",
    "| `investment_rounds` | Количество проведенных инвестиционных раундов |\n",
    "| `invested_companies` | Количество профинансированных компаний |\n",
    "| `milestones` | Ключевые вехи в истории фонда |\n",
    "\n",
    "**Таблица** `investment` (Инвестиционные раунды)\n",
    "\n",
    "| Поле | Описание |\n",
    "|------|----------|\n",
    "| `id` | Уникальный идентификатор записи |\n",
    "| `funding_round_id` | Идентификатор раунда финансирования |\n",
    "| `company_id` | Идентификатор компании-получателя |\n",
    "| `funding_round_type` | Тип инвестиционного раунда |\n",
    "| `fund_id` | Идентификатор фонда-инвестора |"
   ]
  },
  {
   "cell_type": "markdown",
   "metadata": {},
   "source": [
    "### Содержание проекта\n",
    "\n",
    "**1. Знакомство с данными**\n",
    "\n",
    "**2. Предобработка данных**\n",
    "\n",
    "**3. Исследовательский анализ данных**\n",
    "\n",
    "**4. Итоговый вывод и рекомендации**"
   ]
  },
  {
   "cell_type": "markdown",
   "metadata": {
    "id": "xqr6uttCrJg0"
   },
   "source": [
    "\n",
    "##  Знакомство с данными: загрузка и первичная предобработка\n",
    "\n"
   ]
  },
  {
   "cell_type": "code",
   "execution_count": 1,
   "metadata": {
    "colab": {
     "base_uri": "https://localhost:8080/"
    },
    "id": "W_W4jRazrJg0",
    "outputId": "d2409aad-233f-4bb4-ec71-7da96594f9df",
    "vscode": {
     "languageId": "plaintext"
    }
   },
   "outputs": [],
   "source": [
    "# Импортируем библиотеки\n",
    "import pandas as pd\n",
    "import numpy as np\n",
    "# Загружаем библиотеки для визуализации данных\n",
    "import matplotlib.pyplot as plt\n",
    "import seaborn as sns"
   ]
  },
  {
   "cell_type": "code",
   "execution_count": 2,
   "metadata": {
    "id": "2Tm4Pk__Felf"
   },
   "outputs": [],
   "source": [
    "# Выгружаем данные в переменные acquisition, company_and_rounds, people, education, degrees\n",
    "acquisition = pd.read_csv('')\n",
    "company_and_rounds = pd.read_csv('')\n",
    "people = pd.read_csv('')\n",
    "education = pd.read_csv('')\n",
    "degrees = pd.read_csv('')"
   ]
  },
  {
   "cell_type": "markdown",
   "metadata": {
    "id": "oNqJ2qpRFebv"
   },
   "source": [
    "Познакомимся с данными датасетов и выведем первые строки методом head(), а информацию о датафрейме методом info():"
   ]
  },
  {
   "cell_type": "code",
   "execution_count": 3,
   "metadata": {},
   "outputs": [
    {
     "data": {
      "text/html": [
       "<div>\n",
       "<style scoped>\n",
       "    .dataframe tbody tr th:only-of-type {\n",
       "        vertical-align: middle;\n",
       "    }\n",
       "\n",
       "    .dataframe tbody tr th {\n",
       "        vertical-align: top;\n",
       "    }\n",
       "\n",
       "    .dataframe thead th {\n",
       "        text-align: right;\n",
       "    }\n",
       "</style>\n",
       "<table border=\"1\" class=\"dataframe\">\n",
       "  <thead>\n",
       "    <tr style=\"text-align: right;\">\n",
       "      <th></th>\n",
       "      <th>id</th>\n",
       "      <th>acquiring_company_id</th>\n",
       "      <th>acquired_company_id</th>\n",
       "      <th>term_code</th>\n",
       "      <th>price_amount</th>\n",
       "      <th>acquired_at</th>\n",
       "    </tr>\n",
       "  </thead>\n",
       "  <tbody>\n",
       "    <tr>\n",
       "      <th>0</th>\n",
       "      <td>1</td>\n",
       "      <td>11</td>\n",
       "      <td>10</td>\n",
       "      <td>NaN</td>\n",
       "      <td>20000000</td>\n",
       "      <td>2007-05-30</td>\n",
       "    </tr>\n",
       "    <tr>\n",
       "      <th>1</th>\n",
       "      <td>7</td>\n",
       "      <td>59</td>\n",
       "      <td>72</td>\n",
       "      <td>cash</td>\n",
       "      <td>60000000</td>\n",
       "      <td>2007-07-01</td>\n",
       "    </tr>\n",
       "    <tr>\n",
       "      <th>2</th>\n",
       "      <td>8</td>\n",
       "      <td>24</td>\n",
       "      <td>132</td>\n",
       "      <td>cash</td>\n",
       "      <td>280000000</td>\n",
       "      <td>2007-05-01</td>\n",
       "    </tr>\n",
       "    <tr>\n",
       "      <th>3</th>\n",
       "      <td>9</td>\n",
       "      <td>59</td>\n",
       "      <td>155</td>\n",
       "      <td>cash</td>\n",
       "      <td>100000000</td>\n",
       "      <td>2007-06-01</td>\n",
       "    </tr>\n",
       "    <tr>\n",
       "      <th>4</th>\n",
       "      <td>10</td>\n",
       "      <td>212</td>\n",
       "      <td>215</td>\n",
       "      <td>cash</td>\n",
       "      <td>25000000</td>\n",
       "      <td>2007-07-01</td>\n",
       "    </tr>\n",
       "  </tbody>\n",
       "</table>\n",
       "</div>"
      ],
      "text/plain": [
       "   id  acquiring_company_id  acquired_company_id term_code  price_amount  \\\n",
       "0   1                    11                   10       NaN      20000000   \n",
       "1   7                    59                   72      cash      60000000   \n",
       "2   8                    24                  132      cash     280000000   \n",
       "3   9                    59                  155      cash     100000000   \n",
       "4  10                   212                  215      cash      25000000   \n",
       "\n",
       "  acquired_at  \n",
       "0  2007-05-30  \n",
       "1  2007-07-01  \n",
       "2  2007-05-01  \n",
       "3  2007-06-01  \n",
       "4  2007-07-01  "
      ]
     },
     "execution_count": 3,
     "metadata": {},
     "output_type": "execute_result"
    }
   ],
   "source": [
    "# Выводим первые строки датафрейма acquisition на экран \n",
    "acquisition.head()"
   ]
  },
  {
   "cell_type": "code",
   "execution_count": 4,
   "metadata": {},
   "outputs": [
    {
     "name": "stdout",
     "output_type": "stream",
     "text": [
      "<class 'pandas.core.frame.DataFrame'>\n",
      "RangeIndex: 9407 entries, 0 to 9406\n",
      "Data columns (total 6 columns):\n",
      " #   Column                Non-Null Count  Dtype \n",
      "---  ------                --------------  ----- \n",
      " 0   id                    9407 non-null   int64 \n",
      " 1   acquiring_company_id  9407 non-null   int64 \n",
      " 2   acquired_company_id   9407 non-null   int64 \n",
      " 3   term_code             1831 non-null   object\n",
      " 4   price_amount          9407 non-null   int64 \n",
      " 5   acquired_at           9378 non-null   object\n",
      "dtypes: int64(4), object(2)\n",
      "memory usage: 441.1+ KB\n"
     ]
    }
   ],
   "source": [
    "# Выводим информацию о датафрейме acquisition\n",
    "acquisition.info()"
   ]
  },
  {
   "cell_type": "markdown",
   "metadata": {},
   "source": [
    "Названия в порядке, тип столбца `acquired_at` привести к дате, есть пропуски в столбцах `term_code` и `acquired_at`"
   ]
  },
  {
   "cell_type": "code",
   "execution_count": 5,
   "metadata": {},
   "outputs": [
    {
     "data": {
      "text/html": [
       "<div>\n",
       "<style scoped>\n",
       "    .dataframe tbody tr th:only-of-type {\n",
       "        vertical-align: middle;\n",
       "    }\n",
       "\n",
       "    .dataframe tbody tr th {\n",
       "        vertical-align: top;\n",
       "    }\n",
       "\n",
       "    .dataframe thead th {\n",
       "        text-align: right;\n",
       "    }\n",
       "</style>\n",
       "<table border=\"1\" class=\"dataframe\">\n",
       "  <thead>\n",
       "    <tr style=\"text-align: right;\">\n",
       "      <th></th>\n",
       "      <th>company  ID</th>\n",
       "      <th>name</th>\n",
       "      <th>category  code</th>\n",
       "      <th>status</th>\n",
       "      <th>founded  at</th>\n",
       "      <th>closed  at</th>\n",
       "      <th>domain</th>\n",
       "      <th>network  username</th>\n",
       "      <th>country  code</th>\n",
       "      <th>investment  rounds</th>\n",
       "      <th>...</th>\n",
       "      <th>milestones</th>\n",
       "      <th>funding  round  id</th>\n",
       "      <th>company  id</th>\n",
       "      <th>funded  at</th>\n",
       "      <th>funding  round  type</th>\n",
       "      <th>raised  amount</th>\n",
       "      <th>pre  money  valuation</th>\n",
       "      <th>participants</th>\n",
       "      <th>is  first  round</th>\n",
       "      <th>is  last  round</th>\n",
       "    </tr>\n",
       "  </thead>\n",
       "  <tbody>\n",
       "    <tr>\n",
       "      <th>0</th>\n",
       "      <td>1.0</td>\n",
       "      <td>Wetpaint</td>\n",
       "      <td>web</td>\n",
       "      <td>operating</td>\n",
       "      <td>2005-10-17</td>\n",
       "      <td>NaN</td>\n",
       "      <td>wetpaint-inc.com</td>\n",
       "      <td>BachelrWetpaint</td>\n",
       "      <td>USA</td>\n",
       "      <td>0.0</td>\n",
       "      <td>...</td>\n",
       "      <td>5.0</td>\n",
       "      <td>888.0</td>\n",
       "      <td>1.0</td>\n",
       "      <td>2005-10-01</td>\n",
       "      <td>series-a</td>\n",
       "      <td>5250000.0</td>\n",
       "      <td>0.0</td>\n",
       "      <td>2.0</td>\n",
       "      <td>0.0</td>\n",
       "      <td>1.0</td>\n",
       "    </tr>\n",
       "    <tr>\n",
       "      <th>1</th>\n",
       "      <td>1.0</td>\n",
       "      <td>Wetpaint</td>\n",
       "      <td>web</td>\n",
       "      <td>operating</td>\n",
       "      <td>2005-10-17</td>\n",
       "      <td>NaN</td>\n",
       "      <td>wetpaint-inc.com</td>\n",
       "      <td>BachelrWetpaint</td>\n",
       "      <td>USA</td>\n",
       "      <td>0.0</td>\n",
       "      <td>...</td>\n",
       "      <td>5.0</td>\n",
       "      <td>889.0</td>\n",
       "      <td>1.0</td>\n",
       "      <td>2007-01-01</td>\n",
       "      <td>series-b</td>\n",
       "      <td>9500000.0</td>\n",
       "      <td>0.0</td>\n",
       "      <td>3.0</td>\n",
       "      <td>0.0</td>\n",
       "      <td>0.0</td>\n",
       "    </tr>\n",
       "    <tr>\n",
       "      <th>2</th>\n",
       "      <td>1.0</td>\n",
       "      <td>Wetpaint</td>\n",
       "      <td>web</td>\n",
       "      <td>operating</td>\n",
       "      <td>2005-10-17</td>\n",
       "      <td>NaN</td>\n",
       "      <td>wetpaint-inc.com</td>\n",
       "      <td>BachelrWetpaint</td>\n",
       "      <td>USA</td>\n",
       "      <td>0.0</td>\n",
       "      <td>...</td>\n",
       "      <td>5.0</td>\n",
       "      <td>2312.0</td>\n",
       "      <td>1.0</td>\n",
       "      <td>2008-05-19</td>\n",
       "      <td>series-c+</td>\n",
       "      <td>25000000.0</td>\n",
       "      <td>0.0</td>\n",
       "      <td>4.0</td>\n",
       "      <td>1.0</td>\n",
       "      <td>0.0</td>\n",
       "    </tr>\n",
       "    <tr>\n",
       "      <th>3</th>\n",
       "      <td>10.0</td>\n",
       "      <td>Flektor</td>\n",
       "      <td>games_video</td>\n",
       "      <td>acquired</td>\n",
       "      <td>NaN</td>\n",
       "      <td>NaN</td>\n",
       "      <td>flektor.com</td>\n",
       "      <td>NaN</td>\n",
       "      <td>USA</td>\n",
       "      <td>0.0</td>\n",
       "      <td>...</td>\n",
       "      <td>0.0</td>\n",
       "      <td>NaN</td>\n",
       "      <td>NaN</td>\n",
       "      <td>NaN</td>\n",
       "      <td>NaN</td>\n",
       "      <td>NaN</td>\n",
       "      <td>NaN</td>\n",
       "      <td>NaN</td>\n",
       "      <td>NaN</td>\n",
       "      <td>NaN</td>\n",
       "    </tr>\n",
       "    <tr>\n",
       "      <th>4</th>\n",
       "      <td>100.0</td>\n",
       "      <td>There</td>\n",
       "      <td>games_video</td>\n",
       "      <td>acquired</td>\n",
       "      <td>NaN</td>\n",
       "      <td>NaN</td>\n",
       "      <td>there.com</td>\n",
       "      <td>NaN</td>\n",
       "      <td>USA</td>\n",
       "      <td>0.0</td>\n",
       "      <td>...</td>\n",
       "      <td>4.0</td>\n",
       "      <td>NaN</td>\n",
       "      <td>NaN</td>\n",
       "      <td>NaN</td>\n",
       "      <td>NaN</td>\n",
       "      <td>NaN</td>\n",
       "      <td>NaN</td>\n",
       "      <td>NaN</td>\n",
       "      <td>NaN</td>\n",
       "      <td>NaN</td>\n",
       "    </tr>\n",
       "    <tr>\n",
       "      <th>5</th>\n",
       "      <td>10000.0</td>\n",
       "      <td>MYWEBBO</td>\n",
       "      <td>network_hosting</td>\n",
       "      <td>operating</td>\n",
       "      <td>2008-07-26</td>\n",
       "      <td>NaN</td>\n",
       "      <td>mywebbo.com</td>\n",
       "      <td>NaN</td>\n",
       "      <td>NaN</td>\n",
       "      <td>0.0</td>\n",
       "      <td>...</td>\n",
       "      <td>0.0</td>\n",
       "      <td>NaN</td>\n",
       "      <td>NaN</td>\n",
       "      <td>NaN</td>\n",
       "      <td>NaN</td>\n",
       "      <td>NaN</td>\n",
       "      <td>NaN</td>\n",
       "      <td>NaN</td>\n",
       "      <td>NaN</td>\n",
       "      <td>NaN</td>\n",
       "    </tr>\n",
       "    <tr>\n",
       "      <th>6</th>\n",
       "      <td>10001.0</td>\n",
       "      <td>THE Movie Streamer</td>\n",
       "      <td>games_video</td>\n",
       "      <td>operating</td>\n",
       "      <td>2008-07-26</td>\n",
       "      <td>NaN</td>\n",
       "      <td>themoviestreamer.com</td>\n",
       "      <td>NaN</td>\n",
       "      <td>NaN</td>\n",
       "      <td>0.0</td>\n",
       "      <td>...</td>\n",
       "      <td>0.0</td>\n",
       "      <td>NaN</td>\n",
       "      <td>NaN</td>\n",
       "      <td>NaN</td>\n",
       "      <td>NaN</td>\n",
       "      <td>NaN</td>\n",
       "      <td>NaN</td>\n",
       "      <td>NaN</td>\n",
       "      <td>NaN</td>\n",
       "      <td>NaN</td>\n",
       "    </tr>\n",
       "    <tr>\n",
       "      <th>7</th>\n",
       "      <td>10002.0</td>\n",
       "      <td>Synergie Media</td>\n",
       "      <td>advertising</td>\n",
       "      <td>operating</td>\n",
       "      <td>2007-06-27</td>\n",
       "      <td>NaN</td>\n",
       "      <td>synergie-media.com</td>\n",
       "      <td>NaN</td>\n",
       "      <td>MAR</td>\n",
       "      <td>0.0</td>\n",
       "      <td>...</td>\n",
       "      <td>0.0</td>\n",
       "      <td>NaN</td>\n",
       "      <td>NaN</td>\n",
       "      <td>NaN</td>\n",
       "      <td>NaN</td>\n",
       "      <td>NaN</td>\n",
       "      <td>NaN</td>\n",
       "      <td>NaN</td>\n",
       "      <td>NaN</td>\n",
       "      <td>NaN</td>\n",
       "    </tr>\n",
       "    <tr>\n",
       "      <th>8</th>\n",
       "      <td>10003.0</td>\n",
       "      <td>Green Basti Ecosystems</td>\n",
       "      <td>cleantech</td>\n",
       "      <td>operating</td>\n",
       "      <td>2008-08-20</td>\n",
       "      <td>NaN</td>\n",
       "      <td>NaN</td>\n",
       "      <td>NaN</td>\n",
       "      <td>IND</td>\n",
       "      <td>0.0</td>\n",
       "      <td>...</td>\n",
       "      <td>0.0</td>\n",
       "      <td>NaN</td>\n",
       "      <td>NaN</td>\n",
       "      <td>NaN</td>\n",
       "      <td>NaN</td>\n",
       "      <td>NaN</td>\n",
       "      <td>NaN</td>\n",
       "      <td>NaN</td>\n",
       "      <td>NaN</td>\n",
       "      <td>NaN</td>\n",
       "    </tr>\n",
       "    <tr>\n",
       "      <th>9</th>\n",
       "      <td>100042.0</td>\n",
       "      <td>HostNine</td>\n",
       "      <td>NaN</td>\n",
       "      <td>operating</td>\n",
       "      <td>NaN</td>\n",
       "      <td>NaN</td>\n",
       "      <td>hostnine.com</td>\n",
       "      <td>Hostnine</td>\n",
       "      <td>NaN</td>\n",
       "      <td>0.0</td>\n",
       "      <td>...</td>\n",
       "      <td>1.0</td>\n",
       "      <td>NaN</td>\n",
       "      <td>NaN</td>\n",
       "      <td>NaN</td>\n",
       "      <td>NaN</td>\n",
       "      <td>NaN</td>\n",
       "      <td>NaN</td>\n",
       "      <td>NaN</td>\n",
       "      <td>NaN</td>\n",
       "      <td>NaN</td>\n",
       "    </tr>\n",
       "  </tbody>\n",
       "</table>\n",
       "<p>10 rows × 22 columns</p>\n",
       "</div>"
      ],
      "text/plain": [
       "   company  ID                    name   category  code     status  \\\n",
       "0          1.0                Wetpaint              web  operating   \n",
       "1          1.0                Wetpaint              web  operating   \n",
       "2          1.0                Wetpaint              web  operating   \n",
       "3         10.0                 Flektor      games_video   acquired   \n",
       "4        100.0                   There      games_video   acquired   \n",
       "5      10000.0                 MYWEBBO  network_hosting  operating   \n",
       "6      10001.0      THE Movie Streamer      games_video  operating   \n",
       "7      10002.0          Synergie Media      advertising  operating   \n",
       "8      10003.0  Green Basti Ecosystems        cleantech  operating   \n",
       "9     100042.0                HostNine              NaN  operating   \n",
       "\n",
       "  founded  at closed  at                domain network  username  \\\n",
       "0  2005-10-17        NaN      wetpaint-inc.com   BachelrWetpaint   \n",
       "1  2005-10-17        NaN      wetpaint-inc.com   BachelrWetpaint   \n",
       "2  2005-10-17        NaN      wetpaint-inc.com   BachelrWetpaint   \n",
       "3         NaN        NaN           flektor.com               NaN   \n",
       "4         NaN        NaN             there.com               NaN   \n",
       "5  2008-07-26        NaN           mywebbo.com               NaN   \n",
       "6  2008-07-26        NaN  themoviestreamer.com               NaN   \n",
       "7  2007-06-27        NaN    synergie-media.com               NaN   \n",
       "8  2008-08-20        NaN                   NaN               NaN   \n",
       "9         NaN        NaN          hostnine.com          Hostnine   \n",
       "\n",
       "  country  code  investment  rounds  ...  milestones  funding  round  id  \\\n",
       "0           USA                 0.0  ...         5.0               888.0   \n",
       "1           USA                 0.0  ...         5.0               889.0   \n",
       "2           USA                 0.0  ...         5.0              2312.0   \n",
       "3           USA                 0.0  ...         0.0                 NaN   \n",
       "4           USA                 0.0  ...         4.0                 NaN   \n",
       "5           NaN                 0.0  ...         0.0                 NaN   \n",
       "6           NaN                 0.0  ...         0.0                 NaN   \n",
       "7           MAR                 0.0  ...         0.0                 NaN   \n",
       "8           IND                 0.0  ...         0.0                 NaN   \n",
       "9           NaN                 0.0  ...         1.0                 NaN   \n",
       "\n",
       "   company  id  funded  at  funding  round  type raised  amount  \\\n",
       "0          1.0  2005-10-01              series-a      5250000.0   \n",
       "1          1.0  2007-01-01              series-b      9500000.0   \n",
       "2          1.0  2008-05-19             series-c+     25000000.0   \n",
       "3          NaN         NaN                   NaN            NaN   \n",
       "4          NaN         NaN                   NaN            NaN   \n",
       "5          NaN         NaN                   NaN            NaN   \n",
       "6          NaN         NaN                   NaN            NaN   \n",
       "7          NaN         NaN                   NaN            NaN   \n",
       "8          NaN         NaN                   NaN            NaN   \n",
       "9          NaN         NaN                   NaN            NaN   \n",
       "\n",
       "  pre  money  valuation  participants  is  first  round  is  last  round  \n",
       "0                   0.0           2.0               0.0              1.0  \n",
       "1                   0.0           3.0               0.0              0.0  \n",
       "2                   0.0           4.0               1.0              0.0  \n",
       "3                   NaN           NaN               NaN              NaN  \n",
       "4                   NaN           NaN               NaN              NaN  \n",
       "5                   NaN           NaN               NaN              NaN  \n",
       "6                   NaN           NaN               NaN              NaN  \n",
       "7                   NaN           NaN               NaN              NaN  \n",
       "8                   NaN           NaN               NaN              NaN  \n",
       "9                   NaN           NaN               NaN              NaN  \n",
       "\n",
       "[10 rows x 22 columns]"
      ]
     },
     "execution_count": 5,
     "metadata": {},
     "output_type": "execute_result"
    }
   ],
   "source": [
    "# Выводим первые строки датафрейма company_and_rounds на экран \n",
    "company_and_rounds.head(10)"
   ]
  },
  {
   "cell_type": "code",
   "execution_count": 6,
   "metadata": {},
   "outputs": [
    {
     "name": "stdout",
     "output_type": "stream",
     "text": [
      "<class 'pandas.core.frame.DataFrame'>\n",
      "RangeIndex: 217774 entries, 0 to 217773\n",
      "Data columns (total 22 columns):\n",
      " #   Column                 Non-Null Count   Dtype  \n",
      "---  ------                 --------------   -----  \n",
      " 0   company  ID            217472 non-null  float64\n",
      " 1   name                   217472 non-null  object \n",
      " 2   category  code         143886 non-null  object \n",
      " 3   status                 217472 non-null  object \n",
      " 4   founded  at            109956 non-null  object \n",
      " 5   closed  at             3449 non-null    object \n",
      " 6   domain                 147159 non-null  object \n",
      " 7   network  username      95534 non-null   object \n",
      " 8   country  code          108607 non-null  object \n",
      " 9   investment  rounds     217472 non-null  float64\n",
      " 10  funding  rounds        217472 non-null  float64\n",
      " 11  funding  total         217472 non-null  float64\n",
      " 12  milestones             217472 non-null  float64\n",
      " 13  funding  round  id     52928 non-null   float64\n",
      " 14  company  id            52928 non-null   float64\n",
      " 15  funded  at             52680 non-null   object \n",
      " 16  funding  round  type   52928 non-null   object \n",
      " 17  raised  amount         52928 non-null   float64\n",
      " 18  pre  money  valuation  52928 non-null   float64\n",
      " 19  participants           52928 non-null   float64\n",
      " 20  is  first  round       52928 non-null   float64\n",
      " 21  is  last  round        52928 non-null   float64\n",
      "dtypes: float64(12), object(10)\n",
      "memory usage: 36.6+ MB\n"
     ]
    }
   ],
   "source": [
    "# Выводим информацию о датафрейме company_and_rounds\n",
    "company_and_rounds.info()"
   ]
  },
  {
   "cell_type": "markdown",
   "metadata": {},
   "source": [
    "Пропуски абсолютно во всех столбцах, типы данных в некотрых столбцах можно оптимизировать, названия привести к `snakecase`"
   ]
  },
  {
   "cell_type": "code",
   "execution_count": 7,
   "metadata": {},
   "outputs": [],
   "source": [
    "# Переименуем столбец дубликат\n",
    "company_and_rounds = company_and_rounds.rename(columns={'company  id': 'company  identifier'})"
   ]
  },
  {
   "cell_type": "code",
   "execution_count": 8,
   "metadata": {
    "scrolled": true
   },
   "outputs": [
    {
     "data": {
      "text/plain": [
       "Index(['company_id', 'name', 'category_code', 'status', 'founded_at',\n",
       "       'closed_at', 'domain', 'network_username', 'country_code',\n",
       "       'investment_rounds', 'funding_rounds', 'funding_total', 'milestones',\n",
       "       'funding_round_id', 'company_identifier', 'funded_at',\n",
       "       'funding_round_type', 'raised_amount', 'pre_money_valuation',\n",
       "       'participants', 'is_first_round', 'is_last_round'],\n",
       "      dtype='object')"
      ]
     },
     "execution_count": 8,
     "metadata": {},
     "output_type": "execute_result"
    }
   ],
   "source": [
    "# приводим названия к snakecase\n",
    "# переводим буквы в нижний регистр и удаляем лишние пробелы\n",
    "company_and_rounds.columns = company_and_rounds.columns.str.replace(r'\\s+', '_', regex=True).str.lower()\n",
    "company_and_rounds.columns"
   ]
  },
  {
   "cell_type": "code",
   "execution_count": 9,
   "metadata": {},
   "outputs": [
    {
     "data": {
      "text/html": [
       "<div>\n",
       "<style scoped>\n",
       "    .dataframe tbody tr th:only-of-type {\n",
       "        vertical-align: middle;\n",
       "    }\n",
       "\n",
       "    .dataframe tbody tr th {\n",
       "        vertical-align: top;\n",
       "    }\n",
       "\n",
       "    .dataframe thead th {\n",
       "        text-align: right;\n",
       "    }\n",
       "</style>\n",
       "<table border=\"1\" class=\"dataframe\">\n",
       "  <thead>\n",
       "    <tr style=\"text-align: right;\">\n",
       "      <th></th>\n",
       "      <th>id</th>\n",
       "      <th>first_name</th>\n",
       "      <th>last_name</th>\n",
       "      <th>company_id</th>\n",
       "      <th>network_username</th>\n",
       "    </tr>\n",
       "  </thead>\n",
       "  <tbody>\n",
       "    <tr>\n",
       "      <th>0</th>\n",
       "      <td>10</td>\n",
       "      <td>Mark</td>\n",
       "      <td>Zuckerberg</td>\n",
       "      <td>5.0</td>\n",
       "      <td>NaN</td>\n",
       "    </tr>\n",
       "    <tr>\n",
       "      <th>1</th>\n",
       "      <td>100</td>\n",
       "      <td>Peter</td>\n",
       "      <td>Lester</td>\n",
       "      <td>27.0</td>\n",
       "      <td>NaN</td>\n",
       "    </tr>\n",
       "    <tr>\n",
       "      <th>2</th>\n",
       "      <td>1000</td>\n",
       "      <td>Dr. Steven</td>\n",
       "      <td>E. Saunders</td>\n",
       "      <td>292.0</td>\n",
       "      <td>NaN</td>\n",
       "    </tr>\n",
       "    <tr>\n",
       "      <th>3</th>\n",
       "      <td>10000</td>\n",
       "      <td>Neil</td>\n",
       "      <td>Capel</td>\n",
       "      <td>2526.0</td>\n",
       "      <td>NaN</td>\n",
       "    </tr>\n",
       "    <tr>\n",
       "      <th>4</th>\n",
       "      <td>100000</td>\n",
       "      <td>Sue</td>\n",
       "      <td>Pilsch</td>\n",
       "      <td>NaN</td>\n",
       "      <td>NaN</td>\n",
       "    </tr>\n",
       "  </tbody>\n",
       "</table>\n",
       "</div>"
      ],
      "text/plain": [
       "       id  first_name    last_name  company_id network_username\n",
       "0      10        Mark   Zuckerberg         5.0              NaN\n",
       "1     100       Peter       Lester        27.0              NaN\n",
       "2    1000  Dr. Steven  E. Saunders       292.0              NaN\n",
       "3   10000        Neil        Capel      2526.0              NaN\n",
       "4  100000         Sue       Pilsch         NaN              NaN"
      ]
     },
     "execution_count": 9,
     "metadata": {},
     "output_type": "execute_result"
    }
   ],
   "source": [
    "# Выводим первые строки датафрейма company_and_rounds на экран \n",
    "people.head()"
   ]
  },
  {
   "cell_type": "code",
   "execution_count": 10,
   "metadata": {},
   "outputs": [
    {
     "name": "stdout",
     "output_type": "stream",
     "text": [
      "<class 'pandas.core.frame.DataFrame'>\n",
      "RangeIndex: 226709 entries, 0 to 226708\n",
      "Data columns (total 5 columns):\n",
      " #   Column            Non-Null Count   Dtype  \n",
      "---  ------            --------------   -----  \n",
      " 0   id                226709 non-null  int64  \n",
      " 1   first_name        226704 non-null  object \n",
      " 2   last_name         226708 non-null  object \n",
      " 3   company_id        34615 non-null   float64\n",
      " 4   network_username  38867 non-null   object \n",
      "dtypes: float64(1), int64(1), object(3)\n",
      "memory usage: 8.6+ MB\n"
     ]
    }
   ],
   "source": [
    "# Выводим информацию о датафрейме company_and_rounds\n",
    "people.info()"
   ]
  },
  {
   "cell_type": "markdown",
   "metadata": {},
   "source": [
    "Много пропусков кроме одного столбца, названия в порядке, типы данных можно оптимизировать"
   ]
  },
  {
   "cell_type": "code",
   "execution_count": 11,
   "metadata": {},
   "outputs": [
    {
     "data": {
      "text/html": [
       "<div>\n",
       "<style scoped>\n",
       "    .dataframe tbody tr th:only-of-type {\n",
       "        vertical-align: middle;\n",
       "    }\n",
       "\n",
       "    .dataframe tbody tr th {\n",
       "        vertical-align: top;\n",
       "    }\n",
       "\n",
       "    .dataframe thead th {\n",
       "        text-align: right;\n",
       "    }\n",
       "</style>\n",
       "<table border=\"1\" class=\"dataframe\">\n",
       "  <thead>\n",
       "    <tr style=\"text-align: right;\">\n",
       "      <th></th>\n",
       "      <th>id</th>\n",
       "      <th>person_id</th>\n",
       "      <th>instituition</th>\n",
       "      <th>graduated_at</th>\n",
       "    </tr>\n",
       "  </thead>\n",
       "  <tbody>\n",
       "    <tr>\n",
       "      <th>0</th>\n",
       "      <td>1</td>\n",
       "      <td>6117</td>\n",
       "      <td>NaN</td>\n",
       "      <td>NaN</td>\n",
       "    </tr>\n",
       "    <tr>\n",
       "      <th>1</th>\n",
       "      <td>2</td>\n",
       "      <td>6136</td>\n",
       "      <td>Washington University, St. Louis</td>\n",
       "      <td>1990-01-01</td>\n",
       "    </tr>\n",
       "    <tr>\n",
       "      <th>2</th>\n",
       "      <td>3</td>\n",
       "      <td>6136</td>\n",
       "      <td>Boston University</td>\n",
       "      <td>1992-01-01</td>\n",
       "    </tr>\n",
       "    <tr>\n",
       "      <th>3</th>\n",
       "      <td>4</td>\n",
       "      <td>6005</td>\n",
       "      <td>University of Greenwich</td>\n",
       "      <td>2006-01-01</td>\n",
       "    </tr>\n",
       "    <tr>\n",
       "      <th>4</th>\n",
       "      <td>5</td>\n",
       "      <td>5832</td>\n",
       "      <td>Rice University</td>\n",
       "      <td>NaN</td>\n",
       "    </tr>\n",
       "  </tbody>\n",
       "</table>\n",
       "</div>"
      ],
      "text/plain": [
       "   id  person_id                      instituition graduated_at\n",
       "0   1       6117                               NaN          NaN\n",
       "1   2       6136  Washington University, St. Louis   1990-01-01\n",
       "2   3       6136                 Boston University   1992-01-01\n",
       "3   4       6005           University of Greenwich   2006-01-01\n",
       "4   5       5832                   Rice University          NaN"
      ]
     },
     "execution_count": 11,
     "metadata": {},
     "output_type": "execute_result"
    }
   ],
   "source": [
    "# Выводим первые строки датафрейма education на экран \n",
    "education.head()"
   ]
  },
  {
   "cell_type": "code",
   "execution_count": 12,
   "metadata": {},
   "outputs": [
    {
     "name": "stdout",
     "output_type": "stream",
     "text": [
      "<class 'pandas.core.frame.DataFrame'>\n",
      "RangeIndex: 109610 entries, 0 to 109609\n",
      "Data columns (total 4 columns):\n",
      " #   Column        Non-Null Count   Dtype \n",
      "---  ------        --------------   ----- \n",
      " 0   id            109610 non-null  int64 \n",
      " 1   person_id     109610 non-null  int64 \n",
      " 2   instituition  109555 non-null  object\n",
      " 3   graduated_at  58054 non-null   object\n",
      "dtypes: int64(2), object(2)\n",
      "memory usage: 3.3+ MB\n"
     ]
    }
   ],
   "source": [
    "# Выводим информацию о датафрейме education\n",
    "education.info()"
   ]
  },
  {
   "cell_type": "markdown",
   "metadata": {},
   "source": [
    "Названия в порядке, много пропусков в столбцах с датами, тип столбца `graduated_at` привести к дате"
   ]
  },
  {
   "cell_type": "code",
   "execution_count": 13,
   "metadata": {},
   "outputs": [
    {
     "data": {
      "text/html": [
       "<div>\n",
       "<style scoped>\n",
       "    .dataframe tbody tr th:only-of-type {\n",
       "        vertical-align: middle;\n",
       "    }\n",
       "\n",
       "    .dataframe tbody tr th {\n",
       "        vertical-align: top;\n",
       "    }\n",
       "\n",
       "    .dataframe thead th {\n",
       "        text-align: right;\n",
       "    }\n",
       "</style>\n",
       "<table border=\"1\" class=\"dataframe\">\n",
       "  <thead>\n",
       "    <tr style=\"text-align: right;\">\n",
       "      <th></th>\n",
       "      <th>id</th>\n",
       "      <th>object_id</th>\n",
       "      <th>degree_type</th>\n",
       "      <th>subject</th>\n",
       "    </tr>\n",
       "  </thead>\n",
       "  <tbody>\n",
       "    <tr>\n",
       "      <th>0</th>\n",
       "      <td>1</td>\n",
       "      <td>p:6117</td>\n",
       "      <td>MBA</td>\n",
       "      <td>NaN</td>\n",
       "    </tr>\n",
       "    <tr>\n",
       "      <th>1</th>\n",
       "      <td>2</td>\n",
       "      <td>p:6136</td>\n",
       "      <td>BA</td>\n",
       "      <td>English, French</td>\n",
       "    </tr>\n",
       "    <tr>\n",
       "      <th>2</th>\n",
       "      <td>3</td>\n",
       "      <td>p:6136</td>\n",
       "      <td>MS</td>\n",
       "      <td>Mass Communication</td>\n",
       "    </tr>\n",
       "    <tr>\n",
       "      <th>3</th>\n",
       "      <td>4</td>\n",
       "      <td>p:6005</td>\n",
       "      <td>MS</td>\n",
       "      <td>Internet Technology</td>\n",
       "    </tr>\n",
       "    <tr>\n",
       "      <th>4</th>\n",
       "      <td>5</td>\n",
       "      <td>p:5832</td>\n",
       "      <td>BCS</td>\n",
       "      <td>Computer Science, Psychology</td>\n",
       "    </tr>\n",
       "  </tbody>\n",
       "</table>\n",
       "</div>"
      ],
      "text/plain": [
       "   id object_id degree_type                       subject\n",
       "0   1    p:6117         MBA                           NaN\n",
       "1   2    p:6136          BA               English, French\n",
       "2   3    p:6136          MS            Mass Communication\n",
       "3   4    p:6005          MS           Internet Technology\n",
       "4   5    p:5832         BCS  Computer Science, Psychology"
      ]
     },
     "execution_count": 13,
     "metadata": {},
     "output_type": "execute_result"
    }
   ],
   "source": [
    "# Выводим первые строки датафрейма degrees на экран \n",
    "degrees.head()"
   ]
  },
  {
   "cell_type": "code",
   "execution_count": 14,
   "metadata": {},
   "outputs": [
    {
     "name": "stdout",
     "output_type": "stream",
     "text": [
      "<class 'pandas.core.frame.DataFrame'>\n",
      "RangeIndex: 109610 entries, 0 to 109609\n",
      "Data columns (total 4 columns):\n",
      " #   Column       Non-Null Count   Dtype \n",
      "---  ------       --------------   ----- \n",
      " 0   id           109610 non-null  int64 \n",
      " 1   object_id    109610 non-null  object\n",
      " 2   degree_type  98392 non-null   object\n",
      " 3   subject      81298 non-null   object\n",
      "dtypes: int64(1), object(3)\n",
      "memory usage: 3.3+ MB\n"
     ]
    }
   ],
   "source": [
    "# Выводим информацию о датафрейме degrees\n",
    "degrees.info()"
   ]
  },
  {
   "cell_type": "markdown",
   "metadata": {},
   "source": [
    "Здесь все в порядке с названиями и типами, но также много пропусков"
   ]
  },
  {
   "cell_type": "markdown",
   "metadata": {
    "id": "mg2gEwh0rJg0"
   },
   "source": [
    "### 1.2. Смена типов и анализ пропусков\n",
    "\n"
   ]
  },
  {
   "cell_type": "code",
   "execution_count": 15,
   "metadata": {
    "id": "FsL0A8RBrJg1",
    "vscode": {
     "languageId": "plaintext"
    }
   },
   "outputs": [
    {
     "name": "stdout",
     "output_type": "stream",
     "text": [
      "<class 'pandas.core.frame.DataFrame'>\n",
      "RangeIndex: 9407 entries, 0 to 9406\n",
      "Data columns (total 6 columns):\n",
      " #   Column                Non-Null Count  Dtype         \n",
      "---  ------                --------------  -----         \n",
      " 0   id                    9407 non-null   int64         \n",
      " 1   acquiring_company_id  9407 non-null   int64         \n",
      " 2   acquired_company_id   9407 non-null   int64         \n",
      " 3   term_code             1831 non-null   object        \n",
      " 4   price_amount          9407 non-null   int64         \n",
      " 5   acquired_at           9378 non-null   datetime64[ns]\n",
      "dtypes: datetime64[ns](1), int64(4), object(1)\n",
      "memory usage: 441.1+ KB\n"
     ]
    }
   ],
   "source": [
    "# преобразовываем типы данных для столбцов, которые хранят значения даты и времени\n",
    "acquisition['acquired_at'] = pd.to_datetime(acquisition['acquired_at'], format='%Y-%m-%d')\n",
    "acquisition.info()"
   ]
  },
  {
   "cell_type": "code",
   "execution_count": 16,
   "metadata": {
    "id": "46VskrGyFeJ-"
   },
   "outputs": [
    {
     "name": "stdout",
     "output_type": "stream",
     "text": [
      "<class 'pandas.core.frame.DataFrame'>\n",
      "RangeIndex: 217774 entries, 0 to 217773\n",
      "Data columns (total 22 columns):\n",
      " #   Column               Non-Null Count   Dtype         \n",
      "---  ------               --------------   -----         \n",
      " 0   company_id           217472 non-null  float64       \n",
      " 1   name                 217472 non-null  object        \n",
      " 2   category_code        143886 non-null  object        \n",
      " 3   status               217472 non-null  object        \n",
      " 4   founded_at           109956 non-null  datetime64[ns]\n",
      " 5   closed_at            3449 non-null    datetime64[ns]\n",
      " 6   domain               147159 non-null  object        \n",
      " 7   network_username     95534 non-null   object        \n",
      " 8   country_code         108607 non-null  object        \n",
      " 9   investment_rounds    217472 non-null  float64       \n",
      " 10  funding_rounds       217472 non-null  float64       \n",
      " 11  funding_total        217472 non-null  float64       \n",
      " 12  milestones           217472 non-null  float64       \n",
      " 13  funding_round_id     52928 non-null   float64       \n",
      " 14  company_identifier   52928 non-null   float64       \n",
      " 15  funded_at            52680 non-null   datetime64[ns]\n",
      " 16  funding_round_type   52928 non-null   object        \n",
      " 17  raised_amount        52928 non-null   float64       \n",
      " 18  pre_money_valuation  52928 non-null   float64       \n",
      " 19  participants         52928 non-null   float64       \n",
      " 20  is_first_round       52928 non-null   float64       \n",
      " 21  is_last_round        52928 non-null   float64       \n",
      "dtypes: datetime64[ns](3), float64(12), object(7)\n",
      "memory usage: 36.6+ MB\n"
     ]
    }
   ],
   "source": [
    "# преобразовываем типы данных для столбцов, которые хранят значения даты и времени\n",
    "company_and_rounds['founded_at'] = pd.to_datetime(company_and_rounds['founded_at'], format='%Y-%m-%d')\n",
    "company_and_rounds['closed_at'] = pd.to_datetime(company_and_rounds['closed_at'], format='%Y-%m-%d')\n",
    "company_and_rounds['funded_at'] = pd.to_datetime(company_and_rounds['funded_at'], format='%Y-%m-%d')\n",
    "company_and_rounds.info()"
   ]
  },
  {
   "cell_type": "code",
   "execution_count": 17,
   "metadata": {},
   "outputs": [
    {
     "name": "stdout",
     "output_type": "stream",
     "text": [
      "<class 'pandas.core.frame.DataFrame'>\n",
      "RangeIndex: 109610 entries, 0 to 109609\n",
      "Data columns (total 4 columns):\n",
      " #   Column        Non-Null Count   Dtype         \n",
      "---  ------        --------------   -----         \n",
      " 0   id            109610 non-null  int64         \n",
      " 1   person_id     109610 non-null  int64         \n",
      " 2   instituition  109555 non-null  object        \n",
      " 3   graduated_at  58054 non-null   datetime64[ns]\n",
      "dtypes: datetime64[ns](1), int64(2), object(1)\n",
      "memory usage: 3.3+ MB\n"
     ]
    }
   ],
   "source": [
    "# преобразовываем типы данных для столбцов, которые хранят значения даты и времени\n",
    "education['graduated_at'] = pd.to_datetime(education['graduated_at'], format='%Y-%m-%d')\n",
    "education.info()"
   ]
  },
  {
   "cell_type": "code",
   "execution_count": 18,
   "metadata": {},
   "outputs": [
    {
     "data": {
      "text/plain": [
       "id                         0\n",
       "acquiring_company_id       0\n",
       "acquired_company_id        0\n",
       "term_code               7576\n",
       "price_amount               0\n",
       "acquired_at               29\n",
       "dtype: int64"
      ]
     },
     "execution_count": 18,
     "metadata": {},
     "output_type": "execute_result"
    }
   ],
   "source": [
    "acquisition.isna().sum()# Считаем пропуски в данных"
   ]
  },
  {
   "cell_type": "code",
   "execution_count": 19,
   "metadata": {
    "scrolled": true
   },
   "outputs": [
    {
     "data": {
      "text/plain": [
       "id                      0.000000\n",
       "acquiring_company_id    0.000000\n",
       "acquired_company_id     0.000000\n",
       "term_code               0.805358\n",
       "price_amount            0.000000\n",
       "acquired_at             0.003083\n",
       "dtype: float64"
      ]
     },
     "execution_count": 19,
     "metadata": {},
     "output_type": "execute_result"
    }
   ],
   "source": [
    "acquisition.isna().mean()# Считаем долю пропусков"
   ]
  },
  {
   "cell_type": "code",
   "execution_count": 20,
   "metadata": {},
   "outputs": [
    {
     "data": {
      "text/plain": [
       "company_id                302\n",
       "name                      302\n",
       "category_code           73888\n",
       "status                    302\n",
       "founded_at             107818\n",
       "closed_at              214325\n",
       "domain                  70615\n",
       "network_username       122240\n",
       "country_code           109167\n",
       "investment_rounds         302\n",
       "funding_rounds            302\n",
       "funding_total             302\n",
       "milestones                302\n",
       "funding_round_id       164846\n",
       "company_identifier     164846\n",
       "funded_at              165094\n",
       "funding_round_type     164846\n",
       "raised_amount          164846\n",
       "pre_money_valuation    164846\n",
       "participants           164846\n",
       "is_first_round         164846\n",
       "is_last_round          164846\n",
       "dtype: int64"
      ]
     },
     "execution_count": 20,
     "metadata": {},
     "output_type": "execute_result"
    }
   ],
   "source": [
    "company_and_rounds.isna().sum()# Считаем пропуски в данных"
   ]
  },
  {
   "cell_type": "code",
   "execution_count": 21,
   "metadata": {},
   "outputs": [
    {
     "data": {
      "text/plain": [
       "company_id             0.001387\n",
       "name                   0.001387\n",
       "category_code          0.339288\n",
       "status                 0.001387\n",
       "founded_at             0.495091\n",
       "closed_at              0.984162\n",
       "domain                 0.324258\n",
       "network_username       0.561316\n",
       "country_code           0.501286\n",
       "investment_rounds      0.001387\n",
       "funding_rounds         0.001387\n",
       "funding_total          0.001387\n",
       "milestones             0.001387\n",
       "funding_round_id       0.756959\n",
       "company_identifier     0.756959\n",
       "funded_at              0.758098\n",
       "funding_round_type     0.756959\n",
       "raised_amount          0.756959\n",
       "pre_money_valuation    0.756959\n",
       "participants           0.756959\n",
       "is_first_round         0.756959\n",
       "is_last_round          0.756959\n",
       "dtype: float64"
      ]
     },
     "execution_count": 21,
     "metadata": {},
     "output_type": "execute_result"
    }
   ],
   "source": [
    "company_and_rounds.isna().mean()# Считаем долю пропусков"
   ]
  },
  {
   "cell_type": "code",
   "execution_count": 22,
   "metadata": {},
   "outputs": [
    {
     "data": {
      "text/plain": [
       "id                       0\n",
       "first_name               5\n",
       "last_name                1\n",
       "company_id          192094\n",
       "network_username    187842\n",
       "dtype: int64"
      ]
     },
     "execution_count": 22,
     "metadata": {},
     "output_type": "execute_result"
    }
   ],
   "source": [
    "people.isna().sum()# Считаем пропуски в данных"
   ]
  },
  {
   "cell_type": "code",
   "execution_count": 23,
   "metadata": {},
   "outputs": [
    {
     "data": {
      "text/plain": [
       "id                  0.000000\n",
       "first_name          0.000022\n",
       "last_name           0.000004\n",
       "company_id          0.847315\n",
       "network_username    0.828560\n",
       "dtype: float64"
      ]
     },
     "execution_count": 23,
     "metadata": {},
     "output_type": "execute_result"
    }
   ],
   "source": [
    "people.isna().mean()# Считаем долю пропусков"
   ]
  },
  {
   "cell_type": "code",
   "execution_count": 24,
   "metadata": {},
   "outputs": [
    {
     "data": {
      "text/plain": [
       "id                  0\n",
       "person_id           0\n",
       "instituition       55\n",
       "graduated_at    51556\n",
       "dtype: int64"
      ]
     },
     "execution_count": 24,
     "metadata": {},
     "output_type": "execute_result"
    }
   ],
   "source": [
    "education.isna().sum()# Считаем пропуски в данных"
   ]
  },
  {
   "cell_type": "code",
   "execution_count": 25,
   "metadata": {},
   "outputs": [
    {
     "data": {
      "text/plain": [
       "id              0.000000\n",
       "person_id       0.000000\n",
       "instituition    0.000502\n",
       "graduated_at    0.470359\n",
       "dtype: float64"
      ]
     },
     "execution_count": 25,
     "metadata": {},
     "output_type": "execute_result"
    }
   ],
   "source": [
    "education.isna().mean()# Считаем долю пропусков"
   ]
  },
  {
   "cell_type": "code",
   "execution_count": 26,
   "metadata": {},
   "outputs": [
    {
     "data": {
      "text/plain": [
       "id                 0\n",
       "object_id          0\n",
       "degree_type    11218\n",
       "subject        28312\n",
       "dtype: int64"
      ]
     },
     "execution_count": 26,
     "metadata": {},
     "output_type": "execute_result"
    }
   ],
   "source": [
    "degrees.isna().sum()# Считаем пропуски в данных"
   ]
  },
  {
   "cell_type": "code",
   "execution_count": 27,
   "metadata": {},
   "outputs": [
    {
     "data": {
      "text/plain": [
       "id             0.000000\n",
       "object_id      0.000000\n",
       "degree_type    0.102345\n",
       "subject        0.258298\n",
       "dtype: float64"
      ]
     },
     "execution_count": 27,
     "metadata": {},
     "output_type": "execute_result"
    }
   ],
   "source": [
    "degrees.isna().mean()# Считаем долю пропусков"
   ]
  },
  {
   "cell_type": "code",
   "execution_count": 28,
   "metadata": {},
   "outputs": [
    {
     "data": {
      "text/plain": [
       "0"
      ]
     },
     "execution_count": 28,
     "metadata": {},
     "output_type": "execute_result"
    }
   ],
   "source": [
    "# Проверка данных на явные дубликаты\n",
    "acquisition.duplicated().sum()"
   ]
  },
  {
   "cell_type": "code",
   "execution_count": 29,
   "metadata": {},
   "outputs": [
    {
     "data": {
      "text/plain": [
       "0"
      ]
     },
     "execution_count": 29,
     "metadata": {},
     "output_type": "execute_result"
    }
   ],
   "source": [
    "# Проверка данных на явные дубликаты\n",
    "company_and_rounds.duplicated().sum()"
   ]
  },
  {
   "cell_type": "code",
   "execution_count": 30,
   "metadata": {},
   "outputs": [
    {
     "data": {
      "text/plain": [
       "0"
      ]
     },
     "execution_count": 30,
     "metadata": {},
     "output_type": "execute_result"
    }
   ],
   "source": [
    "# Проверка данных на явные дубликаты\n",
    "people.duplicated().sum()"
   ]
  },
  {
   "cell_type": "code",
   "execution_count": 31,
   "metadata": {},
   "outputs": [
    {
     "data": {
      "text/plain": [
       "0"
      ]
     },
     "execution_count": 31,
     "metadata": {},
     "output_type": "execute_result"
    }
   ],
   "source": [
    "# Проверка данных на явные дубликаты\n",
    "education.duplicated().sum()"
   ]
  },
  {
   "cell_type": "code",
   "execution_count": 32,
   "metadata": {},
   "outputs": [
    {
     "data": {
      "text/plain": [
       "0"
      ]
     },
     "execution_count": 32,
     "metadata": {},
     "output_type": "execute_result"
    }
   ],
   "source": [
    "# Проверка данных на явные дубликаты\n",
    "degrees.duplicated().sum()"
   ]
  },
  {
   "cell_type": "markdown",
   "metadata": {},
   "source": [
    "Типы данных были преобразованы где это необходимо. Дубликатов в данных нет.\n",
    "Очень много пропусков, на мой взгляд данных достаточно чтобы получить хоть какие-нибудь результаты, но делать это аккуратно и внимательно, не упуская важных деталей. "
   ]
  },
  {
   "cell_type": "markdown",
   "metadata": {
    "id": "u60cHsn6rJg1"
   },
   "source": [
    "##  Предобработка данных, предварительное исследование"
   ]
  },
  {
   "cell_type": "code",
   "execution_count": 33,
   "metadata": {
    "id": "Cf5IjfOQrJg1",
    "scrolled": true,
    "vscode": {
     "languageId": "plaintext"
    }
   },
   "outputs": [
    {
     "name": "stdout",
     "output_type": "stream",
     "text": [
      "    funded_year  typical_amount_size  total_rounds\n",
      "0        1999.0            2000000.0            76\n",
      "1        2000.0            4200000.0           125\n",
      "2        2001.0            3000000.0            96\n",
      "3        2002.0            4200000.0           116\n",
      "4        2003.0            3000000.0           159\n",
      "5        2004.0            5000000.0           291\n",
      "6        2005.0            5500000.0          1633\n",
      "7        2006.0            5000000.0          2436\n",
      "8        2007.0            3973320.0          3279\n",
      "9        2008.0            3110000.0          3774\n",
      "10       2009.0            2000000.0          4151\n",
      "11       2010.0            1602500.0          6221\n",
      "12       2011.0            1200000.0          9204\n",
      "13       2012.0            1000000.0          9970\n",
      "14       2013.0            1200000.0         11072\n"
     ]
    },
    {
     "data": {
      "image/png": "[encoded data removed]",
      "text/plain": [
       "<Figure size 1008x576 with 1 Axes>"
      ]
     },
     "metadata": {
      "needs_background": "light"
     },
     "output_type": "display_data"
    }
   ],
   "source": [
    "# присваиваем значение для предварительного исследования\n",
    "pre_company_and_rounds = company_and_rounds.copy()\n",
    "\n",
    "# выделяем год из даты финансирования\n",
    "pre_company_and_rounds['funded_year'] = pre_company_and_rounds['funded_at'].dt.year\n",
    "\n",
    "# Фильтрация данных - оставляем только годы с более чем 50 раундами\n",
    "rounds_per_year = pre_company_and_rounds['funded_year'].value_counts().sort_index()# Считаем количество раундов по годам\n",
    "valid_years = rounds_per_year[rounds_per_year > 50].index # Отсортировали по количеству раундов\n",
    "df_filtered = pre_company_and_rounds[pre_company_and_rounds['funded_year'].isin(valid_years)]\n",
    "\n",
    "# Создание сводной таблицы\n",
    "pivot_table = df_filtered.groupby('funded_year').agg(\n",
    "    typical_amount_size=('raised_amount', 'median'),  # Используем медиану как типичный размер\n",
    "    total_rounds=('raised_amount', 'count')         # Считаем количество раундов\n",
    ").reset_index()\n",
    "print(pivot_table)\n",
    "\n",
    "# Построение графика\n",
    "plt.figure(figsize=(14, 8))\n",
    "\n",
    "# График динамики типичного размера раунда\n",
    "plt.plot(pivot_table['funded_year'], pivot_table['typical_amount_size'], \n",
    "         marker='o', linestyle='-', linewidth=2, markersize=8, color='blue')\n",
    "\n",
    "# Настройки графика\n",
    "plt.title('Динамика типичного размера финансирования стартапов по годам', fontsize=14)\n",
    "plt.xlabel('Год', fontsize=12)\n",
    "plt.ylabel('Типичный размер финансирования ($)', fontsize=12)\n",
    "plt.grid(True, linestyle='--', alpha=0.7)\n",
    "# Форматирование оси Y (добавляем разделители тысяч)\n",
    "plt.gca().yaxis.set_major_formatter(plt.matplotlib.ticker.StrMethodFormatter('{x:,.0f}'))\n",
    "\n",
    "# Добавление значений над точками\n",
    "for x, y in zip(pivot_table['funded_year'], pivot_table['typical_amount_size']):\n",
    "    plt.text(x, y, f'{y:,.0f}', ha='center', va='bottom', fontsize=10)\n",
    "\n",
    "# Настройка меток на оси X\n",
    "plt.xticks(pivot_table['funded_year'], rotation=45)\n",
    "plt.tight_layout()\n",
    "plt.show()"
   ]
  },
  {
   "cell_type": "markdown",
   "metadata": {
    "id": "8Fbz6KmzFdYP"
   },
   "source": [
    "Самое большое типичное финансирование на один раунд было в 2005 году и составляло 5500000.\n",
    "В 2013 году наблюдалась тенденция увеличения количества раундов и уменьшение типичного финансирования за раунд."
   ]
  },
  {
   "cell_type": "markdown",
   "metadata": {
    "id": "45if1en1rJg2"
   },
   "source": [
    "\n",
    "### 2.2. Люди и их образование\n",
    "\n"
   ]
  },
  {
   "cell_type": "code",
   "execution_count": 34,
   "metadata": {
    "id": "psPO7C4MrJg2",
    "vscode": {
     "languageId": "plaintext"
    }
   },
   "outputs": [
    {
     "data": {
      "text/html": [
       "<div>\n",
       "<style scoped>\n",
       "    .dataframe tbody tr th:only-of-type {\n",
       "        vertical-align: middle;\n",
       "    }\n",
       "\n",
       "    .dataframe tbody tr th {\n",
       "        vertical-align: top;\n",
       "    }\n",
       "\n",
       "    .dataframe thead th {\n",
       "        text-align: right;\n",
       "    }\n",
       "</style>\n",
       "<table border=\"1\" class=\"dataframe\">\n",
       "  <thead>\n",
       "    <tr style=\"text-align: right;\">\n",
       "      <th></th>\n",
       "      <th>id_x</th>\n",
       "      <th>person_id</th>\n",
       "      <th>instituition</th>\n",
       "      <th>graduated_at</th>\n",
       "      <th>id_y</th>\n",
       "      <th>first_name</th>\n",
       "      <th>last_name</th>\n",
       "      <th>company_id</th>\n",
       "      <th>network_username</th>\n",
       "      <th>has_education</th>\n",
       "    </tr>\n",
       "  </thead>\n",
       "  <tbody>\n",
       "    <tr>\n",
       "      <th>0</th>\n",
       "      <td>1.0</td>\n",
       "      <td>6117.0</td>\n",
       "      <td>NaN</td>\n",
       "      <td>NaT</td>\n",
       "      <td>6117.0</td>\n",
       "      <td>Maurice</td>\n",
       "      <td>Rompre</td>\n",
       "      <td>2430.0</td>\n",
       "      <td>NaN</td>\n",
       "      <td>False</td>\n",
       "    </tr>\n",
       "    <tr>\n",
       "      <th>1</th>\n",
       "      <td>2.0</td>\n",
       "      <td>6136.0</td>\n",
       "      <td>Washington University, St. Louis</td>\n",
       "      <td>1990-01-01</td>\n",
       "      <td>6136.0</td>\n",
       "      <td>John</td>\n",
       "      <td>Green</td>\n",
       "      <td>2454.0</td>\n",
       "      <td>NaN</td>\n",
       "      <td>True</td>\n",
       "    </tr>\n",
       "    <tr>\n",
       "      <th>2</th>\n",
       "      <td>3.0</td>\n",
       "      <td>6136.0</td>\n",
       "      <td>Boston University</td>\n",
       "      <td>1992-01-01</td>\n",
       "      <td>6136.0</td>\n",
       "      <td>John</td>\n",
       "      <td>Green</td>\n",
       "      <td>2454.0</td>\n",
       "      <td>NaN</td>\n",
       "      <td>True</td>\n",
       "    </tr>\n",
       "    <tr>\n",
       "      <th>3</th>\n",
       "      <td>4.0</td>\n",
       "      <td>6005.0</td>\n",
       "      <td>University of Greenwich</td>\n",
       "      <td>2006-01-01</td>\n",
       "      <td>6005.0</td>\n",
       "      <td>Sridhar</td>\n",
       "      <td>Gundaiah</td>\n",
       "      <td>2360.0</td>\n",
       "      <td>NaN</td>\n",
       "      <td>True</td>\n",
       "    </tr>\n",
       "    <tr>\n",
       "      <th>4</th>\n",
       "      <td>5.0</td>\n",
       "      <td>5832.0</td>\n",
       "      <td>Rice University</td>\n",
       "      <td>NaT</td>\n",
       "      <td>5832.0</td>\n",
       "      <td>David</td>\n",
       "      <td>Peters</td>\n",
       "      <td>2033.0</td>\n",
       "      <td>NaN</td>\n",
       "      <td>True</td>\n",
       "    </tr>\n",
       "    <tr>\n",
       "      <th>5</th>\n",
       "      <td>6.0</td>\n",
       "      <td>1017.0</td>\n",
       "      <td>Northeastern University</td>\n",
       "      <td>1988-01-01</td>\n",
       "      <td>1017.0</td>\n",
       "      <td>John</td>\n",
       "      <td>Furrier</td>\n",
       "      <td>300.0</td>\n",
       "      <td>furrier</td>\n",
       "      <td>True</td>\n",
       "    </tr>\n",
       "    <tr>\n",
       "      <th>6</th>\n",
       "      <td>20.0</td>\n",
       "      <td>1017.0</td>\n",
       "      <td>Babson College</td>\n",
       "      <td>1995-01-01</td>\n",
       "      <td>1017.0</td>\n",
       "      <td>John</td>\n",
       "      <td>Furrier</td>\n",
       "      <td>300.0</td>\n",
       "      <td>furrier</td>\n",
       "      <td>True</td>\n",
       "    </tr>\n",
       "    <tr>\n",
       "      <th>7</th>\n",
       "      <td>7.0</td>\n",
       "      <td>6176.0</td>\n",
       "      <td>Rochester Institute of Technology</td>\n",
       "      <td>2002-01-01</td>\n",
       "      <td>6176.0</td>\n",
       "      <td>Ian</td>\n",
       "      <td>Reardon</td>\n",
       "      <td>2473.0</td>\n",
       "      <td>NaN</td>\n",
       "      <td>True</td>\n",
       "    </tr>\n",
       "    <tr>\n",
       "      <th>8</th>\n",
       "      <td>2561.0</td>\n",
       "      <td>6176.0</td>\n",
       "      <td>Suffolk University Law School</td>\n",
       "      <td>2009-01-01</td>\n",
       "      <td>6176.0</td>\n",
       "      <td>Ian</td>\n",
       "      <td>Reardon</td>\n",
       "      <td>2473.0</td>\n",
       "      <td>NaN</td>\n",
       "      <td>True</td>\n",
       "    </tr>\n",
       "    <tr>\n",
       "      <th>9</th>\n",
       "      <td>8.0</td>\n",
       "      <td>5412.0</td>\n",
       "      <td>University of Cambridge</td>\n",
       "      <td>2002-01-01</td>\n",
       "      <td>5412.0</td>\n",
       "      <td>Dan</td>\n",
       "      <td>Birdwhistell</td>\n",
       "      <td>1956.0</td>\n",
       "      <td>NaN</td>\n",
       "      <td>True</td>\n",
       "    </tr>\n",
       "  </tbody>\n",
       "</table>\n",
       "</div>"
      ],
      "text/plain": [
       "     id_x  person_id                       instituition graduated_at    id_y  \\\n",
       "0     1.0     6117.0                                NaN          NaT  6117.0   \n",
       "1     2.0     6136.0   Washington University, St. Louis   1990-01-01  6136.0   \n",
       "2     3.0     6136.0                  Boston University   1992-01-01  6136.0   \n",
       "3     4.0     6005.0            University of Greenwich   2006-01-01  6005.0   \n",
       "4     5.0     5832.0                    Rice University          NaT  5832.0   \n",
       "5     6.0     1017.0            Northeastern University   1988-01-01  1017.0   \n",
       "6    20.0     1017.0                     Babson College   1995-01-01  1017.0   \n",
       "7     7.0     6176.0  Rochester Institute of Technology   2002-01-01  6176.0   \n",
       "8  2561.0     6176.0      Suffolk University Law School   2009-01-01  6176.0   \n",
       "9     8.0     5412.0            University of Cambridge   2002-01-01  5412.0   \n",
       "\n",
       "  first_name     last_name  company_id network_username  has_education  \n",
       "0    Maurice        Rompre      2430.0              NaN          False  \n",
       "1       John         Green      2454.0              NaN           True  \n",
       "2       John         Green      2454.0              NaN           True  \n",
       "3    Sridhar      Gundaiah      2360.0              NaN           True  \n",
       "4      David        Peters      2033.0              NaN           True  \n",
       "5       John       Furrier       300.0          furrier           True  \n",
       "6       John       Furrier       300.0          furrier           True  \n",
       "7        Ian       Reardon      2473.0              NaN           True  \n",
       "8        Ian       Reardon      2473.0              NaN           True  \n",
       "9        Dan  Birdwhistell      1956.0              NaN           True  "
      ]
     },
     "execution_count": 34,
     "metadata": {},
     "output_type": "execute_result"
    }
   ],
   "source": [
    "# Соединяем два датасета по типу соединения outer\n",
    "people_education = pd.merge(\n",
    "    education,\n",
    "    people,\n",
    "    left_on='person_id',  # Столбец из таблицы education\n",
    "    right_on='id',       # Соответствующий столбец из таблицы people\n",
    "    how='outer'          # Тип соединения\n",
    ")\n",
    "# Добавляем флаг наличия информации об образовании\n",
    "people_education['has_education'] = people_education['instituition'].notna()\n",
    "people_education.head(10)\n"
   ]
  },
  {
   "cell_type": "code",
   "execution_count": 35,
   "metadata": {
    "id": "BThTjpLqFcsm"
   },
   "outputs": [
    {
     "name": "stdout",
     "output_type": "stream",
     "text": [
      "count    22922.000000\n",
      "mean         1.953974\n",
      "std          4.087373\n",
      "min          1.000000\n",
      "25%          1.000000\n",
      "50%          1.000000\n",
      "75%          2.000000\n",
      "max        376.000000\n",
      "Name: employee_count, dtype: float64\n"
     ]
    },
    {
     "data": {
      "image/png": "[encoded data removed]",
      "text/plain": [
       "<Figure size 864x576 with 1 Axes>"
      ]
     },
     "metadata": {
      "needs_background": "light"
     },
     "output_type": "display_data"
    }
   ],
   "source": [
    "# Считаем количество сотрудников по компаниям\n",
    "company_sizes = people_education['company_id'].value_counts().reset_index()\n",
    "company_sizes.columns = ['company_id', 'employee_count']\n",
    "\n",
    "# Анализируем распределение размеров компаний\n",
    "print(company_sizes['employee_count'].describe())\n",
    "\n",
    "# Визуализация распределения\n",
    "plt.figure(figsize=(12, 8))\n",
    "plt.hist(company_sizes['employee_count'], bins=50, edgecolor='black')\n",
    "plt.title('Распределение компаний по количеству сотрудников')\n",
    "plt.xlabel('Количество сотрудников')\n",
    "plt.ylabel('Количество компаний')\n",
    "plt.yscale('log')  # Логарифмическая шкала для лучшей визуализации\n",
    "plt.show()"
   ]
  },
  {
   "cell_type": "code",
   "execution_count": 36,
   "metadata": {
    "id": "4FC98Pd-FcmG"
   },
   "outputs": [
    {
     "name": "stdout",
     "output_type": "stream",
     "text": [
      "  size_group  total_employees  with_education  coverage  missing_education_pct\n",
      "0        1-5                2           19812  0.609319              39.068122\n",
      "1       6-10                2            4588  0.694100              30.590015\n",
      "2      11-20                2            1982  0.682507              31.749311\n",
      "3      21-50                2             915  0.794271              20.572917\n",
      "4     51-100                2             579  0.817797              18.220339\n"
     ]
    }
   ],
   "source": [
    "# Определяем границы групп на основе квантилей\n",
    "bins = [0, 5, 10, 20, 50, 100]\n",
    "labels = ['1-5', '6-10', '11-20', '21-50', '51-100']\n",
    "\n",
    "# Добавляем информацию о размере компании к данным о сотрудниках\n",
    "merged_with_size = pd.merge(\n",
    "    people_education,\n",
    "    company_sizes,\n",
    "    on='company_id',\n",
    "    how='left'\n",
    ")\n",
    "\n",
    "# Разделяем на группы\n",
    "merged_with_size['size_group'] = pd.cut(\n",
    "    merged_with_size['employee_count'],\n",
    "    bins=bins,\n",
    "    labels=labels,\n",
    "    right=False\n",
    ")\n",
    "\n",
    "# Считаем долю сотрудников без информации об образовании по группам\n",
    "education_coverage = merged_with_size.groupby('size_group')['has_education'].agg(\n",
    "    total_employees='nunique',\n",
    "    with_education='sum',\n",
    "    coverage='mean'\n",
    ").reset_index()\n",
    "\n",
    "education_coverage['missing_education_pct'] = (1 - education_coverage['coverage']) * 100\n",
    "\n",
    "print(education_coverage)"
   ]
  },
  {
   "cell_type": "code",
   "execution_count": 37,
   "metadata": {},
   "outputs": [
    {
     "data": {
      "image/png": "[encoded data removed]",
      "text/plain": [
       "<Figure size 864x432 with 1 Axes>"
      ]
     },
     "metadata": {
      "needs_background": "light"
     },
     "output_type": "display_data"
    }
   ],
   "source": [
    "# строим столбчатую диаграмму\n",
    "plt.figure(figsize=(12, 6))\n",
    "bars = plt.bar(\n",
    "    education_coverage['size_group'],\n",
    "    education_coverage['missing_education_pct'],\n",
    "    color='skyblue',\n",
    "    edgecolor='black'\n",
    ")\n",
    "\n",
    "plt.title('Доля сотрудников без информации об образовании по размеру компаний')\n",
    "plt.xlabel('Группа компаний (количество сотрудников)')\n",
    "plt.ylabel('Доля сотрудников без данных об образовании (%)')\n",
    "plt.grid(axis='y', linestyle='--', alpha=0.7)\n",
    "\n",
    "# Добавляем значения на столбцы\n",
    "for bar in bars:\n",
    "    height = bar.get_height()\n",
    "    plt.text(bar.get_x() + bar.get_width()/2., height,\n",
    "             f'{height:.1f}%',\n",
    "             ha='center', va='bottom')\n",
    "\n",
    "plt.show()"
   ]
  },
  {
   "cell_type": "markdown",
   "metadata": {},
   "source": [
    "Группы подобраны на основе распределения компаний по количеству сотрудников. Чем крупнее компания тем меньше доля тех работников у которых нет информации об образовании.\n",
    "Объединить возможно и таблицу degrees.csv, также по столбцу id работника."
   ]
  },
  {
   "cell_type": "markdown",
   "metadata": {
    "id": "zyI3rt0rxg1O"
   },
   "source": [
    "`network_username` встречается три раза в разных таблицах, в company_and_rounds.csv, people.csv и fund.csv. Данный столбец нельзя использовать для объединения данных, так как в разных таблицах этот столбец обозначает разные переменные, такие как ник компании в соцсетях, ник сотрудника в соцсетях и ник финансового фонда в соцсетях. А если я ошибочно принимаю `network_username` в таблице people.csv за ник сотрудника, то соединение возможно, но не нужно, ведь есть уже проверенный столбец company_id.\n"
   ]
  },
  {
   "cell_type": "markdown",
   "metadata": {
    "id": "EHcODomVrJg1"
   },
   "source": [
    "\n",
    "### 2.4. Проблемный датасет и причина возникновения пропусков\n",
    "\n"
   ]
  },
  {
   "cell_type": "code",
   "execution_count": 38,
   "metadata": {
    "id": "oSk7xqu_FbaN"
   },
   "outputs": [
    {
     "name": "stdout",
     "output_type": "stream",
     "text": [
      "Информация о датасете:\n",
      "<class 'pandas.core.frame.DataFrame'>\n",
      "RangeIndex: 217774 entries, 0 to 217773\n",
      "Data columns (total 22 columns):\n",
      " #   Column               Non-Null Count   Dtype         \n",
      "---  ------               --------------   -----         \n",
      " 0   company_id           217472 non-null  float64       \n",
      " 1   name                 217472 non-null  object        \n",
      " 2   category_code        143886 non-null  object        \n",
      " 3   status               217472 non-null  object        \n",
      " 4   founded_at           109956 non-null  datetime64[ns]\n",
      " 5   closed_at            3449 non-null    datetime64[ns]\n",
      " 6   domain               147159 non-null  object        \n",
      " 7   network_username     95534 non-null   object        \n",
      " 8   country_code         108607 non-null  object        \n",
      " 9   investment_rounds    217472 non-null  float64       \n",
      " 10  funding_rounds       217472 non-null  float64       \n",
      " 11  funding_total        217472 non-null  float64       \n",
      " 12  milestones           217472 non-null  float64       \n",
      " 13  funding_round_id     52928 non-null   float64       \n",
      " 14  company_identifier   52928 non-null   float64       \n",
      " 15  funded_at            52680 non-null   datetime64[ns]\n",
      " 16  funding_round_type   52928 non-null   object        \n",
      " 17  raised_amount        52928 non-null   float64       \n",
      " 18  pre_money_valuation  52928 non-null   float64       \n",
      " 19  participants         52928 non-null   float64       \n",
      " 20  is_first_round       52928 non-null   float64       \n",
      " 21  is_last_round        52928 non-null   float64       \n",
      "dtypes: datetime64[ns](3), float64(12), object(7)\n",
      "memory usage: 36.6+ MB\n",
      "None\n",
      "\n",
      "Количество пропущенных значений:\n",
      "closed_at              214325\n",
      "funded_at              165094\n",
      "is_last_round          164846\n",
      "is_first_round         164846\n",
      "participants           164846\n",
      "pre_money_valuation    164846\n",
      "raised_amount          164846\n",
      "funding_round_type     164846\n",
      "funding_round_id       164846\n",
      "company_identifier     164846\n",
      "network_username       122240\n",
      "country_code           109167\n",
      "founded_at             107818\n",
      "category_code           73888\n",
      "domain                  70615\n",
      "company_id                302\n",
      "milestones                302\n",
      "name                      302\n",
      "funding_rounds            302\n",
      "investment_rounds         302\n",
      "status                    302\n",
      "funding_total             302\n",
      "dtype: int64\n"
     ]
    }
   ],
   "source": [
    "# Анализ структуры данных\n",
    "print(\"Информация о датасете:\")\n",
    "print(company_and_rounds.info())\n",
    "print(\"\\nКоличество пропущенных значений:\")\n",
    "print(company_and_rounds.isnull().sum().sort_values(ascending=False))"
   ]
  },
  {
   "cell_type": "code",
   "execution_count": 39,
   "metadata": {
    "id": "9BY9lTUcFbJ-"
   },
   "outputs": [
    {
     "name": "stdout",
     "output_type": "stream",
     "text": [
      "Информация о компаниях:\n",
      "<class 'pandas.core.frame.DataFrame'>\n",
      "Int64Index: 196554 entries, 0 to 217472\n",
      "Data columns (total 13 columns):\n",
      " #   Column             Non-Null Count   Dtype         \n",
      "---  ------             --------------   -----         \n",
      " 0   company_id         196553 non-null  string        \n",
      " 1   name               196553 non-null  object        \n",
      " 2   category_code      123186 non-null  object        \n",
      " 3   status             196553 non-null  object        \n",
      " 4   founded_at         91227 non-null   datetime64[ns]\n",
      " 5   closed_at          2620 non-null    datetime64[ns]\n",
      " 6   domain             126545 non-null  object        \n",
      " 7   network_username   80591 non-null   object        \n",
      " 8   country_code       87990 non-null   object        \n",
      " 9   investment_rounds  196553 non-null  float64       \n",
      " 10  funding_rounds     196553 non-null  float64       \n",
      " 11  funding_total      196553 non-null  float64       \n",
      " 12  milestones         196553 non-null  float64       \n",
      "dtypes: datetime64[ns](2), float64(4), object(6), string(1)\n",
      "memory usage: 21.0+ MB\n",
      "None\n",
      "Информация о раундах финансирования:\n",
      "<class 'pandas.core.frame.DataFrame'>\n",
      "Int64Index: 52928 entries, 0 to 217773\n",
      "Data columns (total 9 columns):\n",
      " #   Column               Non-Null Count  Dtype         \n",
      "---  ------               --------------  -----         \n",
      " 0   funding_round_id     52928 non-null  string        \n",
      " 1   company_identifier   52928 non-null  string        \n",
      " 2   funded_at            52680 non-null  datetime64[ns]\n",
      " 3   funding_round_type   52928 non-null  object        \n",
      " 4   raised_amount        52928 non-null  float64       \n",
      " 5   pre_money_valuation  52928 non-null  float64       \n",
      " 6   participants         52928 non-null  float64       \n",
      " 7   is_first_round       52928 non-null  float64       \n",
      " 8   is_last_round        52928 non-null  float64       \n",
      "dtypes: datetime64[ns](1), float64(5), object(1), string(2)\n",
      "memory usage: 4.0+ MB\n",
      "None\n"
     ]
    }
   ],
   "source": [
    "# Создаем датасет с уникальной информацией о компаниях\n",
    "companies = company_and_rounds[[\n",
    "    'company_id', 'name', 'category_code', 'status', \n",
    "    'founded_at', 'closed_at', 'domain', 'network_username',\n",
    "    'country_code', 'investment_rounds', 'funding_rounds', \n",
    "    'funding_total', 'milestones'\n",
    "]].drop_duplicates(subset=['company_id'])\n",
    "\n",
    "# Создаем датасет с информацией о раундах финансирования\n",
    "rounds = company_and_rounds[[\n",
    "    'funding_round_id', 'company_identifier', 'funded_at', \n",
    "    'funding_round_type', 'raised_amount', 'pre_money_valuation',\n",
    "    'participants', 'is_first_round', 'is_last_round'\n",
    "]].copy()\n",
    "\n",
    "# Удаляем строки, где полностью отсутствует информация о раунде\n",
    "rounds = rounds.dropna(\n",
    "    subset=['funded_at', 'funding_round_type', 'raised_amount'],\n",
    "    how='all'\n",
    ")\n",
    "# Приведение к нормальным типам\n",
    "# Для датасета компаний\n",
    "companies['company_id'] = companies['company_id'].astype('string')\n",
    "\n",
    "# Для датасета раундов\n",
    "rounds['funding_round_id'] = rounds['funding_round_id'].astype('string')\n",
    "rounds['company_identifier'] = rounds['company_identifier'].astype('string')\n",
    "# Удаляем дублирующиеся столбцы\n",
    "companies = companies.loc[:, ~companies.columns.duplicated()]\n",
    "rounds = rounds.loc[:, ~rounds.columns.duplicated()]\n",
    "print(\"Информация о компаниях:\")\n",
    "print(companies.info())\n",
    "print(\"Информация о раундах финансирования:\")\n",
    "print(rounds.info())"
   ]
  },
  {
   "cell_type": "code",
   "execution_count": 40,
   "metadata": {
    "id": "tJ6Sl6MKrJg1",
    "vscode": {
     "languageId": "plaintext"
    }
   },
   "outputs": [],
   "source": [
    "# Сортировка и сброс индекса для компаний\n",
    "companies = companies.sort_values('company_id').reset_index(drop=True)\n",
    "\n",
    "# Сортировка и сброс индекса для раундов\n",
    "rounds = rounds.sort_values(['company_identifier', 'funded_at']).reset_index(drop=True)"
   ]
  },
  {
   "cell_type": "code",
   "execution_count": 41,
   "metadata": {},
   "outputs": [
    {
     "data": {
      "text/html": [
       "<div>\n",
       "<style scoped>\n",
       "    .dataframe tbody tr th:only-of-type {\n",
       "        vertical-align: middle;\n",
       "    }\n",
       "\n",
       "    .dataframe tbody tr th {\n",
       "        vertical-align: top;\n",
       "    }\n",
       "\n",
       "    .dataframe thead th {\n",
       "        text-align: right;\n",
       "    }\n",
       "</style>\n",
       "<table border=\"1\" class=\"dataframe\">\n",
       "  <thead>\n",
       "    <tr style=\"text-align: right;\">\n",
       "      <th></th>\n",
       "      <th>company_id</th>\n",
       "      <th>name</th>\n",
       "      <th>category_code</th>\n",
       "      <th>status</th>\n",
       "      <th>founded_at</th>\n",
       "      <th>closed_at</th>\n",
       "      <th>domain</th>\n",
       "      <th>network_username</th>\n",
       "      <th>country_code</th>\n",
       "      <th>investment_rounds</th>\n",
       "      <th>funding_rounds</th>\n",
       "      <th>funding_total</th>\n",
       "      <th>milestones</th>\n",
       "    </tr>\n",
       "  </thead>\n",
       "  <tbody>\n",
       "    <tr>\n",
       "      <th>0</th>\n",
       "      <td>1.0</td>\n",
       "      <td>Wetpaint</td>\n",
       "      <td>web</td>\n",
       "      <td>operating</td>\n",
       "      <td>2005-10-17</td>\n",
       "      <td>NaT</td>\n",
       "      <td>wetpaint-inc.com</td>\n",
       "      <td>BachelrWetpaint</td>\n",
       "      <td>USA</td>\n",
       "      <td>0.0</td>\n",
       "      <td>3.0</td>\n",
       "      <td>39750000.0</td>\n",
       "      <td>5.0</td>\n",
       "    </tr>\n",
       "    <tr>\n",
       "      <th>1</th>\n",
       "      <td>10.0</td>\n",
       "      <td>Flektor</td>\n",
       "      <td>games_video</td>\n",
       "      <td>acquired</td>\n",
       "      <td>NaT</td>\n",
       "      <td>NaT</td>\n",
       "      <td>flektor.com</td>\n",
       "      <td>NaN</td>\n",
       "      <td>USA</td>\n",
       "      <td>0.0</td>\n",
       "      <td>0.0</td>\n",
       "      <td>0.0</td>\n",
       "      <td>0.0</td>\n",
       "    </tr>\n",
       "    <tr>\n",
       "      <th>2</th>\n",
       "      <td>100.0</td>\n",
       "      <td>There</td>\n",
       "      <td>games_video</td>\n",
       "      <td>acquired</td>\n",
       "      <td>NaT</td>\n",
       "      <td>NaT</td>\n",
       "      <td>there.com</td>\n",
       "      <td>NaN</td>\n",
       "      <td>USA</td>\n",
       "      <td>0.0</td>\n",
       "      <td>0.0</td>\n",
       "      <td>0.0</td>\n",
       "      <td>4.0</td>\n",
       "    </tr>\n",
       "    <tr>\n",
       "      <th>3</th>\n",
       "      <td>10000.0</td>\n",
       "      <td>MYWEBBO</td>\n",
       "      <td>network_hosting</td>\n",
       "      <td>operating</td>\n",
       "      <td>2008-07-26</td>\n",
       "      <td>NaT</td>\n",
       "      <td>mywebbo.com</td>\n",
       "      <td>NaN</td>\n",
       "      <td>NaN</td>\n",
       "      <td>0.0</td>\n",
       "      <td>0.0</td>\n",
       "      <td>0.0</td>\n",
       "      <td>0.0</td>\n",
       "    </tr>\n",
       "    <tr>\n",
       "      <th>4</th>\n",
       "      <td>10001.0</td>\n",
       "      <td>THE Movie Streamer</td>\n",
       "      <td>games_video</td>\n",
       "      <td>operating</td>\n",
       "      <td>2008-07-26</td>\n",
       "      <td>NaT</td>\n",
       "      <td>themoviestreamer.com</td>\n",
       "      <td>NaN</td>\n",
       "      <td>NaN</td>\n",
       "      <td>0.0</td>\n",
       "      <td>0.0</td>\n",
       "      <td>0.0</td>\n",
       "      <td>0.0</td>\n",
       "    </tr>\n",
       "    <tr>\n",
       "      <th>5</th>\n",
       "      <td>10002.0</td>\n",
       "      <td>Synergie Media</td>\n",
       "      <td>advertising</td>\n",
       "      <td>operating</td>\n",
       "      <td>2007-06-27</td>\n",
       "      <td>NaT</td>\n",
       "      <td>synergie-media.com</td>\n",
       "      <td>NaN</td>\n",
       "      <td>MAR</td>\n",
       "      <td>0.0</td>\n",
       "      <td>0.0</td>\n",
       "      <td>0.0</td>\n",
       "      <td>0.0</td>\n",
       "    </tr>\n",
       "    <tr>\n",
       "      <th>6</th>\n",
       "      <td>10003.0</td>\n",
       "      <td>Green Basti Ecosystems</td>\n",
       "      <td>cleantech</td>\n",
       "      <td>operating</td>\n",
       "      <td>2008-08-20</td>\n",
       "      <td>NaT</td>\n",
       "      <td>NaN</td>\n",
       "      <td>NaN</td>\n",
       "      <td>IND</td>\n",
       "      <td>0.0</td>\n",
       "      <td>0.0</td>\n",
       "      <td>0.0</td>\n",
       "      <td>0.0</td>\n",
       "    </tr>\n",
       "    <tr>\n",
       "      <th>7</th>\n",
       "      <td>100042.0</td>\n",
       "      <td>HostNine</td>\n",
       "      <td>NaN</td>\n",
       "      <td>operating</td>\n",
       "      <td>NaT</td>\n",
       "      <td>NaT</td>\n",
       "      <td>hostnine.com</td>\n",
       "      <td>Hostnine</td>\n",
       "      <td>NaN</td>\n",
       "      <td>0.0</td>\n",
       "      <td>0.0</td>\n",
       "      <td>0.0</td>\n",
       "      <td>1.0</td>\n",
       "    </tr>\n",
       "    <tr>\n",
       "      <th>8</th>\n",
       "      <td>10005.0</td>\n",
       "      <td>Thomas Publishing</td>\n",
       "      <td>advertising</td>\n",
       "      <td>operating</td>\n",
       "      <td>NaT</td>\n",
       "      <td>NaT</td>\n",
       "      <td>thomaspublishing.com</td>\n",
       "      <td>NaN</td>\n",
       "      <td>USA</td>\n",
       "      <td>0.0</td>\n",
       "      <td>0.0</td>\n",
       "      <td>0.0</td>\n",
       "      <td>1.0</td>\n",
       "    </tr>\n",
       "    <tr>\n",
       "      <th>9</th>\n",
       "      <td>100062.0</td>\n",
       "      <td>Vetter Idea Management System</td>\n",
       "      <td>enterprise</td>\n",
       "      <td>operating</td>\n",
       "      <td>2011-08-01</td>\n",
       "      <td>NaT</td>\n",
       "      <td>getvetter.com</td>\n",
       "      <td>getvetter</td>\n",
       "      <td>NaN</td>\n",
       "      <td>0.0</td>\n",
       "      <td>0.0</td>\n",
       "      <td>0.0</td>\n",
       "      <td>1.0</td>\n",
       "    </tr>\n",
       "  </tbody>\n",
       "</table>\n",
       "</div>"
      ],
      "text/plain": [
       "  company_id                           name    category_code     status  \\\n",
       "0        1.0                       Wetpaint              web  operating   \n",
       "1       10.0                        Flektor      games_video   acquired   \n",
       "2      100.0                          There      games_video   acquired   \n",
       "3    10000.0                        MYWEBBO  network_hosting  operating   \n",
       "4    10001.0             THE Movie Streamer      games_video  operating   \n",
       "5    10002.0                 Synergie Media      advertising  operating   \n",
       "6    10003.0         Green Basti Ecosystems        cleantech  operating   \n",
       "7   100042.0                       HostNine              NaN  operating   \n",
       "8    10005.0              Thomas Publishing      advertising  operating   \n",
       "9   100062.0  Vetter Idea Management System       enterprise  operating   \n",
       "\n",
       "  founded_at closed_at                domain network_username country_code  \\\n",
       "0 2005-10-17       NaT      wetpaint-inc.com  BachelrWetpaint          USA   \n",
       "1        NaT       NaT           flektor.com              NaN          USA   \n",
       "2        NaT       NaT             there.com              NaN          USA   \n",
       "3 2008-07-26       NaT           mywebbo.com              NaN          NaN   \n",
       "4 2008-07-26       NaT  themoviestreamer.com              NaN          NaN   \n",
       "5 2007-06-27       NaT    synergie-media.com              NaN          MAR   \n",
       "6 2008-08-20       NaT                   NaN              NaN          IND   \n",
       "7        NaT       NaT          hostnine.com         Hostnine          NaN   \n",
       "8        NaT       NaT  thomaspublishing.com              NaN          USA   \n",
       "9 2011-08-01       NaT         getvetter.com        getvetter          NaN   \n",
       "\n",
       "   investment_rounds  funding_rounds  funding_total  milestones  \n",
       "0                0.0             3.0     39750000.0         5.0  \n",
       "1                0.0             0.0            0.0         0.0  \n",
       "2                0.0             0.0            0.0         4.0  \n",
       "3                0.0             0.0            0.0         0.0  \n",
       "4                0.0             0.0            0.0         0.0  \n",
       "5                0.0             0.0            0.0         0.0  \n",
       "6                0.0             0.0            0.0         0.0  \n",
       "7                0.0             0.0            0.0         1.0  \n",
       "8                0.0             0.0            0.0         1.0  \n",
       "9                0.0             0.0            0.0         1.0  "
      ]
     },
     "execution_count": 41,
     "metadata": {},
     "output_type": "execute_result"
    }
   ],
   "source": [
    "companies.head(10)"
   ]
  },
  {
   "cell_type": "code",
   "execution_count": 42,
   "metadata": {},
   "outputs": [
    {
     "data": {
      "text/html": [
       "<div>\n",
       "<style scoped>\n",
       "    .dataframe tbody tr th:only-of-type {\n",
       "        vertical-align: middle;\n",
       "    }\n",
       "\n",
       "    .dataframe tbody tr th {\n",
       "        vertical-align: top;\n",
       "    }\n",
       "\n",
       "    .dataframe thead th {\n",
       "        text-align: right;\n",
       "    }\n",
       "</style>\n",
       "<table border=\"1\" class=\"dataframe\">\n",
       "  <thead>\n",
       "    <tr style=\"text-align: right;\">\n",
       "      <th></th>\n",
       "      <th>funding_round_id</th>\n",
       "      <th>company_identifier</th>\n",
       "      <th>funded_at</th>\n",
       "      <th>funding_round_type</th>\n",
       "      <th>raised_amount</th>\n",
       "      <th>pre_money_valuation</th>\n",
       "      <th>participants</th>\n",
       "      <th>is_first_round</th>\n",
       "      <th>is_last_round</th>\n",
       "    </tr>\n",
       "  </thead>\n",
       "  <tbody>\n",
       "    <tr>\n",
       "      <th>0</th>\n",
       "      <td>888.0</td>\n",
       "      <td>1.0</td>\n",
       "      <td>2005-10-01</td>\n",
       "      <td>series-a</td>\n",
       "      <td>5250000.0</td>\n",
       "      <td>0.0</td>\n",
       "      <td>2.0</td>\n",
       "      <td>0.0</td>\n",
       "      <td>1.0</td>\n",
       "    </tr>\n",
       "    <tr>\n",
       "      <th>1</th>\n",
       "      <td>889.0</td>\n",
       "      <td>1.0</td>\n",
       "      <td>2007-01-01</td>\n",
       "      <td>series-b</td>\n",
       "      <td>9500000.0</td>\n",
       "      <td>0.0</td>\n",
       "      <td>3.0</td>\n",
       "      <td>0.0</td>\n",
       "      <td>0.0</td>\n",
       "    </tr>\n",
       "    <tr>\n",
       "      <th>2</th>\n",
       "      <td>2312.0</td>\n",
       "      <td>1.0</td>\n",
       "      <td>2008-05-19</td>\n",
       "      <td>series-c+</td>\n",
       "      <td>25000000.0</td>\n",
       "      <td>0.0</td>\n",
       "      <td>4.0</td>\n",
       "      <td>1.0</td>\n",
       "      <td>0.0</td>\n",
       "    </tr>\n",
       "    <tr>\n",
       "      <th>3</th>\n",
       "      <td>1644.0</td>\n",
       "      <td>1001.0</td>\n",
       "      <td>2008-02-26</td>\n",
       "      <td>series-a</td>\n",
       "      <td>5000000.0</td>\n",
       "      <td>0.0</td>\n",
       "      <td>3.0</td>\n",
       "      <td>1.0</td>\n",
       "      <td>1.0</td>\n",
       "    </tr>\n",
       "    <tr>\n",
       "      <th>4</th>\n",
       "      <td>6682.0</td>\n",
       "      <td>10014.0</td>\n",
       "      <td>2008-09-01</td>\n",
       "      <td>angel</td>\n",
       "      <td>0.0</td>\n",
       "      <td>0.0</td>\n",
       "      <td>1.0</td>\n",
       "      <td>1.0</td>\n",
       "      <td>1.0</td>\n",
       "    </tr>\n",
       "    <tr>\n",
       "      <th>5</th>\n",
       "      <td>3619.0</td>\n",
       "      <td>10015.0</td>\n",
       "      <td>2008-10-10</td>\n",
       "      <td>series-a</td>\n",
       "      <td>2000000.0</td>\n",
       "      <td>0.0</td>\n",
       "      <td>2.0</td>\n",
       "      <td>0.0</td>\n",
       "      <td>1.0</td>\n",
       "    </tr>\n",
       "    <tr>\n",
       "      <th>6</th>\n",
       "      <td>18213.0</td>\n",
       "      <td>10015.0</td>\n",
       "      <td>2010-09-10</td>\n",
       "      <td>series-b</td>\n",
       "      <td>9000000.0</td>\n",
       "      <td>0.0</td>\n",
       "      <td>4.0</td>\n",
       "      <td>0.0</td>\n",
       "      <td>0.0</td>\n",
       "    </tr>\n",
       "    <tr>\n",
       "      <th>7</th>\n",
       "      <td>54006.0</td>\n",
       "      <td>10015.0</td>\n",
       "      <td>2012-01-01</td>\n",
       "      <td>venture</td>\n",
       "      <td>2069200.0</td>\n",
       "      <td>0.0</td>\n",
       "      <td>4.0</td>\n",
       "      <td>0.0</td>\n",
       "      <td>0.0</td>\n",
       "    </tr>\n",
       "    <tr>\n",
       "      <th>8</th>\n",
       "      <td>27747.0</td>\n",
       "      <td>10015.0</td>\n",
       "      <td>2012-01-24</td>\n",
       "      <td>series-c+</td>\n",
       "      <td>12000000.0</td>\n",
       "      <td>0.0</td>\n",
       "      <td>4.0</td>\n",
       "      <td>0.0</td>\n",
       "      <td>0.0</td>\n",
       "    </tr>\n",
       "    <tr>\n",
       "      <th>9</th>\n",
       "      <td>45409.0</td>\n",
       "      <td>10015.0</td>\n",
       "      <td>2013-08-13</td>\n",
       "      <td>series-c+</td>\n",
       "      <td>43000000.0</td>\n",
       "      <td>0.0</td>\n",
       "      <td>5.0</td>\n",
       "      <td>1.0</td>\n",
       "      <td>0.0</td>\n",
       "    </tr>\n",
       "  </tbody>\n",
       "</table>\n",
       "</div>"
      ],
      "text/plain": [
       "  funding_round_id company_identifier  funded_at funding_round_type  \\\n",
       "0            888.0                1.0 2005-10-01           series-a   \n",
       "1            889.0                1.0 2007-01-01           series-b   \n",
       "2           2312.0                1.0 2008-05-19          series-c+   \n",
       "3           1644.0             1001.0 2008-02-26           series-a   \n",
       "4           6682.0            10014.0 2008-09-01              angel   \n",
       "5           3619.0            10015.0 2008-10-10           series-a   \n",
       "6          18213.0            10015.0 2010-09-10           series-b   \n",
       "7          54006.0            10015.0 2012-01-01            venture   \n",
       "8          27747.0            10015.0 2012-01-24          series-c+   \n",
       "9          45409.0            10015.0 2013-08-13          series-c+   \n",
       "\n",
       "   raised_amount  pre_money_valuation  participants  is_first_round  \\\n",
       "0      5250000.0                  0.0           2.0             0.0   \n",
       "1      9500000.0                  0.0           3.0             0.0   \n",
       "2     25000000.0                  0.0           4.0             1.0   \n",
       "3      5000000.0                  0.0           3.0             1.0   \n",
       "4            0.0                  0.0           1.0             1.0   \n",
       "5      2000000.0                  0.0           2.0             0.0   \n",
       "6      9000000.0                  0.0           4.0             0.0   \n",
       "7      2069200.0                  0.0           4.0             0.0   \n",
       "8     12000000.0                  0.0           4.0             0.0   \n",
       "9     43000000.0                  0.0           5.0             1.0   \n",
       "\n",
       "   is_last_round  \n",
       "0            1.0  \n",
       "1            0.0  \n",
       "2            0.0  \n",
       "3            1.0  \n",
       "4            1.0  \n",
       "5            1.0  \n",
       "6            0.0  \n",
       "7            0.0  \n",
       "8            0.0  \n",
       "9            0.0  "
      ]
     },
     "execution_count": 42,
     "metadata": {},
     "output_type": "execute_result"
    }
   ],
   "source": [
    "rounds.head(10)"
   ]
  },
  {
   "cell_type": "markdown",
   "metadata": {
    "id": "bmVYhphNrJg2"
   },
   "source": [
    "\n",
    "##  Исследовательский анализ объединённых таблиц\n"
   ]
  },
  {
   "cell_type": "markdown",
   "metadata": {
    "id": "3Di6tCT3rJg2"
   },
   "source": [
    "\n",
    "### 3.1. Объединение данных\n",
    "\n"
   ]
  },
  {
   "cell_type": "code",
   "execution_count": 43,
   "metadata": {
    "id": "kuV1b5MXFg3_"
   },
   "outputs": [
    {
     "name": "stdout",
     "output_type": "stream",
     "text": [
      "<class 'pandas.core.frame.DataFrame'>\n",
      "Int64Index: 40747 entries, 0 to 196552\n",
      "Data columns (total 13 columns):\n",
      " #   Column             Non-Null Count  Dtype         \n",
      "---  ------             --------------  -----         \n",
      " 0   company_id         40747 non-null  string        \n",
      " 1   name               40747 non-null  object        \n",
      " 2   category_code      35315 non-null  object        \n",
      " 3   status             40747 non-null  object        \n",
      " 4   founded_at         27807 non-null  datetime64[ns]\n",
      " 5   closed_at          2128 non-null   datetime64[ns]\n",
      " 6   domain             35754 non-null  object        \n",
      " 7   network_username   20850 non-null  object        \n",
      " 8   country_code       34742 non-null  object        \n",
      " 9   investment_rounds  40747 non-null  float64       \n",
      " 10  funding_rounds     40747 non-null  float64       \n",
      " 11  funding_total      40747 non-null  float64       \n",
      " 12  milestones         40747 non-null  float64       \n",
      "dtypes: datetime64[ns](2), float64(4), object(6), string(1)\n",
      "memory usage: 4.4+ MB\n"
     ]
    }
   ],
   "source": [
    "# Отфильтруем обработанный датафрейм\n",
    "filtered_companies = companies[\n",
    "    ((companies['status'] == 'acquired') | \n",
    "     ((companies['funding_rounds'] > 0) | \n",
    "      (companies['investment_rounds'] > 0)))\n",
    "]\n",
    "filtered_companies.info()"
   ]
  },
  {
   "cell_type": "code",
   "execution_count": 44,
   "metadata": {
    "id": "93v3fEX5FgtP"
   },
   "outputs": [
    {
     "data": {
      "text/html": [
       "<div>\n",
       "<style scoped>\n",
       "    .dataframe tbody tr th:only-of-type {\n",
       "        vertical-align: middle;\n",
       "    }\n",
       "\n",
       "    .dataframe tbody tr th {\n",
       "        vertical-align: top;\n",
       "    }\n",
       "\n",
       "    .dataframe thead th {\n",
       "        text-align: right;\n",
       "    }\n",
       "</style>\n",
       "<table border=\"1\" class=\"dataframe\">\n",
       "  <thead>\n",
       "    <tr style=\"text-align: right;\">\n",
       "      <th></th>\n",
       "      <th>company_id</th>\n",
       "      <th>name</th>\n",
       "      <th>category_code</th>\n",
       "      <th>status</th>\n",
       "      <th>founded_at</th>\n",
       "      <th>closed_at</th>\n",
       "      <th>domain</th>\n",
       "      <th>network_username</th>\n",
       "      <th>country_code</th>\n",
       "      <th>investment_rounds</th>\n",
       "      <th>funding_rounds</th>\n",
       "      <th>funding_total</th>\n",
       "      <th>milestones</th>\n",
       "    </tr>\n",
       "  </thead>\n",
       "  <tbody>\n",
       "    <tr>\n",
       "      <th>0</th>\n",
       "      <td>1.0</td>\n",
       "      <td>Wetpaint</td>\n",
       "      <td>web</td>\n",
       "      <td>operating</td>\n",
       "      <td>2005-10-17</td>\n",
       "      <td>NaT</td>\n",
       "      <td>wetpaint-inc.com</td>\n",
       "      <td>BachelrWetpaint</td>\n",
       "      <td>USA</td>\n",
       "      <td>0.0</td>\n",
       "      <td>3.0</td>\n",
       "      <td>39750000.0</td>\n",
       "      <td>5.0</td>\n",
       "    </tr>\n",
       "    <tr>\n",
       "      <th>1</th>\n",
       "      <td>10.0</td>\n",
       "      <td>Flektor</td>\n",
       "      <td>games_video</td>\n",
       "      <td>acquired</td>\n",
       "      <td>NaT</td>\n",
       "      <td>NaT</td>\n",
       "      <td>flektor.com</td>\n",
       "      <td>NaN</td>\n",
       "      <td>USA</td>\n",
       "      <td>0.0</td>\n",
       "      <td>0.0</td>\n",
       "      <td>0.0</td>\n",
       "      <td>0.0</td>\n",
       "    </tr>\n",
       "    <tr>\n",
       "      <th>2</th>\n",
       "      <td>100.0</td>\n",
       "      <td>There</td>\n",
       "      <td>games_video</td>\n",
       "      <td>acquired</td>\n",
       "      <td>NaT</td>\n",
       "      <td>NaT</td>\n",
       "      <td>there.com</td>\n",
       "      <td>NaN</td>\n",
       "      <td>USA</td>\n",
       "      <td>0.0</td>\n",
       "      <td>0.0</td>\n",
       "      <td>0.0</td>\n",
       "      <td>4.0</td>\n",
       "    </tr>\n",
       "    <tr>\n",
       "      <th>13</th>\n",
       "      <td>1001.0</td>\n",
       "      <td>FriendFeed</td>\n",
       "      <td>web</td>\n",
       "      <td>acquired</td>\n",
       "      <td>2007-10-01</td>\n",
       "      <td>NaT</td>\n",
       "      <td>friendfeed.com</td>\n",
       "      <td>friendfeed</td>\n",
       "      <td>USA</td>\n",
       "      <td>0.0</td>\n",
       "      <td>1.0</td>\n",
       "      <td>5000000.0</td>\n",
       "      <td>3.0</td>\n",
       "    </tr>\n",
       "    <tr>\n",
       "      <th>18</th>\n",
       "      <td>10014.0</td>\n",
       "      <td>Mobclix</td>\n",
       "      <td>mobile</td>\n",
       "      <td>acquired</td>\n",
       "      <td>2008-03-01</td>\n",
       "      <td>NaT</td>\n",
       "      <td>mobclix.com</td>\n",
       "      <td>mobclix</td>\n",
       "      <td>USA</td>\n",
       "      <td>0.0</td>\n",
       "      <td>1.0</td>\n",
       "      <td>0.0</td>\n",
       "      <td>4.0</td>\n",
       "    </tr>\n",
       "    <tr>\n",
       "      <th>19</th>\n",
       "      <td>10015.0</td>\n",
       "      <td>Fitbit</td>\n",
       "      <td>health</td>\n",
       "      <td>operating</td>\n",
       "      <td>2007-10-01</td>\n",
       "      <td>NaT</td>\n",
       "      <td>fitbit.com</td>\n",
       "      <td>fitbit</td>\n",
       "      <td>USA</td>\n",
       "      <td>0.0</td>\n",
       "      <td>5.0</td>\n",
       "      <td>68069200.0</td>\n",
       "      <td>0.0</td>\n",
       "    </tr>\n",
       "    <tr>\n",
       "      <th>20</th>\n",
       "      <td>100155.0</td>\n",
       "      <td>MTPV</td>\n",
       "      <td>cleantech</td>\n",
       "      <td>operating</td>\n",
       "      <td>2003-01-01</td>\n",
       "      <td>NaT</td>\n",
       "      <td>mtpv.com</td>\n",
       "      <td>NaN</td>\n",
       "      <td>USA</td>\n",
       "      <td>0.0</td>\n",
       "      <td>3.0</td>\n",
       "      <td>10125300.0</td>\n",
       "      <td>1.0</td>\n",
       "    </tr>\n",
       "    <tr>\n",
       "      <th>24</th>\n",
       "      <td>10018.0</td>\n",
       "      <td>Demandbase</td>\n",
       "      <td>analytics</td>\n",
       "      <td>operating</td>\n",
       "      <td>2006-01-01</td>\n",
       "      <td>NaT</td>\n",
       "      <td>demandbase.com</td>\n",
       "      <td>Demandbase</td>\n",
       "      <td>USA</td>\n",
       "      <td>0.0</td>\n",
       "      <td>3.0</td>\n",
       "      <td>33000000.0</td>\n",
       "      <td>3.0</td>\n",
       "    </tr>\n",
       "    <tr>\n",
       "      <th>26</th>\n",
       "      <td>100189.0</td>\n",
       "      <td>Locatrix Communications</td>\n",
       "      <td>mobile</td>\n",
       "      <td>operating</td>\n",
       "      <td>2003-11-01</td>\n",
       "      <td>NaT</td>\n",
       "      <td>locatrix.com</td>\n",
       "      <td>NaN</td>\n",
       "      <td>AUS</td>\n",
       "      <td>0.0</td>\n",
       "      <td>1.0</td>\n",
       "      <td>250000.0</td>\n",
       "      <td>1.0</td>\n",
       "    </tr>\n",
       "    <tr>\n",
       "      <th>27</th>\n",
       "      <td>10020.0</td>\n",
       "      <td>Threebrix E-services Pvt Ltd</td>\n",
       "      <td>NaN</td>\n",
       "      <td>operating</td>\n",
       "      <td>NaT</td>\n",
       "      <td>NaT</td>\n",
       "      <td>NaN</td>\n",
       "      <td>NaN</td>\n",
       "      <td>NaN</td>\n",
       "      <td>1.0</td>\n",
       "      <td>0.0</td>\n",
       "      <td>0.0</td>\n",
       "      <td>0.0</td>\n",
       "    </tr>\n",
       "  </tbody>\n",
       "</table>\n",
       "</div>"
      ],
      "text/plain": [
       "   company_id                          name category_code     status  \\\n",
       "0         1.0                      Wetpaint           web  operating   \n",
       "1        10.0                       Flektor   games_video   acquired   \n",
       "2       100.0                         There   games_video   acquired   \n",
       "13     1001.0                    FriendFeed           web   acquired   \n",
       "18    10014.0                       Mobclix        mobile   acquired   \n",
       "19    10015.0                        Fitbit        health  operating   \n",
       "20   100155.0                          MTPV     cleantech  operating   \n",
       "24    10018.0                    Demandbase     analytics  operating   \n",
       "26   100189.0       Locatrix Communications        mobile  operating   \n",
       "27    10020.0  Threebrix E-services Pvt Ltd           NaN  operating   \n",
       "\n",
       "   founded_at closed_at            domain network_username country_code  \\\n",
       "0  2005-10-17       NaT  wetpaint-inc.com  BachelrWetpaint          USA   \n",
       "1         NaT       NaT       flektor.com              NaN          USA   \n",
       "2         NaT       NaT         there.com              NaN          USA   \n",
       "13 2007-10-01       NaT    friendfeed.com       friendfeed          USA   \n",
       "18 2008-03-01       NaT       mobclix.com          mobclix          USA   \n",
       "19 2007-10-01       NaT        fitbit.com           fitbit          USA   \n",
       "20 2003-01-01       NaT          mtpv.com              NaN          USA   \n",
       "24 2006-01-01       NaT    demandbase.com       Demandbase          USA   \n",
       "26 2003-11-01       NaT      locatrix.com              NaN          AUS   \n",
       "27        NaT       NaT               NaN              NaN          NaN   \n",
       "\n",
       "    investment_rounds  funding_rounds  funding_total  milestones  \n",
       "0                 0.0             3.0     39750000.0         5.0  \n",
       "1                 0.0             0.0            0.0         0.0  \n",
       "2                 0.0             0.0            0.0         4.0  \n",
       "13                0.0             1.0      5000000.0         3.0  \n",
       "18                0.0             1.0            0.0         4.0  \n",
       "19                0.0             5.0     68069200.0         0.0  \n",
       "20                0.0             3.0     10125300.0         1.0  \n",
       "24                0.0             3.0     33000000.0         3.0  \n",
       "26                0.0             1.0       250000.0         1.0  \n",
       "27                1.0             0.0            0.0         0.0  "
      ]
     },
     "execution_count": 44,
     "metadata": {},
     "output_type": "execute_result"
    }
   ],
   "source": [
    "filtered_companies.head(10)"
   ]
  },
  {
   "cell_type": "code",
   "execution_count": 45,
   "metadata": {},
   "outputs": [
    {
     "data": {
      "text/plain": [
       "company_id               0\n",
       "name                     0\n",
       "category_code         5432\n",
       "status                   0\n",
       "founded_at           12940\n",
       "closed_at            38619\n",
       "domain                4993\n",
       "network_username     19897\n",
       "country_code          6005\n",
       "investment_rounds        0\n",
       "funding_rounds           0\n",
       "funding_total            0\n",
       "milestones               0\n",
       "dtype: int64"
      ]
     },
     "execution_count": 45,
     "metadata": {},
     "output_type": "execute_result"
    }
   ],
   "source": [
    "filtered_companies.isna().sum() # Считаем количество пропусков в данной таблице"
   ]
  },
  {
   "cell_type": "code",
   "execution_count": 46,
   "metadata": {},
   "outputs": [
    {
     "data": {
      "text/plain": [
       "company_id           0.000000\n",
       "name                 0.000000\n",
       "category_code        0.133310\n",
       "status               0.000000\n",
       "founded_at           0.317569\n",
       "closed_at            0.947775\n",
       "domain               0.122537\n",
       "network_username     0.488306\n",
       "country_code         0.147373\n",
       "investment_rounds    0.000000\n",
       "funding_rounds       0.000000\n",
       "funding_total        0.000000\n",
       "milestones           0.000000\n",
       "dtype: float64"
      ]
     },
     "execution_count": 46,
     "metadata": {},
     "output_type": "execute_result"
    }
   ],
   "source": [
    "filtered_companies.isna().mean()"
   ]
  },
  {
   "cell_type": "code",
   "execution_count": 47,
   "metadata": {},
   "outputs": [
    {
     "data": {
      "text/plain": [
       "0"
      ]
     },
     "execution_count": 47,
     "metadata": {},
     "output_type": "execute_result"
    }
   ],
   "source": [
    "# Проверяем явные дубликаты в датафрейме \n",
    "filtered_companies.duplicated().sum()"
   ]
  },
  {
   "cell_type": "code",
   "execution_count": 48,
   "metadata": {},
   "outputs": [
    {
     "data": {
      "text/plain": [
       "0"
      ]
     },
     "execution_count": 48,
     "metadata": {},
     "output_type": "execute_result"
    }
   ],
   "source": [
    "# Проверяем неявные дубликаты в датафрейме \n",
    "filtered_companies.duplicated(subset='company_id').sum()"
   ]
  },
  {
   "cell_type": "markdown",
   "metadata": {},
   "source": [
    "Данные в порядке за исключением пропусков но их большую часть можно объяснить, например в столбце `closed_at` пропуски означают, что компания не закрылась, пропуски в столбце `network_username` могут означать маленькие компании которые не регистрировались в соцсетях и не имеют ников, в столбце `founded_at` может означать что она не зарегистрирована официально например как стартап предложение, `category_code` неопределились с категорией. Также все пропуски могут быть ошибками при внесении данных."
   ]
  },
  {
   "cell_type": "markdown",
   "metadata": {
    "id": "DFHINkV3rJg2"
   },
   "source": [
    "\n",
    "### 3.2. Анализ выбросов\n",
    "\n"
   ]
  },
  {
   "cell_type": "code",
   "execution_count": 49,
   "metadata": {
    "id": "8jm75fKXrJg2",
    "scrolled": true,
    "vscode": {
     "languageId": "plaintext"
    }
   },
   "outputs": [
    {
     "data": {
      "text/plain": [
       "count    4.074700e+04\n",
       "mean     1.013561e+07\n",
       "std      5.646436e+07\n",
       "min      0.000000e+00\n",
       "25%      0.000000e+00\n",
       "50%      6.000000e+05\n",
       "75%      5.650650e+06\n",
       "max      5.700000e+09\n",
       "Name: funding_total, dtype: float64"
      ]
     },
     "execution_count": 49,
     "metadata": {},
     "output_type": "execute_result"
    }
   ],
   "source": [
    "filtered_companies['funding_total'].describe()"
   ]
  },
  {
   "cell_type": "markdown",
   "metadata": {
    "id": "S1jrfr7rFhcw"
   },
   "source": [
    "Обычные способы нахождения типичных значений (особенно среднее арифметическое) неприменимы для таких асимметричных данных с выбросами. Медиана и перцентили дают более объективную картину. Для глубокого анализа стоит: исключить/отдельно проанализировать нулевые значения, так как 25 процентов компаний имеют нулевое финансирование."
   ]
  },
  {
   "cell_type": "code",
   "execution_count": 50,
   "metadata": {},
   "outputs": [
    {
     "data": {
      "image/png": "[encoded data removed]",
      "text/plain": [
       "<Figure size 864x432 with 1 Axes>"
      ]
     },
     "metadata": {
      "needs_background": "light"
     },
     "output_type": "display_data"
    }
   ],
   "source": [
    "# Фильтрация положительных значений\n",
    "positive_funding = filtered_companies[filtered_companies['funding_total'] > 0]['funding_total']\n",
    "# Гистограмма распределения финансирования\n",
    "plt.figure(figsize=(12, 6))\n",
    "plt.hist(positive_funding, bins=100, log=True, color='skyblue', edgecolor='black')\n",
    "median_val = positive_funding.median()\n",
    "plt.axvline(x=median_val, \n",
    "            color='red', \n",
    "            linestyle='--', \n",
    "            linewidth=2,\n",
    "            label=f'Медиана: {median_val:,.0f} $')\n",
    "plt.title('Распределение общего финансирования компаний (логарифмическая шкала)')\n",
    "plt.xlabel('Общее финансирование ($)')\n",
    "plt.ylabel('Количество компаний (log scale)')\n",
    "plt.legend()\n",
    "plt.grid(True, which=\"both\", ls=\"--\", alpha=0.5)\n",
    "plt.show()"
   ]
  },
  {
   "cell_type": "code",
   "execution_count": 51,
   "metadata": {},
   "outputs": [
    {
     "data": {
      "image/png": "[encoded data removed]",
      "text/plain": [
       "<Figure size 864x576 with 1 Axes>"
      ]
     },
     "metadata": {
      "needs_background": "light"
     },
     "output_type": "display_data"
    }
   ],
   "source": [
    "# ящик с усами для выявления выбросов\n",
    "plt.figure(figsize=(12, 8))\n",
    "plt.boxplot(positive_funding, vert=False, patch_artist=True,\n",
    "           boxprops=dict(facecolor='lightblue'),\n",
    "           flierprops=dict(marker='o', markersize=6))\n",
    "plt.xscale('log')\n",
    "plt.title('Ящик с усами (логарифмическая шкала)')\n",
    "plt.xlabel('Общее финансирование ($, log scale)')\n",
    "plt.grid(True, axis='x', ls=\"--\", alpha=0.5)\n",
    "plt.show()"
   ]
  },
  {
   "cell_type": "markdown",
   "metadata": {},
   "source": [
    "Очень много выбросов и очень много нулевых значений."
   ]
  },
  {
   "cell_type": "markdown",
   "metadata": {
    "id": "JqkRAQrIrJg2"
   },
   "source": [
    "\n",
    "### 3.3. Куплены забесплатно?\n",
    "\n"
   ]
  },
  {
   "cell_type": "code",
   "execution_count": 52,
   "metadata": {
    "id": "9IDTHfYQFhuX"
   },
   "outputs": [
    {
     "name": "stdout",
     "output_type": "stream",
     "text": [
      "<class 'pandas.core.frame.DataFrame'>\n",
      "Int64Index: 40747 entries, 0 to 40746\n",
      "Data columns (total 19 columns):\n",
      " #   Column                Non-Null Count  Dtype         \n",
      "---  ------                --------------  -----         \n",
      " 0   company_id            40747 non-null  object        \n",
      " 1   name                  40747 non-null  object        \n",
      " 2   category_code         35315 non-null  object        \n",
      " 3   status                40747 non-null  object        \n",
      " 4   founded_at            27807 non-null  datetime64[ns]\n",
      " 5   closed_at             2128 non-null   datetime64[ns]\n",
      " 6   domain                35754 non-null  object        \n",
      " 7   network_username      20850 non-null  object        \n",
      " 8   country_code          34742 non-null  object        \n",
      " 9   investment_rounds     40747 non-null  float64       \n",
      " 10  funding_rounds        40747 non-null  float64       \n",
      " 11  funding_total         40747 non-null  float64       \n",
      " 12  milestones            40747 non-null  float64       \n",
      " 13  id                    0 non-null      float64       \n",
      " 14  acquiring_company_id  0 non-null      float64       \n",
      " 15  acquired_company_id   0 non-null      float64       \n",
      " 16  term_code             0 non-null      object        \n",
      " 17  price_amount          0 non-null      float64       \n",
      " 18  acquired_at           0 non-null      datetime64[ns]\n",
      "dtypes: datetime64[ns](3), float64(8), object(8)\n",
      "memory usage: 6.2+ MB\n"
     ]
    }
   ],
   "source": [
    "# Соединяем два датафрейма по соответствующим столбцам acquired_company_id и company_id\n",
    "company_zero_amount = pd.merge(\n",
    "    filtered_companies,\n",
    "    acquisition,\n",
    "    left_on='company_id', \n",
    "    right_on='acquired_company_id',\n",
    "    how='left'  # тип соединения\n",
    ")\n",
    "company_zero_amount.info()"
   ]
  },
  {
   "cell_type": "code",
   "execution_count": 53,
   "metadata": {},
   "outputs": [],
   "source": [
    "#  Сортируем проданные стартапы за 0 иза 1 доллар у которых не нулевое финансирование\n",
    "company_zero_amount = company_zero_amount[\n",
    "    (company_zero_amount['price_amount'] == 0) | \n",
    "     ((company_zero_amount['price_amount'] == 1) & \n",
    "      (company_zero_amount['funding_total'] > 0))]"
   ]
  },
  {
   "cell_type": "code",
   "execution_count": 54,
   "metadata": {},
   "outputs": [
    {
     "data": {
      "text/html": [
       "<div>\n",
       "<style scoped>\n",
       "    .dataframe tbody tr th:only-of-type {\n",
       "        vertical-align: middle;\n",
       "    }\n",
       "\n",
       "    .dataframe tbody tr th {\n",
       "        vertical-align: top;\n",
       "    }\n",
       "\n",
       "    .dataframe thead th {\n",
       "        text-align: right;\n",
       "    }\n",
       "</style>\n",
       "<table border=\"1\" class=\"dataframe\">\n",
       "  <thead>\n",
       "    <tr style=\"text-align: right;\">\n",
       "      <th></th>\n",
       "      <th>company_id</th>\n",
       "      <th>name</th>\n",
       "      <th>category_code</th>\n",
       "      <th>status</th>\n",
       "      <th>founded_at</th>\n",
       "      <th>closed_at</th>\n",
       "      <th>domain</th>\n",
       "      <th>network_username</th>\n",
       "      <th>country_code</th>\n",
       "      <th>investment_rounds</th>\n",
       "      <th>funding_rounds</th>\n",
       "      <th>funding_total</th>\n",
       "      <th>milestones</th>\n",
       "      <th>id</th>\n",
       "      <th>acquiring_company_id</th>\n",
       "      <th>acquired_company_id</th>\n",
       "      <th>term_code</th>\n",
       "      <th>price_amount</th>\n",
       "      <th>acquired_at</th>\n",
       "    </tr>\n",
       "  </thead>\n",
       "  <tbody>\n",
       "  </tbody>\n",
       "</table>\n",
       "</div>"
      ],
      "text/plain": [
       "Empty DataFrame\n",
       "Columns: [company_id, name, category_code, status, founded_at, closed_at, domain, network_username, country_code, investment_rounds, funding_rounds, funding_total, milestones, id, acquiring_company_id, acquired_company_id, term_code, price_amount, acquired_at]\n",
       "Index: []"
      ]
     },
     "execution_count": 54,
     "metadata": {},
     "output_type": "execute_result"
    }
   ],
   "source": [
    "company_zero_amount.head(10)"
   ]
  },
  {
   "cell_type": "code",
   "execution_count": 55,
   "metadata": {},
   "outputs": [],
   "source": [
    "# Фильтрация данных\n",
    "positive_funding = filtered_companies[\n",
    "    (filtered_companies['funding_total'] > 0) & \n",
    "    (filtered_companies['funding_total'].notna())\n",
    "]['funding_total']\n",
    "\n",
    "# Квартили и IQR\n",
    "Q1 = positive_funding.quantile(0.25)  # 25-й процентиль\n",
    "Q3 = positive_funding.quantile(0.75)  # 75-й процентиль\n",
    "IQR = Q3 - Q1\n",
    "\n",
    "# Границы выбросов\n",
    "lower_bound = Q1 - 1.5 * IQR\n",
    "upper_bound = Q3 + 1.5 * IQR"
   ]
  },
  {
   "cell_type": "code",
   "execution_count": 56,
   "metadata": {},
   "outputs": [
    {
     "name": "stdout",
     "output_type": "stream",
     "text": [
      "Нижняя граница выбросов: -15,250,000$ (~0.00% данных ниже)\n",
      "Верхняя граница выбросов: 26,750,000$ (~12.44% данных выше)\n"
     ]
    }
   ],
   "source": [
    "# Вычисление процентилей для границ\n",
    "percentile_lower = np.mean(positive_funding <= lower_bound) * 100\n",
    "percentile_upper = 100 - np.mean(positive_funding <= upper_bound) * 100\n",
    "\n",
    "print(f\"Нижняя граница выбросов: {lower_bound:,.0f}$ (~{percentile_lower:.2f}% данных ниже)\")\n",
    "print(f\"Верхняя граница выбросов: {upper_bound:,.0f}$ (~{percentile_upper:.2f}% данных выше)\")"
   ]
  },
  {
   "cell_type": "code",
   "execution_count": 57,
   "metadata": {},
   "outputs": [
    {
     "data": {
      "image/png": "[encoded data removed]",
      "text/plain": [
       "<Figure size 864x432 with 1 Axes>"
      ]
     },
     "metadata": {
      "needs_background": "light"
     },
     "output_type": "display_data"
    }
   ],
   "source": [
    "import matplotlib.pyplot as plt\n",
    "\n",
    "plt.figure(figsize=(12, 6))\n",
    "plt.boxplot(positive_funding, vert=False, patch_artist=True)\n",
    "plt.axvline(lower_bound, color='r', linestyle='--', label='Нижняя граница выбросов')\n",
    "plt.axvline(upper_bound, color='g', linestyle='--', label='Верхняя граница выбросов')\n",
    "plt.xscale('log')\n",
    "plt.title('Границы выбросов по методу IQR (логарифмическая шкала)')\n",
    "plt.xlabel('Общее финансирование ($)')\n",
    "plt.legend()\n",
    "plt.show()"
   ]
  },
  {
   "cell_type": "markdown",
   "metadata": {},
   "source": [
    "Из прошлой задачи видно что в столбце множество нулевых значений , но они не являются выбросами , выбросами являются огромные значения после 87 процентиля по верхней границе , а по нижней гаранице их нет."
   ]
  },
  {
   "cell_type": "markdown",
   "metadata": {
    "id": "mEiWpROjrJg2"
   },
   "source": [
    "\n",
    "### 3.4. Цены стартапов по категориям\n",
    "\n"
   ]
  },
  {
   "cell_type": "code",
   "execution_count": 58,
   "metadata": {
    "id": "jQ09dYUWrJg2",
    "vscode": {
     "languageId": "plaintext"
    }
   },
   "outputs": [
    {
     "name": "stdout",
     "output_type": "stream",
     "text": [
      "<class 'pandas.core.frame.DataFrame'>\n",
      "Int64Index: 40747 entries, 0 to 40746\n",
      "Data columns (total 19 columns):\n",
      " #   Column                Non-Null Count  Dtype         \n",
      "---  ------                --------------  -----         \n",
      " 0   company_id            40747 non-null  object        \n",
      " 1   name                  40747 non-null  object        \n",
      " 2   category_code         35315 non-null  object        \n",
      " 3   status                40747 non-null  object        \n",
      " 4   founded_at            27807 non-null  datetime64[ns]\n",
      " 5   closed_at             2128 non-null   datetime64[ns]\n",
      " 6   domain                35754 non-null  object        \n",
      " 7   network_username      20850 non-null  object        \n",
      " 8   country_code          34742 non-null  object        \n",
      " 9   investment_rounds     40747 non-null  float64       \n",
      " 10  funding_rounds        40747 non-null  float64       \n",
      " 11  funding_total         40747 non-null  float64       \n",
      " 12  milestones            40747 non-null  float64       \n",
      " 13  id                    0 non-null      float64       \n",
      " 14  acquiring_company_id  0 non-null      float64       \n",
      " 15  acquired_company_id   0 non-null      float64       \n",
      " 16  term_code             0 non-null      object        \n",
      " 17  price_amount          0 non-null      float64       \n",
      " 18  acquired_at           0 non-null      datetime64[ns]\n",
      "dtypes: datetime64[ns](3), float64(8), object(8)\n",
      "memory usage: 6.2+ MB\n"
     ]
    }
   ],
   "source": [
    "# Соединяем два датафрейма по соответствующим столбцам acquired_company_id и company_id\n",
    "company_zero_amount = pd.merge(\n",
    "    filtered_companies,\n",
    "    acquisition,\n",
    "    left_on='company_id', \n",
    "    right_on='acquired_company_id',\n",
    "    how='left'  # тип соединения\n",
    ")\n",
    "company_zero_amount.info()"
   ]
  },
  {
   "cell_type": "code",
   "execution_count": 59,
   "metadata": {
    "scrolled": true
   },
   "outputs": [
    {
     "data": {
      "text/html": [
       "<div>\n",
       "<style scoped>\n",
       "    .dataframe tbody tr th:only-of-type {\n",
       "        vertical-align: middle;\n",
       "    }\n",
       "\n",
       "    .dataframe tbody tr th {\n",
       "        vertical-align: top;\n",
       "    }\n",
       "\n",
       "    .dataframe thead th {\n",
       "        text-align: right;\n",
       "    }\n",
       "</style>\n",
       "<table border=\"1\" class=\"dataframe\">\n",
       "  <thead>\n",
       "    <tr style=\"text-align: right;\">\n",
       "      <th></th>\n",
       "      <th>sum</th>\n",
       "      <th>count</th>\n",
       "      <th>mean</th>\n",
       "      <th>median</th>\n",
       "      <th>max</th>\n",
       "      <th>std</th>\n",
       "      <th>var</th>\n",
       "    </tr>\n",
       "    <tr>\n",
       "      <th>category_code</th>\n",
       "      <th></th>\n",
       "      <th></th>\n",
       "      <th></th>\n",
       "      <th></th>\n",
       "      <th></th>\n",
       "      <th></th>\n",
       "      <th></th>\n",
       "    </tr>\n",
       "  </thead>\n",
       "  <tbody>\n",
       "    <tr>\n",
       "      <th>advertising</th>\n",
       "      <td>1.248819e+10</td>\n",
       "      <td>1436</td>\n",
       "      <td>8.696509e+06</td>\n",
       "      <td>1000000.0</td>\n",
       "      <td>2.738340e+08</td>\n",
       "      <td>2.125720e+07</td>\n",
       "      <td>4.518686e+14</td>\n",
       "    </tr>\n",
       "    <tr>\n",
       "      <th>analytics</th>\n",
       "      <td>6.698312e+09</td>\n",
       "      <td>701</td>\n",
       "      <td>9.555366e+06</td>\n",
       "      <td>2000000.0</td>\n",
       "      <td>6.050080e+08</td>\n",
       "      <td>2.893465e+07</td>\n",
       "      <td>8.372140e+14</td>\n",
       "    </tr>\n",
       "    <tr>\n",
       "      <th>automotive</th>\n",
       "      <td>3.594221e+09</td>\n",
       "      <td>89</td>\n",
       "      <td>4.038450e+07</td>\n",
       "      <td>1300000.0</td>\n",
       "      <td>1.451000e+09</td>\n",
       "      <td>1.832047e+08</td>\n",
       "      <td>3.356394e+16</td>\n",
       "    </tr>\n",
       "    <tr>\n",
       "      <th>biotech</th>\n",
       "      <td>6.686869e+10</td>\n",
       "      <td>3597</td>\n",
       "      <td>1.859013e+07</td>\n",
       "      <td>4000000.0</td>\n",
       "      <td>2.400000e+09</td>\n",
       "      <td>5.465791e+07</td>\n",
       "      <td>2.987487e+15</td>\n",
       "    </tr>\n",
       "    <tr>\n",
       "      <th>cleantech</th>\n",
       "      <td>3.867019e+10</td>\n",
       "      <td>1145</td>\n",
       "      <td>3.377310e+07</td>\n",
       "      <td>6000000.0</td>\n",
       "      <td>1.200000e+09</td>\n",
       "      <td>9.215550e+07</td>\n",
       "      <td>8.492637e+15</td>\n",
       "    </tr>\n",
       "    <tr>\n",
       "      <th>consulting</th>\n",
       "      <td>2.616850e+09</td>\n",
       "      <td>503</td>\n",
       "      <td>5.202485e+06</td>\n",
       "      <td>50000.0</td>\n",
       "      <td>1.000000e+08</td>\n",
       "      <td>1.375791e+07</td>\n",
       "      <td>1.892801e+14</td>\n",
       "    </tr>\n",
       "    <tr>\n",
       "      <th>design</th>\n",
       "      <td>1.863784e+08</td>\n",
       "      <td>60</td>\n",
       "      <td>3.106306e+06</td>\n",
       "      <td>322745.0</td>\n",
       "      <td>5.850000e+07</td>\n",
       "      <td>8.862027e+06</td>\n",
       "      <td>7.853552e+13</td>\n",
       "    </tr>\n",
       "    <tr>\n",
       "      <th>ecommerce</th>\n",
       "      <td>1.762815e+10</td>\n",
       "      <td>1831</td>\n",
       "      <td>9.627610e+06</td>\n",
       "      <td>486000.0</td>\n",
       "      <td>1.100000e+09</td>\n",
       "      <td>4.757703e+07</td>\n",
       "      <td>2.263574e+15</td>\n",
       "    </tr>\n",
       "    <tr>\n",
       "      <th>education</th>\n",
       "      <td>3.948519e+09</td>\n",
       "      <td>560</td>\n",
       "      <td>7.050926e+06</td>\n",
       "      <td>570000.0</td>\n",
       "      <td>7.500000e+08</td>\n",
       "      <td>3.660939e+07</td>\n",
       "      <td>1.340247e+15</td>\n",
       "    </tr>\n",
       "    <tr>\n",
       "      <th>enterprise</th>\n",
       "      <td>2.134635e+10</td>\n",
       "      <td>1878</td>\n",
       "      <td>1.136654e+07</td>\n",
       "      <td>1617100.0</td>\n",
       "      <td>1.270280e+09</td>\n",
       "      <td>3.662222e+07</td>\n",
       "      <td>1.341187e+15</td>\n",
       "    </tr>\n",
       "  </tbody>\n",
       "</table>\n",
       "</div>"
      ],
      "text/plain": [
       "                        sum  count          mean     median           max  \\\n",
       "category_code                                                               \n",
       "advertising    1.248819e+10   1436  8.696509e+06  1000000.0  2.738340e+08   \n",
       "analytics      6.698312e+09    701  9.555366e+06  2000000.0  6.050080e+08   \n",
       "automotive     3.594221e+09     89  4.038450e+07  1300000.0  1.451000e+09   \n",
       "biotech        6.686869e+10   3597  1.859013e+07  4000000.0  2.400000e+09   \n",
       "cleantech      3.867019e+10   1145  3.377310e+07  6000000.0  1.200000e+09   \n",
       "consulting     2.616850e+09    503  5.202485e+06    50000.0  1.000000e+08   \n",
       "design         1.863784e+08     60  3.106306e+06   322745.0  5.850000e+07   \n",
       "ecommerce      1.762815e+10   1831  9.627610e+06   486000.0  1.100000e+09   \n",
       "education      3.948519e+09    560  7.050926e+06   570000.0  7.500000e+08   \n",
       "enterprise     2.134635e+10   1878  1.136654e+07  1617100.0  1.270280e+09   \n",
       "\n",
       "                        std           var  \n",
       "category_code                              \n",
       "advertising    2.125720e+07  4.518686e+14  \n",
       "analytics      2.893465e+07  8.372140e+14  \n",
       "automotive     1.832047e+08  3.356394e+16  \n",
       "biotech        5.465791e+07  2.987487e+15  \n",
       "cleantech      9.215550e+07  8.492637e+15  \n",
       "consulting     1.375791e+07  1.892801e+14  \n",
       "design         8.862027e+06  7.853552e+13  \n",
       "ecommerce      4.757703e+07  2.263574e+15  \n",
       "education      3.660939e+07  1.340247e+15  \n",
       "enterprise     3.662222e+07  1.341187e+15  "
      ]
     },
     "execution_count": 59,
     "metadata": {},
     "output_type": "execute_result"
    }
   ],
   "source": [
    "company_zero_amount['category_code'] = company_zero_amount['category_code'].fillna('none')\n",
    "grouped_describe = company_zero_amount.groupby('category_code')['funding_total']\n",
    "\n",
    "aggs = ['sum','count','mean','median','max','std','var']\n",
    "dic_grouped_describe = {}\n",
    "\n",
    "for agg in aggs:\n",
    "  result = grouped_describe.agg(agg)\n",
    "  result.name = agg\n",
    "  dic_grouped_describe[agg] = result\n",
    "\n",
    "grouped_describe = pd.DataFrame(dic_grouped_describe)\n",
    "grouped_describe.head(10)"
   ]
  },
  {
   "cell_type": "code",
   "execution_count": 60,
   "metadata": {},
   "outputs": [
    {
     "name": "stdout",
     "output_type": "stream",
     "text": [
      "Категории с самыми высокими средними ценами:\n",
      "category_code\n",
      "automotive         4.038450e+07\n",
      "nanotech           3.600484e+07\n",
      "cleantech          3.377310e+07\n",
      "semiconductor      2.023868e+07\n",
      "network_hosting    1.948691e+07\n",
      "medical            1.882670e+07\n",
      "biotech            1.859013e+07\n",
      "transportation     1.705463e+07\n",
      "manufacturing      1.505377e+07\n",
      "government         1.452844e+07\n",
      "Name: mean, dtype: float64\n"
     ]
    }
   ],
   "source": [
    "# Сортировка по среднему значению\n",
    "high_mean = grouped_describe.sort_values('mean', ascending=False).head(10)\n",
    "print(\"Категории с самыми высокими средними ценами:\")\n",
    "print(high_mean['mean'])"
   ]
  },
  {
   "cell_type": "code",
   "execution_count": 61,
   "metadata": {},
   "outputs": [
    {
     "name": "stdout",
     "output_type": "stream",
     "text": [
      "Категории с самой высокой медианой цены:\n",
      "category_code\n",
      "semiconductor      8100000.0\n",
      "cleantech          6000000.0\n",
      "medical            5400000.0\n",
      "nanotech           5115960.0\n",
      "biotech            4000000.0\n",
      "security           2024640.0\n",
      "analytics          2000000.0\n",
      "network_hosting    2000000.0\n",
      "manufacturing      1895040.0\n",
      "enterprise         1617100.0\n",
      "Name: median, dtype: float64\n"
     ]
    }
   ],
   "source": [
    "# Сортировка по медиане\n",
    "high_median = grouped_describe.sort_values('median', ascending=False).head(10)\n",
    "print(\"Категории с самой высокой медианой цены:\")\n",
    "print(high_median['median'])"
   ]
  },
  {
   "cell_type": "code",
   "execution_count": 62,
   "metadata": {},
   "outputs": [
    {
     "name": "stdout",
     "output_type": "stream",
     "text": [
      "\n",
      "Категории с наибольшим разбросом цен:\n",
      "category_code\n",
      "automotive          1.832047e+08\n",
      "mobile              1.459792e+08\n",
      "social              1.114758e+08\n",
      "health              1.050341e+08\n",
      "nanotech            9.596109e+07\n",
      "manufacturing       9.304530e+07\n",
      "cleantech           9.215550e+07\n",
      "network_hosting     6.288838e+07\n",
      "public_relations    5.840271e+07\n",
      "biotech             5.465791e+07\n",
      "Name: std, dtype: float64\n"
     ]
    }
   ],
   "source": [
    "# Сортировка по стандартному отклонению (разброс цен)\n",
    "high_std = grouped_describe.sort_values('std', ascending=False).head(10)\n",
    "print(\"\\nКатегории с наибольшим разбросом цен:\")\n",
    "print(high_std['std'])"
   ]
  },
  {
   "cell_type": "markdown",
   "metadata": {},
   "source": [
    "**Категории с высокими ценами:**\n",
    "\n",
    "- cleantech (среднее: 33.8 млн, медиана: 6 млн)\n",
    "\n",
    "- nanotech (среднее: 36 млн, медиана: 5.1 млн)\n",
    "\n",
    "- automotive (среднее: 40.4 млн)"
   ]
  },
  {
   "cell_type": "markdown",
   "metadata": {},
   "source": [
    "**Категории с наибольшим разбросом цен:**\n",
    "\n",
    "- automotive (стандартное отклонение: 183 млн)\n",
    "- mobile (стандартное отклонение: 146 млн)\n",
    "- social (стандартное отклонение: 111.4 млн)"
   ]
  },
  {
   "cell_type": "markdown",
   "metadata": {
    "id": "ADOfyVY_rJg3"
   },
   "source": [
    "\n",
    "### 3.5. Сколько раундов продержится стартап перед покупкой\n",
    "\n",
    "- Необходимо проанализировать столбец `funding_rounds`. Исследуйте значения столбца. Заказчика интересует типичное значение количества раундов для каждого возможного статуса стартапа.\n",
    "- Постройте график, который отображает, сколько в среднем раундов финансирования проходило для стартапов из каждой группы. Сделайте выводы."
   ]
  },
  {
   "cell_type": "code",
   "execution_count": 63,
   "metadata": {
    "id": "hgXMPC4WrJg3",
    "vscode": {
     "languageId": "plaintext"
    }
   },
   "outputs": [
    {
     "name": "stdout",
     "output_type": "stream",
     "text": [
      "               mean  median  min   max\n",
      "status                                \n",
      "closed     1.381453     1.0  0.0   8.0\n",
      "ipo        1.934375     1.0  0.0  13.0\n",
      "operating  1.522658     1.0  0.0  15.0\n",
      "acquired   0.523526     0.0  0.0  12.0\n"
     ]
    }
   ],
   "source": [
    "# расчет типичных значений раундов для каждого возможного статуса стартапа\n",
    "status_stats = filtered_companies.groupby('status')['funding_rounds'].agg(\n",
    "    ['mean', 'median', 'min', 'max']\n",
    ").sort_values('median', ascending=False)\n",
    "print(status_stats)"
   ]
  },
  {
   "cell_type": "code",
   "execution_count": 64,
   "metadata": {
    "id": "pV3e7kw5Fj1Y"
   },
   "outputs": [
    {
     "data": {
      "image/png": "[encoded data removed]",
      "text/plain": [
       "<Figure size 864x432 with 1 Axes>"
      ]
     },
     "metadata": {
      "needs_background": "light"
     },
     "output_type": "display_data"
    }
   ],
   "source": [
    "plt.figure(figsize=(12, 6))\n",
    "\n",
    "# Основной график средних значений\n",
    "ax = sns.barplot(\n",
    "    x=status_stats.index,\n",
    "    y='mean',\n",
    "    data=status_stats.reset_index(),\n",
    "    palette='viridis',\n",
    "    edgecolor='black'\n",
    ")\n",
    "# Настройки оформления\n",
    "plt.title('Среднее количество раундов финансирования по статусам компаний', pad=20)\n",
    "plt.xlabel('Статус компании')\n",
    "plt.ylabel('Среднее количество раундов')\n",
    "plt.xticks(rotation=45)\n",
    "plt.grid(axis='y', linestyle='--', alpha=0.7)"
   ]
  },
  {
   "cell_type": "markdown",
   "metadata": {},
   "source": [
    "у IPO самый высокий показатель средних раундов(почти 2), а самый маленький показатель раундов у acquired (всего лишь 0,5)."
   ]
  },
  {
   "cell_type": "markdown",
   "metadata": {
    "id": "VAFEZ2HBrJg3"
   },
   "source": [
    "\n",
    "##  Итоговый вывод и рекомендации\n",
    "\n"
   ]
  },
  {
   "cell_type": "markdown",
   "metadata": {},
   "source": [
    "Провели предобработку данных , сделали исследование раундов финансирования по годам (Самое большое типичное финансирование на один раунд было в 2005 году и составляло 5500000. В 2013 году наблюдалась тенденция увеличения количества раундов и уменьшение типичного финансирования за раунд.), исследовали зависимость размера компании от полноты данных об оброзовании работников(Чем крупнее компания тем меньше доля тех работников у которых нет информации об образовании. ), исследовали проблемный датасет на пропуски, отфильтровали и проверили таблицу с информацией о компаниях, проанализировали выбросы, исследовали компании которые были продананы за 0 или 1 доллар, исследовали цены стартапов по категориям, исследовали сколько раундов стартап продержится перед покупкой, расчитали аналитически верхнюю и нижнюю границу выбросов в процентилях. Среди категорий стартапов выделили категории стартапов, характеризующиеся типично высокими ценами и наибольшим разбросом цен за стартап.\n"
   ]
  }
 ],
 "metadata": {
  "ExecuteTimeLog": [
   {
    "duration": 3,
    "start_time": "2025-05-05T16:34:51.405Z"
   },
   {
    "duration": 2,
    "start_time": "2025-05-05T16:34:54.772Z"
   },
   {
    "duration": 118,
    "start_time": "2025-05-05T16:51:25.464Z"
   },
   {
    "duration": 1404,
    "start_time": "2025-05-12T09:38:18.963Z"
   },
   {
    "duration": 1297,
    "start_time": "2025-05-12T09:38:29.884Z"
   },
   {
    "duration": 2561,
    "start_time": "2025-05-12T09:42:53.985Z"
   },
   {
    "duration": 21,
    "start_time": "2025-05-12T09:45:08.938Z"
   },
   {
    "duration": 19,
    "start_time": "2025-05-12T09:46:14.042Z"
   },
   {
    "duration": 26,
    "start_time": "2025-05-12T09:51:01.994Z"
   },
   {
    "duration": 105,
    "start_time": "2025-05-12T09:54:44.387Z"
   },
   {
    "duration": 7,
    "start_time": "2025-05-12T09:57:38.810Z"
   },
   {
    "duration": 9,
    "start_time": "2025-05-12T09:58:12.138Z"
   },
   {
    "duration": 9,
    "start_time": "2025-05-12T09:58:27.482Z"
   },
   {
    "duration": 7,
    "start_time": "2025-05-12T10:03:07.771Z"
   },
   {
    "duration": 8,
    "start_time": "2025-05-12T10:03:38.418Z"
   },
   {
    "duration": 6,
    "start_time": "2025-05-12T10:03:38.787Z"
   },
   {
    "duration": 6,
    "start_time": "2025-05-12T10:03:39.171Z"
   },
   {
    "duration": 8,
    "start_time": "2025-05-12T10:03:39.475Z"
   },
   {
    "duration": 7,
    "start_time": "2025-05-12T10:03:39.906Z"
   },
   {
    "duration": 7,
    "start_time": "2025-05-12T10:03:40.066Z"
   },
   {
    "duration": 7,
    "start_time": "2025-05-12T10:03:40.242Z"
   },
   {
    "duration": 7,
    "start_time": "2025-05-12T10:05:48.146Z"
   },
   {
    "duration": 7,
    "start_time": "2025-05-12T10:06:01.162Z"
   },
   {
    "duration": 7,
    "start_time": "2025-05-12T10:06:02.247Z"
   },
   {
    "duration": 7,
    "start_time": "2025-05-12T10:06:02.858Z"
   },
   {
    "duration": 7,
    "start_time": "2025-05-12T10:06:03.275Z"
   },
   {
    "duration": 6,
    "start_time": "2025-05-12T10:06:03.667Z"
   },
   {
    "duration": 8,
    "start_time": "2025-05-12T10:06:04.067Z"
   },
   {
    "duration": 7,
    "start_time": "2025-05-12T10:06:48.410Z"
   },
   {
    "duration": 8,
    "start_time": "2025-05-12T10:06:49.005Z"
   },
   {
    "duration": 7,
    "start_time": "2025-05-12T10:07:43.772Z"
   },
   {
    "duration": 8,
    "start_time": "2025-05-12T10:07:44.851Z"
   },
   {
    "duration": 6,
    "start_time": "2025-05-12T10:08:23.474Z"
   },
   {
    "duration": 5,
    "start_time": "2025-05-12T10:08:24.243Z"
   },
   {
    "duration": 6,
    "start_time": "2025-05-12T10:08:24.619Z"
   },
   {
    "duration": 5,
    "start_time": "2025-05-12T10:08:24.828Z"
   },
   {
    "duration": 7,
    "start_time": "2025-05-12T10:08:25.002Z"
   },
   {
    "duration": 7,
    "start_time": "2025-05-12T10:09:45.093Z"
   },
   {
    "duration": 5,
    "start_time": "2025-05-12T10:09:56.691Z"
   },
   {
    "duration": 6,
    "start_time": "2025-05-12T10:10:29.651Z"
   },
   {
    "duration": 1283,
    "start_time": "2025-05-12T10:10:45.324Z"
   },
   {
    "duration": 3577,
    "start_time": "2025-05-12T10:10:46.612Z"
   },
   {
    "duration": 19,
    "start_time": "2025-05-12T10:10:50.191Z"
   },
   {
    "duration": 23,
    "start_time": "2025-05-12T10:10:50.213Z"
   },
   {
    "duration": 27,
    "start_time": "2025-05-12T10:10:50.237Z"
   },
   {
    "duration": 148,
    "start_time": "2025-05-12T10:10:50.266Z"
   },
   {
    "duration": 7,
    "start_time": "2025-05-12T10:10:50.416Z"
   },
   {
    "duration": 5,
    "start_time": "2025-05-12T10:11:08.543Z"
   },
   {
    "duration": 15,
    "start_time": "2025-05-12T10:11:29.303Z"
   },
   {
    "duration": 6,
    "start_time": "2025-05-12T10:15:12.552Z"
   },
   {
    "duration": 10,
    "start_time": "2025-05-12T10:16:02.515Z"
   },
   {
    "duration": 42,
    "start_time": "2025-05-12T10:16:34.424Z"
   },
   {
    "duration": 9,
    "start_time": "2025-05-12T10:24:37.536Z"
   },
   {
    "duration": 9,
    "start_time": "2025-05-12T10:24:44.252Z"
   },
   {
    "duration": 30,
    "start_time": "2025-05-12T10:25:06.897Z"
   },
   {
    "duration": 9,
    "start_time": "2025-05-12T10:27:34.288Z"
   },
   {
    "duration": 32,
    "start_time": "2025-05-12T10:28:14.592Z"
   },
   {
    "duration": 28,
    "start_time": "2025-05-12T10:31:40.034Z"
   },
   {
    "duration": 24,
    "start_time": "2025-05-12T10:37:20.193Z"
   },
   {
    "duration": 22,
    "start_time": "2025-05-12T10:41:19.771Z"
   },
   {
    "duration": 25,
    "start_time": "2025-05-12T10:41:45.594Z"
   },
   {
    "duration": 28,
    "start_time": "2025-05-12T10:42:02.434Z"
   },
   {
    "duration": 21,
    "start_time": "2025-05-12T10:42:12.714Z"
   },
   {
    "duration": 21,
    "start_time": "2025-05-12T10:43:32.058Z"
   },
   {
    "duration": 256,
    "start_time": "2025-05-12T10:51:37.923Z"
   },
   {
    "duration": 33,
    "start_time": "2025-05-12T10:53:57.139Z"
   },
   {
    "duration": 107,
    "start_time": "2025-05-12T11:03:16.774Z"
   },
   {
    "duration": 1212,
    "start_time": "2025-05-12T11:04:50.948Z"
   },
   {
    "duration": 1979,
    "start_time": "2025-05-12T11:04:52.162Z"
   },
   {
    "duration": 12,
    "start_time": "2025-05-12T11:04:54.143Z"
   },
   {
    "duration": 35,
    "start_time": "2025-05-12T11:04:54.157Z"
   },
   {
    "duration": 77,
    "start_time": "2025-05-12T11:04:54.194Z"
   },
   {
    "duration": 108,
    "start_time": "2025-05-12T11:04:54.274Z"
   },
   {
    "duration": 6,
    "start_time": "2025-05-12T11:04:54.385Z"
   },
   {
    "duration": 22,
    "start_time": "2025-05-12T11:04:54.392Z"
   },
   {
    "duration": 44,
    "start_time": "2025-05-12T11:04:54.416Z"
   },
   {
    "duration": 79,
    "start_time": "2025-05-12T11:04:54.463Z"
   },
   {
    "duration": 169,
    "start_time": "2025-05-12T11:04:54.544Z"
   },
   {
    "duration": 142,
    "start_time": "2025-05-12T11:04:54.715Z"
   },
   {
    "duration": 62,
    "start_time": "2025-05-12T11:04:54.859Z"
   },
   {
    "duration": 38,
    "start_time": "2025-05-12T11:04:54.923Z"
   },
   {
    "duration": 266,
    "start_time": "2025-05-12T11:04:54.963Z"
   },
   {
    "duration": 30,
    "start_time": "2025-05-12T11:04:55.231Z"
   },
   {
    "duration": 119,
    "start_time": "2025-05-12T11:04:55.263Z"
   },
   {
    "duration": 10,
    "start_time": "2025-05-12T11:06:11.092Z"
   },
   {
    "duration": 116,
    "start_time": "2025-05-12T11:08:07.476Z"
   },
   {
    "duration": 43,
    "start_time": "2025-05-12T11:08:15.940Z"
   },
   {
    "duration": 29,
    "start_time": "2025-05-12T11:12:32.372Z"
   },
   {
    "duration": 55,
    "start_time": "2025-05-12T11:12:51.870Z"
   },
   {
    "duration": 44,
    "start_time": "2025-05-12T11:14:24.397Z"
   },
   {
    "duration": 106,
    "start_time": "2025-05-12T11:28:55.438Z"
   },
   {
    "duration": 57,
    "start_time": "2025-05-12T11:31:53.263Z"
   },
   {
    "duration": 67,
    "start_time": "2025-05-12T11:34:27.768Z"
   },
   {
    "duration": 88,
    "start_time": "2025-05-12T11:35:08.456Z"
   },
   {
    "duration": 81,
    "start_time": "2025-05-12T11:35:36.782Z"
   },
   {
    "duration": 1197,
    "start_time": "2025-05-12T11:38:21.297Z"
   },
   {
    "duration": 1805,
    "start_time": "2025-05-12T11:39:43.417Z"
   },
   {
    "duration": 348,
    "start_time": "2025-05-12T11:40:22.034Z"
   },
   {
    "duration": 66,
    "start_time": "2025-05-12T11:41:14.090Z"
   },
   {
    "duration": 392,
    "start_time": "2025-05-12T11:41:22.194Z"
   },
   {
    "duration": 398,
    "start_time": "2025-05-12T11:43:06.298Z"
   },
   {
    "duration": 401,
    "start_time": "2025-05-12T11:43:23.946Z"
   },
   {
    "duration": 1379,
    "start_time": "2025-05-12T11:44:26.978Z"
   },
   {
    "duration": 508,
    "start_time": "2025-05-12T11:44:48.747Z"
   },
   {
    "duration": 545,
    "start_time": "2025-05-12T11:45:20.642Z"
   },
   {
    "duration": 504,
    "start_time": "2025-05-12T11:50:16.955Z"
   },
   {
    "duration": 98,
    "start_time": "2025-05-12T12:10:09.250Z"
   },
   {
    "duration": 163,
    "start_time": "2025-05-12T12:12:38.755Z"
   },
   {
    "duration": 95,
    "start_time": "2025-05-12T12:13:59.773Z"
   },
   {
    "duration": 157,
    "start_time": "2025-05-12T12:14:16.611Z"
   },
   {
    "duration": 1258,
    "start_time": "2025-05-12T12:19:29.212Z"
   },
   {
    "duration": 150,
    "start_time": "2025-05-12T12:20:07.461Z"
   },
   {
    "duration": 1265,
    "start_time": "2025-05-12T12:20:23.652Z"
   },
   {
    "duration": 15,
    "start_time": "2025-05-12T12:21:03.428Z"
   },
   {
    "duration": 178,
    "start_time": "2025-05-12T12:27:08.685Z"
   },
   {
    "duration": 91,
    "start_time": "2025-05-12T12:27:17.094Z"
   },
   {
    "duration": 577,
    "start_time": "2025-05-12T12:27:41.421Z"
   },
   {
    "duration": 511,
    "start_time": "2025-05-12T12:28:25.228Z"
   },
   {
    "duration": 11,
    "start_time": "2025-05-12T12:39:08.158Z"
   },
   {
    "duration": 110,
    "start_time": "2025-05-12T12:39:58.294Z"
   },
   {
    "duration": 618,
    "start_time": "2025-05-12T12:41:53.832Z"
   },
   {
    "duration": 185,
    "start_time": "2025-05-12T12:46:28.583Z"
   },
   {
    "duration": 155,
    "start_time": "2025-05-12T13:32:24.075Z"
   },
   {
    "duration": 10,
    "start_time": "2025-05-12T13:35:07.677Z"
   },
   {
    "duration": 91,
    "start_time": "2025-05-12T13:35:42.100Z"
   },
   {
    "duration": 154,
    "start_time": "2025-05-12T13:37:30.980Z"
   },
   {
    "duration": 166,
    "start_time": "2025-05-12T13:39:26.878Z"
   },
   {
    "duration": 160,
    "start_time": "2025-05-12T13:39:32.124Z"
   },
   {
    "duration": 159,
    "start_time": "2025-05-12T13:39:38.045Z"
   },
   {
    "duration": 185,
    "start_time": "2025-05-12T13:39:44.797Z"
   },
   {
    "duration": 100,
    "start_time": "2025-05-12T13:42:23.526Z"
   },
   {
    "duration": 167,
    "start_time": "2025-05-12T13:43:04.958Z"
   },
   {
    "duration": 243,
    "start_time": "2025-05-12T14:19:40.448Z"
   },
   {
    "duration": 438,
    "start_time": "2025-05-12T14:20:37.145Z"
   },
   {
    "duration": 119,
    "start_time": "2025-05-12T14:22:50.026Z"
   },
   {
    "duration": 102,
    "start_time": "2025-05-12T14:23:26.795Z"
   },
   {
    "duration": 446,
    "start_time": "2025-05-12T14:24:14.547Z"
   },
   {
    "duration": 15,
    "start_time": "2025-05-12T14:25:05.498Z"
   },
   {
    "duration": 102,
    "start_time": "2025-05-12T14:29:31.628Z"
   },
   {
    "duration": 102,
    "start_time": "2025-05-12T14:31:06.506Z"
   },
   {
    "duration": 101,
    "start_time": "2025-05-12T14:31:26.987Z"
   },
   {
    "duration": 100,
    "start_time": "2025-05-12T14:31:39.723Z"
   },
   {
    "duration": 259,
    "start_time": "2025-05-12T14:33:55.380Z"
   },
   {
    "duration": 244,
    "start_time": "2025-05-12T14:38:06.164Z"
   },
   {
    "duration": 105,
    "start_time": "2025-05-12T14:38:47.972Z"
   },
   {
    "duration": 427,
    "start_time": "2025-05-12T14:40:10.020Z"
   },
   {
    "duration": 42,
    "start_time": "2025-05-12T14:40:45.667Z"
   },
   {
    "duration": 497,
    "start_time": "2025-05-12T15:28:07.913Z"
   },
   {
    "duration": 496,
    "start_time": "2025-05-12T15:31:12.410Z"
   },
   {
    "duration": 555,
    "start_time": "2025-05-12T15:32:07.546Z"
   },
   {
    "duration": 458,
    "start_time": "2025-05-12T15:35:21.085Z"
   },
   {
    "duration": 541,
    "start_time": "2025-05-12T15:35:42.505Z"
   },
   {
    "duration": 268,
    "start_time": "2025-05-12T15:35:53.968Z"
   },
   {
    "duration": 1457,
    "start_time": "2025-05-12T22:51:19.502Z"
   },
   {
    "duration": 2281,
    "start_time": "2025-05-12T22:51:20.962Z"
   },
   {
    "duration": 13,
    "start_time": "2025-05-12T22:51:23.245Z"
   },
   {
    "duration": 20,
    "start_time": "2025-05-12T22:51:23.260Z"
   },
   {
    "duration": 47,
    "start_time": "2025-05-12T22:51:23.283Z"
   },
   {
    "duration": 121,
    "start_time": "2025-05-12T22:51:23.331Z"
   },
   {
    "duration": 5,
    "start_time": "2025-05-12T22:51:23.454Z"
   },
   {
    "duration": 101,
    "start_time": "2025-05-12T22:51:23.461Z"
   },
   {
    "duration": 44,
    "start_time": "2025-05-12T22:51:23.564Z"
   },
   {
    "duration": 8,
    "start_time": "2025-05-12T22:51:23.610Z"
   },
   {
    "duration": 95,
    "start_time": "2025-05-12T22:51:23.619Z"
   },
   {
    "duration": 46,
    "start_time": "2025-05-12T22:51:23.716Z"
   },
   {
    "duration": 34,
    "start_time": "2025-05-12T22:51:23.764Z"
   },
   {
    "duration": 16,
    "start_time": "2025-05-12T22:51:23.801Z"
   },
   {
    "duration": 264,
    "start_time": "2025-05-12T22:51:23.819Z"
   },
   {
    "duration": 37,
    "start_time": "2025-05-12T22:51:24.085Z"
   },
   {
    "duration": 618,
    "start_time": "2025-05-12T22:51:24.124Z"
   },
   {
    "duration": 183,
    "start_time": "2025-05-12T22:51:24.744Z"
   },
   {
    "duration": 620,
    "start_time": "2025-05-12T22:51:24.930Z"
   },
   {
    "duration": 139,
    "start_time": "2025-05-12T22:51:25.553Z"
   },
   {
    "duration": 199,
    "start_time": "2025-05-12T22:51:25.694Z"
   },
   {
    "duration": 184,
    "start_time": "2025-05-12T22:51:25.894Z"
   },
   {
    "duration": 657,
    "start_time": "2025-05-12T22:51:26.080Z"
   },
   {
    "duration": 247,
    "start_time": "2025-05-12T22:51:26.739Z"
   },
   {
    "duration": 47,
    "start_time": "2025-05-13T10:52:35.037Z"
   },
   {
    "duration": 1267,
    "start_time": "2025-05-13T10:52:42.415Z"
   },
   {
    "duration": 3100,
    "start_time": "2025-05-13T10:52:43.684Z"
   },
   {
    "duration": 11,
    "start_time": "2025-05-13T10:52:46.786Z"
   },
   {
    "duration": 32,
    "start_time": "2025-05-13T10:52:46.799Z"
   },
   {
    "duration": 44,
    "start_time": "2025-05-13T10:52:46.832Z"
   },
   {
    "duration": 121,
    "start_time": "2025-05-13T10:52:46.878Z"
   },
   {
    "duration": 1100,
    "start_time": "2025-05-13T10:52:47.001Z"
   },
   {
    "duration": 0,
    "start_time": "2025-05-13T10:52:48.103Z"
   },
   {
    "duration": 0,
    "start_time": "2025-05-13T10:52:48.104Z"
   },
   {
    "duration": 0,
    "start_time": "2025-05-13T10:52:48.105Z"
   },
   {
    "duration": 0,
    "start_time": "2025-05-13T10:52:48.106Z"
   },
   {
    "duration": 0,
    "start_time": "2025-05-13T10:52:48.107Z"
   },
   {
    "duration": 0,
    "start_time": "2025-05-13T10:52:48.108Z"
   },
   {
    "duration": 0,
    "start_time": "2025-05-13T10:52:48.109Z"
   },
   {
    "duration": 0,
    "start_time": "2025-05-13T10:52:48.111Z"
   },
   {
    "duration": 0,
    "start_time": "2025-05-13T10:52:48.112Z"
   },
   {
    "duration": 0,
    "start_time": "2025-05-13T10:52:48.113Z"
   },
   {
    "duration": 0,
    "start_time": "2025-05-13T10:52:48.114Z"
   },
   {
    "duration": 0,
    "start_time": "2025-05-13T10:52:48.115Z"
   },
   {
    "duration": 0,
    "start_time": "2025-05-13T10:52:48.116Z"
   },
   {
    "duration": 0,
    "start_time": "2025-05-13T10:52:48.117Z"
   },
   {
    "duration": 0,
    "start_time": "2025-05-13T10:52:48.118Z"
   },
   {
    "duration": 0,
    "start_time": "2025-05-13T10:52:48.119Z"
   },
   {
    "duration": 0,
    "start_time": "2025-05-13T10:52:48.120Z"
   },
   {
    "duration": 0,
    "start_time": "2025-05-13T10:52:48.121Z"
   },
   {
    "duration": 997,
    "start_time": "2025-05-13T10:53:10.348Z"
   },
   {
    "duration": 40,
    "start_time": "2025-05-13T10:54:56.716Z"
   },
   {
    "duration": 6,
    "start_time": "2025-05-13T10:55:04.388Z"
   },
   {
    "duration": 9,
    "start_time": "2025-05-13T10:55:14.043Z"
   },
   {
    "duration": 38,
    "start_time": "2025-05-13T10:55:15.843Z"
   },
   {
    "duration": 7,
    "start_time": "2025-05-13T10:55:18.027Z"
   },
   {
    "duration": 18,
    "start_time": "2025-05-13T10:55:19.578Z"
   },
   {
    "duration": 8,
    "start_time": "2025-05-13T10:55:21.531Z"
   },
   {
    "duration": 22,
    "start_time": "2025-05-13T10:55:22.691Z"
   },
   {
    "duration": 14,
    "start_time": "2025-05-13T10:55:27.235Z"
   },
   {
    "duration": 213,
    "start_time": "2025-05-13T10:55:45.443Z"
   },
   {
    "duration": 28,
    "start_time": "2025-05-13T10:55:47.675Z"
   },
   {
    "duration": 6,
    "start_time": "2025-05-13T11:00:34.821Z"
   },
   {
    "duration": 7,
    "start_time": "2025-05-13T11:01:36.036Z"
   },
   {
    "duration": 68,
    "start_time": "2025-05-13T11:02:36.277Z"
   },
   {
    "duration": 69,
    "start_time": "2025-05-13T11:02:59.421Z"
   },
   {
    "duration": 35,
    "start_time": "2025-05-13T11:03:44.988Z"
   },
   {
    "duration": 34,
    "start_time": "2025-05-13T11:03:48.139Z"
   },
   {
    "duration": 12,
    "start_time": "2025-05-13T11:05:22.221Z"
   },
   {
    "duration": 10,
    "start_time": "2025-05-13T11:05:24.645Z"
   },
   {
    "duration": 19,
    "start_time": "2025-05-13T11:06:33.462Z"
   },
   {
    "duration": 21,
    "start_time": "2025-05-13T11:06:34.756Z"
   },
   {
    "duration": 7,
    "start_time": "2025-05-13T11:07:55.221Z"
   },
   {
    "duration": 324,
    "start_time": "2025-05-13T11:08:45.644Z"
   },
   {
    "duration": 132,
    "start_time": "2025-05-13T11:08:59.604Z"
   },
   {
    "duration": 29,
    "start_time": "2025-05-13T11:09:09.412Z"
   },
   {
    "duration": 42,
    "start_time": "2025-05-13T11:09:18.907Z"
   },
   {
    "duration": 149,
    "start_time": "2025-05-13T11:15:22.845Z"
   },
   {
    "duration": 123,
    "start_time": "2025-05-13T11:15:52.324Z"
   },
   {
    "duration": 583,
    "start_time": "2025-05-13T11:16:10.092Z"
   },
   {
    "duration": 533,
    "start_time": "2025-05-13T11:16:34.600Z"
   },
   {
    "duration": 105,
    "start_time": "2025-05-13T11:18:29.598Z"
   },
   {
    "duration": 97,
    "start_time": "2025-05-13T11:18:59.773Z"
   },
   {
    "duration": 115,
    "start_time": "2025-05-13T11:19:20.629Z"
   },
   {
    "duration": 119,
    "start_time": "2025-05-13T11:19:53.941Z"
   },
   {
    "duration": 108,
    "start_time": "2025-05-13T11:20:24.902Z"
   },
   {
    "duration": 108,
    "start_time": "2025-05-13T11:21:08.612Z"
   },
   {
    "duration": 100,
    "start_time": "2025-05-13T11:23:58.918Z"
   },
   {
    "duration": 166,
    "start_time": "2025-05-13T11:24:45.237Z"
   },
   {
    "duration": 112,
    "start_time": "2025-05-13T11:26:22.118Z"
   },
   {
    "duration": 139,
    "start_time": "2025-05-13T11:26:37.140Z"
   },
   {
    "duration": 432,
    "start_time": "2025-05-13T11:27:03.408Z"
   },
   {
    "duration": 234,
    "start_time": "2025-05-13T11:27:31.501Z"
   },
   {
    "duration": 1132,
    "start_time": "2025-05-13T11:27:54.336Z"
   },
   {
    "duration": 1832,
    "start_time": "2025-05-13T11:27:55.470Z"
   },
   {
    "duration": 12,
    "start_time": "2025-05-13T11:27:57.303Z"
   },
   {
    "duration": 29,
    "start_time": "2025-05-13T11:27:57.316Z"
   },
   {
    "duration": 40,
    "start_time": "2025-05-13T11:27:57.347Z"
   },
   {
    "duration": 98,
    "start_time": "2025-05-13T11:27:57.389Z"
   },
   {
    "duration": 42,
    "start_time": "2025-05-13T11:27:57.488Z"
   },
   {
    "duration": 6,
    "start_time": "2025-05-13T11:27:57.532Z"
   },
   {
    "duration": 46,
    "start_time": "2025-05-13T11:27:57.539Z"
   },
   {
    "duration": 111,
    "start_time": "2025-05-13T11:27:57.588Z"
   },
   {
    "duration": 7,
    "start_time": "2025-05-13T11:27:57.701Z"
   },
   {
    "duration": 22,
    "start_time": "2025-05-13T11:27:57.709Z"
   },
   {
    "duration": 33,
    "start_time": "2025-05-13T11:27:57.732Z"
   },
   {
    "duration": 51,
    "start_time": "2025-05-13T11:27:57.767Z"
   },
   {
    "duration": 17,
    "start_time": "2025-05-13T11:27:57.820Z"
   },
   {
    "duration": 280,
    "start_time": "2025-05-13T11:27:57.838Z"
   },
   {
    "duration": 30,
    "start_time": "2025-05-13T11:27:58.119Z"
   },
   {
    "duration": 7,
    "start_time": "2025-05-13T11:27:58.161Z"
   },
   {
    "duration": 46,
    "start_time": "2025-05-13T11:27:58.170Z"
   },
   {
    "duration": 74,
    "start_time": "2025-05-13T11:27:58.217Z"
   },
   {
    "duration": 79,
    "start_time": "2025-05-13T11:27:58.293Z"
   },
   {
    "duration": 38,
    "start_time": "2025-05-13T11:27:58.374Z"
   },
   {
    "duration": 50,
    "start_time": "2025-05-13T11:27:58.413Z"
   },
   {
    "duration": 11,
    "start_time": "2025-05-13T11:27:58.464Z"
   },
   {
    "duration": 20,
    "start_time": "2025-05-13T11:27:58.476Z"
   },
   {
    "duration": 26,
    "start_time": "2025-05-13T11:27:58.498Z"
   },
   {
    "duration": 106,
    "start_time": "2025-05-13T11:27:58.525Z"
   },
   {
    "duration": 16,
    "start_time": "2025-05-13T11:27:58.634Z"
   },
   {
    "duration": 328,
    "start_time": "2025-05-13T11:27:58.652Z"
   },
   {
    "duration": 144,
    "start_time": "2025-05-13T11:27:58.982Z"
   },
   {
    "duration": 40,
    "start_time": "2025-05-13T11:27:59.127Z"
   },
   {
    "duration": 41,
    "start_time": "2025-05-13T11:27:59.169Z"
   },
   {
    "duration": 528,
    "start_time": "2025-05-13T11:27:59.211Z"
   },
   {
    "duration": 113,
    "start_time": "2025-05-13T11:27:59.740Z"
   },
   {
    "duration": 562,
    "start_time": "2025-05-13T11:27:59.862Z"
   },
   {
    "duration": 132,
    "start_time": "2025-05-13T11:28:00.426Z"
   },
   {
    "duration": 217,
    "start_time": "2025-05-13T11:28:00.562Z"
   },
   {
    "duration": 154,
    "start_time": "2025-05-13T11:28:00.781Z"
   },
   {
    "duration": 435,
    "start_time": "2025-05-13T11:28:00.937Z"
   },
   {
    "duration": 252,
    "start_time": "2025-05-13T11:28:01.374Z"
   },
   {
    "duration": 1264,
    "start_time": "2025-05-13T11:33:02.343Z"
   },
   {
    "duration": 1229,
    "start_time": "2025-05-13T11:33:45.454Z"
   },
   {
    "duration": 1435,
    "start_time": "2025-05-13T11:34:12.693Z"
   },
   {
    "duration": 335,
    "start_time": "2025-05-13T11:34:30.159Z"
   },
   {
    "duration": 247,
    "start_time": "2025-05-13T11:35:10.776Z"
   },
   {
    "duration": 186,
    "start_time": "2025-05-13T11:35:17.453Z"
   },
   {
    "duration": 14,
    "start_time": "2025-05-13T11:35:40.819Z"
   },
   {
    "duration": 16,
    "start_time": "2025-05-13T11:35:50.406Z"
   },
   {
    "duration": 15,
    "start_time": "2025-05-13T11:36:12.861Z"
   },
   {
    "duration": 30,
    "start_time": "2025-05-13T11:42:58.639Z"
   },
   {
    "duration": 56,
    "start_time": "2025-05-13T11:43:35.366Z"
   },
   {
    "duration": 18,
    "start_time": "2025-05-13T11:44:21.431Z"
   },
   {
    "duration": 12,
    "start_time": "2025-05-13T11:45:19.551Z"
   },
   {
    "duration": 25,
    "start_time": "2025-05-13T11:45:46.856Z"
   },
   {
    "duration": 24,
    "start_time": "2025-05-13T11:49:28.987Z"
   },
   {
    "duration": 25,
    "start_time": "2025-05-13T11:49:52.305Z"
   },
   {
    "duration": 63,
    "start_time": "2025-05-13T12:00:04.769Z"
   },
   {
    "duration": 9,
    "start_time": "2025-05-13T12:00:36.261Z"
   },
   {
    "duration": 19,
    "start_time": "2025-05-13T12:00:46.184Z"
   },
   {
    "duration": 48,
    "start_time": "2025-05-13T12:07:21.613Z"
   },
   {
    "duration": 5,
    "start_time": "2025-05-13T12:17:15.097Z"
   },
   {
    "duration": 71,
    "start_time": "2025-05-13T12:18:47.511Z"
   },
   {
    "duration": 9,
    "start_time": "2025-05-13T12:18:57.751Z"
   },
   {
    "duration": 10,
    "start_time": "2025-05-13T12:20:04.087Z"
   },
   {
    "duration": 9,
    "start_time": "2025-05-13T12:20:53.943Z"
   },
   {
    "duration": 1216,
    "start_time": "2025-05-13T12:22:00.980Z"
   },
   {
    "duration": 2503,
    "start_time": "2025-05-13T12:22:02.198Z"
   },
   {
    "duration": 12,
    "start_time": "2025-05-13T12:22:04.705Z"
   },
   {
    "duration": 31,
    "start_time": "2025-05-13T12:22:04.718Z"
   },
   {
    "duration": 92,
    "start_time": "2025-05-13T12:22:04.750Z"
   },
   {
    "duration": 104,
    "start_time": "2025-05-13T12:22:04.844Z"
   },
   {
    "duration": 47,
    "start_time": "2025-05-13T12:22:04.950Z"
   },
   {
    "duration": 42,
    "start_time": "2025-05-13T12:22:04.999Z"
   },
   {
    "duration": 35,
    "start_time": "2025-05-13T12:22:05.043Z"
   },
   {
    "duration": 101,
    "start_time": "2025-05-13T12:22:05.079Z"
   },
   {
    "duration": 7,
    "start_time": "2025-05-13T12:22:05.181Z"
   },
   {
    "duration": 45,
    "start_time": "2025-05-13T12:22:05.190Z"
   },
   {
    "duration": 11,
    "start_time": "2025-05-13T12:22:05.236Z"
   },
   {
    "duration": 25,
    "start_time": "2025-05-13T12:22:05.249Z"
   },
   {
    "duration": 40,
    "start_time": "2025-05-13T12:22:05.275Z"
   },
   {
    "duration": 257,
    "start_time": "2025-05-13T12:22:05.318Z"
   },
   {
    "duration": 27,
    "start_time": "2025-05-13T12:22:05.577Z"
   },
   {
    "duration": 45,
    "start_time": "2025-05-13T12:22:05.606Z"
   },
   {
    "duration": 33,
    "start_time": "2025-05-13T12:22:05.653Z"
   },
   {
    "duration": 138,
    "start_time": "2025-05-13T12:22:05.688Z"
   },
   {
    "duration": 95,
    "start_time": "2025-05-13T12:22:05.828Z"
   },
   {
    "duration": 39,
    "start_time": "2025-05-13T12:22:05.924Z"
   },
   {
    "duration": 105,
    "start_time": "2025-05-13T12:22:05.964Z"
   },
   {
    "duration": 69,
    "start_time": "2025-05-13T12:22:06.070Z"
   },
   {
    "duration": 24,
    "start_time": "2025-05-13T12:22:06.141Z"
   },
   {
    "duration": 75,
    "start_time": "2025-05-13T12:22:06.166Z"
   },
   {
    "duration": 21,
    "start_time": "2025-05-13T12:22:06.245Z"
   },
   {
    "duration": 43,
    "start_time": "2025-05-13T12:22:06.268Z"
   },
   {
    "duration": 366,
    "start_time": "2025-05-13T12:22:06.313Z"
   },
   {
    "duration": 152,
    "start_time": "2025-05-13T12:22:06.680Z"
   },
   {
    "duration": 53,
    "start_time": "2025-05-13T12:22:06.834Z"
   },
   {
    "duration": 73,
    "start_time": "2025-05-13T12:22:06.889Z"
   },
   {
    "duration": 495,
    "start_time": "2025-05-13T12:22:06.964Z"
   },
   {
    "duration": 120,
    "start_time": "2025-05-13T12:22:07.461Z"
   },
   {
    "duration": 596,
    "start_time": "2025-05-13T12:22:07.583Z"
   },
   {
    "duration": 134,
    "start_time": "2025-05-13T12:22:08.181Z"
   },
   {
    "duration": 184,
    "start_time": "2025-05-13T12:22:08.317Z"
   },
   {
    "duration": 154,
    "start_time": "2025-05-13T12:22:08.503Z"
   },
   {
    "duration": 433,
    "start_time": "2025-05-13T12:22:08.661Z"
   },
   {
    "duration": 241,
    "start_time": "2025-05-13T12:22:09.096Z"
   },
   {
    "duration": 25,
    "start_time": "2025-05-13T12:22:09.338Z"
   },
   {
    "duration": 19,
    "start_time": "2025-05-13T12:22:09.364Z"
   },
   {
    "duration": 53,
    "start_time": "2025-05-13T12:22:09.384Z"
   },
   {
    "duration": 24,
    "start_time": "2025-05-13T12:22:09.439Z"
   },
   {
    "duration": 25,
    "start_time": "2025-05-13T12:22:09.465Z"
   },
   {
    "duration": 25,
    "start_time": "2025-05-13T12:22:09.492Z"
   },
   {
    "duration": 85,
    "start_time": "2025-05-13T12:22:09.519Z"
   },
   {
    "duration": 19,
    "start_time": "2025-05-13T12:22:09.605Z"
   },
   {
    "duration": 108,
    "start_time": "2025-05-13T12:22:09.626Z"
   },
   {
    "duration": 26,
    "start_time": "2025-05-13T12:22:55.427Z"
   },
   {
    "duration": 10,
    "start_time": "2025-05-13T12:23:20.499Z"
   },
   {
    "duration": 609,
    "start_time": "2025-05-13T12:30:47.148Z"
   },
   {
    "duration": 480,
    "start_time": "2025-05-13T12:31:49.439Z"
   },
   {
    "duration": 635,
    "start_time": "2025-05-13T12:34:44.203Z"
   },
   {
    "duration": 712,
    "start_time": "2025-05-13T12:35:13.398Z"
   },
   {
    "duration": 72,
    "start_time": "2025-05-13T12:35:41.565Z"
   },
   {
    "duration": 57,
    "start_time": "2025-05-13T12:38:10.533Z"
   },
   {
    "duration": 18,
    "start_time": "2025-05-13T12:38:12.878Z"
   },
   {
    "duration": 652,
    "start_time": "2025-05-13T12:40:01.238Z"
   },
   {
    "duration": 621,
    "start_time": "2025-05-13T12:52:10.054Z"
   },
   {
    "duration": 507,
    "start_time": "2025-05-13T12:52:34.608Z"
   },
   {
    "duration": 536,
    "start_time": "2025-05-13T12:52:46.094Z"
   },
   {
    "duration": 610,
    "start_time": "2025-05-13T12:52:53.135Z"
   },
   {
    "duration": 190,
    "start_time": "2025-05-13T12:53:02.151Z"
   },
   {
    "duration": 181,
    "start_time": "2025-05-13T12:53:18.785Z"
   },
   {
    "duration": 643,
    "start_time": "2025-05-13T12:53:34.936Z"
   },
   {
    "duration": 647,
    "start_time": "2025-05-13T12:57:12.337Z"
   },
   {
    "duration": 646,
    "start_time": "2025-05-13T12:57:48.889Z"
   },
   {
    "duration": 13,
    "start_time": "2025-05-13T12:59:38.481Z"
   },
   {
    "duration": 748,
    "start_time": "2025-05-13T12:59:47.680Z"
   },
   {
    "duration": 665,
    "start_time": "2025-05-13T13:00:05.480Z"
   },
   {
    "duration": 800,
    "start_time": "2025-05-13T13:00:15.873Z"
   },
   {
    "duration": 784,
    "start_time": "2025-05-13T13:08:16.578Z"
   },
   {
    "duration": 890,
    "start_time": "2025-05-13T13:09:20.322Z"
   },
   {
    "duration": 771,
    "start_time": "2025-05-13T13:09:58.146Z"
   },
   {
    "duration": 71,
    "start_time": "2025-05-13T13:12:16.040Z"
   },
   {
    "duration": 54,
    "start_time": "2025-05-13T13:13:36.476Z"
   },
   {
    "duration": 76,
    "start_time": "2025-05-13T13:17:05.531Z"
   },
   {
    "duration": 9,
    "start_time": "2025-05-13T13:17:22.539Z"
   },
   {
    "duration": 22,
    "start_time": "2025-05-13T13:17:49.211Z"
   },
   {
    "duration": 19,
    "start_time": "2025-05-13T13:27:32.444Z"
   },
   {
    "duration": 13,
    "start_time": "2025-05-13T13:27:52.083Z"
   },
   {
    "duration": 12,
    "start_time": "2025-05-13T13:29:00.763Z"
   },
   {
    "duration": 35,
    "start_time": "2025-05-13T13:36:00.735Z"
   },
   {
    "duration": 35,
    "start_time": "2025-05-13T13:38:21.885Z"
   },
   {
    "duration": 68,
    "start_time": "2025-05-13T13:40:02.915Z"
   },
   {
    "duration": 554,
    "start_time": "2025-05-13T13:43:37.956Z"
   },
   {
    "duration": 402,
    "start_time": "2025-05-13T13:43:55.629Z"
   },
   {
    "duration": 10,
    "start_time": "2025-05-13T13:53:03.004Z"
   },
   {
    "duration": 1223,
    "start_time": "2025-05-14T13:34:52.470Z"
   },
   {
    "duration": 2405,
    "start_time": "2025-05-14T13:34:53.695Z"
   },
   {
    "duration": 13,
    "start_time": "2025-05-14T13:34:56.102Z"
   },
   {
    "duration": 12,
    "start_time": "2025-05-14T13:34:56.117Z"
   },
   {
    "duration": 48,
    "start_time": "2025-05-14T13:34:56.131Z"
   },
   {
    "duration": 116,
    "start_time": "2025-05-14T13:34:56.181Z"
   },
   {
    "duration": 48,
    "start_time": "2025-05-14T13:34:56.299Z"
   },
   {
    "duration": 15,
    "start_time": "2025-05-14T13:34:56.349Z"
   },
   {
    "duration": 10,
    "start_time": "2025-05-14T13:34:56.366Z"
   },
   {
    "duration": 53,
    "start_time": "2025-05-14T13:34:56.379Z"
   },
   {
    "duration": 8,
    "start_time": "2025-05-14T13:34:56.434Z"
   },
   {
    "duration": 36,
    "start_time": "2025-05-14T13:34:56.444Z"
   },
   {
    "duration": 9,
    "start_time": "2025-05-14T13:34:56.482Z"
   },
   {
    "duration": 36,
    "start_time": "2025-05-14T13:34:56.493Z"
   },
   {
    "duration": 34,
    "start_time": "2025-05-14T13:34:56.531Z"
   },
   {
    "duration": 243,
    "start_time": "2025-05-14T13:34:56.567Z"
   },
   {
    "duration": 31,
    "start_time": "2025-05-14T13:34:56.812Z"
   },
   {
    "duration": 22,
    "start_time": "2025-05-14T13:34:56.845Z"
   },
   {
    "duration": 32,
    "start_time": "2025-05-14T13:34:56.869Z"
   },
   {
    "duration": 78,
    "start_time": "2025-05-14T13:34:56.903Z"
   },
   {
    "duration": 80,
    "start_time": "2025-05-14T13:34:56.983Z"
   },
   {
    "duration": 36,
    "start_time": "2025-05-14T13:34:57.066Z"
   },
   {
    "duration": 38,
    "start_time": "2025-05-14T13:34:57.103Z"
   },
   {
    "duration": 63,
    "start_time": "2025-05-14T13:34:57.143Z"
   },
   {
    "duration": 15,
    "start_time": "2025-05-14T13:34:57.207Z"
   },
   {
    "duration": 28,
    "start_time": "2025-05-14T13:34:57.224Z"
   },
   {
    "duration": 24,
    "start_time": "2025-05-14T13:34:57.254Z"
   },
   {
    "duration": 16,
    "start_time": "2025-05-14T13:34:57.285Z"
   },
   {
    "duration": 400,
    "start_time": "2025-05-14T13:34:57.304Z"
   },
   {
    "duration": 165,
    "start_time": "2025-05-14T13:34:57.706Z"
   },
   {
    "duration": 33,
    "start_time": "2025-05-14T13:34:57.873Z"
   },
   {
    "duration": 69,
    "start_time": "2025-05-14T13:34:57.908Z"
   },
   {
    "duration": 700,
    "start_time": "2025-05-14T13:34:57.978Z"
   },
   {
    "duration": 224,
    "start_time": "2025-05-14T13:34:58.679Z"
   },
   {
    "duration": 1144,
    "start_time": "2025-05-14T13:34:58.905Z"
   },
   {
    "duration": 219,
    "start_time": "2025-05-14T13:35:00.063Z"
   },
   {
    "duration": 204,
    "start_time": "2025-05-14T13:35:00.284Z"
   },
   {
    "duration": 186,
    "start_time": "2025-05-14T13:35:00.490Z"
   },
   {
    "duration": 471,
    "start_time": "2025-05-14T13:35:00.678Z"
   },
   {
    "duration": 275,
    "start_time": "2025-05-14T13:35:01.150Z"
   },
   {
    "duration": 19,
    "start_time": "2025-05-14T13:35:01.427Z"
   },
   {
    "duration": 70,
    "start_time": "2025-05-14T13:35:01.448Z"
   },
   {
    "duration": 78,
    "start_time": "2025-05-14T13:35:01.521Z"
   },
   {
    "duration": 33,
    "start_time": "2025-05-14T13:35:01.601Z"
   },
   {
    "duration": 64,
    "start_time": "2025-05-14T13:35:01.635Z"
   },
   {
    "duration": 77,
    "start_time": "2025-05-14T13:35:01.701Z"
   },
   {
    "duration": 108,
    "start_time": "2025-05-14T13:35:01.780Z"
   },
   {
    "duration": 24,
    "start_time": "2025-05-14T13:35:01.890Z"
   },
   {
    "duration": 25,
    "start_time": "2025-05-14T13:35:01.915Z"
   },
   {
    "duration": 731,
    "start_time": "2025-05-14T13:35:01.942Z"
   },
   {
    "duration": 624,
    "start_time": "2025-05-14T13:35:02.675Z"
   },
   {
    "duration": 41,
    "start_time": "2025-05-14T13:35:03.301Z"
   },
   {
    "duration": 27,
    "start_time": "2025-05-14T13:35:03.344Z"
   },
   {
    "duration": 1326,
    "start_time": "2025-05-15T15:30:34.883Z"
   },
   {
    "duration": 1920,
    "start_time": "2025-05-15T15:30:36.211Z"
   },
   {
    "duration": 12,
    "start_time": "2025-05-15T15:30:38.133Z"
   },
   {
    "duration": 61,
    "start_time": "2025-05-15T15:30:38.147Z"
   },
   {
    "duration": 29,
    "start_time": "2025-05-15T15:30:38.210Z"
   },
   {
    "duration": 96,
    "start_time": "2025-05-15T15:30:38.241Z"
   },
   {
    "duration": 46,
    "start_time": "2025-05-15T15:30:38.339Z"
   },
   {
    "duration": 5,
    "start_time": "2025-05-15T15:30:38.387Z"
   },
   {
    "duration": 98,
    "start_time": "2025-05-15T15:30:38.394Z"
   },
   {
    "duration": 47,
    "start_time": "2025-05-15T15:30:38.494Z"
   },
   {
    "duration": 7,
    "start_time": "2025-05-15T15:30:38.543Z"
   },
   {
    "duration": 24,
    "start_time": "2025-05-15T15:30:38.552Z"
   },
   {
    "duration": 18,
    "start_time": "2025-05-15T15:30:38.578Z"
   },
   {
    "duration": 28,
    "start_time": "2025-05-15T15:30:38.598Z"
   },
   {
    "duration": 35,
    "start_time": "2025-05-15T15:30:38.627Z"
   },
   {
    "duration": 230,
    "start_time": "2025-05-15T15:30:38.664Z"
   },
   {
    "duration": 28,
    "start_time": "2025-05-15T15:30:38.895Z"
   },
   {
    "duration": 33,
    "start_time": "2025-05-15T15:30:38.925Z"
   },
   {
    "duration": 7,
    "start_time": "2025-05-15T15:30:38.959Z"
   },
   {
    "duration": 77,
    "start_time": "2025-05-15T15:30:38.967Z"
   },
   {
    "duration": 80,
    "start_time": "2025-05-15T15:30:39.045Z"
   },
   {
    "duration": 41,
    "start_time": "2025-05-15T15:30:39.127Z"
   },
   {
    "duration": 45,
    "start_time": "2025-05-15T15:30:39.170Z"
   },
   {
    "duration": 22,
    "start_time": "2025-05-15T15:30:39.217Z"
   },
   {
    "duration": 11,
    "start_time": "2025-05-15T15:30:39.241Z"
   },
   {
    "duration": 21,
    "start_time": "2025-05-15T15:30:39.253Z"
   },
   {
    "duration": 20,
    "start_time": "2025-05-15T15:30:39.276Z"
   },
   {
    "duration": 6,
    "start_time": "2025-05-15T15:30:39.300Z"
   },
   {
    "duration": 343,
    "start_time": "2025-05-15T15:30:39.307Z"
   },
   {
    "duration": 155,
    "start_time": "2025-05-15T15:30:39.652Z"
   },
   {
    "duration": 31,
    "start_time": "2025-05-15T15:30:39.808Z"
   },
   {
    "duration": 57,
    "start_time": "2025-05-15T15:30:39.840Z"
   },
   {
    "duration": 580,
    "start_time": "2025-05-15T15:30:39.898Z"
   },
   {
    "duration": 112,
    "start_time": "2025-05-15T15:30:40.480Z"
   },
   {
    "duration": 569,
    "start_time": "2025-05-15T15:30:40.594Z"
   },
   {
    "duration": 140,
    "start_time": "2025-05-15T15:30:41.165Z"
   },
   {
    "duration": 183,
    "start_time": "2025-05-15T15:30:41.307Z"
   },
   {
    "duration": 181,
    "start_time": "2025-05-15T15:30:41.493Z"
   },
   {
    "duration": 432,
    "start_time": "2025-05-15T15:30:41.677Z"
   },
   {
    "duration": 253,
    "start_time": "2025-05-15T15:30:42.111Z"
   },
   {
    "duration": 17,
    "start_time": "2025-05-15T15:30:42.365Z"
   },
   {
    "duration": 17,
    "start_time": "2025-05-15T15:30:42.384Z"
   },
   {
    "duration": 68,
    "start_time": "2025-05-15T15:30:42.403Z"
   },
   {
    "duration": 17,
    "start_time": "2025-05-15T15:30:42.473Z"
   },
   {
    "duration": 24,
    "start_time": "2025-05-15T15:30:42.492Z"
   },
   {
    "duration": 44,
    "start_time": "2025-05-15T15:30:42.518Z"
   },
   {
    "duration": 57,
    "start_time": "2025-05-15T15:30:42.563Z"
   },
   {
    "duration": 36,
    "start_time": "2025-05-15T15:30:42.622Z"
   },
   {
    "duration": 9,
    "start_time": "2025-05-15T15:30:42.660Z"
   },
   {
    "duration": 760,
    "start_time": "2025-05-15T15:30:42.671Z"
   },
   {
    "duration": 616,
    "start_time": "2025-05-15T15:30:43.432Z"
   },
   {
    "duration": 40,
    "start_time": "2025-05-15T15:30:44.057Z"
   },
   {
    "duration": 10,
    "start_time": "2025-05-15T15:30:44.098Z"
   },
   {
    "duration": 1202,
    "start_time": "2025-05-15T15:44:32.968Z"
   },
   {
    "duration": 2995,
    "start_time": "2025-05-15T15:44:34.172Z"
   },
   {
    "duration": 13,
    "start_time": "2025-05-15T15:44:37.169Z"
   },
   {
    "duration": 16,
    "start_time": "2025-05-15T15:44:37.185Z"
   },
   {
    "duration": 57,
    "start_time": "2025-05-15T15:44:37.203Z"
   },
   {
    "duration": 119,
    "start_time": "2025-05-15T15:44:37.262Z"
   },
   {
    "duration": 41,
    "start_time": "2025-05-15T15:44:37.383Z"
   },
   {
    "duration": 6,
    "start_time": "2025-05-15T15:44:37.427Z"
   },
   {
    "duration": 29,
    "start_time": "2025-05-15T15:44:37.435Z"
   },
   {
    "duration": 39,
    "start_time": "2025-05-15T15:44:37.467Z"
   },
   {
    "duration": 63,
    "start_time": "2025-05-15T15:44:37.508Z"
   },
   {
    "duration": 19,
    "start_time": "2025-05-15T15:44:37.573Z"
   },
   {
    "duration": 8,
    "start_time": "2025-05-15T15:44:37.594Z"
   },
   {
    "duration": 25,
    "start_time": "2025-05-15T15:44:37.604Z"
   },
   {
    "duration": 40,
    "start_time": "2025-05-15T15:44:37.630Z"
   },
   {
    "duration": 237,
    "start_time": "2025-05-15T15:44:37.672Z"
   },
   {
    "duration": 30,
    "start_time": "2025-05-15T15:44:37.910Z"
   },
   {
    "duration": 20,
    "start_time": "2025-05-15T15:44:37.942Z"
   },
   {
    "duration": 8,
    "start_time": "2025-05-15T15:44:37.964Z"
   },
   {
    "duration": 89,
    "start_time": "2025-05-15T15:44:37.974Z"
   },
   {
    "duration": 72,
    "start_time": "2025-05-15T15:44:38.065Z"
   },
   {
    "duration": 48,
    "start_time": "2025-05-15T15:44:38.139Z"
   },
   {
    "duration": 89,
    "start_time": "2025-05-15T15:44:38.188Z"
   },
   {
    "duration": 11,
    "start_time": "2025-05-15T15:44:38.278Z"
   },
   {
    "duration": 13,
    "start_time": "2025-05-15T15:44:38.290Z"
   },
   {
    "duration": 20,
    "start_time": "2025-05-15T15:44:38.304Z"
   },
   {
    "duration": 47,
    "start_time": "2025-05-15T15:44:38.326Z"
   },
   {
    "duration": 9,
    "start_time": "2025-05-15T15:44:38.377Z"
   },
   {
    "duration": 368,
    "start_time": "2025-05-15T15:44:38.387Z"
   },
   {
    "duration": 155,
    "start_time": "2025-05-15T15:44:38.758Z"
   },
   {
    "duration": 32,
    "start_time": "2025-05-15T15:44:38.916Z"
   },
   {
    "duration": 73,
    "start_time": "2025-05-15T15:44:38.958Z"
   },
   {
    "duration": 526,
    "start_time": "2025-05-15T15:44:39.033Z"
   },
   {
    "duration": 128,
    "start_time": "2025-05-15T15:44:39.560Z"
   },
   {
    "duration": 578,
    "start_time": "2025-05-15T15:44:39.691Z"
   },
   {
    "duration": 136,
    "start_time": "2025-05-15T15:44:40.271Z"
   },
   {
    "duration": 190,
    "start_time": "2025-05-15T15:44:40.409Z"
   },
   {
    "duration": 163,
    "start_time": "2025-05-15T15:44:40.601Z"
   },
   {
    "duration": 464,
    "start_time": "2025-05-15T15:44:40.766Z"
   },
   {
    "duration": 275,
    "start_time": "2025-05-15T15:44:41.232Z"
   },
   {
    "duration": 26,
    "start_time": "2025-05-15T15:44:41.508Z"
   },
   {
    "duration": 80,
    "start_time": "2025-05-15T15:44:41.536Z"
   },
   {
    "duration": 69,
    "start_time": "2025-05-15T15:44:41.619Z"
   },
   {
    "duration": 18,
    "start_time": "2025-05-15T15:44:41.690Z"
   },
   {
    "duration": 28,
    "start_time": "2025-05-15T15:44:41.710Z"
   },
   {
    "duration": 39,
    "start_time": "2025-05-15T15:44:41.739Z"
   },
   {
    "duration": 84,
    "start_time": "2025-05-15T15:44:41.780Z"
   },
   {
    "duration": 29,
    "start_time": "2025-05-15T15:44:41.866Z"
   },
   {
    "duration": 11,
    "start_time": "2025-05-15T15:44:41.897Z"
   },
   {
    "duration": 792,
    "start_time": "2025-05-15T15:44:41.910Z"
   },
   {
    "duration": 657,
    "start_time": "2025-05-15T15:44:42.703Z"
   },
   {
    "duration": 41,
    "start_time": "2025-05-15T15:44:43.362Z"
   },
   {
    "duration": 14,
    "start_time": "2025-05-15T15:44:43.406Z"
   },
   {
    "duration": 15,
    "start_time": "2025-05-15T15:54:43.461Z"
   },
   {
    "duration": 8,
    "start_time": "2025-05-15T15:54:54.796Z"
   },
   {
    "duration": 51,
    "start_time": "2025-05-15T20:46:05.323Z"
   },
   {
    "duration": 1220,
    "start_time": "2025-05-15T20:46:15.592Z"
   },
   {
    "duration": 2448,
    "start_time": "2025-05-15T20:46:16.814Z"
   },
   {
    "duration": 17,
    "start_time": "2025-05-15T20:46:19.263Z"
   },
   {
    "duration": 132,
    "start_time": "2025-05-15T20:46:19.282Z"
   },
   {
    "duration": 40,
    "start_time": "2025-05-15T20:46:19.416Z"
   },
   {
    "duration": 136,
    "start_time": "2025-05-15T20:46:19.458Z"
   },
   {
    "duration": 41,
    "start_time": "2025-05-15T20:46:19.595Z"
   },
   {
    "duration": 5,
    "start_time": "2025-05-15T20:46:19.638Z"
   },
   {
    "duration": 18,
    "start_time": "2025-05-15T20:46:19.644Z"
   },
   {
    "duration": 59,
    "start_time": "2025-05-15T20:46:19.672Z"
   },
   {
    "duration": 7,
    "start_time": "2025-05-15T20:46:19.733Z"
   },
   {
    "duration": 25,
    "start_time": "2025-05-15T20:46:19.742Z"
   },
   {
    "duration": 117,
    "start_time": "2025-05-15T20:46:19.769Z"
   },
   {
    "duration": 27,
    "start_time": "2025-05-15T20:46:19.888Z"
   },
   {
    "duration": 22,
    "start_time": "2025-05-15T20:46:19.917Z"
   },
   {
    "duration": 250,
    "start_time": "2025-05-15T20:46:19.941Z"
   },
   {
    "duration": 30,
    "start_time": "2025-05-15T20:46:20.193Z"
   },
   {
    "duration": 6,
    "start_time": "2025-05-15T20:46:20.225Z"
   },
   {
    "duration": 15,
    "start_time": "2025-05-15T20:46:20.232Z"
   },
   {
    "duration": 101,
    "start_time": "2025-05-15T20:46:20.248Z"
   },
   {
    "duration": 110,
    "start_time": "2025-05-15T20:46:20.351Z"
   },
   {
    "duration": 47,
    "start_time": "2025-05-15T20:46:20.463Z"
   },
   {
    "duration": 70,
    "start_time": "2025-05-15T20:46:20.512Z"
   },
   {
    "duration": 13,
    "start_time": "2025-05-15T20:46:20.585Z"
   },
   {
    "duration": 39,
    "start_time": "2025-05-15T20:46:20.599Z"
   },
   {
    "duration": 35,
    "start_time": "2025-05-15T20:46:20.640Z"
   },
   {
    "duration": 44,
    "start_time": "2025-05-15T20:46:20.677Z"
   },
   {
    "duration": 21,
    "start_time": "2025-05-15T20:46:20.724Z"
   },
   {
    "duration": 360,
    "start_time": "2025-05-15T20:46:20.747Z"
   },
   {
    "duration": 160,
    "start_time": "2025-05-15T20:46:21.108Z"
   },
   {
    "duration": 34,
    "start_time": "2025-05-15T20:46:21.269Z"
   },
   {
    "duration": 46,
    "start_time": "2025-05-15T20:46:21.304Z"
   },
   {
    "duration": 564,
    "start_time": "2025-05-15T20:46:21.352Z"
   },
   {
    "duration": 124,
    "start_time": "2025-05-15T20:46:21.917Z"
   },
   {
    "duration": 621,
    "start_time": "2025-05-15T20:46:22.043Z"
   },
   {
    "duration": 143,
    "start_time": "2025-05-15T20:46:22.670Z"
   },
   {
    "duration": 214,
    "start_time": "2025-05-15T20:46:22.815Z"
   },
   {
    "duration": 178,
    "start_time": "2025-05-15T20:46:23.031Z"
   },
   {
    "duration": 466,
    "start_time": "2025-05-15T20:46:23.211Z"
   },
   {
    "duration": 264,
    "start_time": "2025-05-15T20:46:23.679Z"
   },
   {
    "duration": 18,
    "start_time": "2025-05-15T20:46:23.944Z"
   },
   {
    "duration": 41,
    "start_time": "2025-05-15T20:46:23.971Z"
   },
   {
    "duration": 68,
    "start_time": "2025-05-15T20:46:24.014Z"
   },
   {
    "duration": 18,
    "start_time": "2025-05-15T20:46:24.083Z"
   },
   {
    "duration": 24,
    "start_time": "2025-05-15T20:46:24.102Z"
   },
   {
    "duration": 92,
    "start_time": "2025-05-15T20:46:24.128Z"
   },
   {
    "duration": 87,
    "start_time": "2025-05-15T20:46:24.221Z"
   },
   {
    "duration": 21,
    "start_time": "2025-05-15T20:46:24.310Z"
   },
   {
    "duration": 13,
    "start_time": "2025-05-15T20:46:24.332Z"
   },
   {
    "duration": 799,
    "start_time": "2025-05-15T20:46:24.347Z"
   },
   {
    "duration": 610,
    "start_time": "2025-05-15T20:46:25.148Z"
   },
   {
    "duration": 125,
    "start_time": "2025-05-15T20:46:25.760Z"
   },
   {
    "duration": 10,
    "start_time": "2025-05-15T20:46:25.887Z"
   },
   {
    "duration": 15,
    "start_time": "2025-05-15T20:49:17.387Z"
   },
   {
    "duration": 180,
    "start_time": "2025-05-15T20:49:40.115Z"
   },
   {
    "duration": 167,
    "start_time": "2025-05-15T20:49:57.555Z"
   },
   {
    "duration": 17,
    "start_time": "2025-05-15T20:51:33.498Z"
   },
   {
    "duration": 106,
    "start_time": "2025-05-15T20:51:47.946Z"
   },
   {
    "duration": 3,
    "start_time": "2025-05-15T20:52:12.691Z"
   },
   {
    "duration": 3,
    "start_time": "2025-05-15T20:52:12.907Z"
   },
   {
    "duration": 5,
    "start_time": "2025-05-15T20:52:24.858Z"
   },
   {
    "duration": 640,
    "start_time": "2025-05-15T20:52:46.209Z"
   },
   {
    "duration": 1323,
    "start_time": "2025-05-16T20:03:28.438Z"
   },
   {
    "duration": 2296,
    "start_time": "2025-05-16T20:03:29.763Z"
   },
   {
    "duration": 16,
    "start_time": "2025-05-16T20:03:32.062Z"
   },
   {
    "duration": 79,
    "start_time": "2025-05-16T20:03:32.092Z"
   },
   {
    "duration": 60,
    "start_time": "2025-05-16T20:03:32.173Z"
   },
   {
    "duration": 173,
    "start_time": "2025-05-16T20:03:32.235Z"
   },
   {
    "duration": 46,
    "start_time": "2025-05-16T20:03:32.410Z"
   },
   {
    "duration": 6,
    "start_time": "2025-05-16T20:03:32.457Z"
   },
   {
    "duration": 23,
    "start_time": "2025-05-16T20:03:32.465Z"
   },
   {
    "duration": 60,
    "start_time": "2025-05-16T20:03:32.492Z"
   },
   {
    "duration": 39,
    "start_time": "2025-05-16T20:03:32.553Z"
   },
   {
    "duration": 33,
    "start_time": "2025-05-16T20:03:32.599Z"
   },
   {
    "duration": 35,
    "start_time": "2025-05-16T20:03:32.636Z"
   },
   {
    "duration": 63,
    "start_time": "2025-05-16T20:03:32.672Z"
   },
   {
    "duration": 22,
    "start_time": "2025-05-16T20:03:32.737Z"
   },
   {
    "duration": 429,
    "start_time": "2025-05-16T20:03:32.761Z"
   },
   {
    "duration": 46,
    "start_time": "2025-05-16T20:03:33.194Z"
   },
   {
    "duration": 96,
    "start_time": "2025-05-16T20:03:33.242Z"
   },
   {
    "duration": 21,
    "start_time": "2025-05-16T20:03:33.340Z"
   },
   {
    "duration": 104,
    "start_time": "2025-05-16T20:03:33.363Z"
   },
   {
    "duration": 99,
    "start_time": "2025-05-16T20:03:33.469Z"
   },
   {
    "duration": 71,
    "start_time": "2025-05-16T20:03:33.570Z"
   },
   {
    "duration": 71,
    "start_time": "2025-05-16T20:03:33.643Z"
   },
   {
    "duration": 17,
    "start_time": "2025-05-16T20:03:33.718Z"
   },
   {
    "duration": 68,
    "start_time": "2025-05-16T20:03:33.736Z"
   },
   {
    "duration": 28,
    "start_time": "2025-05-16T20:03:33.805Z"
   },
   {
    "duration": 48,
    "start_time": "2025-05-16T20:03:33.836Z"
   },
   {
    "duration": 19,
    "start_time": "2025-05-16T20:03:33.890Z"
   },
   {
    "duration": 446,
    "start_time": "2025-05-16T20:03:33.912Z"
   },
   {
    "duration": 205,
    "start_time": "2025-05-16T20:03:34.360Z"
   },
   {
    "duration": 54,
    "start_time": "2025-05-16T20:03:34.567Z"
   },
   {
    "duration": 85,
    "start_time": "2025-05-16T20:03:34.623Z"
   },
   {
    "duration": 589,
    "start_time": "2025-05-16T20:03:34.711Z"
   },
   {
    "duration": 143,
    "start_time": "2025-05-16T20:03:35.305Z"
   },
   {
    "duration": 773,
    "start_time": "2025-05-16T20:03:35.450Z"
   },
   {
    "duration": 184,
    "start_time": "2025-05-16T20:03:36.225Z"
   },
   {
    "duration": 239,
    "start_time": "2025-05-16T20:03:36.411Z"
   },
   {
    "duration": 226,
    "start_time": "2025-05-16T20:03:36.652Z"
   },
   {
    "duration": 551,
    "start_time": "2025-05-16T20:03:36.884Z"
   },
   {
    "duration": 321,
    "start_time": "2025-05-16T20:03:37.436Z"
   },
   {
    "duration": 27,
    "start_time": "2025-05-16T20:03:37.759Z"
   },
   {
    "duration": 22,
    "start_time": "2025-05-16T20:03:37.789Z"
   },
   {
    "duration": 76,
    "start_time": "2025-05-16T20:03:37.814Z"
   },
   {
    "duration": 28,
    "start_time": "2025-05-16T20:03:37.892Z"
   },
   {
    "duration": 26,
    "start_time": "2025-05-16T20:03:37.923Z"
   },
   {
    "duration": 124,
    "start_time": "2025-05-16T20:03:37.951Z"
   },
   {
    "duration": 176,
    "start_time": "2025-05-16T20:03:38.086Z"
   },
   {
    "duration": 23,
    "start_time": "2025-05-16T20:03:38.264Z"
   },
   {
    "duration": 17,
    "start_time": "2025-05-16T20:03:38.290Z"
   },
   {
    "duration": 938,
    "start_time": "2025-05-16T20:03:38.310Z"
   },
   {
    "duration": 764,
    "start_time": "2025-05-16T20:03:39.250Z"
   },
   {
    "duration": 199,
    "start_time": "2025-05-16T20:03:40.017Z"
   },
   {
    "duration": 18,
    "start_time": "2025-05-16T20:03:40.218Z"
   },
   {
    "duration": 13,
    "start_time": "2025-05-16T20:03:40.238Z"
   },
   {
    "duration": 795,
    "start_time": "2025-05-16T20:03:40.252Z"
   },
   {
    "duration": 14,
    "start_time": "2025-05-16T20:03:41.049Z"
   },
   {
    "duration": 284,
    "start_time": "2025-05-16T20:03:41.077Z"
   },
   {
    "duration": 1383,
    "start_time": "2025-05-16T20:13:49.484Z"
   },
   {
    "duration": 2329,
    "start_time": "2025-05-16T20:13:50.869Z"
   },
   {
    "duration": 19,
    "start_time": "2025-05-16T20:13:53.201Z"
   },
   {
    "duration": 16,
    "start_time": "2025-05-16T20:13:53.225Z"
   },
   {
    "duration": 55,
    "start_time": "2025-05-16T20:13:53.244Z"
   },
   {
    "duration": 188,
    "start_time": "2025-05-16T20:13:53.303Z"
   },
   {
    "duration": 47,
    "start_time": "2025-05-16T20:13:53.493Z"
   },
   {
    "duration": 7,
    "start_time": "2025-05-16T20:13:53.542Z"
   },
   {
    "duration": 37,
    "start_time": "2025-05-16T20:13:53.550Z"
   },
   {
    "duration": 56,
    "start_time": "2025-05-16T20:13:53.591Z"
   },
   {
    "duration": 9,
    "start_time": "2025-05-16T20:13:53.649Z"
   },
   {
    "duration": 63,
    "start_time": "2025-05-16T20:13:53.659Z"
   },
   {
    "duration": 10,
    "start_time": "2025-05-16T20:13:53.724Z"
   },
   {
    "duration": 24,
    "start_time": "2025-05-16T20:13:53.736Z"
   },
   {
    "duration": 33,
    "start_time": "2025-05-16T20:13:53.761Z"
   },
   {
    "duration": 288,
    "start_time": "2025-05-16T20:13:53.803Z"
   },
   {
    "duration": 42,
    "start_time": "2025-05-16T20:13:54.093Z"
   },
   {
    "duration": 67,
    "start_time": "2025-05-16T20:13:54.136Z"
   },
   {
    "duration": 14,
    "start_time": "2025-05-16T20:13:54.205Z"
   },
   {
    "duration": 96,
    "start_time": "2025-05-16T20:13:54.221Z"
   },
   {
    "duration": 117,
    "start_time": "2025-05-16T20:13:54.319Z"
   },
   {
    "duration": 45,
    "start_time": "2025-05-16T20:13:54.437Z"
   },
   {
    "duration": 85,
    "start_time": "2025-05-16T20:13:54.484Z"
   },
   {
    "duration": 21,
    "start_time": "2025-05-16T20:13:54.570Z"
   },
   {
    "duration": 21,
    "start_time": "2025-05-16T20:13:54.593Z"
   },
   {
    "duration": 28,
    "start_time": "2025-05-16T20:13:54.616Z"
   },
   {
    "duration": 52,
    "start_time": "2025-05-16T20:13:54.646Z"
   },
   {
    "duration": 8,
    "start_time": "2025-05-16T20:13:54.711Z"
   },
   {
    "duration": 466,
    "start_time": "2025-05-16T20:13:54.721Z"
   },
   {
    "duration": 216,
    "start_time": "2025-05-16T20:13:55.190Z"
   },
   {
    "duration": 39,
    "start_time": "2025-05-16T20:13:55.411Z"
   },
   {
    "duration": 90,
    "start_time": "2025-05-16T20:13:55.452Z"
   },
   {
    "duration": 585,
    "start_time": "2025-05-16T20:13:55.545Z"
   },
   {
    "duration": 167,
    "start_time": "2025-05-16T20:13:56.132Z"
   },
   {
    "duration": 744,
    "start_time": "2025-05-16T20:13:56.306Z"
   },
   {
    "duration": 181,
    "start_time": "2025-05-16T20:13:57.053Z"
   },
   {
    "duration": 235,
    "start_time": "2025-05-16T20:13:57.236Z"
   },
   {
    "duration": 214,
    "start_time": "2025-05-16T20:13:57.476Z"
   },
   {
    "duration": 542,
    "start_time": "2025-05-16T20:13:57.694Z"
   },
   {
    "duration": 320,
    "start_time": "2025-05-16T20:13:58.238Z"
   },
   {
    "duration": 31,
    "start_time": "2025-05-16T20:13:58.560Z"
   },
   {
    "duration": 30,
    "start_time": "2025-05-16T20:13:58.593Z"
   },
   {
    "duration": 83,
    "start_time": "2025-05-16T20:13:58.625Z"
   },
   {
    "duration": 26,
    "start_time": "2025-05-16T20:13:58.711Z"
   },
   {
    "duration": 43,
    "start_time": "2025-05-16T20:13:58.739Z"
   },
   {
    "duration": 43,
    "start_time": "2025-05-16T20:13:58.785Z"
   },
   {
    "duration": 88,
    "start_time": "2025-05-16T20:13:58.830Z"
   },
   {
    "duration": 33,
    "start_time": "2025-05-16T20:13:58.920Z"
   },
   {
    "duration": 10,
    "start_time": "2025-05-16T20:13:58.955Z"
   },
   {
    "duration": 927,
    "start_time": "2025-05-16T20:13:58.967Z"
   },
   {
    "duration": 788,
    "start_time": "2025-05-16T20:13:59.896Z"
   },
   {
    "duration": 154,
    "start_time": "2025-05-16T20:14:00.695Z"
   },
   {
    "duration": 16,
    "start_time": "2025-05-16T20:14:00.851Z"
   },
   {
    "duration": 85,
    "start_time": "2025-05-16T20:14:00.869Z"
   },
   {
    "duration": 813,
    "start_time": "2025-05-16T20:14:00.956Z"
   },
   {
    "duration": 25,
    "start_time": "2025-05-16T20:14:01.771Z"
   },
   {
    "duration": 322,
    "start_time": "2025-05-16T20:14:01.800Z"
   },
   {
    "duration": 6,
    "start_time": "2025-05-16T20:18:34.112Z"
   },
   {
    "duration": 80,
    "start_time": "2025-05-16T21:16:45.356Z"
   },
   {
    "duration": 1316,
    "start_time": "2025-05-16T21:17:04.451Z"
   },
   {
    "duration": 2567,
    "start_time": "2025-05-16T21:17:05.769Z"
   },
   {
    "duration": 12,
    "start_time": "2025-05-16T21:17:08.337Z"
   },
   {
    "duration": 20,
    "start_time": "2025-05-16T21:17:08.350Z"
   },
   {
    "duration": 26,
    "start_time": "2025-05-16T21:17:08.371Z"
   },
   {
    "duration": 107,
    "start_time": "2025-05-16T21:17:08.399Z"
   },
   {
    "duration": 41,
    "start_time": "2025-05-16T21:17:08.507Z"
   },
   {
    "duration": 13,
    "start_time": "2025-05-16T21:17:08.550Z"
   },
   {
    "duration": 9,
    "start_time": "2025-05-16T21:17:08.564Z"
   },
   {
    "duration": 39,
    "start_time": "2025-05-16T21:17:08.576Z"
   },
   {
    "duration": 6,
    "start_time": "2025-05-16T21:17:08.617Z"
   },
   {
    "duration": 80,
    "start_time": "2025-05-16T21:17:08.625Z"
   },
   {
    "duration": 10,
    "start_time": "2025-05-16T21:17:08.707Z"
   },
   {
    "duration": 37,
    "start_time": "2025-05-16T21:17:08.718Z"
   },
   {
    "duration": 13,
    "start_time": "2025-05-16T21:17:08.756Z"
   },
   {
    "duration": 215,
    "start_time": "2025-05-16T21:17:08.770Z"
   },
   {
    "duration": 27,
    "start_time": "2025-05-16T21:17:08.986Z"
   },
   {
    "duration": 6,
    "start_time": "2025-05-16T21:17:09.015Z"
   },
   {
    "duration": 9,
    "start_time": "2025-05-16T21:17:09.022Z"
   },
   {
    "duration": 90,
    "start_time": "2025-05-16T21:17:09.032Z"
   },
   {
    "duration": 71,
    "start_time": "2025-05-16T21:17:09.123Z"
   },
   {
    "duration": 33,
    "start_time": "2025-05-16T21:17:09.196Z"
   },
   {
    "duration": 45,
    "start_time": "2025-05-16T21:17:09.230Z"
   },
   {
    "duration": 84,
    "start_time": "2025-05-16T21:17:09.277Z"
   },
   {
    "duration": 17,
    "start_time": "2025-05-16T21:17:09.363Z"
   },
   {
    "duration": 19,
    "start_time": "2025-05-16T21:17:09.381Z"
   },
   {
    "duration": 40,
    "start_time": "2025-05-16T21:17:09.401Z"
   },
   {
    "duration": 6,
    "start_time": "2025-05-16T21:17:09.444Z"
   },
   {
    "duration": 318,
    "start_time": "2025-05-16T21:17:09.452Z"
   },
   {
    "duration": 159,
    "start_time": "2025-05-16T21:17:09.772Z"
   },
   {
    "duration": 36,
    "start_time": "2025-05-16T21:17:09.932Z"
   },
   {
    "duration": 42,
    "start_time": "2025-05-16T21:17:09.970Z"
   },
   {
    "duration": 550,
    "start_time": "2025-05-16T21:17:10.013Z"
   },
   {
    "duration": 113,
    "start_time": "2025-05-16T21:17:10.564Z"
   },
   {
    "duration": 525,
    "start_time": "2025-05-16T21:17:10.679Z"
   },
   {
    "duration": 122,
    "start_time": "2025-05-16T21:17:11.206Z"
   },
   {
    "duration": 172,
    "start_time": "2025-05-16T21:17:11.330Z"
   },
   {
    "duration": 148,
    "start_time": "2025-05-16T21:17:11.503Z"
   },
   {
    "duration": 400,
    "start_time": "2025-05-16T21:17:11.653Z"
   },
   {
    "duration": 246,
    "start_time": "2025-05-16T21:17:12.055Z"
   },
   {
    "duration": 15,
    "start_time": "2025-05-16T21:17:12.303Z"
   },
   {
    "duration": 22,
    "start_time": "2025-05-16T21:17:12.320Z"
   },
   {
    "duration": 54,
    "start_time": "2025-05-16T21:17:12.344Z"
   },
   {
    "duration": 16,
    "start_time": "2025-05-16T21:17:12.399Z"
   },
   {
    "duration": 102,
    "start_time": "2025-05-16T21:17:12.417Z"
   },
   {
    "duration": 22,
    "start_time": "2025-05-16T21:17:12.521Z"
   },
   {
    "duration": 55,
    "start_time": "2025-05-16T21:17:12.545Z"
   },
   {
    "duration": 19,
    "start_time": "2025-05-16T21:17:12.602Z"
   },
   {
    "duration": 50,
    "start_time": "2025-05-16T21:17:12.622Z"
   },
   {
    "duration": 749,
    "start_time": "2025-05-16T21:17:12.674Z"
   },
   {
    "duration": 543,
    "start_time": "2025-05-16T21:17:13.425Z"
   },
   {
    "duration": 124,
    "start_time": "2025-05-16T21:17:13.970Z"
   },
   {
    "duration": 119,
    "start_time": "2025-05-16T21:17:14.096Z"
   },
   {
    "duration": 0,
    "start_time": "2025-05-16T21:17:14.217Z"
   },
   {
    "duration": 0,
    "start_time": "2025-05-16T21:17:14.218Z"
   },
   {
    "duration": 0,
    "start_time": "2025-05-16T21:17:14.220Z"
   },
   {
    "duration": 0,
    "start_time": "2025-05-16T21:17:14.221Z"
   },
   {
    "duration": 0,
    "start_time": "2025-05-16T21:17:14.222Z"
   },
   {
    "duration": 126,
    "start_time": "2025-05-16T21:17:24.987Z"
   },
   {
    "duration": 80,
    "start_time": "2025-05-16T21:17:37.635Z"
   },
   {
    "duration": 18,
    "start_time": "2025-05-16T21:18:13.093Z"
   },
   {
    "duration": 5,
    "start_time": "2025-05-16T21:19:13.461Z"
   },
   {
    "duration": 9,
    "start_time": "2025-05-16T21:19:49.005Z"
   },
   {
    "duration": 15,
    "start_time": "2025-05-16T21:20:49.517Z"
   },
   {
    "duration": 5,
    "start_time": "2025-05-16T21:20:53.069Z"
   },
   {
    "duration": 623,
    "start_time": "2025-05-16T21:20:55.941Z"
   },
   {
    "duration": 14,
    "start_time": "2025-05-16T21:21:07.934Z"
   },
   {
    "duration": 159,
    "start_time": "2025-05-16T21:21:09.862Z"
   },
   {
    "duration": 1170,
    "start_time": "2025-05-17T20:46:37.706Z"
   },
   {
    "duration": 2200,
    "start_time": "2025-05-17T20:46:38.878Z"
   },
   {
    "duration": 12,
    "start_time": "2025-05-17T20:46:41.079Z"
   },
   {
    "duration": 15,
    "start_time": "2025-05-17T20:46:41.093Z"
   },
   {
    "duration": 26,
    "start_time": "2025-05-17T20:46:41.110Z"
   },
   {
    "duration": 123,
    "start_time": "2025-05-17T20:46:41.138Z"
   },
   {
    "duration": 43,
    "start_time": "2025-05-17T20:46:41.263Z"
   },
   {
    "duration": 6,
    "start_time": "2025-05-17T20:46:41.308Z"
   },
   {
    "duration": 28,
    "start_time": "2025-05-17T20:46:41.316Z"
   },
   {
    "duration": 45,
    "start_time": "2025-05-17T20:46:41.348Z"
   },
   {
    "duration": 8,
    "start_time": "2025-05-17T20:46:41.396Z"
   },
   {
    "duration": 23,
    "start_time": "2025-05-17T20:46:41.406Z"
   },
   {
    "duration": 33,
    "start_time": "2025-05-17T20:46:41.431Z"
   },
   {
    "duration": 25,
    "start_time": "2025-05-17T20:46:41.466Z"
   },
   {
    "duration": 21,
    "start_time": "2025-05-17T20:46:41.492Z"
   },
   {
    "duration": 237,
    "start_time": "2025-05-17T20:46:41.514Z"
   },
   {
    "duration": 32,
    "start_time": "2025-05-17T20:46:41.753Z"
   },
   {
    "duration": 90,
    "start_time": "2025-05-17T20:46:41.786Z"
   },
   {
    "duration": 110,
    "start_time": "2025-05-17T20:46:41.878Z"
   },
   {
    "duration": 83,
    "start_time": "2025-05-17T20:46:41.989Z"
   },
   {
    "duration": 72,
    "start_time": "2025-05-17T20:46:42.074Z"
   },
   {
    "duration": 140,
    "start_time": "2025-05-17T20:46:42.147Z"
   },
   {
    "duration": 110,
    "start_time": "2025-05-17T20:46:42.289Z"
   },
   {
    "duration": 11,
    "start_time": "2025-05-17T20:46:42.401Z"
   },
   {
    "duration": 30,
    "start_time": "2025-05-17T20:46:42.413Z"
   },
   {
    "duration": 25,
    "start_time": "2025-05-17T20:46:42.445Z"
   },
   {
    "duration": 21,
    "start_time": "2025-05-17T20:46:42.471Z"
   },
   {
    "duration": 7,
    "start_time": "2025-05-17T20:46:42.496Z"
   },
   {
    "duration": 337,
    "start_time": "2025-05-17T20:46:42.505Z"
   },
   {
    "duration": 155,
    "start_time": "2025-05-17T20:46:42.843Z"
   },
   {
    "duration": 28,
    "start_time": "2025-05-17T20:46:43.000Z"
   },
   {
    "duration": 62,
    "start_time": "2025-05-17T20:46:43.030Z"
   },
   {
    "duration": 503,
    "start_time": "2025-05-17T20:46:43.093Z"
   },
   {
    "duration": 120,
    "start_time": "2025-05-17T20:46:43.597Z"
   },
   {
    "duration": 548,
    "start_time": "2025-05-17T20:46:43.718Z"
   },
   {
    "duration": 129,
    "start_time": "2025-05-17T20:46:44.268Z"
   },
   {
    "duration": 192,
    "start_time": "2025-05-17T20:46:44.399Z"
   },
   {
    "duration": 147,
    "start_time": "2025-05-17T20:46:44.593Z"
   },
   {
    "duration": 440,
    "start_time": "2025-05-17T20:46:44.742Z"
   },
   {
    "duration": 256,
    "start_time": "2025-05-17T20:46:45.184Z"
   },
   {
    "duration": 21,
    "start_time": "2025-05-17T20:46:45.442Z"
   },
   {
    "duration": 27,
    "start_time": "2025-05-17T20:46:45.465Z"
   },
   {
    "duration": 71,
    "start_time": "2025-05-17T20:46:45.494Z"
   },
   {
    "duration": 19,
    "start_time": "2025-05-17T20:46:45.567Z"
   },
   {
    "duration": 44,
    "start_time": "2025-05-17T20:46:45.588Z"
   },
   {
    "duration": 48,
    "start_time": "2025-05-17T20:46:45.634Z"
   },
   {
    "duration": 131,
    "start_time": "2025-05-17T20:46:45.683Z"
   },
   {
    "duration": 133,
    "start_time": "2025-05-17T20:46:45.815Z"
   },
   {
    "duration": 425,
    "start_time": "2025-05-17T20:46:45.950Z"
   },
   {
    "duration": 758,
    "start_time": "2025-05-17T20:46:46.377Z"
   },
   {
    "duration": 609,
    "start_time": "2025-05-17T20:46:47.136Z"
   },
   {
    "duration": 123,
    "start_time": "2025-05-17T20:46:47.747Z"
   },
   {
    "duration": 101,
    "start_time": "2025-05-17T20:46:47.872Z"
   },
   {
    "duration": 16,
    "start_time": "2025-05-17T20:46:47.974Z"
   },
   {
    "duration": 18,
    "start_time": "2025-05-17T20:46:47.992Z"
   },
   {
    "duration": 5,
    "start_time": "2025-05-17T20:46:48.012Z"
   },
   {
    "duration": 652,
    "start_time": "2025-05-17T20:46:48.019Z"
   },
   {
    "duration": 14,
    "start_time": "2025-05-17T20:46:48.673Z"
   },
   {
    "duration": 184,
    "start_time": "2025-05-17T20:46:48.689Z"
   },
   {
    "duration": 1373,
    "start_time": "2025-05-18T00:34:11.392Z"
   },
   {
    "duration": 2555,
    "start_time": "2025-05-18T00:34:12.770Z"
   },
   {
    "duration": 13,
    "start_time": "2025-05-18T00:34:15.327Z"
   },
   {
    "duration": 31,
    "start_time": "2025-05-18T00:34:15.342Z"
   },
   {
    "duration": 65,
    "start_time": "2025-05-18T00:34:15.376Z"
   },
   {
    "duration": 132,
    "start_time": "2025-05-18T00:34:15.442Z"
   },
   {
    "duration": 46,
    "start_time": "2025-05-18T00:34:15.576Z"
   },
   {
    "duration": 6,
    "start_time": "2025-05-18T00:34:15.623Z"
   },
   {
    "duration": 19,
    "start_time": "2025-05-18T00:34:15.630Z"
   },
   {
    "duration": 162,
    "start_time": "2025-05-18T00:34:15.650Z"
   },
   {
    "duration": 47,
    "start_time": "2025-05-18T00:34:15.813Z"
   },
   {
    "duration": 29,
    "start_time": "2025-05-18T00:34:15.861Z"
   },
   {
    "duration": 7,
    "start_time": "2025-05-18T00:34:15.892Z"
   },
   {
    "duration": 78,
    "start_time": "2025-05-18T00:34:15.902Z"
   },
   {
    "duration": 15,
    "start_time": "2025-05-18T00:34:15.982Z"
   },
   {
    "duration": 261,
    "start_time": "2025-05-18T00:34:15.999Z"
   },
   {
    "duration": 32,
    "start_time": "2025-05-18T00:34:16.262Z"
   },
   {
    "duration": 55,
    "start_time": "2025-05-18T00:34:16.296Z"
   },
   {
    "duration": 25,
    "start_time": "2025-05-18T00:34:16.353Z"
   },
   {
    "duration": 90,
    "start_time": "2025-05-18T00:34:16.379Z"
   },
   {
    "duration": 111,
    "start_time": "2025-05-18T00:34:16.471Z"
   },
   {
    "duration": 35,
    "start_time": "2025-05-18T00:34:16.584Z"
   },
   {
    "duration": 51,
    "start_time": "2025-05-18T00:34:16.621Z"
   },
   {
    "duration": 11,
    "start_time": "2025-05-18T00:34:16.674Z"
   },
   {
    "duration": 40,
    "start_time": "2025-05-18T00:34:16.686Z"
   },
   {
    "duration": 62,
    "start_time": "2025-05-18T00:34:16.728Z"
   },
   {
    "duration": 57,
    "start_time": "2025-05-18T00:34:16.792Z"
   },
   {
    "duration": 159,
    "start_time": "2025-05-18T00:34:16.851Z"
   },
   {
    "duration": 474,
    "start_time": "2025-05-18T00:34:17.011Z"
   },
   {
    "duration": 159,
    "start_time": "2025-05-18T00:34:17.487Z"
   },
   {
    "duration": 36,
    "start_time": "2025-05-18T00:34:17.648Z"
   },
   {
    "duration": 43,
    "start_time": "2025-05-18T00:34:17.685Z"
   },
   {
    "duration": 558,
    "start_time": "2025-05-18T00:34:17.730Z"
   },
   {
    "duration": 116,
    "start_time": "2025-05-18T00:34:18.289Z"
   },
   {
    "duration": 590,
    "start_time": "2025-05-18T00:34:18.406Z"
   },
   {
    "duration": 144,
    "start_time": "2025-05-18T00:34:18.998Z"
   },
   {
    "duration": 191,
    "start_time": "2025-05-18T00:34:19.144Z"
   },
   {
    "duration": 160,
    "start_time": "2025-05-18T00:34:19.337Z"
   },
   {
    "duration": 438,
    "start_time": "2025-05-18T00:34:19.499Z"
   },
   {
    "duration": 257,
    "start_time": "2025-05-18T00:34:19.939Z"
   },
   {
    "duration": 17,
    "start_time": "2025-05-18T00:34:20.200Z"
   },
   {
    "duration": 18,
    "start_time": "2025-05-18T00:34:20.219Z"
   },
   {
    "duration": 152,
    "start_time": "2025-05-18T00:34:20.238Z"
   },
   {
    "duration": 17,
    "start_time": "2025-05-18T00:34:20.392Z"
   },
   {
    "duration": 39,
    "start_time": "2025-05-18T00:34:20.410Z"
   },
   {
    "duration": 38,
    "start_time": "2025-05-18T00:34:20.450Z"
   },
   {
    "duration": 64,
    "start_time": "2025-05-18T00:34:20.489Z"
   },
   {
    "duration": 31,
    "start_time": "2025-05-18T00:34:20.555Z"
   },
   {
    "duration": 53,
    "start_time": "2025-05-18T00:34:20.588Z"
   },
   {
    "duration": 756,
    "start_time": "2025-05-18T00:34:20.643Z"
   },
   {
    "duration": 581,
    "start_time": "2025-05-18T00:34:21.400Z"
   },
   {
    "duration": 129,
    "start_time": "2025-05-18T00:34:21.983Z"
   },
   {
    "duration": 19,
    "start_time": "2025-05-18T00:34:22.114Z"
   },
   {
    "duration": 10,
    "start_time": "2025-05-18T00:34:22.134Z"
   },
   {
    "duration": 34,
    "start_time": "2025-05-18T00:34:22.145Z"
   },
   {
    "duration": 5,
    "start_time": "2025-05-18T00:34:22.181Z"
   },
   {
    "duration": 647,
    "start_time": "2025-05-18T00:34:22.187Z"
   },
   {
    "duration": 84,
    "start_time": "2025-05-18T00:34:22.836Z"
   },
   {
    "duration": 13,
    "start_time": "2025-05-18T00:34:22.921Z"
   },
   {
    "duration": 182,
    "start_time": "2025-05-18T00:34:22.936Z"
   },
   {
    "duration": 1488,
    "start_time": "2025-05-19T00:05:06.265Z"
   },
   {
    "duration": 2448,
    "start_time": "2025-05-19T00:05:07.755Z"
   },
   {
    "duration": 13,
    "start_time": "2025-05-19T00:05:10.204Z"
   },
   {
    "duration": 15,
    "start_time": "2025-05-19T00:05:10.219Z"
   },
   {
    "duration": 45,
    "start_time": "2025-05-19T00:05:10.236Z"
   },
   {
    "duration": 124,
    "start_time": "2025-05-19T00:05:10.283Z"
   },
   {
    "duration": 44,
    "start_time": "2025-05-19T00:05:10.409Z"
   },
   {
    "duration": 5,
    "start_time": "2025-05-19T00:05:10.455Z"
   },
   {
    "duration": 68,
    "start_time": "2025-05-19T00:05:10.462Z"
   },
   {
    "duration": 56,
    "start_time": "2025-05-19T00:05:10.533Z"
   },
   {
    "duration": 30,
    "start_time": "2025-05-19T00:05:10.591Z"
   },
   {
    "duration": 47,
    "start_time": "2025-05-19T00:05:10.623Z"
   },
   {
    "duration": 133,
    "start_time": "2025-05-19T00:05:10.672Z"
   },
   {
    "duration": 47,
    "start_time": "2025-05-19T00:05:10.807Z"
   },
   {
    "duration": 16,
    "start_time": "2025-05-19T00:05:10.855Z"
   },
   {
    "duration": 277,
    "start_time": "2025-05-19T00:05:10.872Z"
   },
   {
    "duration": 36,
    "start_time": "2025-05-19T00:05:11.151Z"
   },
   {
    "duration": 18,
    "start_time": "2025-05-19T00:05:11.189Z"
   },
   {
    "duration": 9,
    "start_time": "2025-05-19T00:05:11.208Z"
   },
   {
    "duration": 87,
    "start_time": "2025-05-19T00:05:11.218Z"
   },
   {
    "duration": 85,
    "start_time": "2025-05-19T00:05:11.307Z"
   },
   {
    "duration": 37,
    "start_time": "2025-05-19T00:05:11.393Z"
   },
   {
    "duration": 105,
    "start_time": "2025-05-19T00:05:11.432Z"
   },
   {
    "duration": 12,
    "start_time": "2025-05-19T00:05:11.538Z"
   },
   {
    "duration": 55,
    "start_time": "2025-05-19T00:05:11.551Z"
   },
   {
    "duration": 30,
    "start_time": "2025-05-19T00:05:11.608Z"
   },
   {
    "duration": 59,
    "start_time": "2025-05-19T00:05:11.640Z"
   },
   {
    "duration": 7,
    "start_time": "2025-05-19T00:05:11.703Z"
   },
   {
    "duration": 355,
    "start_time": "2025-05-19T00:05:11.712Z"
   },
   {
    "duration": 172,
    "start_time": "2025-05-19T00:05:12.071Z"
   },
   {
    "duration": 49,
    "start_time": "2025-05-19T00:05:12.245Z"
   },
   {
    "duration": 45,
    "start_time": "2025-05-19T00:05:12.296Z"
   },
   {
    "duration": 573,
    "start_time": "2025-05-19T00:05:12.343Z"
   },
   {
    "duration": 118,
    "start_time": "2025-05-19T00:05:12.919Z"
   },
   {
    "duration": 603,
    "start_time": "2025-05-19T00:05:13.039Z"
   },
   {
    "duration": 143,
    "start_time": "2025-05-19T00:05:13.644Z"
   },
   {
    "duration": 266,
    "start_time": "2025-05-19T00:05:13.789Z"
   },
   {
    "duration": 174,
    "start_time": "2025-05-19T00:05:14.056Z"
   },
   {
    "duration": 388,
    "start_time": "2025-05-19T00:05:14.232Z"
   },
   {
    "duration": 271,
    "start_time": "2025-05-19T00:05:14.621Z"
   },
   {
    "duration": 19,
    "start_time": "2025-05-19T00:05:14.894Z"
   },
   {
    "duration": 156,
    "start_time": "2025-05-19T00:05:14.915Z"
   },
   {
    "duration": 129,
    "start_time": "2025-05-19T00:05:15.073Z"
   },
   {
    "duration": 36,
    "start_time": "2025-05-19T00:05:15.204Z"
   },
   {
    "duration": 59,
    "start_time": "2025-05-19T00:05:15.242Z"
   },
   {
    "duration": 43,
    "start_time": "2025-05-19T00:05:15.302Z"
   },
   {
    "duration": 95,
    "start_time": "2025-05-19T00:05:15.347Z"
   },
   {
    "duration": 79,
    "start_time": "2025-05-19T00:05:15.444Z"
   },
   {
    "duration": 32,
    "start_time": "2025-05-19T00:05:15.525Z"
   },
   {
    "duration": 851,
    "start_time": "2025-05-19T00:05:15.559Z"
   },
   {
    "duration": 633,
    "start_time": "2025-05-19T00:05:16.412Z"
   },
   {
    "duration": 129,
    "start_time": "2025-05-19T00:05:17.046Z"
   },
   {
    "duration": 18,
    "start_time": "2025-05-19T00:05:17.177Z"
   },
   {
    "duration": 11,
    "start_time": "2025-05-19T00:05:17.196Z"
   },
   {
    "duration": 38,
    "start_time": "2025-05-19T00:05:17.208Z"
   },
   {
    "duration": 10,
    "start_time": "2025-05-19T00:05:17.248Z"
   },
   {
    "duration": 689,
    "start_time": "2025-05-19T00:05:17.260Z"
   },
   {
    "duration": 77,
    "start_time": "2025-05-19T00:05:17.951Z"
   },
   {
    "duration": 14,
    "start_time": "2025-05-19T00:05:18.029Z"
   },
   {
    "duration": 201,
    "start_time": "2025-05-19T00:05:18.045Z"
   },
   {
    "duration": 1362,
    "start_time": "2025-05-19T03:28:32.604Z"
   },
   {
    "duration": 2089,
    "start_time": "2025-05-19T03:28:33.968Z"
   },
   {
    "duration": 12,
    "start_time": "2025-05-19T03:28:36.058Z"
   },
   {
    "duration": 31,
    "start_time": "2025-05-19T03:28:36.073Z"
   },
   {
    "duration": 28,
    "start_time": "2025-05-19T03:28:36.106Z"
   },
   {
    "duration": 99,
    "start_time": "2025-05-19T03:28:36.135Z"
   },
   {
    "duration": 50,
    "start_time": "2025-05-19T03:28:36.236Z"
   },
   {
    "duration": 18,
    "start_time": "2025-05-19T03:28:36.287Z"
   },
   {
    "duration": 41,
    "start_time": "2025-05-19T03:28:36.307Z"
   },
   {
    "duration": 75,
    "start_time": "2025-05-19T03:28:36.351Z"
   },
   {
    "duration": 7,
    "start_time": "2025-05-19T03:28:36.427Z"
   },
   {
    "duration": 20,
    "start_time": "2025-05-19T03:28:36.436Z"
   },
   {
    "duration": 103,
    "start_time": "2025-05-19T03:28:36.458Z"
   },
   {
    "duration": 85,
    "start_time": "2025-05-19T03:28:36.563Z"
   },
   {
    "duration": 14,
    "start_time": "2025-05-19T03:28:36.649Z"
   },
   {
    "duration": 229,
    "start_time": "2025-05-19T03:28:36.664Z"
   },
   {
    "duration": 29,
    "start_time": "2025-05-19T03:28:36.895Z"
   },
   {
    "duration": 6,
    "start_time": "2025-05-19T03:28:36.925Z"
   },
   {
    "duration": 32,
    "start_time": "2025-05-19T03:28:36.933Z"
   },
   {
    "duration": 80,
    "start_time": "2025-05-19T03:28:36.967Z"
   },
   {
    "duration": 75,
    "start_time": "2025-05-19T03:28:37.048Z"
   },
   {
    "duration": 44,
    "start_time": "2025-05-19T03:28:37.124Z"
   },
   {
    "duration": 51,
    "start_time": "2025-05-19T03:28:37.170Z"
   },
   {
    "duration": 11,
    "start_time": "2025-05-19T03:28:37.223Z"
   },
   {
    "duration": 16,
    "start_time": "2025-05-19T03:28:37.235Z"
   },
   {
    "duration": 33,
    "start_time": "2025-05-19T03:28:37.253Z"
   },
   {
    "duration": 30,
    "start_time": "2025-05-19T03:28:37.288Z"
   },
   {
    "duration": 12,
    "start_time": "2025-05-19T03:28:37.322Z"
   },
   {
    "duration": 348,
    "start_time": "2025-05-19T03:28:37.336Z"
   },
   {
    "duration": 148,
    "start_time": "2025-05-19T03:28:37.685Z"
   },
   {
    "duration": 41,
    "start_time": "2025-05-19T03:28:37.835Z"
   },
   {
    "duration": 59,
    "start_time": "2025-05-19T03:28:37.877Z"
   },
   {
    "duration": 585,
    "start_time": "2025-05-19T03:28:37.938Z"
   },
   {
    "duration": 115,
    "start_time": "2025-05-19T03:28:38.525Z"
   },
   {
    "duration": 580,
    "start_time": "2025-05-19T03:28:38.641Z"
   },
   {
    "duration": 132,
    "start_time": "2025-05-19T03:28:39.223Z"
   },
   {
    "duration": 181,
    "start_time": "2025-05-19T03:28:39.361Z"
   },
   {
    "duration": 152,
    "start_time": "2025-05-19T03:28:39.544Z"
   },
   {
    "duration": 448,
    "start_time": "2025-05-19T03:28:39.698Z"
   },
   {
    "duration": 253,
    "start_time": "2025-05-19T03:28:40.148Z"
   },
   {
    "duration": 17,
    "start_time": "2025-05-19T03:28:40.403Z"
   },
   {
    "duration": 26,
    "start_time": "2025-05-19T03:28:40.422Z"
   },
   {
    "duration": 54,
    "start_time": "2025-05-19T03:28:40.450Z"
   },
   {
    "duration": 126,
    "start_time": "2025-05-19T03:28:40.506Z"
   },
   {
    "duration": 23,
    "start_time": "2025-05-19T03:28:40.634Z"
   },
   {
    "duration": 22,
    "start_time": "2025-05-19T03:28:40.659Z"
   },
   {
    "duration": 57,
    "start_time": "2025-05-19T03:28:40.683Z"
   },
   {
    "duration": 35,
    "start_time": "2025-05-19T03:28:40.742Z"
   },
   {
    "duration": 11,
    "start_time": "2025-05-19T03:28:40.779Z"
   },
   {
    "duration": 756,
    "start_time": "2025-05-19T03:28:40.792Z"
   },
   {
    "duration": 604,
    "start_time": "2025-05-19T03:28:41.549Z"
   },
   {
    "duration": 124,
    "start_time": "2025-05-19T03:28:42.162Z"
   },
   {
    "duration": 17,
    "start_time": "2025-05-19T03:28:42.287Z"
   },
   {
    "duration": 9,
    "start_time": "2025-05-19T03:28:42.306Z"
   },
   {
    "duration": 23,
    "start_time": "2025-05-19T03:28:42.317Z"
   },
   {
    "duration": 4,
    "start_time": "2025-05-19T03:28:42.342Z"
   },
   {
    "duration": 634,
    "start_time": "2025-05-19T03:28:42.361Z"
   },
   {
    "duration": 74,
    "start_time": "2025-05-19T03:28:42.996Z"
   },
   {
    "duration": 14,
    "start_time": "2025-05-19T03:28:43.071Z"
   },
   {
    "duration": 13,
    "start_time": "2025-05-19T03:28:43.087Z"
   },
   {
    "duration": 181,
    "start_time": "2025-05-19T03:28:43.102Z"
   },
   {
    "duration": 16,
    "start_time": "2025-05-19T03:28:52.888Z"
   },
   {
    "duration": 20,
    "start_time": "2025-05-19T03:29:27.992Z"
   },
   {
    "duration": 36,
    "start_time": "2025-05-19T03:29:58.292Z"
   },
   {
    "duration": 1577,
    "start_time": "2025-05-19T15:17:33.481Z"
   },
   {
    "duration": 3036,
    "start_time": "2025-05-19T15:17:35.067Z"
   },
   {
    "duration": 14,
    "start_time": "2025-05-19T15:17:38.105Z"
   },
   {
    "duration": 38,
    "start_time": "2025-05-19T15:17:38.121Z"
   },
   {
    "duration": 43,
    "start_time": "2025-05-19T15:17:38.162Z"
   },
   {
    "duration": 128,
    "start_time": "2025-05-19T15:17:38.206Z"
   },
   {
    "duration": 49,
    "start_time": "2025-05-19T15:17:38.335Z"
   },
   {
    "duration": 6,
    "start_time": "2025-05-19T15:17:38.386Z"
   },
   {
    "duration": 16,
    "start_time": "2025-05-19T15:17:38.394Z"
   },
   {
    "duration": 80,
    "start_time": "2025-05-19T15:17:38.413Z"
   },
   {
    "duration": 30,
    "start_time": "2025-05-19T15:17:38.494Z"
   },
   {
    "duration": 43,
    "start_time": "2025-05-19T15:17:38.525Z"
   },
   {
    "duration": 10,
    "start_time": "2025-05-19T15:17:38.570Z"
   },
   {
    "duration": 24,
    "start_time": "2025-05-19T15:17:38.583Z"
   },
   {
    "duration": 17,
    "start_time": "2025-05-19T15:17:38.609Z"
   },
   {
    "duration": 288,
    "start_time": "2025-05-19T15:17:38.628Z"
   },
   {
    "duration": 44,
    "start_time": "2025-05-19T15:17:38.917Z"
   },
   {
    "duration": 26,
    "start_time": "2025-05-19T15:17:38.963Z"
   },
   {
    "duration": 6,
    "start_time": "2025-05-19T15:17:38.991Z"
   },
   {
    "duration": 97,
    "start_time": "2025-05-19T15:17:38.999Z"
   },
   {
    "duration": 94,
    "start_time": "2025-05-19T15:17:39.098Z"
   },
   {
    "duration": 52,
    "start_time": "2025-05-19T15:17:39.194Z"
   },
   {
    "duration": 78,
    "start_time": "2025-05-19T15:17:39.256Z"
   },
   {
    "duration": 24,
    "start_time": "2025-05-19T15:17:39.336Z"
   },
   {
    "duration": 22,
    "start_time": "2025-05-19T15:17:39.363Z"
   },
   {
    "duration": 20,
    "start_time": "2025-05-19T15:17:39.386Z"
   },
   {
    "duration": 46,
    "start_time": "2025-05-19T15:17:39.408Z"
   },
   {
    "duration": 10,
    "start_time": "2025-05-19T15:17:39.460Z"
   },
   {
    "duration": 414,
    "start_time": "2025-05-19T15:17:39.472Z"
   },
   {
    "duration": 190,
    "start_time": "2025-05-19T15:17:39.888Z"
   },
   {
    "duration": 32,
    "start_time": "2025-05-19T15:17:40.080Z"
   },
   {
    "duration": 80,
    "start_time": "2025-05-19T15:17:40.114Z"
   },
   {
    "duration": 602,
    "start_time": "2025-05-19T15:17:40.196Z"
   },
   {
    "duration": 136,
    "start_time": "2025-05-19T15:17:40.800Z"
   },
   {
    "duration": 678,
    "start_time": "2025-05-19T15:17:40.940Z"
   },
   {
    "duration": 158,
    "start_time": "2025-05-19T15:17:41.620Z"
   },
   {
    "duration": 210,
    "start_time": "2025-05-19T15:17:41.780Z"
   },
   {
    "duration": 202,
    "start_time": "2025-05-19T15:17:41.993Z"
   },
   {
    "duration": 564,
    "start_time": "2025-05-19T15:17:42.197Z"
   },
   {
    "duration": 303,
    "start_time": "2025-05-19T15:17:42.763Z"
   },
   {
    "duration": 18,
    "start_time": "2025-05-19T15:17:43.071Z"
   },
   {
    "duration": 16,
    "start_time": "2025-05-19T15:17:43.091Z"
   },
   {
    "duration": 84,
    "start_time": "2025-05-19T15:17:43.109Z"
   },
   {
    "duration": 83,
    "start_time": "2025-05-19T15:17:43.194Z"
   },
   {
    "duration": 24,
    "start_time": "2025-05-19T15:17:43.279Z"
   },
   {
    "duration": 80,
    "start_time": "2025-05-19T15:17:43.305Z"
   },
   {
    "duration": 87,
    "start_time": "2025-05-19T15:17:43.387Z"
   },
   {
    "duration": 22,
    "start_time": "2025-05-19T15:17:43.476Z"
   },
   {
    "duration": 55,
    "start_time": "2025-05-19T15:17:43.500Z"
   },
   {
    "duration": 936,
    "start_time": "2025-05-19T15:17:43.559Z"
   },
   {
    "duration": 806,
    "start_time": "2025-05-19T15:17:44.496Z"
   },
   {
    "duration": 184,
    "start_time": "2025-05-19T15:17:45.304Z"
   },
   {
    "duration": 20,
    "start_time": "2025-05-19T15:17:45.490Z"
   },
   {
    "duration": 33,
    "start_time": "2025-05-19T15:17:45.512Z"
   },
   {
    "duration": 26,
    "start_time": "2025-05-19T15:17:45.552Z"
   },
   {
    "duration": 13,
    "start_time": "2025-05-19T15:17:45.579Z"
   },
   {
    "duration": 836,
    "start_time": "2025-05-19T15:17:45.593Z"
   },
   {
    "duration": 112,
    "start_time": "2025-05-19T15:17:46.431Z"
   },
   {
    "duration": 32,
    "start_time": "2025-05-19T15:17:46.545Z"
   },
   {
    "duration": 22,
    "start_time": "2025-05-19T15:17:46.579Z"
   },
   {
    "duration": 244,
    "start_time": "2025-05-19T15:17:46.604Z"
   },
   {
    "duration": 58,
    "start_time": "2025-05-19T15:20:27.058Z"
   },
   {
    "duration": 62,
    "start_time": "2025-05-19T15:20:40.007Z"
   },
   {
    "duration": 27,
    "start_time": "2025-05-19T15:20:45.598Z"
   },
   {
    "duration": 95,
    "start_time": "2025-05-19T15:21:01.638Z"
   },
   {
    "duration": 41,
    "start_time": "2025-05-19T15:21:17.225Z"
   },
   {
    "duration": 33,
    "start_time": "2025-05-19T15:21:53.256Z"
   },
   {
    "duration": 33,
    "start_time": "2025-05-19T15:23:15.097Z"
   },
   {
    "duration": 149,
    "start_time": "2025-05-19T15:31:05.826Z"
   },
   {
    "duration": 11,
    "start_time": "2025-05-19T15:31:33.798Z"
   },
   {
    "duration": 99,
    "start_time": "2025-05-19T15:31:47.362Z"
   },
   {
    "duration": 32,
    "start_time": "2025-05-19T15:32:24.417Z"
   },
   {
    "duration": 29,
    "start_time": "2025-05-19T15:32:53.857Z"
   },
   {
    "duration": 8,
    "start_time": "2025-05-19T15:37:09.087Z"
   },
   {
    "duration": 9,
    "start_time": "2025-05-19T15:38:30.859Z"
   },
   {
    "duration": 1202,
    "start_time": "2025-05-19T15:43:23.908Z"
   },
   {
    "duration": 8,
    "start_time": "2025-05-19T15:43:33.659Z"
   },
   {
    "duration": 10,
    "start_time": "2025-05-19T15:45:32.949Z"
   },
   {
    "duration": 6,
    "start_time": "2025-05-19T15:45:49.701Z"
   },
   {
    "duration": 8,
    "start_time": "2025-05-19T15:48:46.661Z"
   },
   {
    "duration": 7,
    "start_time": "2025-05-19T16:15:44.980Z"
   },
   {
    "duration": 32,
    "start_time": "2025-05-19T16:39:05.740Z"
   },
   {
    "duration": 1471,
    "start_time": "2025-05-20T12:46:58.791Z"
   },
   {
    "duration": 2582,
    "start_time": "2025-05-20T12:47:00.264Z"
   },
   {
    "duration": 14,
    "start_time": "2025-05-20T12:47:02.847Z"
   },
   {
    "duration": 134,
    "start_time": "2025-05-20T12:47:02.863Z"
   },
   {
    "duration": 87,
    "start_time": "2025-05-20T12:47:02.998Z"
   },
   {
    "duration": 118,
    "start_time": "2025-05-20T12:47:03.086Z"
   },
   {
    "duration": 43,
    "start_time": "2025-05-20T12:47:03.206Z"
   },
   {
    "duration": 51,
    "start_time": "2025-05-20T12:47:03.251Z"
   },
   {
    "duration": 152,
    "start_time": "2025-05-20T12:47:03.304Z"
   },
   {
    "duration": 87,
    "start_time": "2025-05-20T12:47:03.459Z"
   },
   {
    "duration": 8,
    "start_time": "2025-05-20T12:47:03.548Z"
   },
   {
    "duration": 32,
    "start_time": "2025-05-20T12:47:03.557Z"
   },
   {
    "duration": 34,
    "start_time": "2025-05-20T12:47:03.591Z"
   },
   {
    "duration": 73,
    "start_time": "2025-05-20T12:47:03.626Z"
   },
   {
    "duration": 15,
    "start_time": "2025-05-20T12:47:03.701Z"
   },
   {
    "duration": 247,
    "start_time": "2025-05-20T12:47:03.718Z"
   },
   {
    "duration": 39,
    "start_time": "2025-05-20T12:47:03.967Z"
   },
   {
    "duration": 48,
    "start_time": "2025-05-20T12:47:04.007Z"
   },
   {
    "duration": 268,
    "start_time": "2025-05-20T12:47:04.057Z"
   },
   {
    "duration": 117,
    "start_time": "2025-05-20T12:47:04.326Z"
   },
   {
    "duration": 83,
    "start_time": "2025-05-20T12:47:04.445Z"
   },
   {
    "duration": 38,
    "start_time": "2025-05-20T12:47:04.530Z"
   },
   {
    "duration": 49,
    "start_time": "2025-05-20T12:47:04.570Z"
   },
   {
    "duration": 120,
    "start_time": "2025-05-20T12:47:04.621Z"
   },
   {
    "duration": 50,
    "start_time": "2025-05-20T12:47:04.743Z"
   },
   {
    "duration": 60,
    "start_time": "2025-05-20T12:47:04.794Z"
   },
   {
    "duration": 32,
    "start_time": "2025-05-20T12:47:04.856Z"
   },
   {
    "duration": 58,
    "start_time": "2025-05-20T12:47:04.892Z"
   },
   {
    "duration": 398,
    "start_time": "2025-05-20T12:47:04.952Z"
   },
   {
    "duration": 180,
    "start_time": "2025-05-20T12:47:05.351Z"
   },
   {
    "duration": 35,
    "start_time": "2025-05-20T12:47:05.533Z"
   },
   {
    "duration": 72,
    "start_time": "2025-05-20T12:47:05.570Z"
   },
   {
    "duration": 637,
    "start_time": "2025-05-20T12:47:05.644Z"
   },
   {
    "duration": 124,
    "start_time": "2025-05-20T12:47:06.283Z"
   },
   {
    "duration": 606,
    "start_time": "2025-05-20T12:47:06.409Z"
   },
   {
    "duration": 143,
    "start_time": "2025-05-20T12:47:07.017Z"
   },
   {
    "duration": 198,
    "start_time": "2025-05-20T12:47:07.162Z"
   },
   {
    "duration": 167,
    "start_time": "2025-05-20T12:47:07.362Z"
   },
   {
    "duration": 469,
    "start_time": "2025-05-20T12:47:07.531Z"
   },
   {
    "duration": 305,
    "start_time": "2025-05-20T12:47:08.004Z"
   },
   {
    "duration": 18,
    "start_time": "2025-05-20T12:47:08.311Z"
   },
   {
    "duration": 57,
    "start_time": "2025-05-20T12:47:08.331Z"
   },
   {
    "duration": 59,
    "start_time": "2025-05-20T12:47:08.389Z"
   },
   {
    "duration": 18,
    "start_time": "2025-05-20T12:47:08.450Z"
   },
   {
    "duration": 43,
    "start_time": "2025-05-20T12:47:08.470Z"
   },
   {
    "duration": 29,
    "start_time": "2025-05-20T12:47:08.515Z"
   },
   {
    "duration": 70,
    "start_time": "2025-05-20T12:47:08.546Z"
   },
   {
    "duration": 22,
    "start_time": "2025-05-20T12:47:08.618Z"
   },
   {
    "duration": 83,
    "start_time": "2025-05-20T12:47:08.642Z"
   },
   {
    "duration": 786,
    "start_time": "2025-05-20T12:47:08.727Z"
   },
   {
    "duration": 654,
    "start_time": "2025-05-20T12:47:09.515Z"
   },
   {
    "duration": 139,
    "start_time": "2025-05-20T12:47:10.171Z"
   },
   {
    "duration": 32,
    "start_time": "2025-05-20T12:47:10.312Z"
   },
   {
    "duration": 12,
    "start_time": "2025-05-20T12:47:10.346Z"
   },
   {
    "duration": 18,
    "start_time": "2025-05-20T12:47:10.360Z"
   },
   {
    "duration": 27,
    "start_time": "2025-05-20T12:47:10.379Z"
   },
   {
    "duration": 675,
    "start_time": "2025-05-20T12:47:10.408Z"
   },
   {
    "duration": 84,
    "start_time": "2025-05-20T12:47:11.086Z"
   },
   {
    "duration": 46,
    "start_time": "2025-05-20T12:47:11.172Z"
   },
   {
    "duration": 7,
    "start_time": "2025-05-20T12:47:11.220Z"
   },
   {
    "duration": 7,
    "start_time": "2025-05-20T12:47:11.229Z"
   },
   {
    "duration": 6,
    "start_time": "2025-05-20T12:47:11.238Z"
   },
   {
    "duration": 16,
    "start_time": "2025-05-20T12:47:11.245Z"
   },
   {
    "duration": 211,
    "start_time": "2025-05-20T12:47:11.262Z"
   }
  ],
  "colab": {
   "provenance": []
  },
  "kernelspec": {
   "display_name": "Python 3 (ipykernel)",
   "language": "python",
   "name": "python3"
  },
  "language_info": {
   "codemirror_mode": {
    "name": "ipython",
    "version": 3
   },
   "file_extension": ".py",
   "mimetype": "text/x-python",
   "name": "python",
   "nbconvert_exporter": "python",
   "pygments_lexer": "ipython3",
   "version": "3.9.5"
  },
  "toc": {
   "base_numbering": 1,
   "nav_menu": {},
   "number_sections": true,
   "sideBar": true,
   "skip_h1_title": true,
   "title_cell": "Table of Contents",
   "title_sidebar": "Contents",
   "toc_cell": false,
   "toc_position": {},
   "toc_section_display": true,
   "toc_window_display": false
  }
 },
 "nbformat": 4,
 "nbformat_minor": 1
}
