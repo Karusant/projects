{
 "cells": [
  {
   "cell_type": "markdown",
   "id": "_E41Wr5fqnFT",
   "metadata": {
    "id": "_E41Wr5fqnFT"
   },
   "source": [
    "# Часть 1. Проверка гипотезы в Python и составление аналитической записки"
   ]
  },
  {
   "cell_type": "markdown",
   "id": "4149134c",
   "metadata": {
    "id": "4149134c"
   },
   "source": [
    "## Цели и задачи проекта\n",
    "\n",
    "Цели:\n",
    "\n",
    "- Сравнить среднее время активности пользователей в Москве и Санкт-Петербурге\n",
    "\n",
    "- Проверить статистическую значимость различий\n",
    "\n",
    "- Выявить возможные причины обнаруженных различий"
   ]
  },
  {
   "cell_type": "markdown",
   "id": "bab5b2ce",
   "metadata": {},
   "source": [
    "Задачи:\n",
    "\n",
    "- Загрузить и предобработать данные\n",
    "\n",
    "- Провести описательный анализ выборок\n",
    "\n",
    "- Выполнить статистическую проверку гипотез\n",
    "\n",
    "- Интерпретировать результаты\n",
    "\n",
    "- Сформулировать выводы и рекомендации"
   ]
  },
  {
   "cell_type": "markdown",
   "id": "728986ea",
   "metadata": {
    "id": "728986ea"
   },
   "source": [
    "## Описание данных\n",
    "\n",
    "Таблица с пользователями ``\n",
    "\n",
    "- `puid` — идентификатор пользователя.\n",
    "\n",
    "- `city` — город.\n",
    "\n",
    "- `hours` — длительность чтения или прослушивания в часах."
   ]
  },
  {
   "cell_type": "markdown",
   "id": "4fecaf95",
   "metadata": {
    "id": "4fecaf95"
   },
   "source": [
    "## Содержимое проекта\n",
    "\n",
    "1. Загрузка данных и знакомство с ними\n",
    "2. Проверка гипотезы в Python\n",
    "3. Аналитическая записка\n"
   ]
  },
  {
   "cell_type": "markdown",
   "id": "6f7d21d6",
   "metadata": {
    "id": "6f7d21d6"
   },
   "source": [
    "## 1. Загрузка данных и знакомство с ними\n",
    "\n",
    "Загрузите данные пользователей из Москвы и Санкт-Петербурга c их активностью (суммой часов чтения и прослушивания) из файла ``."
   ]
  },
  {
   "cell_type": "code",
   "execution_count": 1,
   "id": "05faf34b",
   "metadata": {
    "id": "05faf34b"
   },
   "outputs": [],
   "source": [
    "import pandas as pd\n",
    "import scipy.stats as st\n",
    "import numpy as np\n",
    "import matplotlib.pyplot as plt\n",
    "import math"
   ]
  },
  {
   "cell_type": "code",
   "execution_count": 2,
   "id": "ce87c1db",
   "metadata": {
    "id": "ce87c1db"
   },
   "outputs": [
    {
     "name": "stdout",
     "output_type": "stream",
     "text": [
      "<class 'pandas.core.frame.DataFrame'>\n",
      "RangeIndex: 8784 entries, 0 to 8783\n",
      "Data columns (total 4 columns):\n",
      " #   Column      Non-Null Count  Dtype  \n",
      "---  ------      --------------  -----  \n",
      " 0   Unnamed: 0  8784 non-null   int64  \n",
      " 1   city        8784 non-null   object \n",
      " 2   puid        8784 non-null   int64  \n",
      " 3   hours       8784 non-null   float64\n",
      "dtypes: float64(1), int64(2), object(1)\n",
      "memory usage: 274.6+ KB\n"
     ]
    }
   ],
   "source": [
    "df = pd.read_csv('')\n",
    "df.info()"
   ]
  },
  {
   "cell_type": "code",
   "execution_count": 3,
   "id": "f68a7419",
   "metadata": {
    "id": "f68a7419",
    "scrolled": true
   },
   "outputs": [
    {
     "data": {
      "text/html": [
       "<div>\n",
       "<style scoped>\n",
       "    .dataframe tbody tr th:only-of-type {\n",
       "        vertical-align: middle;\n",
       "    }\n",
       "\n",
       "    .dataframe tbody tr th {\n",
       "        vertical-align: top;\n",
       "    }\n",
       "\n",
       "    .dataframe thead th {\n",
       "        text-align: right;\n",
       "    }\n",
       "</style>\n",
       "<table border=\"1\" class=\"dataframe\">\n",
       "  <thead>\n",
       "    <tr style=\"text-align: right;\">\n",
       "      <th></th>\n",
       "      <th>Unnamed: 0</th>\n",
       "      <th>city</th>\n",
       "      <th>puid</th>\n",
       "      <th>hours</th>\n",
       "    </tr>\n",
       "  </thead>\n",
       "  <tbody>\n",
       "    <tr>\n",
       "      <th>0</th>\n",
       "      <td>0</td>\n",
       "      <td>Москва</td>\n",
       "      <td>9668</td>\n",
       "      <td>26.167776</td>\n",
       "    </tr>\n",
       "    <tr>\n",
       "      <th>1</th>\n",
       "      <td>1</td>\n",
       "      <td>Москва</td>\n",
       "      <td>16598</td>\n",
       "      <td>82.111217</td>\n",
       "    </tr>\n",
       "    <tr>\n",
       "      <th>2</th>\n",
       "      <td>2</td>\n",
       "      <td>Москва</td>\n",
       "      <td>80401</td>\n",
       "      <td>4.656906</td>\n",
       "    </tr>\n",
       "    <tr>\n",
       "      <th>3</th>\n",
       "      <td>3</td>\n",
       "      <td>Москва</td>\n",
       "      <td>140205</td>\n",
       "      <td>1.840556</td>\n",
       "    </tr>\n",
       "    <tr>\n",
       "      <th>4</th>\n",
       "      <td>4</td>\n",
       "      <td>Москва</td>\n",
       "      <td>248755</td>\n",
       "      <td>151.326434</td>\n",
       "    </tr>\n",
       "    <tr>\n",
       "      <th>...</th>\n",
       "      <td>...</td>\n",
       "      <td>...</td>\n",
       "      <td>...</td>\n",
       "      <td>...</td>\n",
       "    </tr>\n",
       "    <tr>\n",
       "      <th>8779</th>\n",
       "      <td>8779</td>\n",
       "      <td>Санкт-Петербург</td>\n",
       "      <td>1130000028554332</td>\n",
       "      <td>4.107774</td>\n",
       "    </tr>\n",
       "    <tr>\n",
       "      <th>8780</th>\n",
       "      <td>8780</td>\n",
       "      <td>Санкт-Петербург</td>\n",
       "      <td>1130000030307246</td>\n",
       "      <td>45.069222</td>\n",
       "    </tr>\n",
       "    <tr>\n",
       "      <th>8781</th>\n",
       "      <td>8781</td>\n",
       "      <td>Санкт-Петербург</td>\n",
       "      <td>1130000038726322</td>\n",
       "      <td>0.211944</td>\n",
       "    </tr>\n",
       "    <tr>\n",
       "      <th>8782</th>\n",
       "      <td>8782</td>\n",
       "      <td>Санкт-Петербург</td>\n",
       "      <td>1130000047892100</td>\n",
       "      <td>4.311841</td>\n",
       "    </tr>\n",
       "    <tr>\n",
       "      <th>8783</th>\n",
       "      <td>8783</td>\n",
       "      <td>Санкт-Петербург</td>\n",
       "      <td>1130000061443598</td>\n",
       "      <td>20.847222</td>\n",
       "    </tr>\n",
       "  </tbody>\n",
       "</table>\n",
       "<p>8784 rows × 4 columns</p>\n",
       "</div>"
      ],
      "text/plain": [
       "      Unnamed: 0             city              puid       hours\n",
       "0              0           Москва              9668   26.167776\n",
       "1              1           Москва             16598   82.111217\n",
       "2              2           Москва             80401    4.656906\n",
       "3              3           Москва            140205    1.840556\n",
       "4              4           Москва            248755  151.326434\n",
       "...          ...              ...               ...         ...\n",
       "8779        8779  Санкт-Петербург  1130000028554332    4.107774\n",
       "8780        8780  Санкт-Петербург  1130000030307246   45.069222\n",
       "8781        8781  Санкт-Петербург  1130000038726322    0.211944\n",
       "8782        8782  Санкт-Петербург  1130000047892100    4.311841\n",
       "8783        8783  Санкт-Петербург  1130000061443598   20.847222\n",
       "\n",
       "[8784 rows x 4 columns]"
      ]
     },
     "metadata": {},
     "output_type": "display_data"
    }
   ],
   "source": [
    "display(df)"
   ]
  },
  {
   "cell_type": "code",
   "execution_count": 4,
   "id": "eb60f376",
   "metadata": {
    "scrolled": true
   },
   "outputs": [
    {
     "name": "stdout",
     "output_type": "stream",
     "text": [
      "244\n"
     ]
    }
   ],
   "source": [
    "duplicates_count = df.duplicated(subset=['puid']).sum()# находим дубликаты в индетификаторах пользователей\n",
    "print(duplicates_count)"
   ]
  },
  {
   "cell_type": "code",
   "execution_count": 5,
   "id": "8517fb77",
   "metadata": {},
   "outputs": [],
   "source": [
    "df = df.drop_duplicates(subset=['puid'])\n"
   ]
  },
  {
   "cell_type": "code",
   "execution_count": 6,
   "id": "3d4ae5c4",
   "metadata": {},
   "outputs": [
    {
     "name": "stdout",
     "output_type": "stream",
     "text": [
      "Москва             6234\n",
      "Санкт-Петербург    2306\n",
      "Name: city, dtype: int64\n"
     ]
    }
   ],
   "source": [
    "group_size = df['city'].value_counts()# Сравниваем размеры групп\n",
    "print(group_size)"
   ]
  },
  {
   "cell_type": "markdown",
   "id": "b9259553",
   "metadata": {},
   "source": [
    "Дубликатов и пропусков в данных нет. Размеры групп сильно различаются."
   ]
  },
  {
   "cell_type": "markdown",
   "id": "956e82e2",
   "metadata": {
    "id": "956e82e2"
   },
   "source": [
    "## 2. Проверка гипотезы в Python\n",
    "\n",
    "\n",
    "- Нулевая гипотеза H₀: Средняя активность пользователей в часах в двух группах (Москва и Санкт-Петербург) не различается.\n",
    "\n",
    "- Альтернативная гипотеза H₁: Средняя активность пользователей в Санкт-Петербурге больше, и это различие статистически значимо."
   ]
  },
  {
   "cell_type": "code",
   "execution_count": 7,
   "id": "67956690",
   "metadata": {
    "id": "67956690"
   },
   "outputs": [
    {
     "name": "stdout",
     "output_type": "stream",
     "text": [
      "Москва (среднее): 10.88109206345796\n",
      "СПб (среднее): 11.264433367029522\n"
     ]
    }
   ],
   "source": [
    "# Фильтрация данных по Москве и СПб\n",
    "msk = df[df['city'] == 'Москва']['hours']\n",
    "spb = df[df['city'] == 'Санкт-Петербург']['hours']\n",
    "\n",
    "# Описательная статистика\n",
    "print(\"Москва (среднее):\", msk.mean())\n",
    "print(\"СПб (среднее):\", spb.mean())"
   ]
  },
  {
   "cell_type": "code",
   "execution_count": 8,
   "id": "3f897fa9",
   "metadata": {},
   "outputs": [
    {
     "name": "stdout",
     "output_type": "stream",
     "text": [
      "p-значение (Москва): 0.0\n",
      "p-значение (СПб): 0.0\n"
     ]
    },
    {
     "name": "stderr",
     "output_type": "stream",
     "text": [
      "/opt/conda/lib/python3.9/site-packages/scipy/stats/_morestats.py:1800: UserWarning: p-value may not be accurate for N > 5000.\n",
      "  warnings.warn(\"p-value may not be accurate for N > 5000.\")\n"
     ]
    }
   ],
   "source": [
    "# перед t-тестом убедимся, что данные распределены нормально\n",
    "_, p_msk = st.shapiro(msk)\n",
    "_, p_spb = st.shapiro(spb)\n",
    "\n",
    "print(\"p-значение (Москва):\", p_msk)\n",
    "print(\"p-значение (СПб):\", p_spb)"
   ]
  },
  {
   "cell_type": "code",
   "execution_count": 9,
   "id": "a9d9e40a",
   "metadata": {
    "scrolled": true
   },
   "outputs": [
    {
     "name": "stdout",
     "output_type": "stream",
     "text": [
      "U-статистика: 7157178.5\n",
      "p-значение: 0.6189600878052618\n"
     ]
    }
   ],
   "source": [
    "# тест Манна-Уитни\n",
    "u_stat, p_value = st.mannwhitneyu(spb, msk, alternative='greater')\n",
    "print(\"U-статистика:\", u_stat)\n",
    "print(\"p-значение:\", p_value)"
   ]
  },
  {
   "cell_type": "markdown",
   "id": "5ca2a4b9",
   "metadata": {},
   "source": [
    "Так как при проверке тестом Шапиро-Уилка мы получили, что данные распределены не нормально, то мы использовали тест Манна-Уитни и получили p_value = 0,089 и следовательно недостаточно оснований отвергнуть H₀ и разница статистически незначима. Если в одной или обеих группах есть сильный разброс значений (например, часть пользователей читает 1 час, а часть — 20 часов), тест Манна-Уитни может \"не замечать\" различий из-за перекрывающихся распределений."
   ]
  },
  {
   "cell_type": "markdown",
   "id": "NqOUIYhbrIfC",
   "metadata": {
    "id": "NqOUIYhbrIfC"
   },
   "source": [
    "# Часть 2. Анализ результатов A/B-тестирования"
   ]
  },
  {
   "cell_type": "markdown",
   "id": "dd70c8b8",
   "metadata": {},
   "source": [
    "**Данные**\n",
    "\n",
    "** — таблица участников тестов.**\n",
    "\n",
    "Структура файла:\n",
    "\n",
    "- `user_id` — идентификатор пользователя;\n",
    "\n",
    "- `group` — группа пользователя;\n",
    "\n",
    "- `ab_test` — название теста;\n",
    "\n",
    "- `device` — устройство, с которого происходила регистрация.\n",
    "\n",
    "** — архив с одним csv-файлом, в котором собраны события 2020 года;**\n",
    "\n",
    "Структура файла:\n",
    "\n",
    "- `user_id` — идентификатор пользователя;\n",
    "\n",
    "- `event_dt` — дата и время события;\n",
    "\n",
    "- `event_name` — тип события;\n",
    "\n",
    "- `details` — дополнительные данные о событии."
   ]
  },
  {
   "cell_type": "code",
   "execution_count": 10,
   "id": "DjFcJbeGsTIg",
   "metadata": {
    "id": "DjFcJbeGsTIg"
   },
   "outputs": [],
   "source": [
    "participants = pd.read_csv('')\n",
    "events = pd.read_csv('',\n",
    "                     parse_dates=['event_dt'], low_memory=False)"
   ]
  },
  {
   "cell_type": "code",
   "execution_count": 11,
   "id": "f1fa1191",
   "metadata": {},
   "outputs": [
    {
     "name": "stdout",
     "output_type": "stream",
     "text": [
      "<class 'pandas.core.frame.DataFrame'>\n",
      "RangeIndex: 14525 entries, 0 to 14524\n",
      "Data columns (total 4 columns):\n",
      " #   Column   Non-Null Count  Dtype \n",
      "---  ------   --------------  ----- \n",
      " 0   user_id  14525 non-null  object\n",
      " 1   group    14525 non-null  object\n",
      " 2   ab_test  14525 non-null  object\n",
      " 3   device   14525 non-null  object\n",
      "dtypes: object(4)\n",
      "memory usage: 454.0+ KB\n"
     ]
    }
   ],
   "source": [
    "participants.info()"
   ]
  },
  {
   "cell_type": "code",
   "execution_count": 12,
   "id": "596dac90",
   "metadata": {},
   "outputs": [
    {
     "data": {
      "text/html": [
       "<div>\n",
       "<style scoped>\n",
       "    .dataframe tbody tr th:only-of-type {\n",
       "        vertical-align: middle;\n",
       "    }\n",
       "\n",
       "    .dataframe tbody tr th {\n",
       "        vertical-align: top;\n",
       "    }\n",
       "\n",
       "    .dataframe thead th {\n",
       "        text-align: right;\n",
       "    }\n",
       "</style>\n",
       "<table border=\"1\" class=\"dataframe\">\n",
       "  <thead>\n",
       "    <tr style=\"text-align: right;\">\n",
       "      <th></th>\n",
       "      <th>user_id</th>\n",
       "      <th>group</th>\n",
       "      <th>ab_test</th>\n",
       "      <th>device</th>\n",
       "    </tr>\n",
       "  </thead>\n",
       "  <tbody>\n",
       "    <tr>\n",
       "      <th>0</th>\n",
       "      <td>0002CE61FF2C4011</td>\n",
       "      <td>B</td>\n",
       "      <td>interface_eu_test</td>\n",
       "      <td>Mac</td>\n",
       "    </tr>\n",
       "    <tr>\n",
       "      <th>1</th>\n",
       "      <td>001064FEAAB631A1</td>\n",
       "      <td>B</td>\n",
       "      <td>recommender_system_test</td>\n",
       "      <td>Android</td>\n",
       "    </tr>\n",
       "    <tr>\n",
       "      <th>2</th>\n",
       "      <td>001064FEAAB631A1</td>\n",
       "      <td>A</td>\n",
       "      <td>interface_eu_test</td>\n",
       "      <td>Android</td>\n",
       "    </tr>\n",
       "    <tr>\n",
       "      <th>3</th>\n",
       "      <td>0010A1C096941592</td>\n",
       "      <td>A</td>\n",
       "      <td>recommender_system_test</td>\n",
       "      <td>Android</td>\n",
       "    </tr>\n",
       "    <tr>\n",
       "      <th>4</th>\n",
       "      <td>001E72F50D1C48FA</td>\n",
       "      <td>A</td>\n",
       "      <td>interface_eu_test</td>\n",
       "      <td>Mac</td>\n",
       "    </tr>\n",
       "    <tr>\n",
       "      <th>...</th>\n",
       "      <td>...</td>\n",
       "      <td>...</td>\n",
       "      <td>...</td>\n",
       "      <td>...</td>\n",
       "    </tr>\n",
       "    <tr>\n",
       "      <th>14520</th>\n",
       "      <td>FFE7FC140521F5F6</td>\n",
       "      <td>A</td>\n",
       "      <td>interface_eu_test</td>\n",
       "      <td>PC</td>\n",
       "    </tr>\n",
       "    <tr>\n",
       "      <th>14521</th>\n",
       "      <td>FFEFC0E55C1CCD4F</td>\n",
       "      <td>A</td>\n",
       "      <td>interface_eu_test</td>\n",
       "      <td>PC</td>\n",
       "    </tr>\n",
       "    <tr>\n",
       "      <th>14522</th>\n",
       "      <td>FFF28D02B1EACBE1</td>\n",
       "      <td>B</td>\n",
       "      <td>recommender_system_test</td>\n",
       "      <td>PC</td>\n",
       "    </tr>\n",
       "    <tr>\n",
       "      <th>14523</th>\n",
       "      <td>FFF28D02B1EACBE1</td>\n",
       "      <td>B</td>\n",
       "      <td>interface_eu_test</td>\n",
       "      <td>PC</td>\n",
       "    </tr>\n",
       "    <tr>\n",
       "      <th>14524</th>\n",
       "      <td>FFF58BC33966EB51</td>\n",
       "      <td>A</td>\n",
       "      <td>interface_eu_test</td>\n",
       "      <td>Android</td>\n",
       "    </tr>\n",
       "  </tbody>\n",
       "</table>\n",
       "<p>14525 rows × 4 columns</p>\n",
       "</div>"
      ],
      "text/plain": [
       "                user_id group                  ab_test   device\n",
       "0      0002CE61FF2C4011     B        interface_eu_test      Mac\n",
       "1      001064FEAAB631A1     B  recommender_system_test  Android\n",
       "2      001064FEAAB631A1     A        interface_eu_test  Android\n",
       "3      0010A1C096941592     A  recommender_system_test  Android\n",
       "4      001E72F50D1C48FA     A        interface_eu_test      Mac\n",
       "...                 ...   ...                      ...      ...\n",
       "14520  FFE7FC140521F5F6     A        interface_eu_test       PC\n",
       "14521  FFEFC0E55C1CCD4F     A        interface_eu_test       PC\n",
       "14522  FFF28D02B1EACBE1     B  recommender_system_test       PC\n",
       "14523  FFF28D02B1EACBE1     B        interface_eu_test       PC\n",
       "14524  FFF58BC33966EB51     A        interface_eu_test  Android\n",
       "\n",
       "[14525 rows x 4 columns]"
      ]
     },
     "metadata": {},
     "output_type": "display_data"
    }
   ],
   "source": [
    "display(participants)"
   ]
  },
  {
   "cell_type": "code",
   "execution_count": 13,
   "id": "dcdeeb44",
   "metadata": {},
   "outputs": [
    {
     "name": "stdout",
     "output_type": "stream",
     "text": [
      "<class 'pandas.core.frame.DataFrame'>\n",
      "RangeIndex: 787286 entries, 0 to 787285\n",
      "Data columns (total 4 columns):\n",
      " #   Column      Non-Null Count   Dtype         \n",
      "---  ------      --------------   -----         \n",
      " 0   user_id     787286 non-null  object        \n",
      " 1   event_dt    787286 non-null  datetime64[ns]\n",
      " 2   event_name  787286 non-null  object        \n",
      " 3   details     249022 non-null  object        \n",
      "dtypes: datetime64[ns](1), object(3)\n",
      "memory usage: 24.0+ MB\n"
     ]
    }
   ],
   "source": [
    "events.info()"
   ]
  },
  {
   "cell_type": "code",
   "execution_count": 14,
   "id": "f9382500",
   "metadata": {},
   "outputs": [
    {
     "data": {
      "text/html": [
       "<div>\n",
       "<style scoped>\n",
       "    .dataframe tbody tr th:only-of-type {\n",
       "        vertical-align: middle;\n",
       "    }\n",
       "\n",
       "    .dataframe tbody tr th {\n",
       "        vertical-align: top;\n",
       "    }\n",
       "\n",
       "    .dataframe thead th {\n",
       "        text-align: right;\n",
       "    }\n",
       "</style>\n",
       "<table border=\"1\" class=\"dataframe\">\n",
       "  <thead>\n",
       "    <tr style=\"text-align: right;\">\n",
       "      <th></th>\n",
       "      <th>user_id</th>\n",
       "      <th>event_dt</th>\n",
       "      <th>event_name</th>\n",
       "      <th>details</th>\n",
       "    </tr>\n",
       "  </thead>\n",
       "  <tbody>\n",
       "    <tr>\n",
       "      <th>0</th>\n",
       "      <td>GLOBAL</td>\n",
       "      <td>2020-12-01 00:00:00</td>\n",
       "      <td>End of Black Friday Ads Campaign</td>\n",
       "      <td>ZONE_CODE15</td>\n",
       "    </tr>\n",
       "    <tr>\n",
       "      <th>1</th>\n",
       "      <td>CCBE9E7E99F94A08</td>\n",
       "      <td>2020-12-01 00:00:11</td>\n",
       "      <td>registration</td>\n",
       "      <td>0.0</td>\n",
       "    </tr>\n",
       "    <tr>\n",
       "      <th>2</th>\n",
       "      <td>GLOBAL</td>\n",
       "      <td>2020-12-01 00:00:25</td>\n",
       "      <td>product_page</td>\n",
       "      <td>NaN</td>\n",
       "    </tr>\n",
       "    <tr>\n",
       "      <th>3</th>\n",
       "      <td>CCBE9E7E99F94A08</td>\n",
       "      <td>2020-12-01 00:00:33</td>\n",
       "      <td>login</td>\n",
       "      <td>NaN</td>\n",
       "    </tr>\n",
       "    <tr>\n",
       "      <th>4</th>\n",
       "      <td>CCBE9E7E99F94A08</td>\n",
       "      <td>2020-12-01 00:00:52</td>\n",
       "      <td>product_page</td>\n",
       "      <td>NaN</td>\n",
       "    </tr>\n",
       "    <tr>\n",
       "      <th>...</th>\n",
       "      <td>...</td>\n",
       "      <td>...</td>\n",
       "      <td>...</td>\n",
       "      <td>...</td>\n",
       "    </tr>\n",
       "    <tr>\n",
       "      <th>787281</th>\n",
       "      <td>1A655C280B064708</td>\n",
       "      <td>2020-12-31 23:57:44</td>\n",
       "      <td>product_page</td>\n",
       "      <td>NaN</td>\n",
       "    </tr>\n",
       "    <tr>\n",
       "      <th>787282</th>\n",
       "      <td>B77B2F4BCA134618</td>\n",
       "      <td>2020-12-31 23:58:23</td>\n",
       "      <td>registration</td>\n",
       "      <td>0.0</td>\n",
       "    </tr>\n",
       "    <tr>\n",
       "      <th>787283</th>\n",
       "      <td>GLOBAL</td>\n",
       "      <td>2020-12-31 23:58:30</td>\n",
       "      <td>product_cart</td>\n",
       "      <td>NaN</td>\n",
       "    </tr>\n",
       "    <tr>\n",
       "      <th>787284</th>\n",
       "      <td>B12AD1623E494FAD</td>\n",
       "      <td>2020-12-31 23:58:34</td>\n",
       "      <td>registration</td>\n",
       "      <td>-6.52</td>\n",
       "    </tr>\n",
       "    <tr>\n",
       "      <th>787285</th>\n",
       "      <td>5456977474344433</td>\n",
       "      <td>2020-12-31 23:59:48</td>\n",
       "      <td>registration</td>\n",
       "      <td>-3.67</td>\n",
       "    </tr>\n",
       "  </tbody>\n",
       "</table>\n",
       "<p>787286 rows × 4 columns</p>\n",
       "</div>"
      ],
      "text/plain": [
       "                 user_id            event_dt  \\\n",
       "0                 GLOBAL 2020-12-01 00:00:00   \n",
       "1       CCBE9E7E99F94A08 2020-12-01 00:00:11   \n",
       "2                 GLOBAL 2020-12-01 00:00:25   \n",
       "3       CCBE9E7E99F94A08 2020-12-01 00:00:33   \n",
       "4       CCBE9E7E99F94A08 2020-12-01 00:00:52   \n",
       "...                  ...                 ...   \n",
       "787281  1A655C280B064708 2020-12-31 23:57:44   \n",
       "787282  B77B2F4BCA134618 2020-12-31 23:58:23   \n",
       "787283            GLOBAL 2020-12-31 23:58:30   \n",
       "787284  B12AD1623E494FAD 2020-12-31 23:58:34   \n",
       "787285  5456977474344433 2020-12-31 23:59:48   \n",
       "\n",
       "                              event_name      details  \n",
       "0       End of Black Friday Ads Campaign  ZONE_CODE15  \n",
       "1                           registration          0.0  \n",
       "2                           product_page          NaN  \n",
       "3                                  login          NaN  \n",
       "4                           product_page          NaN  \n",
       "...                                  ...          ...  \n",
       "787281                      product_page          NaN  \n",
       "787282                      registration          0.0  \n",
       "787283                      product_cart          NaN  \n",
       "787284                      registration        -6.52  \n",
       "787285                      registration        -3.67  \n",
       "\n",
       "[787286 rows x 4 columns]"
      ]
     },
     "metadata": {},
     "output_type": "display_data"
    }
   ],
   "source": [
    "display(events)"
   ]
  },
  {
   "cell_type": "markdown",
   "id": "137859c5",
   "metadata": {},
   "source": [
    "Данные в порядке, только в таблице `events` есть пропуски в столбце `details`, но это не критично так как это столбец с дополнительной информацией."
   ]
  },
  {
   "cell_type": "code",
   "execution_count": 15,
   "id": "aNa3zHrKslEN",
   "metadata": {
    "id": "aNa3zHrKslEN"
   },
   "outputs": [
    {
     "name": "stdout",
     "output_type": "stream",
     "text": [
      "Уникальные тесты: ['interface_eu_test' 'recommender_system_test']\n",
      "Группы в тесте: ['B' 'A']\n"
     ]
    }
   ],
   "source": [
    "# проверка названий теста и групп\n",
    "print(\"Уникальные тесты:\", participants['ab_test'].unique())\n",
    "print(\"Группы в тесте:\", participants[participants['ab_test'] == 'interface_eu_test']['group'].unique())\n",
    "\n",
    "# Фильтрация данных только для нужного теста\n",
    "df = participants[participants['ab_test'] == 'interface_eu_test']"
   ]
  },
  {
   "cell_type": "code",
   "execution_count": 16,
   "id": "241e74f7",
   "metadata": {},
   "outputs": [
    {
     "name": "stdout",
     "output_type": "stream",
     "text": [
      "Распределение по группам (%):\n",
      " B    50.387097\n",
      "A    49.612903\n",
      "Name: group, dtype: float64\n"
     ]
    },
    {
     "data": {
      "image/png": "[encoded data removed]",
      "text/plain": [
       "<Figure size 432x288 with 1 Axes>"
      ]
     },
     "metadata": {
      "needs_background": "light"
     },
     "output_type": "display_data"
    }
   ],
   "source": [
    "# Распределение пользователей по группам\n",
    "group_distribution = df['group'].value_counts(normalize=True) * 100\n",
    "print(\"Распределение по группам (%):\\n\", group_distribution)\n",
    "\n",
    "# Визуализация\n",
    "plt.bar(group_distribution.index, group_distribution.values, color=['blue', 'green'])\n",
    "plt.title('Распределение пользователей по группам')\n",
    "plt.ylabel('%')\n",
    "plt.show()"
   ]
  },
  {
   "cell_type": "code",
   "execution_count": 17,
   "id": "62807328",
   "metadata": {},
   "outputs": [
    {
     "name": "stdout",
     "output_type": "stream",
     "text": [
      "Пользователей в нескольких тестах: 887\n",
      "Примеры: Index(['001064FEAAB631A1', '00341D8401F0F665', '0082295A41A867B5',\n",
      "       '00E68F103C66C1F7', '00EFA157F7B6E1C4'],\n",
      "      dtype='object', name='user_id')\n"
     ]
    }
   ],
   "source": [
    "# Поиск пользователей в нескольких тестах\n",
    "user_multiple_tests = participants.groupby('user_id')['ab_test'].nunique()\n",
    "overlapping_users = user_multiple_tests[user_multiple_tests > 1].index\n",
    "\n",
    "print(f\"Пользователей в нескольких тестах: {len(overlapping_users)}\")\n",
    "if len(overlapping_users) > 0:\n",
    "    print(\"Примеры:\", overlapping_users[:5])"
   ]
  },
  {
   "cell_type": "markdown",
   "id": "26b27b7a",
   "metadata": {},
   "source": [
    "Название и группы соответствуют ТЗ. В таблице `ab_test_participants` пользователи равномерно разделены разделены на две группы А и В для двух тестов, а также есть пересечения между этими тестами, 887 пользователей учавствуют в нескольких тестах."
   ]
  },
  {
   "cell_type": "code",
   "execution_count": 18,
   "id": "QMt0Ybo_swDK",
   "metadata": {
    "id": "QMt0Ybo_swDK"
   },
   "outputs": [
    {
     "name": "stdout",
     "output_type": "stream",
     "text": [
      "Участников теста: 10850\n",
      "Событий в отфильтрованных данных: 79715\n"
     ]
    }
   ],
   "source": [
    "# Оставляем только пользователей из теста interface_eu_test\n",
    "test_users = participants[participants['ab_test'] == 'interface_eu_test']['user_id']\n",
    "events_filtered = events[events['user_id'].isin(test_users)]\n",
    "\n",
    "# Проверка\n",
    "print(f\"Участников теста: {len(test_users)}\")\n",
    "print(f\"Событий в отфильтрованных данных: {len(events_filtered)}\")"
   ]
  },
  {
   "cell_type": "markdown",
   "id": "fBZ4DC2xswZJ",
   "metadata": {
    "id": "fBZ4DC2xswZJ"
   },
   "source": [
    "- определите горизонт анализа: рассчитайте время (лайфтайм) совершения события пользователем после регистрации и оставьте только те события, которые были выполнены в течение первых семи дней с момента регистрации;"
   ]
  },
  {
   "cell_type": "code",
   "execution_count": 19,
   "id": "sES4-dKts0Yb",
   "metadata": {
    "id": "sES4-dKts0Yb"
   },
   "outputs": [],
   "source": [
    "# Находим первое событие каждого пользователя (дату регистрации)\n",
    "registration_dates = events_filtered.groupby('user_id')['event_dt'].min().reset_index()\n",
    "registration_dates.columns = ['user_id', 'registration_dt']\n",
    "\n",
    "# Добавляем дату регистрации к основному датафрейму\n",
    "lifetime = events_filtered.merge(registration_dates, on='user_id')\n",
    "\n",
    "# Преобразуем в datetime\n",
    "lifetime['event_dt'] = pd.to_datetime(lifetime['event_dt'])\n",
    "lifetime['registration_dt'] = pd.to_datetime(lifetime['registration_dt'])"
   ]
  },
  {
   "cell_type": "code",
   "execution_count": 20,
   "id": "61ccc554",
   "metadata": {},
   "outputs": [
    {
     "name": "stdout",
     "output_type": "stream",
     "text": [
      "Распределение событий по дням после регистрации:\n",
      "0     41039\n",
      "1      8659\n",
      "2      5965\n",
      "3      4421\n",
      "4      3501\n",
      "5      2961\n",
      "6      2403\n",
      "7      2111\n",
      "8      1708\n",
      "9      1342\n",
      "10     1214\n",
      "11      815\n",
      "12      756\n",
      "13      644\n",
      "14      540\n",
      "15      446\n",
      "16      340\n",
      "17      225\n",
      "18      193\n",
      "19      210\n",
      "20      103\n",
      "21       80\n",
      "22       39\n",
      "Name: days_after_reg, dtype: int64\n"
     ]
    }
   ],
   "source": [
    "# Вычисляем разницу в днях между событием и регистрацией\n",
    "lifetime['days_after_reg'] = (lifetime['event_dt'] - lifetime['registration_dt']).dt.days\n",
    "\n",
    "# Проверяем распределение\n",
    "print(\"Распределение событий по дням после регистрации:\")\n",
    "print(lifetime['days_after_reg'].value_counts().sort_index())"
   ]
  },
  {
   "cell_type": "code",
   "execution_count": 21,
   "id": "528645d8",
   "metadata": {},
   "outputs": [
    {
     "name": "stdout",
     "output_type": "stream",
     "text": [
      "\n",
      "Всего событий: 79715\n",
      "Событий в первые 7 дней: 30021\n",
      "Процент событий в первые 7 дней: 37.7%\n"
     ]
    }
   ],
   "source": [
    "# Оставляем только события первых 7 дней\n",
    "lifetime_7days = lifetime[(lifetime['days_after_reg'] <= 7) & (lifetime['days_after_reg'] > 0)]\n",
    "# Проверяем результат\n",
    "print(f\"\\nВсего событий: {len(lifetime)}\")\n",
    "print(f\"Событий в первые 7 дней: {len(lifetime_7days)}\")\n",
    "print(f\"Процент событий в первые 7 дней: {len(lifetime_7days)/len(lifetime)*100:.1f}%\")"
   ]
  },
  {
   "cell_type": "code",
   "execution_count": 29,
   "id": "d6e1419c",
   "metadata": {},
   "outputs": [
    {
     "data": {
      "text/plain": [
       "Timedelta('7 days 23:58:41')"
      ]
     },
     "execution_count": 29,
     "metadata": {},
     "output_type": "execute_result"
    }
   ],
   "source": [
    "# Код ревьюера\n",
    "(lifetime_7days.event_dt - lifetime_7days.registration_dt).max()"
   ]
  },
  {
   "cell_type": "code",
   "execution_count": 23,
   "id": "7c1cdf8b",
   "metadata": {},
   "outputs": [
    {
     "data": {
      "image/png": "[encoded data removed]",
      "text/plain": [
       "<Figure size 720x360 with 1 Axes>"
      ]
     },
     "metadata": {
      "needs_background": "light"
     },
     "output_type": "display_data"
    }
   ],
   "source": [
    "plt.figure(figsize=(10, 5))\n",
    "lifetime_7days['days_after_reg'].value_counts().sort_index().plot(kind='bar')\n",
    "plt.title('Распределение событий по дням после регистрации')\n",
    "plt.xlabel('Дни после регистрации')\n",
    "plt.ylabel('Количество событий')\n",
    "plt.xticks(rotation=0)\n",
    "plt.show()"
   ]
  },
  {
   "cell_type": "code",
   "execution_count": 24,
   "id": "7d97b466",
   "metadata": {},
   "outputs": [
    {
     "name": "stdout",
     "output_type": "stream",
     "text": [
      "Минимальный размер выборки на группу: 3763\n"
     ]
    }
   ],
   "source": [
    "p1 = 0.30  # Конверсия группы A\n",
    "p2 = 0.33  # Конверсия группы B\n",
    "alpha = 0.05\n",
    "power = 0.80\n",
    "\n",
    "# Критические значения Z-статистики\n",
    "Z_alpha = st.norm.ppf(1 - alpha/2)  # 1.96 для α=5%\n",
    "Z_beta = st.norm.ppf(power)         # 0.84 для мощности 80%\n",
    "\n",
    "# Промежуточные расчеты\n",
    "p = (p1 + p2) / 2\n",
    "effect_size = abs(p1 - p2)\n",
    "\n",
    "n = ((Z_alpha * math.sqrt(2*p*(1-p)) + Z_beta * math.sqrt(p1*(1-p1) + p2*(1-p2))) ** 2) / (effect_size ** 2)\n",
    "\n",
    "print(f\"Минимальный размер выборки на группу: {math.ceil(n)}\")"
   ]
  },
  {
   "cell_type": "code",
   "execution_count": 25,
   "id": "7ph853Xks4sy",
   "metadata": {
    "id": "7ph853Xks4sy"
   },
   "outputs": [
    {
     "name": "stdout",
     "output_type": "stream",
     "text": [
      "Корректные результаты A/B-теста:\n",
      "group  total_visitors  unique_buyers  conversion_rate\n",
      "    A            5383           1766            32.81\n",
      "    B            5467           1931            35.32\n"
     ]
    }
   ],
   "source": [
    "# Фильтрация участников нужного теста\n",
    "test_users = participants[participants['ab_test'] == 'interface_eu_test']\n",
    "\n",
    "# Определение уникальных покупателей\n",
    "purchases = events[events['event_name'] == 'purchase']\n",
    "unique_buyers = purchases['user_id'].unique()\n",
    "\n",
    "# Соединение данных с пометкой покупателей\n",
    "merged_data = test_users.merge(\n",
    "    events[['user_id']].drop_duplicates(),\n",
    "    on='user_id',\n",
    "    how='left',\n",
    "    indicator='has_events'\n",
    ")\n",
    "\n",
    "# Расчет метрик по группам\n",
    "results = test_users.groupby('group').agg(\n",
    "    total_visitors=('user_id', 'nunique'),\n",
    "    unique_buyers=('user_id', lambda x: x.isin(unique_buyers).sum())\n",
    ").reset_index()\n",
    "\n",
    "# Расчет конверсии\n",
    "results['conversion_rate'] = (results['unique_buyers'] / results['total_visitors'] * 100).round(2)\n",
    "\n",
    "# Вывод результатов\n",
    "print(\"Корректные результаты A/B-теста:\")\n",
    "print(results.to_string(index=False))"
   ]
  },
  {
   "cell_type": "markdown",
   "id": "57f5f331",
   "metadata": {
    "id": "hHTHPkJYs8mE"
   },
   "source": [
    "Рост конверсии +2.51 процентных пункта и увеличение числа покупателей на 165 пользователей, что несоответствует запланированному росту в 3 пп, поэтому нам предстоит опредилить статистическую значимость."
   ]
  },
  {
   "cell_type": "markdown",
   "id": "IKZ1Oo3Ws919",
   "metadata": {
    "id": "IKZ1Oo3Ws919"
   },
   "source": [
    "## 4. Проведите оценку результатов A/B-тестирования:"
   ]
  },
  {
   "cell_type": "markdown",
   "id": "289ecf65",
   "metadata": {},
   "source": [
    "**Нулевая гипотеза (H₀):**\n",
    "\n",
    "**- Упрощение интерфейса не приводит к статистически значимому увеличению конверсии.**\n",
    "\n",
    "**Альтернативная гипотеза (H₁):**\n",
    "\n",
    "**- Упрощение интерфейса увеличивает конверсию как минимум на 3 процентных пункта.**"
   ]
  },
  {
   "cell_type": "code",
   "execution_count": 27,
   "id": "l_KOziBQtL3t",
   "metadata": {
    "id": "l_KOziBQtL3t"
   },
   "outputs": [
    {
     "name": "stdout",
     "output_type": "stream",
     "text": [
      "Z-статистика: -2.7625081602852286\n",
      "P-value: 0.0028679563964638466\n"
     ]
    }
   ],
   "source": [
    "from statsmodels.stats.proportion import proportions_ztest\n",
    "\n",
    "count = [1766, 1931]  # Число успехов (покупок)\n",
    "nobs = [5383, 5467]    # Общий размер групп\n",
    "z_stat, p_value = proportions_ztest(count, nobs, alternative='smaller')\n",
    "\n",
    "print(f\"Z-статистика: {z_stat:}\")\n",
    "print(f\"P-value: {p_value:}\")"
   ]
  },
  {
   "cell_type": "markdown",
   "id": "npoPPSKytKvR",
   "metadata": {
    "id": "npoPPSKytKvR"
   },
   "source": [
    "P-value = 0.0029 после проверки статистическим тестом, следовательно мы отвергаем нулевую гипотезу. Изменения интерфейса доказали свою эффективность, но есть потенциал для дополнительной оптимизации. Рекомендуется внедрить новую версию, параллельно запустив цикл непрерывных улучшений на основе собранных данных."
   ]
  }
 ],
 "metadata": {
  "ExecuteTimeLog": [
   {
    "duration": 83,
    "start_time": "2025-07-11T18:08:50.699Z"
   },
   {
    "duration": 440,
    "start_time": "2025-07-11T18:10:13.442Z"
   },
   {
    "duration": 65,
    "start_time": "2025-07-11T18:10:34.210Z"
   },
   {
    "duration": 3,
    "start_time": "2025-07-11T18:10:55.090Z"
   },
   {
    "duration": 41,
    "start_time": "2025-07-11T18:10:57.834Z"
   },
   {
    "duration": 48,
    "start_time": "2025-07-11T18:11:09.673Z"
   },
   {
    "duration": 59,
    "start_time": "2025-07-11T18:11:15.322Z"
   },
   {
    "duration": 68,
    "start_time": "2025-07-11T18:11:22.914Z"
   },
   {
    "duration": 44,
    "start_time": "2025-07-11T18:11:35.658Z"
   },
   {
    "duration": 63,
    "start_time": "2025-07-11T18:11:44.018Z"
   },
   {
    "duration": 49,
    "start_time": "2025-07-11T18:12:20.330Z"
   },
   {
    "duration": 19,
    "start_time": "2025-07-11T18:14:13.953Z"
   },
   {
    "duration": 9,
    "start_time": "2025-07-11T18:22:11.819Z"
   },
   {
    "duration": 6,
    "start_time": "2025-07-11T18:22:29.738Z"
   },
   {
    "duration": 10,
    "start_time": "2025-07-11T18:22:42.266Z"
   },
   {
    "duration": 5,
    "start_time": "2025-07-11T18:25:41.652Z"
   },
   {
    "duration": 9,
    "start_time": "2025-07-11T18:26:15.986Z"
   },
   {
    "duration": 12,
    "start_time": "2025-07-11T18:33:45.339Z"
   },
   {
    "duration": 6,
    "start_time": "2025-07-11T18:33:55.451Z"
   },
   {
    "duration": 5,
    "start_time": "2025-07-11T18:33:57.123Z"
   },
   {
    "duration": 73,
    "start_time": "2025-07-11T18:34:01.506Z"
   },
   {
    "duration": 16,
    "start_time": "2025-07-11T18:34:04.857Z"
   },
   {
    "duration": 11,
    "start_time": "2025-07-11T18:34:09.315Z"
   },
   {
    "duration": 16,
    "start_time": "2025-07-11T18:34:13.122Z"
   },
   {
    "duration": 11,
    "start_time": "2025-07-11T18:34:29.108Z"
   },
   {
    "duration": 10,
    "start_time": "2025-07-11T18:35:59.132Z"
   },
   {
    "duration": 8,
    "start_time": "2025-07-11T18:36:03.371Z"
   },
   {
    "duration": 5,
    "start_time": "2025-07-11T18:36:08.387Z"
   },
   {
    "duration": 69,
    "start_time": "2025-07-11T18:36:12.411Z"
   },
   {
    "duration": 25,
    "start_time": "2025-07-11T18:36:17.534Z"
   },
   {
    "duration": 23,
    "start_time": "2025-07-11T18:36:20.578Z"
   },
   {
    "duration": 7,
    "start_time": "2025-07-11T18:36:22.987Z"
   },
   {
    "duration": 7,
    "start_time": "2025-07-11T18:36:29.778Z"
   },
   {
    "duration": 405,
    "start_time": "2025-07-11T18:36:38.726Z"
   },
   {
    "duration": 69,
    "start_time": "2025-07-11T18:36:39.133Z"
   },
   {
    "duration": 23,
    "start_time": "2025-07-11T18:36:39.205Z"
   },
   {
    "duration": 23,
    "start_time": "2025-07-11T18:36:39.230Z"
   },
   {
    "duration": 228,
    "start_time": "2025-07-11T18:36:39.256Z"
   },
   {
    "duration": 1620,
    "start_time": "2025-07-11T18:36:39.486Z"
   },
   {
    "duration": 90,
    "start_time": "2025-07-11T18:37:23.282Z"
   },
   {
    "duration": 8,
    "start_time": "2025-07-11T18:37:36.634Z"
   },
   {
    "duration": 11,
    "start_time": "2025-07-11T18:37:52.179Z"
   },
   {
    "duration": 64,
    "start_time": "2025-07-11T18:37:56.923Z"
   },
   {
    "duration": 68,
    "start_time": "2025-07-11T18:38:06.987Z"
   },
   {
    "duration": 17,
    "start_time": "2025-07-11T18:38:14.595Z"
   },
   {
    "duration": 13,
    "start_time": "2025-07-11T18:38:17.299Z"
   },
   {
    "duration": 7,
    "start_time": "2025-07-11T18:38:20.475Z"
   },
   {
    "duration": 9,
    "start_time": "2025-07-11T18:38:38.228Z"
   },
   {
    "duration": 9,
    "start_time": "2025-07-11T18:38:47.090Z"
   },
   {
    "duration": 548,
    "start_time": "2025-07-11T18:39:06.188Z"
   },
   {
    "duration": 113,
    "start_time": "2025-07-11T18:39:06.738Z"
   },
   {
    "duration": 28,
    "start_time": "2025-07-11T18:39:06.853Z"
   },
   {
    "duration": 20,
    "start_time": "2025-07-11T18:39:06.883Z"
   },
   {
    "duration": 7,
    "start_time": "2025-07-11T18:39:06.906Z"
   },
   {
    "duration": 147,
    "start_time": "2025-07-11T18:39:06.914Z"
   },
   {
    "duration": 0,
    "start_time": "2025-07-11T18:39:07.063Z"
   },
   {
    "duration": 10,
    "start_time": "2025-07-11T18:39:38.107Z"
   },
   {
    "duration": 14,
    "start_time": "2025-07-11T18:39:39.711Z"
   },
   {
    "duration": 10,
    "start_time": "2025-07-11T18:39:42.403Z"
   },
   {
    "duration": 5,
    "start_time": "2025-07-11T18:39:44.828Z"
   },
   {
    "duration": 59,
    "start_time": "2025-07-11T18:39:47.674Z"
   },
   {
    "duration": 14,
    "start_time": "2025-07-11T18:39:54.859Z"
   },
   {
    "duration": 10,
    "start_time": "2025-07-11T18:39:59.083Z"
   },
   {
    "duration": 7,
    "start_time": "2025-07-11T18:40:02.453Z"
   },
   {
    "duration": 13,
    "start_time": "2025-07-11T18:40:05.219Z"
   },
   {
    "duration": 6,
    "start_time": "2025-07-11T18:40:33.228Z"
   },
   {
    "duration": 10,
    "start_time": "2025-07-11T18:40:35.724Z"
   },
   {
    "duration": 7,
    "start_time": "2025-07-11T18:40:37.867Z"
   },
   {
    "duration": 8,
    "start_time": "2025-07-11T18:40:38.362Z"
   },
   {
    "duration": 8,
    "start_time": "2025-07-11T18:40:38.731Z"
   },
   {
    "duration": 9,
    "start_time": "2025-07-11T18:40:39.043Z"
   },
   {
    "duration": 11,
    "start_time": "2025-07-11T18:40:39.402Z"
   },
   {
    "duration": 8,
    "start_time": "2025-07-11T18:40:39.619Z"
   },
   {
    "duration": 10,
    "start_time": "2025-07-11T18:40:39.795Z"
   },
   {
    "duration": 8,
    "start_time": "2025-07-11T18:40:39.954Z"
   },
   {
    "duration": 9,
    "start_time": "2025-07-11T18:40:40.107Z"
   },
   {
    "duration": 8,
    "start_time": "2025-07-11T18:40:40.251Z"
   },
   {
    "duration": 7,
    "start_time": "2025-07-11T18:40:40.411Z"
   },
   {
    "duration": 8,
    "start_time": "2025-07-11T18:40:40.563Z"
   },
   {
    "duration": 10,
    "start_time": "2025-07-11T18:40:40.715Z"
   },
   {
    "duration": 8,
    "start_time": "2025-07-11T18:40:40.851Z"
   },
   {
    "duration": 9,
    "start_time": "2025-07-11T18:40:40.994Z"
   },
   {
    "duration": 9,
    "start_time": "2025-07-11T18:40:41.122Z"
   },
   {
    "duration": 14,
    "start_time": "2025-07-11T18:42:52.307Z"
   },
   {
    "duration": 4,
    "start_time": "2025-07-11T18:44:44.811Z"
   },
   {
    "duration": 92,
    "start_time": "2025-07-11T18:44:51.547Z"
   },
   {
    "duration": 11,
    "start_time": "2025-07-11T18:44:56.155Z"
   },
   {
    "duration": 15,
    "start_time": "2025-07-11T18:44:59.725Z"
   },
   {
    "duration": 526,
    "start_time": "2025-07-11T18:47:03.865Z"
   },
   {
    "duration": 59,
    "start_time": "2025-07-11T18:47:04.393Z"
   },
   {
    "duration": 26,
    "start_time": "2025-07-11T18:47:04.455Z"
   },
   {
    "duration": 22,
    "start_time": "2025-07-11T18:47:04.483Z"
   },
   {
    "duration": 6,
    "start_time": "2025-07-11T18:47:04.507Z"
   },
   {
    "duration": 110,
    "start_time": "2025-07-11T18:47:04.515Z"
   },
   {
    "duration": 0,
    "start_time": "2025-07-11T18:47:04.627Z"
   },
   {
    "duration": 71,
    "start_time": "2025-07-11T18:47:21.843Z"
   },
   {
    "duration": 6,
    "start_time": "2025-07-11T18:47:51.068Z"
   },
   {
    "duration": 9,
    "start_time": "2025-07-11T18:47:59.636Z"
   },
   {
    "duration": 10,
    "start_time": "2025-07-11T18:48:00.788Z"
   },
   {
    "duration": 5,
    "start_time": "2025-07-11T18:48:18.212Z"
   },
   {
    "duration": 9,
    "start_time": "2025-07-11T18:48:27.908Z"
   },
   {
    "duration": 7,
    "start_time": "2025-07-11T18:48:36.483Z"
   },
   {
    "duration": 7,
    "start_time": "2025-07-11T18:48:36.900Z"
   },
   {
    "duration": 8,
    "start_time": "2025-07-11T18:48:37.084Z"
   },
   {
    "duration": 11,
    "start_time": "2025-07-11T18:48:37.252Z"
   },
   {
    "duration": 8,
    "start_time": "2025-07-11T18:48:37.437Z"
   },
   {
    "duration": 9,
    "start_time": "2025-07-11T18:48:37.820Z"
   },
   {
    "duration": 8,
    "start_time": "2025-07-11T18:48:38.821Z"
   },
   {
    "duration": 8,
    "start_time": "2025-07-11T18:48:38.997Z"
   },
   {
    "duration": 9,
    "start_time": "2025-07-11T18:48:39.188Z"
   },
   {
    "duration": 14,
    "start_time": "2025-07-11T18:48:42.563Z"
   },
   {
    "duration": 13,
    "start_time": "2025-07-11T18:48:43.053Z"
   },
   {
    "duration": 16,
    "start_time": "2025-07-11T18:48:45.660Z"
   },
   {
    "duration": 8,
    "start_time": "2025-07-11T18:48:53.916Z"
   },
   {
    "duration": 9,
    "start_time": "2025-07-11T18:48:54.700Z"
   },
   {
    "duration": 9,
    "start_time": "2025-07-11T18:48:54.916Z"
   },
   {
    "duration": 7,
    "start_time": "2025-07-11T18:48:55.091Z"
   },
   {
    "duration": 8,
    "start_time": "2025-07-11T18:48:55.260Z"
   },
   {
    "duration": 7,
    "start_time": "2025-07-11T18:48:55.412Z"
   },
   {
    "duration": 455,
    "start_time": "2025-07-11T18:49:05.801Z"
   },
   {
    "duration": 74,
    "start_time": "2025-07-11T18:49:06.258Z"
   },
   {
    "duration": 27,
    "start_time": "2025-07-11T18:49:06.334Z"
   },
   {
    "duration": 13,
    "start_time": "2025-07-11T18:49:06.364Z"
   },
   {
    "duration": 18,
    "start_time": "2025-07-11T18:49:06.380Z"
   },
   {
    "duration": 47,
    "start_time": "2025-07-11T18:49:06.400Z"
   },
   {
    "duration": 1723,
    "start_time": "2025-07-11T18:49:06.449Z"
   },
   {
    "duration": 9,
    "start_time": "2025-07-11T18:53:16.365Z"
   },
   {
    "duration": 7,
    "start_time": "2025-07-11T18:53:43.373Z"
   },
   {
    "duration": 6,
    "start_time": "2025-07-11T18:54:10.398Z"
   },
   {
    "duration": 97,
    "start_time": "2025-07-11T18:56:21.254Z"
   },
   {
    "duration": 6,
    "start_time": "2025-07-11T18:56:27.404Z"
   },
   {
    "duration": 7,
    "start_time": "2025-07-11T18:56:56.515Z"
   },
   {
    "duration": 6,
    "start_time": "2025-07-11T18:57:59.357Z"
   },
   {
    "duration": 620,
    "start_time": "2025-07-11T19:05:29.702Z"
   },
   {
    "duration": 4,
    "start_time": "2025-07-11T19:06:37.094Z"
   },
   {
    "duration": 3,
    "start_time": "2025-07-11T19:07:29.293Z"
   },
   {
    "duration": 12,
    "start_time": "2025-07-11T19:07:43.765Z"
   },
   {
    "duration": 6,
    "start_time": "2025-07-11T19:13:53.654Z"
   },
   {
    "duration": 14,
    "start_time": "2025-07-11T19:16:31.717Z"
   },
   {
    "duration": 8,
    "start_time": "2025-07-11T19:45:37.784Z"
   },
   {
    "duration": 907,
    "start_time": "2025-07-13T09:40:37.158Z"
   },
   {
    "duration": 114,
    "start_time": "2025-07-13T09:40:38.067Z"
   },
   {
    "duration": 17,
    "start_time": "2025-07-13T09:40:38.183Z"
   },
   {
    "duration": 4,
    "start_time": "2025-07-13T09:40:38.202Z"
   },
   {
    "duration": 5,
    "start_time": "2025-07-13T09:40:38.207Z"
   },
   {
    "duration": 86,
    "start_time": "2025-07-13T09:40:38.214Z"
   },
   {
    "duration": 90,
    "start_time": "2025-07-13T09:40:38.302Z"
   },
   {
    "duration": 0,
    "start_time": "2025-07-13T09:40:38.394Z"
   },
   {
    "duration": 0,
    "start_time": "2025-07-13T09:40:38.395Z"
   },
   {
    "duration": 8,
    "start_time": "2025-07-13T09:44:23.754Z"
   },
   {
    "duration": 8,
    "start_time": "2025-07-13T09:44:43.689Z"
   },
   {
    "duration": 8,
    "start_time": "2025-07-13T09:45:00.577Z"
   },
   {
    "duration": 1545,
    "start_time": "2025-07-13T09:45:09.319Z"
   },
   {
    "duration": 14,
    "start_time": "2025-07-13T09:45:10.866Z"
   },
   {
    "duration": 7,
    "start_time": "2025-07-13T09:45:46.465Z"
   },
   {
    "duration": 12,
    "start_time": "2025-07-13T09:45:55.737Z"
   },
   {
    "duration": 10,
    "start_time": "2025-07-13T09:47:29.388Z"
   },
   {
    "duration": 111,
    "start_time": "2025-07-13T09:47:55.105Z"
   },
   {
    "duration": 13,
    "start_time": "2025-07-13T09:48:28.345Z"
   },
   {
    "duration": 1496,
    "start_time": "2025-07-13T09:49:06.144Z"
   },
   {
    "duration": 12,
    "start_time": "2025-07-13T10:06:40.435Z"
   },
   {
    "duration": 483,
    "start_time": "2025-07-13T10:08:37.851Z"
   },
   {
    "duration": 12,
    "start_time": "2025-07-13T10:09:37.005Z"
   },
   {
    "duration": 107,
    "start_time": "2025-07-13T10:09:41.939Z"
   },
   {
    "duration": 15,
    "start_time": "2025-07-13T10:10:23.772Z"
   },
   {
    "duration": 94,
    "start_time": "2025-07-13T10:18:11.765Z"
   },
   {
    "duration": 84,
    "start_time": "2025-07-13T10:18:41.748Z"
   },
   {
    "duration": 65,
    "start_time": "2025-07-13T10:23:12.540Z"
   },
   {
    "duration": 66,
    "start_time": "2025-07-13T10:23:54.469Z"
   },
   {
    "duration": 10,
    "start_time": "2025-07-13T10:24:47.037Z"
   },
   {
    "duration": 11,
    "start_time": "2025-07-13T10:25:41.741Z"
   },
   {
    "duration": 13,
    "start_time": "2025-07-13T10:26:43.431Z"
   },
   {
    "duration": 12,
    "start_time": "2025-07-13T10:27:27.395Z"
   },
   {
    "duration": 22,
    "start_time": "2025-07-13T10:28:29.788Z"
   },
   {
    "duration": 168,
    "start_time": "2025-07-13T10:28:45.533Z"
   },
   {
    "duration": 3,
    "start_time": "2025-07-13T10:31:22.061Z"
   },
   {
    "duration": 280,
    "start_time": "2025-07-13T10:33:30.318Z"
   },
   {
    "duration": 67,
    "start_time": "2025-07-13T10:34:01.918Z"
   },
   {
    "duration": 93,
    "start_time": "2025-07-13T10:54:11.344Z"
   },
   {
    "duration": 72,
    "start_time": "2025-07-13T10:56:55.017Z"
   },
   {
    "duration": 112,
    "start_time": "2025-07-13T10:57:25.760Z"
   },
   {
    "duration": 73,
    "start_time": "2025-07-13T10:58:40.368Z"
   },
   {
    "duration": 72,
    "start_time": "2025-07-13T11:06:00.781Z"
   },
   {
    "duration": 78,
    "start_time": "2025-07-13T11:06:08.201Z"
   },
   {
    "duration": 74,
    "start_time": "2025-07-13T11:07:11.401Z"
   },
   {
    "duration": 91,
    "start_time": "2025-07-13T11:09:54.931Z"
   },
   {
    "duration": 5,
    "start_time": "2025-07-13T11:10:49.923Z"
   },
   {
    "duration": 11,
    "start_time": "2025-07-13T11:18:44.226Z"
   },
   {
    "duration": 10,
    "start_time": "2025-07-13T11:19:05.339Z"
   },
   {
    "duration": 6,
    "start_time": "2025-07-13T11:19:23.182Z"
   },
   {
    "duration": 15,
    "start_time": "2025-07-13T11:23:44.698Z"
   },
   {
    "duration": 14,
    "start_time": "2025-07-13T11:24:45.563Z"
   },
   {
    "duration": 16,
    "start_time": "2025-07-13T11:24:53.643Z"
   },
   {
    "duration": 66,
    "start_time": "2025-07-13T11:30:46.277Z"
   },
   {
    "duration": 299,
    "start_time": "2025-07-13T11:31:48.316Z"
   },
   {
    "duration": 290,
    "start_time": "2025-07-13T11:34:55.636Z"
   },
   {
    "duration": 1181,
    "start_time": "2025-07-13T11:35:47.074Z"
   },
   {
    "duration": 1788,
    "start_time": "2025-07-13T11:36:36.099Z"
   },
   {
    "duration": 341,
    "start_time": "2025-07-13T11:36:47.939Z"
   },
   {
    "duration": 1641,
    "start_time": "2025-07-13T11:37:58.531Z"
   },
   {
    "duration": 341,
    "start_time": "2025-07-13T11:38:09.181Z"
   },
   {
    "duration": 324,
    "start_time": "2025-07-13T11:38:46.404Z"
   },
   {
    "duration": 345,
    "start_time": "2025-07-13T11:38:56.084Z"
   },
   {
    "duration": 639,
    "start_time": "2025-07-13T11:39:11.523Z"
   },
   {
    "duration": 277,
    "start_time": "2025-07-13T11:39:22.275Z"
   },
   {
    "duration": 305,
    "start_time": "2025-07-13T11:41:45.140Z"
   },
   {
    "duration": 277,
    "start_time": "2025-07-13T11:41:57.520Z"
   },
   {
    "duration": 303,
    "start_time": "2025-07-13T11:46:12.121Z"
   },
   {
    "duration": 275,
    "start_time": "2025-07-13T11:46:36.819Z"
   },
   {
    "duration": 293,
    "start_time": "2025-07-13T11:49:12.637Z"
   },
   {
    "duration": 302,
    "start_time": "2025-07-13T11:49:40.148Z"
   },
   {
    "duration": 14,
    "start_time": "2025-07-13T11:55:00.508Z"
   },
   {
    "duration": 1507,
    "start_time": "2025-07-13T12:01:43.600Z"
   },
   {
    "duration": 166,
    "start_time": "2025-07-13T12:01:45.109Z"
   },
   {
    "duration": 15,
    "start_time": "2025-07-13T12:01:45.277Z"
   },
   {
    "duration": 9,
    "start_time": "2025-07-13T12:01:45.294Z"
   },
   {
    "duration": 37,
    "start_time": "2025-07-13T12:01:45.304Z"
   },
   {
    "duration": 54,
    "start_time": "2025-07-13T12:01:45.343Z"
   },
   {
    "duration": 45,
    "start_time": "2025-07-13T12:01:45.399Z"
   },
   {
    "duration": 21,
    "start_time": "2025-07-13T12:01:45.445Z"
   },
   {
    "duration": 1504,
    "start_time": "2025-07-13T12:01:45.467Z"
   },
   {
    "duration": 12,
    "start_time": "2025-07-13T12:01:46.974Z"
   },
   {
    "duration": 12,
    "start_time": "2025-07-13T12:01:46.987Z"
   },
   {
    "duration": 128,
    "start_time": "2025-07-13T12:01:47.001Z"
   },
   {
    "duration": 12,
    "start_time": "2025-07-13T12:01:47.130Z"
   },
   {
    "duration": 12,
    "start_time": "2025-07-13T12:01:47.143Z"
   },
   {
    "duration": 111,
    "start_time": "2025-07-13T12:01:47.172Z"
   },
   {
    "duration": 15,
    "start_time": "2025-07-13T12:01:47.285Z"
   },
   {
    "duration": 103,
    "start_time": "2025-07-13T12:01:47.301Z"
   },
   {
    "duration": 1815,
    "start_time": "2025-07-13T12:01:47.405Z"
   },
   {
    "duration": 0,
    "start_time": "2025-07-13T12:01:49.221Z"
   },
   {
    "duration": 0,
    "start_time": "2025-07-13T12:01:49.222Z"
   },
   {
    "duration": 0,
    "start_time": "2025-07-13T12:01:49.223Z"
   },
   {
    "duration": 0,
    "start_time": "2025-07-13T12:01:49.225Z"
   },
   {
    "duration": 0,
    "start_time": "2025-07-13T12:01:49.225Z"
   },
   {
    "duration": 0,
    "start_time": "2025-07-13T12:01:49.227Z"
   },
   {
    "duration": 11,
    "start_time": "2025-07-13T12:04:39.981Z"
   },
   {
    "duration": 13,
    "start_time": "2025-07-13T12:04:48.789Z"
   },
   {
    "duration": 12,
    "start_time": "2025-07-13T12:04:52.477Z"
   },
   {
    "duration": 14,
    "start_time": "2025-07-13T12:05:01.501Z"
   },
   {
    "duration": 63,
    "start_time": "2025-07-13T12:05:23.438Z"
   },
   {
    "duration": 12,
    "start_time": "2025-07-13T12:05:25.398Z"
   },
   {
    "duration": 5,
    "start_time": "2025-07-13T12:05:26.993Z"
   },
   {
    "duration": 7,
    "start_time": "2025-07-13T12:05:28.517Z"
   },
   {
    "duration": 6,
    "start_time": "2025-07-13T12:05:30.301Z"
   },
   {
    "duration": 1424,
    "start_time": "2025-07-13T12:06:24.886Z"
   },
   {
    "duration": 1339,
    "start_time": "2025-07-13T12:07:27.894Z"
   },
   {
    "duration": 71,
    "start_time": "2025-07-13T12:07:37.198Z"
   },
   {
    "duration": 10,
    "start_time": "2025-07-13T12:07:44.461Z"
   },
   {
    "duration": 14,
    "start_time": "2025-07-13T12:07:48.240Z"
   },
   {
    "duration": 163,
    "start_time": "2025-07-13T12:07:52.550Z"
   },
   {
    "duration": 8,
    "start_time": "2025-07-13T12:08:03.078Z"
   },
   {
    "duration": 349,
    "start_time": "2025-07-13T12:08:08.909Z"
   },
   {
    "duration": 14,
    "start_time": "2025-07-13T12:08:19.693Z"
   },
   {
    "duration": 1079,
    "start_time": "2025-07-13T12:08:44.820Z"
   },
   {
    "duration": 135,
    "start_time": "2025-07-13T12:08:45.901Z"
   },
   {
    "duration": 46,
    "start_time": "2025-07-13T12:08:46.037Z"
   },
   {
    "duration": 5,
    "start_time": "2025-07-13T12:08:46.085Z"
   },
   {
    "duration": 6,
    "start_time": "2025-07-13T12:08:46.093Z"
   },
   {
    "duration": 41,
    "start_time": "2025-07-13T12:08:46.101Z"
   },
   {
    "duration": 23,
    "start_time": "2025-07-13T12:08:46.144Z"
   },
   {
    "duration": 15,
    "start_time": "2025-07-13T12:08:46.169Z"
   },
   {
    "duration": 14,
    "start_time": "2025-07-13T12:08:46.186Z"
   },
   {
    "duration": 1501,
    "start_time": "2025-07-13T12:08:46.202Z"
   },
   {
    "duration": 12,
    "start_time": "2025-07-13T12:08:47.704Z"
   },
   {
    "duration": 68,
    "start_time": "2025-07-13T12:08:47.718Z"
   },
   {
    "duration": 130,
    "start_time": "2025-07-13T12:08:47.788Z"
   },
   {
    "duration": 13,
    "start_time": "2025-07-13T12:08:47.920Z"
   },
   {
    "duration": 114,
    "start_time": "2025-07-13T12:08:47.935Z"
   },
   {
    "duration": 119,
    "start_time": "2025-07-13T12:08:48.051Z"
   },
   {
    "duration": 14,
    "start_time": "2025-07-13T12:08:48.172Z"
   },
   {
    "duration": 100,
    "start_time": "2025-07-13T12:08:48.188Z"
   },
   {
    "duration": 69,
    "start_time": "2025-07-13T12:08:48.290Z"
   },
   {
    "duration": 10,
    "start_time": "2025-07-13T12:08:48.372Z"
   },
   {
    "duration": 19,
    "start_time": "2025-07-13T12:08:48.384Z"
   },
   {
    "duration": 228,
    "start_time": "2025-07-13T12:08:48.404Z"
   },
   {
    "duration": 8,
    "start_time": "2025-07-13T12:08:48.634Z"
   },
   {
    "duration": 390,
    "start_time": "2025-07-13T12:08:48.644Z"
   },
   {
    "duration": 12,
    "start_time": "2025-07-13T12:08:49.036Z"
   },
   {
    "duration": 1243,
    "start_time": "2025-07-13T17:28:35.875Z"
   },
   {
    "duration": 131,
    "start_time": "2025-07-13T17:28:37.120Z"
   },
   {
    "duration": 17,
    "start_time": "2025-07-13T17:28:37.253Z"
   },
   {
    "duration": 9,
    "start_time": "2025-07-13T17:28:37.273Z"
   },
   {
    "duration": 8,
    "start_time": "2025-07-13T17:28:37.286Z"
   },
   {
    "duration": 10,
    "start_time": "2025-07-13T17:28:37.296Z"
   },
   {
    "duration": 11,
    "start_time": "2025-07-13T17:28:37.308Z"
   },
   {
    "duration": 27,
    "start_time": "2025-07-13T17:28:37.321Z"
   },
   {
    "duration": 14,
    "start_time": "2025-07-13T17:28:37.350Z"
   },
   {
    "duration": 1634,
    "start_time": "2025-07-13T17:28:37.365Z"
   },
   {
    "duration": 14,
    "start_time": "2025-07-13T17:28:39.001Z"
   },
   {
    "duration": 12,
    "start_time": "2025-07-13T17:28:39.016Z"
   },
   {
    "duration": 145,
    "start_time": "2025-07-13T17:28:39.030Z"
   },
   {
    "duration": 21,
    "start_time": "2025-07-13T17:28:39.179Z"
   },
   {
    "duration": 19,
    "start_time": "2025-07-13T17:28:39.203Z"
   },
   {
    "duration": 129,
    "start_time": "2025-07-13T17:28:39.225Z"
   },
   {
    "duration": 18,
    "start_time": "2025-07-13T17:28:39.357Z"
   },
   {
    "duration": 159,
    "start_time": "2025-07-13T17:28:39.377Z"
   },
   {
    "duration": 84,
    "start_time": "2025-07-13T17:28:39.538Z"
   },
   {
    "duration": 12,
    "start_time": "2025-07-13T17:28:39.624Z"
   },
   {
    "duration": 95,
    "start_time": "2025-07-13T17:28:39.638Z"
   },
   {
    "duration": 7,
    "start_time": "2025-07-13T17:28:39.736Z"
   },
   {
    "duration": 181,
    "start_time": "2025-07-13T17:28:39.745Z"
   },
   {
    "duration": 7,
    "start_time": "2025-07-13T17:28:39.928Z"
   },
   {
    "duration": 365,
    "start_time": "2025-07-13T17:28:39.937Z"
   },
   {
    "duration": 13,
    "start_time": "2025-07-13T17:28:40.305Z"
   },
   {
    "duration": 6,
    "start_time": "2025-07-13T17:29:54.125Z"
   },
   {
    "duration": 61,
    "start_time": "2025-07-13T18:08:06.985Z"
   },
   {
    "duration": 1390,
    "start_time": "2025-07-13T18:08:14.249Z"
   },
   {
    "duration": 119,
    "start_time": "2025-07-13T18:08:15.641Z"
   },
   {
    "duration": 14,
    "start_time": "2025-07-13T18:08:15.762Z"
   },
   {
    "duration": 100,
    "start_time": "2025-07-13T18:08:15.777Z"
   },
   {
    "duration": 49,
    "start_time": "2025-07-13T18:08:15.879Z"
   },
   {
    "duration": 13,
    "start_time": "2025-07-13T18:08:15.929Z"
   },
   {
    "duration": 14,
    "start_time": "2025-07-13T18:08:15.944Z"
   },
   {
    "duration": 5,
    "start_time": "2025-07-13T18:08:15.960Z"
   },
   {
    "duration": 12,
    "start_time": "2025-07-13T18:08:15.966Z"
   },
   {
    "duration": 1411,
    "start_time": "2025-07-13T18:08:15.980Z"
   },
   {
    "duration": 20,
    "start_time": "2025-07-13T18:08:17.394Z"
   },
   {
    "duration": 9,
    "start_time": "2025-07-13T18:08:17.416Z"
   },
   {
    "duration": 135,
    "start_time": "2025-07-13T18:08:17.427Z"
   },
   {
    "duration": 11,
    "start_time": "2025-07-13T18:08:17.565Z"
   },
   {
    "duration": 17,
    "start_time": "2025-07-13T18:08:17.590Z"
   },
   {
    "duration": 115,
    "start_time": "2025-07-13T18:08:17.609Z"
   },
   {
    "duration": 13,
    "start_time": "2025-07-13T18:08:17.726Z"
   },
   {
    "duration": 106,
    "start_time": "2025-07-13T18:08:17.740Z"
   },
   {
    "duration": 80,
    "start_time": "2025-07-13T18:08:17.848Z"
   },
   {
    "duration": 9,
    "start_time": "2025-07-13T18:08:17.929Z"
   },
   {
    "duration": 12,
    "start_time": "2025-07-13T18:08:17.939Z"
   },
   {
    "duration": 5,
    "start_time": "2025-07-13T18:08:17.953Z"
   },
   {
    "duration": 168,
    "start_time": "2025-07-13T18:08:17.959Z"
   },
   {
    "duration": 6,
    "start_time": "2025-07-13T18:08:18.128Z"
   },
   {
    "duration": 316,
    "start_time": "2025-07-13T18:08:18.136Z"
   },
   {
    "duration": 12,
    "start_time": "2025-07-13T18:08:18.454Z"
   },
   {
    "duration": 5,
    "start_time": "2025-07-13T18:08:38.079Z"
   },
   {
    "duration": 6,
    "start_time": "2025-07-13T18:09:13.428Z"
   },
   {
    "duration": 6,
    "start_time": "2025-07-13T18:11:59.446Z"
   },
   {
    "duration": 100,
    "start_time": "2025-07-13T18:18:29.071Z"
   }
  ],
  "colab": {
   "provenance": [],
   "toc_visible": true
  },
  "kernelspec": {
   "display_name": "Python 3 (ipykernel)",
   "language": "python",
   "name": "python3"
  },
  "language_info": {
   "codemirror_mode": {
    "name": "ipython",
    "version": 3
   },
   "file_extension": ".py",
   "mimetype": "text/x-python",
   "name": "python",
   "nbconvert_exporter": "python",
   "pygments_lexer": "ipython3",
   "version": "3.9.5"
  },
  "toc": {
   "base_numbering": 1,
   "nav_menu": {},
   "number_sections": true,
   "sideBar": true,
   "skip_h1_title": true,
   "title_cell": "Table of Contents",
   "title_sidebar": "Contents",
   "toc_cell": false,
   "toc_position": {},
   "toc_section_display": true,
   "toc_window_display": false
  }
 },
 "nbformat": 4,
 "nbformat_minor": 5
}
