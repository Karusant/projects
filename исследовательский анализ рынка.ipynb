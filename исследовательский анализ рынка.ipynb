{
 "cells": [
  {
   "cell_type": "markdown",
   "id": "4149134c",
   "metadata": {
    "id": "4149134c"
   },
   "source": [
    "## Цели и задачи проекта\n",
    "\n",
    "### **Цель проекта:**  \n",
    "Провести исследовательский анализ  заведения.\n",
    "### **Задачи проекта:**  \n",
    "\n",
    " **1. Общая характеристика рынка**\n",
    " \n",
    " **2. Анализ популярных форматов**\n",
    " \n",
    " **3. Географический анализ**\n",
    " \n",
    " **4. Анализ сетевых и несетевых заведений**\n",
    " \n",
    " **5. Исследование средних цен и вместимости** \n",
    " \n",
    " **6. Анализ отзывов и рейтингов**\n",
    " \n",
    " **7. Выводы и рекомендации**\n"
   ]
  },
  {
   "cell_type": "markdown",
   "id": "728986ea",
   "metadata": {
    "id": "728986ea"
   },
   "source": [
    "### Описание данных\n",
    "\n",
    "**Файл** `rest_info.csv`\n",
    "Содержит информацию о заведениях общественного питания Москвы:\n",
    "\n",
    "| Столбец | Описание |\n",
    "|---------|----------|\n",
    "| `name` | Название заведения |\n",
    "| `address` | Адрес заведения |\n",
    "| `district` | Административный район (например, \"Центральный административный округ\") |\n",
    "| `category` | Категория заведения (\"кафе\", \"пиццерия\", \"кофейня\" и др.) |\n",
    "| `hours` | Информация о днях и часах работы |\n",
    "| `rating` | Рейтинг заведения по оценкам пользователей Яндекс Карт (максимум 5.0) |\n",
    "| `chain` | Признак сетевого заведения:<br>`0` - не сетевое<br>`1` - сетевое (для маленьких сетей возможны ошибки) |\n",
    "| `seats` | Количество посадочных мест |\n",
    "\n",
    "**Файл** `rest_price.csv` \n",
    "Содержит информацию о среднем чеке:\n",
    "\n",
    "| Столбец | Описание |\n",
    "|---------|----------|\n",
    "| `price` | Категория цен (\"средние\", \"ниже среднего\", \"выше среднего\" и др.) |\n",
    "| `avg_bill` | Строка с информацией о стоимости:<br>• \"Средний счёт: 1000–1500 ₽\"<br>• \"Цена чашки капучино: 130–220 ₽\"<br>• \"Цена бокала пива: 400–600 ₽\" |\n",
    "| `middle_avg_bill` | Числовая оценка среднего чека:<br>• Для строк `avg_bill`, начинающихся с \"Средний счёт\"<br>• Для диапазона - медиана двух значений<br>• Для одного числа - само число<br>• В остальных случаях - пропуск |\n",
    "| `middle_coffee_cup` | Числовая оценка цены капучино:<br>• Для строк `avg_bill`, начинающихся с \"Цена одной чашки капучино\"<br>• Для диапазона - медиана двух значений<br>• Для одного числа - само число<br>• В остальных случаях - пропуск |"
   ]
  },
  {
   "cell_type": "markdown",
   "id": "4fecaf95",
   "metadata": {
    "id": "4fecaf95"
   },
   "source": [
    "### Содержимое проекта\n",
    "\n",
    "**1. Загрузка данных и знакомство с ними**\n",
    "\n",
    "**2. Предобработка данных**\n",
    "\n",
    "**3. Исследовательский анализ данных**\n",
    "\n",
    "**4. Итоговый вывод и рекомендации**\n",
    "\n"
   ]
  },
  {
   "cell_type": "markdown",
   "id": "6f7d21d6",
   "metadata": {
    "id": "6f7d21d6"
   },
   "source": [
    "## 1. Загрузка данных и знакомство с ними\n",
    "\n"
   ]
  },
  {
   "cell_type": "code",
   "execution_count": 1,
   "id": "05faf34b",
   "metadata": {
    "id": "05faf34b"
   },
   "outputs": [],
   "source": [
    "# Импортируем библиотеки\n",
    "import pandas as pd\n",
    "\n",
    "# Загружаем библиотеки для визуализации данных\n",
    "import matplotlib.pyplot as plt\n",
    "import seaborn as sns\n"
   ]
  },
  {
   "cell_type": "code",
   "execution_count": 2,
   "id": "ce87c1db",
   "metadata": {
    "id": "ce87c1db"
   },
   "outputs": [],
   "source": [
    "# Выгружаем данные в переменные rest_info и rest_price\n",
    "rest_info = pd.read_csv('')\n",
    "rest_price = pd.read_csv('')"
   ]
  },
  {
   "cell_type": "markdown",
   "id": "cad76323",
   "metadata": {
    "id": "f68a7419"
   },
   "source": [
    "Познакомимся с данными датасета `` — выведем первые строки методом `head()`, а информацию о датафрейме методом `info()`:"
   ]
  },
  {
   "cell_type": "code",
   "execution_count": 3,
   "id": "dd415c80",
   "metadata": {
    "id": "dd415c80"
   },
   "outputs": [
    {
     "data": {
      "text/html": [
       "<div>\n",
       "<style scoped>\n",
       "    .dataframe tbody tr th:only-of-type {\n",
       "        vertical-align: middle;\n",
       "    }\n",
       "\n",
       "    .dataframe tbody tr th {\n",
       "        vertical-align: top;\n",
       "    }\n",
       "\n",
       "    .dataframe thead th {\n",
       "        text-align: right;\n",
       "    }\n",
       "</style>\n",
       "<table border=\"1\" class=\"dataframe\">\n",
       "  <thead>\n",
       "    <tr style=\"text-align: right;\">\n",
       "      <th></th>\n",
       "      <th>id</th>\n",
       "      <th>name</th>\n",
       "      <th>category</th>\n",
       "      <th>address</th>\n",
       "      <th>district</th>\n",
       "      <th>hours</th>\n",
       "      <th>rating</th>\n",
       "      <th>chain</th>\n",
       "      <th>seats</th>\n",
       "    </tr>\n",
       "  </thead>\n",
       "  <tbody>\n",
       "    <tr>\n",
       "      <th>0</th>\n",
       "      <td>0c3e3439a8c64ea5bf6ecd6ca6ae19f0</td>\n",
       "      <td>WoWфли</td>\n",
       "      <td>кафе</td>\n",
       "      <td>Москва, улица Дыбенко, 7/1</td>\n",
       "      <td>Северный административный округ</td>\n",
       "      <td>ежедневно, 10:00–22:00</td>\n",
       "      <td>5.0</td>\n",
       "      <td>0</td>\n",
       "      <td>NaN</td>\n",
       "    </tr>\n",
       "    <tr>\n",
       "      <th>1</th>\n",
       "      <td>045780ada3474c57a2112e505d74b633</td>\n",
       "      <td>Четыре комнаты</td>\n",
       "      <td>ресторан</td>\n",
       "      <td>Москва, улица Дыбенко, 36, корп. 1</td>\n",
       "      <td>Северный административный округ</td>\n",
       "      <td>ежедневно, 10:00–22:00</td>\n",
       "      <td>4.5</td>\n",
       "      <td>0</td>\n",
       "      <td>4.0</td>\n",
       "    </tr>\n",
       "    <tr>\n",
       "      <th>2</th>\n",
       "      <td>1070b6b59144425896c65889347fcff6</td>\n",
       "      <td>Хазри</td>\n",
       "      <td>кафе</td>\n",
       "      <td>Москва, Клязьминская улица, 15</td>\n",
       "      <td>Северный административный округ</td>\n",
       "      <td>пн-чт 11:00–02:00; пт,сб 11:00–05:00; вс 11:00...</td>\n",
       "      <td>4.6</td>\n",
       "      <td>0</td>\n",
       "      <td>45.0</td>\n",
       "    </tr>\n",
       "    <tr>\n",
       "      <th>3</th>\n",
       "      <td>03ac7cd772104f65b58b349dc59f03ee</td>\n",
       "      <td>Dormouse Coffee Shop</td>\n",
       "      <td>кофейня</td>\n",
       "      <td>Москва, улица Маршала Федоренко, 12</td>\n",
       "      <td>Северный административный округ</td>\n",
       "      <td>ежедневно, 09:00–22:00</td>\n",
       "      <td>5.0</td>\n",
       "      <td>0</td>\n",
       "      <td>NaN</td>\n",
       "    </tr>\n",
       "    <tr>\n",
       "      <th>4</th>\n",
       "      <td>a163aada139c4c7f87b0b1c0b466a50f</td>\n",
       "      <td>Иль Марко</td>\n",
       "      <td>пиццерия</td>\n",
       "      <td>Москва, Правобережная улица, 1Б</td>\n",
       "      <td>Северный административный округ</td>\n",
       "      <td>ежедневно, 10:00–22:00</td>\n",
       "      <td>5.0</td>\n",
       "      <td>1</td>\n",
       "      <td>148.0</td>\n",
       "    </tr>\n",
       "  </tbody>\n",
       "</table>\n",
       "</div>"
      ],
      "text/plain": [
       "                                 id                  name  category  \\\n",
       "0  0c3e3439a8c64ea5bf6ecd6ca6ae19f0                WoWфли      кафе   \n",
       "1  045780ada3474c57a2112e505d74b633        Четыре комнаты  ресторан   \n",
       "2  1070b6b59144425896c65889347fcff6                 Хазри      кафе   \n",
       "3  03ac7cd772104f65b58b349dc59f03ee  Dormouse Coffee Shop   кофейня   \n",
       "4  a163aada139c4c7f87b0b1c0b466a50f             Иль Марко  пиццерия   \n",
       "\n",
       "                               address                         district  \\\n",
       "0           Москва, улица Дыбенко, 7/1  Северный административный округ   \n",
       "1   Москва, улица Дыбенко, 36, корп. 1  Северный административный округ   \n",
       "2       Москва, Клязьминская улица, 15  Северный административный округ   \n",
       "3  Москва, улица Маршала Федоренко, 12  Северный административный округ   \n",
       "4      Москва, Правобережная улица, 1Б  Северный административный округ   \n",
       "\n",
       "                                               hours  rating  chain  seats  \n",
       "0                             ежедневно, 10:00–22:00     5.0      0    NaN  \n",
       "1                             ежедневно, 10:00–22:00     4.5      0    4.0  \n",
       "2  пн-чт 11:00–02:00; пт,сб 11:00–05:00; вс 11:00...     4.6      0   45.0  \n",
       "3                             ежедневно, 09:00–22:00     5.0      0    NaN  \n",
       "4                             ежедневно, 10:00–22:00     5.0      1  148.0  "
      ]
     },
     "execution_count": 3,
     "metadata": {},
     "output_type": "execute_result"
    }
   ],
   "source": [
    "# Выводим первые строки датафрейма на экран\n",
    "rest_info.head()"
   ]
  },
  {
   "cell_type": "code",
   "execution_count": 4,
   "id": "3158ad37",
   "metadata": {
    "id": "3158ad37"
   },
   "outputs": [
    {
     "name": "stdout",
     "output_type": "stream",
     "text": [
      "<class 'pandas.core.frame.DataFrame'>\n",
      "RangeIndex: 8406 entries, 0 to 8405\n",
      "Data columns (total 9 columns):\n",
      " #   Column    Non-Null Count  Dtype  \n",
      "---  ------    --------------  -----  \n",
      " 0   id        8406 non-null   object \n",
      " 1   name      8406 non-null   object \n",
      " 2   category  8406 non-null   object \n",
      " 3   address   8406 non-null   object \n",
      " 4   district  8406 non-null   object \n",
      " 5   hours     7870 non-null   object \n",
      " 6   rating    8406 non-null   float64\n",
      " 7   chain     8406 non-null   int64  \n",
      " 8   seats     4795 non-null   float64\n",
      "dtypes: float64(2), int64(1), object(6)\n",
      "memory usage: 591.2+ KB\n"
     ]
    }
   ],
   "source": [
    "# Выводим информацию о датафрейме\n",
    "rest_info.info()"
   ]
  },
  {
   "cell_type": "markdown",
   "id": "2c045a1f",
   "metadata": {},
   "source": [
    "Теперь познакомимся с данными датасета `rest_price.csv`."
   ]
  },
  {
   "cell_type": "code",
   "execution_count": 5,
   "id": "ee82e77d",
   "metadata": {},
   "outputs": [
    {
     "data": {
      "text/html": [
       "<div>\n",
       "<style scoped>\n",
       "    .dataframe tbody tr th:only-of-type {\n",
       "        vertical-align: middle;\n",
       "    }\n",
       "\n",
       "    .dataframe tbody tr th {\n",
       "        vertical-align: top;\n",
       "    }\n",
       "\n",
       "    .dataframe thead th {\n",
       "        text-align: right;\n",
       "    }\n",
       "</style>\n",
       "<table border=\"1\" class=\"dataframe\">\n",
       "  <thead>\n",
       "    <tr style=\"text-align: right;\">\n",
       "      <th></th>\n",
       "      <th>id</th>\n",
       "      <th>price</th>\n",
       "      <th>avg_bill</th>\n",
       "      <th>middle_avg_bill</th>\n",
       "      <th>middle_coffee_cup</th>\n",
       "    </tr>\n",
       "  </thead>\n",
       "  <tbody>\n",
       "    <tr>\n",
       "      <th>0</th>\n",
       "      <td>045780ada3474c57a2112e505d74b633</td>\n",
       "      <td>выше среднего</td>\n",
       "      <td>Средний счёт:1500–1600 ₽</td>\n",
       "      <td>1550.0</td>\n",
       "      <td>NaN</td>\n",
       "    </tr>\n",
       "    <tr>\n",
       "      <th>1</th>\n",
       "      <td>1070b6b59144425896c65889347fcff6</td>\n",
       "      <td>средние</td>\n",
       "      <td>Средний счёт:от 1000 ₽</td>\n",
       "      <td>1000.0</td>\n",
       "      <td>NaN</td>\n",
       "    </tr>\n",
       "    <tr>\n",
       "      <th>2</th>\n",
       "      <td>03ac7cd772104f65b58b349dc59f03ee</td>\n",
       "      <td>NaN</td>\n",
       "      <td>Цена чашки капучино:155–185 ₽</td>\n",
       "      <td>NaN</td>\n",
       "      <td>170.0</td>\n",
       "    </tr>\n",
       "    <tr>\n",
       "      <th>3</th>\n",
       "      <td>a163aada139c4c7f87b0b1c0b466a50f</td>\n",
       "      <td>средние</td>\n",
       "      <td>Средний счёт:400–600 ₽</td>\n",
       "      <td>500.0</td>\n",
       "      <td>NaN</td>\n",
       "    </tr>\n",
       "    <tr>\n",
       "      <th>4</th>\n",
       "      <td>8a343546b24e4a499ad96eb7d0797a8a</td>\n",
       "      <td>средние</td>\n",
       "      <td>NaN</td>\n",
       "      <td>NaN</td>\n",
       "      <td>NaN</td>\n",
       "    </tr>\n",
       "  </tbody>\n",
       "</table>\n",
       "</div>"
      ],
      "text/plain": [
       "                                 id          price  \\\n",
       "0  045780ada3474c57a2112e505d74b633  выше среднего   \n",
       "1  1070b6b59144425896c65889347fcff6        средние   \n",
       "2  03ac7cd772104f65b58b349dc59f03ee            NaN   \n",
       "3  a163aada139c4c7f87b0b1c0b466a50f        средние   \n",
       "4  8a343546b24e4a499ad96eb7d0797a8a        средние   \n",
       "\n",
       "                        avg_bill  middle_avg_bill  middle_coffee_cup  \n",
       "0       Средний счёт:1500–1600 ₽           1550.0                NaN  \n",
       "1         Средний счёт:от 1000 ₽           1000.0                NaN  \n",
       "2  Цена чашки капучино:155–185 ₽              NaN              170.0  \n",
       "3         Средний счёт:400–600 ₽            500.0                NaN  \n",
       "4                            NaN              NaN                NaN  "
      ]
     },
     "execution_count": 5,
     "metadata": {},
     "output_type": "execute_result"
    }
   ],
   "source": [
    "# Выводим первые строки датафрейма на экран\n",
    "rest_price.head()"
   ]
  },
  {
   "cell_type": "code",
   "execution_count": 6,
   "id": "9ed07556",
   "metadata": {},
   "outputs": [
    {
     "name": "stdout",
     "output_type": "stream",
     "text": [
      "<class 'pandas.core.frame.DataFrame'>\n",
      "RangeIndex: 4058 entries, 0 to 4057\n",
      "Data columns (total 5 columns):\n",
      " #   Column             Non-Null Count  Dtype  \n",
      "---  ------             --------------  -----  \n",
      " 0   id                 4058 non-null   object \n",
      " 1   price              3315 non-null   object \n",
      " 2   avg_bill           3816 non-null   object \n",
      " 3   middle_avg_bill    3149 non-null   float64\n",
      " 4   middle_coffee_cup  535 non-null    float64\n",
      "dtypes: float64(2), object(3)\n",
      "memory usage: 158.6+ KB\n"
     ]
    }
   ],
   "source": [
    "# Выводим информацию о датафрейме\n",
    "rest_price.info()"
   ]
  },
  {
   "cell_type": "markdown",
   "id": "2c614a62",
   "metadata": {
    "id": "2c614a62"
   },
   "source": [
    "---\n",
    "\n",
    "### Промежуточный вывод\n",
    "\n"
   ]
  },
  {
   "cell_type": "markdown",
   "id": "c8a796c2",
   "metadata": {
    "id": "3593b7d5"
   },
   "source": [
    "Датасет `rest_info.csv` содержит 9 столбцов и 8406 строк, в которых представлена информация о различных заведениях.\n",
    "\n",
    "После первичного анализа данных можно сделать следующие выводы:\n",
    "- В основном все столбцы типа `object`. Значения в столбцах `rating`, `chain` и `seats`представлены численными типами. Столбец `chain` показывает наличие у ресторана того или иного признака и содержит значения 1 или 0 — размерность этих данных можно оптимизировать.\n",
    "- Пропуски содержатся только в столбцах: `hours` и `seats`. Однако следует проверить и другие столбцы: в них могут встречаться значения-индикаторы, которые будут говорить об отсутствии данных.\n",
    "- Судя по первому знакомству с данными, значения в столбцах соответствуют своему описанию."
   ]
  },
  {
   "cell_type": "markdown",
   "id": "35de7e1c",
   "metadata": {
    "id": "c2cc7f38"
   },
   "source": [
    "Датасет `rest_price.csv` содержит 5 столбцов и 4058 строк, в которых представлена информация о среднем чеке в заведениях.\n",
    "После первичного анализа данных можно сделать следующие выводы:\n",
    "- В столбцах представлены данные двух типов: `object` и `float64`.\n",
    "- Пропуски содержатся во всех столбцах кроме `id`. Следует обратить внимание на это и все проверить. \n",
    "- Судя по первому знакомству с данными, значения в столбцах соответствуют своему описанию."
   ]
  },
  {
   "cell_type": "markdown",
   "id": "8a8d1491",
   "metadata": {
    "id": "8a8d1491"
   },
   "source": [
    "### Подготовка единого датафрейма\n",
    "\n"
   ]
  },
  {
   "cell_type": "code",
   "execution_count": 7,
   "id": "3408e303",
   "metadata": {
    "id": "3408e303"
   },
   "outputs": [],
   "source": [
    "# Соединяем данные в единый датафрейм df\n",
    "df = rest_info.merge(rest_price, on='id', how = 'left')"
   ]
  },
  {
   "cell_type": "code",
   "execution_count": 8,
   "id": "5695950b",
   "metadata": {
    "id": "5695950b"
   },
   "outputs": [
    {
     "name": "stdout",
     "output_type": "stream",
     "text": [
      "<class 'pandas.core.frame.DataFrame'>\n",
      "Int64Index: 8406 entries, 0 to 8405\n",
      "Data columns (total 13 columns):\n",
      " #   Column             Non-Null Count  Dtype  \n",
      "---  ------             --------------  -----  \n",
      " 0   id                 8406 non-null   object \n",
      " 1   name               8406 non-null   object \n",
      " 2   category           8406 non-null   object \n",
      " 3   address            8406 non-null   object \n",
      " 4   district           8406 non-null   object \n",
      " 5   hours              7870 non-null   object \n",
      " 6   rating             8406 non-null   float64\n",
      " 7   chain              8406 non-null   int64  \n",
      " 8   seats              4795 non-null   float64\n",
      " 9   price              3315 non-null   object \n",
      " 10  avg_bill           3816 non-null   object \n",
      " 11  middle_avg_bill    3149 non-null   float64\n",
      " 12  middle_coffee_cup  535 non-null    float64\n",
      "dtypes: float64(4), int64(1), object(8)\n",
      "memory usage: 919.4+ KB\n"
     ]
    }
   ],
   "source": [
    "# Выводим информацию о датафрейме\n",
    "df.info()"
   ]
  },
  {
   "cell_type": "markdown",
   "id": "956e82e2",
   "metadata": {
    "id": "956e82e2"
   },
   "source": [
    "## 2. Предобработка данных\n",
    "\n"
   ]
  },
  {
   "cell_type": "markdown",
   "id": "4660fffc",
   "metadata": {
    "id": "67956690"
   },
   "source": [
    "В основном все типы данных в оптимальном виде кроме `rating`, `chain` и `seats`"
   ]
  },
  {
   "cell_type": "code",
   "execution_count": 9,
   "id": "b5f2a94d",
   "metadata": {
    "id": "b5f2a94d"
   },
   "outputs": [
    {
     "name": "stdout",
     "output_type": "stream",
     "text": [
      "<class 'pandas.core.frame.DataFrame'>\n",
      "Int64Index: 8406 entries, 0 to 8405\n",
      "Data columns (total 13 columns):\n",
      " #   Column             Non-Null Count  Dtype  \n",
      "---  ------             --------------  -----  \n",
      " 0   id                 8406 non-null   object \n",
      " 1   name               8406 non-null   object \n",
      " 2   category           8406 non-null   object \n",
      " 3   address            8406 non-null   object \n",
      " 4   district           8406 non-null   object \n",
      " 5   hours              7870 non-null   object \n",
      " 6   rating             8406 non-null   float32\n",
      " 7   chain              8406 non-null   int8   \n",
      " 8   seats              4795 non-null   Int64  \n",
      " 9   price              3315 non-null   object \n",
      " 10  avg_bill           3816 non-null   object \n",
      " 11  middle_avg_bill    3149 non-null   float64\n",
      " 12  middle_coffee_cup  535 non-null    float64\n",
      "dtypes: Int64(1), float32(1), float64(2), int8(1), object(8)\n",
      "memory usage: 837.3+ KB\n"
     ]
    }
   ],
   "source": [
    "#Оптимизируем данные для этих трех столбцов\n",
    "df['rating'] = pd.to_numeric(df['rating'], downcast='float')#Понижаем размерность типа\n",
    "df['chain'] = pd.to_numeric(df['chain'], downcast='integer')\n",
    "df['seats'] = df['seats'].astype('Int64')# Посадочные места приведем к целочисленному типу\n",
    "df.info()"
   ]
  },
  {
   "cell_type": "code",
   "execution_count": 10,
   "id": "3d8840ca",
   "metadata": {
    "id": "3d8840ca"
   },
   "outputs": [
    {
     "data": {
      "text/plain": [
       "id                      0\n",
       "name                    0\n",
       "category                0\n",
       "address                 0\n",
       "district                0\n",
       "hours                 536\n",
       "rating                  0\n",
       "chain                   0\n",
       "seats                3611\n",
       "price                5091\n",
       "avg_bill             4590\n",
       "middle_avg_bill      5257\n",
       "middle_coffee_cup    7871\n",
       "dtype: int64"
      ]
     },
     "execution_count": 10,
     "metadata": {},
     "output_type": "execute_result"
    }
   ],
   "source": [
    "df.isna().sum()# Считаем пропуски в данных"
   ]
  },
  {
   "cell_type": "code",
   "execution_count": 11,
   "id": "73575795",
   "metadata": {},
   "outputs": [
    {
     "data": {
      "text/plain": [
       "id                   0.000000\n",
       "name                 0.000000\n",
       "category             0.000000\n",
       "address              0.000000\n",
       "district             0.000000\n",
       "hours                0.063764\n",
       "rating               0.000000\n",
       "chain                0.000000\n",
       "seats                0.429574\n",
       "price                0.605639\n",
       "avg_bill             0.546039\n",
       "middle_avg_bill      0.625387\n",
       "middle_coffee_cup    0.936355\n",
       "dtype: float64"
      ]
     },
     "execution_count": 11,
     "metadata": {},
     "output_type": "execute_result"
    }
   ],
   "source": [
    "df.isna().sum() / df.shape[0]# Подсчитываем долю строк с пропусками"
   ]
  },
  {
   "cell_type": "markdown",
   "id": "8aba4d93",
   "metadata": {
    "id": "2ea145ca"
   },
   "source": [
    "- Пропуски в столбце `hours` могут появиться из-за того что заведение может работать круглосуточно.\n",
    "- Пропускив столбце `seats` могут появиться из-за того, что не во всех заведениях могут быть посадочные места.\n",
    "- Пропускив столбце `price` могут появиться из-за ошибок.\n",
    "- Пропуски в стобце `avg_bill` могут появиться из-за того что не смогли определить категорию.\n",
    "- Пропуски в столбце `middle_avg_bill` могут появится из-за недостатка данных о заведениях.\n",
    "- Пропуски в столбце `middle_coffee_cup` могут появится из-за банального отсутсятвия в меню кофе."
   ]
  },
  {
   "cell_type": "markdown",
   "id": "ce526237",
   "metadata": {
    "id": "d9e7c358"
   },
   "source": [
    "Пропусков достаточно много, но мы не можем их удалить, в противном случае анализ может быть не достоверным."
   ]
  },
  {
   "cell_type": "code",
   "execution_count": 12,
   "id": "0769b681",
   "metadata": {
    "id": "0769b681"
   },
   "outputs": [
    {
     "data": {
      "text/plain": [
       "0"
      ]
     },
     "execution_count": 12,
     "metadata": {},
     "output_type": "execute_result"
    }
   ],
   "source": [
    "# Проверяем явные дубликаты в датафрейме df\n",
    "df.duplicated().sum()"
   ]
  },
  {
   "cell_type": "markdown",
   "id": "3a5b4148",
   "metadata": {
    "id": "95b15cd0"
   },
   "source": [
    "В датафреймах нет полных дубликатов строк. Проверим неявные дубликаты — значения по id клиентов должны быть уникальными, то есть каждая строка в данных — уникальный клиент:"
   ]
  },
  {
   "cell_type": "code",
   "execution_count": 13,
   "id": "b52bae9a",
   "metadata": {
    "id": "b52bae9a"
   },
   "outputs": [
    {
     "data": {
      "text/plain": [
       "0"
      ]
     },
     "execution_count": 13,
     "metadata": {},
     "output_type": "execute_result"
    }
   ],
   "source": [
    "# Проверяем неявные дубликаты в датафрейме df\n",
    "df.duplicated(subset='id').sum()"
   ]
  },
  {
   "cell_type": "code",
   "execution_count": 14,
   "id": "35ed4c28",
   "metadata": {},
   "outputs": [
    {
     "name": "stdout",
     "output_type": "stream",
     "text": [
      "Уникальные значения в столбце district:\n",
      "['Восточный административный округ' 'Западный административный округ'\n",
      " 'Северный административный округ'\n",
      " 'Северо-Восточный административный округ'\n",
      " 'Северо-Западный административный округ'\n",
      " 'Центральный административный округ'\n",
      " 'Юго-Восточный административный округ'\n",
      " 'Юго-Западный административный округ' 'Южный административный округ']\n",
      "\n",
      "Уникальные значения в столбце category:\n",
      "['бар,паб' 'булочная' 'быстрое питание' 'кафе' 'кофейня' 'пиццерия'\n",
      " 'ресторан' 'столовая']\n",
      "\n",
      "Уникальные значения в столбце price:\n",
      "['высокие' 'выше среднего' 'низкие' 'средние' nan]\n",
      "\n"
     ]
    }
   ],
   "source": [
    "# Проверим категориальные значения столбцов \n",
    "for column in ['district', 'category', 'price']:\n",
    "    print(f'Уникальные значения в столбце {column}:')\n",
    "    print(df[column].sort_values().unique())\n",
    "    print()"
   ]
  },
  {
   "cell_type": "code",
   "execution_count": 15,
   "id": "9012b4f1",
   "metadata": {},
   "outputs": [],
   "source": [
    "df['name'] = df['name'].str.lower()# приводим названия к нижнему регистру"
   ]
  },
  {
   "cell_type": "code",
   "execution_count": 16,
   "id": "e5c82a55",
   "metadata": {},
   "outputs": [
    {
     "data": {
      "text/plain": [
       "False    8400\n",
       "True        6\n",
       "dtype: int64"
      ]
     },
     "execution_count": 16,
     "metadata": {},
     "output_type": "execute_result"
    }
   ],
   "source": [
    "df.duplicated(subset=['name', 'address'], keep=False).value_counts()#считаем кол-во неявных дубликатов"
   ]
  },
  {
   "cell_type": "code",
   "execution_count": 17,
   "id": "eb64cac1",
   "metadata": {},
   "outputs": [],
   "source": [
    "df = df.drop_duplicates(subset=['name', 'address'], keep='first')# Удаляем неявные дубликаты"
   ]
  },
  {
   "cell_type": "markdown",
   "id": "749e5687",
   "metadata": {},
   "source": [
    "Всего 6 строк с неявными дубликатами и мы их удалили."
   ]
  },
  {
   "cell_type": "code",
   "execution_count": 18,
   "id": "d8a8a963",
   "metadata": {
    "id": "d8a8a963"
   },
   "outputs": [],
   "source": [
    "# создаем столбец с обозначением того, что заведение работает ежедневно и круглосуточно\n",
    "df['is_24_7'] = df['hours'].str.contains(\n",
    "    'ежедневно, круглосуточно', \n",
    "    case=False, regex=True\n",
    ").fillna(False)"
   ]
  },
  {
   "cell_type": "code",
   "execution_count": 19,
   "id": "42d1e685",
   "metadata": {
    "id": "42d1e685"
   },
   "outputs": [
    {
     "data": {
      "text/plain": [
       "False    7673\n",
       "True      730\n",
       "Name: is_24_7, dtype: int64"
      ]
     },
     "execution_count": 19,
     "metadata": {},
     "output_type": "execute_result"
    }
   ],
   "source": [
    "df['is_24_7'].value_counts()#выводим количество груглосуточных заведений и нет"
   ]
  },
  {
   "cell_type": "markdown",
   "id": "dc1ac3e9",
   "metadata": {},
   "source": [
    "Всего 730 заведений работает круглосуточно."
   ]
  },
  {
   "cell_type": "markdown",
   "id": "562f30ab",
   "metadata": {
    "id": "562f30ab"
   },
   "source": [
    "---\n",
    "\n",
    "### Промежуточный вывод\n",
    "\n"
   ]
  },
  {
   "cell_type": "markdown",
   "id": "4c85b2e7",
   "metadata": {
    "id": "4e587ce1"
   },
   "source": [
    "В результате предобработки данных были выполнены следующие действия:\n",
    "- Оптимизировали данныке в столбцах `rating`, `chain` и `seats`\n",
    "- Данные проверили на явные и неявные дубликаты — в данных их нет."
   ]
  },
  {
   "cell_type": "markdown",
   "id": "fabc9ccf",
   "metadata": {},
   "source": [
    "<div class=\"alert alert-success\">\n",
    "<b>✔️ Комментарий ревьюера v1:</b> \n",
    "<br>С предобработкой закончили, можно переходить к анализу!\n",
    "</div>"
   ]
  },
  {
   "cell_type": "markdown",
   "id": "6953e84c",
   "metadata": {
    "id": "6953e84c"
   },
   "source": [
    "## 3. Исследовательский анализ данных\n"
   ]
  },
  {
   "cell_type": "code",
   "execution_count": 20,
   "id": "ef2bffe9",
   "metadata": {
    "id": "ef2bffe9"
   },
   "outputs": [
    {
     "data": {
      "text/plain": [
       "кафе               2377\n",
       "ресторан           2042\n",
       "кофейня            1413\n",
       "бар,паб             764\n",
       "пиццерия            633\n",
       "быстрое питание     603\n",
       "столовая            315\n",
       "булочная            256\n",
       "Name: category, dtype: int64"
      ]
     },
     "execution_count": 20,
     "metadata": {},
     "output_type": "execute_result"
    }
   ],
   "source": [
    "df['category'].value_counts()"
   ]
  },
  {
   "cell_type": "code",
   "execution_count": 21,
   "id": "4b3f2bb2",
   "metadata": {},
   "outputs": [
    {
     "data": {
      "image/png": "[encoded data removed]",
      "text/plain": [
       "<Figure size 720x432 with 1 Axes>"
      ]
     },
     "metadata": {
      "needs_background": "light"
     },
     "output_type": "display_data"
    }
   ],
   "source": [
    "# Строим столбчатую диаграмму\n",
    "category_counts = df['category'].value_counts()\n",
    "plt.figure(figsize=(10, 6))  # Размер графика\n",
    "colors = ['skyblue', 'salmon', 'lightgreen', 'gold', 'violet', 'grey', 'red', 'darkblue']\n",
    "category_counts.plot(kind='bar', color=colors, grid=True)  # Тип диаграммы и цвет\n",
    "\n",
    "# Добавляем подписи\n",
    "plt.title('Распределение категорий', fontsize=16)\n",
    "plt.xlabel('Категория', fontsize=14)\n",
    "plt.ylabel('Количество', fontsize=14)\n",
    "plt.xticks(rotation=0)  # Наклон подписей по оси X для удобства\n",
    "\n",
    "# Отображаем график\n",
    "plt.tight_layout()  # Автоматическая настройка отступов\n",
    "plt.show()"
   ]
  },
  {
   "cell_type": "markdown",
   "id": "8cda5b62",
   "metadata": {},
   "source": [
    "Больше всего заведений категории кафе(2378) и рестораны(2043), а меенньше всего заведений категории булочная(256) и столовая(315). "
   ]
  },
  {
   "cell_type": "code",
   "execution_count": 22,
   "id": "e62f31be",
   "metadata": {
    "id": "e62f31be"
   },
   "outputs": [
    {
     "data": {
      "text/plain": [
       "Центральный административный округ         2242\n",
       "Северный административный округ             899\n",
       "Южный административный округ                892\n",
       "Северо-Восточный административный округ     890\n",
       "Западный административный округ             850\n",
       "Восточный административный округ            798\n",
       "Юго-Восточный административный округ        714\n",
       "Юго-Западный административный округ         709\n",
       "Северо-Западный административный округ      409\n",
       "Name: district, dtype: int64"
      ]
     },
     "execution_count": 22,
     "metadata": {},
     "output_type": "execute_result"
    }
   ],
   "source": [
    "df['district'].value_counts()"
   ]
  },
  {
   "cell_type": "code",
   "execution_count": 23,
   "id": "0a290cd1",
   "metadata": {
    "id": "0a290cd1"
   },
   "outputs": [
    {
     "data": {
      "image/png": "[encoded data removed]",
      "text/plain": [
       "<Figure size 864x576 with 1 Axes>"
      ]
     },
     "metadata": {
      "needs_background": "light"
     },
     "output_type": "display_data"
    }
   ],
   "source": [
    "# Строим столбчатую диаграмму\n",
    "district_counts = df['district'].value_counts()\n",
    "plt.figure(figsize=(12, 8))  # Размер графика\n",
    "colors = ['skyblue', 'salmon', 'lightgreen', 'gold', 'violet', 'grey', 'red', 'darkblue', 'pink']\n",
    "district_counts.plot(kind='barh', color=colors, grid=True)  # Тип диаграммы и цвет\n",
    "\n",
    "# Добавляем подписи\n",
    "plt.title('Распределение админестративных районов', fontsize=16)\n",
    "plt.xlabel('Количество', fontsize=14)\n",
    "plt.ylabel('Район', fontsize=14)\n",
    "plt.xticks(rotation=0)  # Наклон подписей по оси X для удобства\n",
    "\n",
    "# Отображаем график\n",
    "plt.tight_layout()  # Автоматическая настройка отступов\n",
    "plt.show()"
   ]
  },
  {
   "cell_type": "markdown",
   "id": "13a53e4c",
   "metadata": {
    "id": "41f1654a"
   },
   "source": [
    "Больше всего заведений в Центральном административном округе и их 2242, что в несколько раз больше чем востальных округах."
   ]
  },
  {
   "cell_type": "code",
   "execution_count": 24,
   "id": "f27b400d",
   "metadata": {},
   "outputs": [
    {
     "data": {
      "image/png": "[encoded data removed]",
      "text/plain": [
       "<Figure size 720x432 with 1 Axes>"
      ]
     },
     "metadata": {
      "needs_background": "light"
     },
     "output_type": "display_data"
    }
   ],
   "source": [
    "# Строим диаграмму распределения заведений по категориям в центральном районе\n",
    "df_district = df[df['district'] == 'Центральный административный округ'].copy()\n",
    "# Строим столбчатую диаграмму\n",
    "category_district = df_district['category'].value_counts()\n",
    "plt.figure(figsize=(10, 6))  # Размер графика\n",
    "colors = ['skyblue', 'salmon', 'lightgreen', 'gold', 'violet', 'grey', 'red', 'darkblue']\n",
    "category_district.plot(kind='bar', color=colors, grid=True)  # Тип диаграммы и цвет\n",
    "\n",
    "# Добавляем подписи\n",
    "plt.title('Распределение заведений по категориям в центральном районе', fontsize=16)\n",
    "plt.xlabel('Категория', fontsize=14)\n",
    "plt.ylabel('Количество', fontsize=14)\n",
    "plt.xticks(rotation=0)  # Наклон подписей по оси X для удобства\n",
    "\n",
    "# Отображаем график\n",
    "plt.tight_layout()  # Автоматическая настройка отступов\n",
    "plt.show()"
   ]
  },
  {
   "cell_type": "markdown",
   "id": "c7e9eb29",
   "metadata": {},
   "source": [
    "Больше всего в центральном районе ресторанов и кафе, а меньше всего столовых и булочных."
   ]
  },
  {
   "cell_type": "code",
   "execution_count": 25,
   "id": "ef442d1a",
   "metadata": {
    "id": "ef442d1a"
   },
   "outputs": [
    {
     "data": {
      "text/plain": [
       "0    5200\n",
       "1    3203\n",
       "Name: chain, dtype: int64"
      ]
     },
     "execution_count": 25,
     "metadata": {},
     "output_type": "execute_result"
    }
   ],
   "source": [
    "df['chain'].value_counts()# определяем количество сетевых заведений"
   ]
  },
  {
   "cell_type": "code",
   "execution_count": 26,
   "id": "92fcd8ff",
   "metadata": {},
   "outputs": [
    {
     "data": {
      "text/plain": [
       "0    0.618827\n",
       "1    0.381173\n",
       "Name: chain, dtype: float64"
      ]
     },
     "execution_count": 26,
     "metadata": {},
     "output_type": "execute_result"
    }
   ],
   "source": [
    "df['chain'].value_counts() / df.shape[0] # Процент сетевых и несетевых заведений"
   ]
  },
  {
   "cell_type": "code",
   "execution_count": 27,
   "id": "99a10258",
   "metadata": {},
   "outputs": [
    {
     "name": "stdout",
     "output_type": "stream",
     "text": [
      "category         chain\n",
      "бар,паб          0         596\n",
      "                 1         168\n",
      "булочная         1         157\n",
      "                 0          99\n",
      "быстрое питание  0         371\n",
      "                 1         232\n",
      "кафе             0        1598\n",
      "                 1         779\n",
      "кофейня          1         720\n",
      "                 0         693\n",
      "пиццерия         1         330\n",
      "                 0         303\n",
      "ресторан         0        1313\n",
      "                 1         729\n",
      "столовая         0         227\n",
      "                 1          88\n",
      "Name: chain, dtype: int64\n"
     ]
    }
   ],
   "source": [
    "# Количество заведений по категориям\n",
    "category_chain = df.groupby('category')['chain'].value_counts()\n",
    "print(category_chain)"
   ]
  },
  {
   "cell_type": "code",
   "execution_count": 28,
   "id": "e2629609",
   "metadata": {},
   "outputs": [
    {
     "name": "stdout",
     "output_type": "stream",
     "text": [
      "category         chain\n",
      "бар,паб          1        0.219895\n",
      "булочная         1        0.613281\n",
      "быстрое питание  1        0.384743\n",
      "кафе             1        0.327724\n",
      "кофейня          1        0.509554\n",
      "пиццерия         1        0.521327\n",
      "ресторан         1        0.357003\n",
      "столовая         1        0.279365\n",
      "Name: chain, dtype: float64\n"
     ]
    }
   ],
   "source": [
    "#Соотношение сетевых заведений ко всем заведениям по категориям\n",
    "df1=df[df['chain'] == 1].copy()\n",
    "chain_perc = df1.groupby('category')['chain'].value_counts() / df.groupby('category')['chain'].count()\n",
    "print(chain_perc)"
   ]
  },
  {
   "cell_type": "code",
   "execution_count": 29,
   "id": "589bcf63",
   "metadata": {},
   "outputs": [
    {
     "data": {
      "image/png": "[encoded data removed]",
      "text/plain": [
       "<Figure size 864x576 with 1 Axes>"
      ]
     },
     "metadata": {
      "needs_background": "light"
     },
     "output_type": "display_data"
    }
   ],
   "source": [
    "# Строим столбчатую диаграмму для сетевых и несетевых заведений по категориям\n",
    "category_chain = df.groupby('category')['chain'].value_counts().unstack(fill_value=0).sort_values(by=[0, 1], ascending=False)\n",
    "colors = ['skyblue', 'salmon']\n",
    "category_chain.plot(kind = 'bar', color=colors, figsize=(12, 8))\n",
    "\n",
    "# Оформление\n",
    "plt.title('Сумма значений сетевых и несетевых заведений по категориям', fontsize=14)\n",
    "plt.xlabel('Категория', fontsize=12)\n",
    "plt.ylabel('количество', fontsize=12)\n",
    "plt.xticks(rotation=45)  # Наклон подписей категорий\n",
    "plt.grid(axis='y', linestyle='--', alpha=0.7)  # Сетка по оси Y\n",
    "plt.tight_layout()\n",
    "plt.show()"
   ]
  },
  {
   "cell_type": "markdown",
   "id": "098701b2",
   "metadata": {},
   "source": [
    "Сетевых заведений меньше, чем несетевых. Сетевых 3205 или (38%), а несетевых 5201 или (62%). Чаще всего сетевыми заведениями являются рестораны и кафе, а реже всего булочные и столовые."
   ]
  },
  {
   "cell_type": "code",
   "execution_count": 30,
   "id": "6cb238d2",
   "metadata": {
    "id": "6cb238d2"
   },
   "outputs": [
    {
     "data": {
      "text/plain": [
       "count    4792.000000\n",
       "mean      108.361436\n",
       "std       122.841130\n",
       "min         0.000000\n",
       "25%        40.000000\n",
       "50%        75.000000\n",
       "75%       140.000000\n",
       "max      1288.000000\n",
       "Name: seats, dtype: float64"
      ]
     },
     "execution_count": 30,
     "metadata": {},
     "output_type": "execute_result"
    }
   ],
   "source": [
    "df['seats'].describe()# статистическое описание данных"
   ]
  },
  {
   "cell_type": "markdown",
   "id": "8839e87e",
   "metadata": {
    "id": "062b55d8"
   },
   "source": [
    "Максимальное значение посадочных мест подозрительно большое."
   ]
  },
  {
   "cell_type": "code",
   "execution_count": 31,
   "id": "ceadf25b",
   "metadata": {
    "id": "ceadf25b"
   },
   "outputs": [
    {
     "data": {
      "image/png": "[encoded data removed]",
      "text/plain": [
       "<Figure size 576x864 with 1 Axes>"
      ]
     },
     "metadata": {
      "needs_background": "light"
     },
     "output_type": "display_data"
    }
   ],
   "source": [
    "# Строим ящик с усами\n",
    "plt.figure(figsize=(8, 12))\n",
    "sns.boxplot(y=df['seats'], color='skyblue')\n",
    "plt.title('Распределение количества мест')\n",
    "plt.ylabel('Количество мест')\n",
    "sns.despine() \n",
    "plt.show()"
   ]
  },
  {
   "cell_type": "markdown",
   "id": "77548e2d",
   "metadata": {},
   "source": [
    "Тут видно что много значений выбросов которые мешают анализу, поэтому будем считать среднее количество посадочных мест в заведениях по 95 процентилю."
   ]
  },
  {
   "cell_type": "code",
   "execution_count": 32,
   "id": "2b344a2b",
   "metadata": {},
   "outputs": [
    {
     "name": "stdout",
     "output_type": "stream",
     "text": [
      "category\n",
      "ресторан           100.160401\n",
      "бар,паб             95.181193\n",
      "кофейня             89.962079\n",
      "быстрое питание     85.740299\n",
      "столовая            81.375796\n",
      "булочная            79.763889\n",
      "пиццерия            79.014634\n",
      "кафе                78.379518\n",
      "Name: seats, dtype: Float64\n"
     ]
    }
   ],
   "source": [
    "# Находим 95-й процентиль для столбца 'seats'\n",
    "percentile_95 = df['seats'].quantile(0.95)\n",
    "\n",
    "# Фильтруем данные, оставляя только значения <= 95-го процентиля\n",
    "filtered_df = df[df['seats'] <= percentile_95]\n",
    "\n",
    "# Группируем и считаем среднее\n",
    "category_seats = filtered_df.groupby('category')['seats'].mean().sort_values(ascending=False)\n",
    "print(category_seats)"
   ]
  },
  {
   "cell_type": "code",
   "execution_count": 33,
   "id": "ba7ddf7a",
   "metadata": {},
   "outputs": [
    {
     "data": {
      "image/png": "[encoded data removed]",
      "text/plain": [
       "<Figure size 720x432 with 1 Axes>"
      ]
     },
     "metadata": {
      "needs_background": "light"
     },
     "output_type": "display_data"
    }
   ],
   "source": [
    "# Строим столбчатую диаграмму\n",
    "plt.figure(figsize=(10, 6))  # Размер графика\n",
    "colors = ['skyblue', 'salmon', 'lightgreen', 'gold', 'violet', 'grey', 'red', 'darkblue']\n",
    "category_seats.plot(kind='bar', color=colors, grid=True)\n",
    "# Добавляем подписи\n",
    "plt.title('Распределение посадочных мест по категориям', fontsize=16)\n",
    "plt.xlabel('Категория', fontsize=14)\n",
    "plt.ylabel('Посадочные места', fontsize=14)\n",
    "plt.xticks(rotation=0)  # Наклон подписей по оси X для удобства\n",
    "\n",
    "# Отображаем график\n",
    "plt.tight_layout()  # Автоматическая настройка отступов\n",
    "plt.show()"
   ]
  },
  {
   "cell_type": "markdown",
   "id": "e3fc69dd",
   "metadata": {},
   "source": [
    "Самое большое среднее количество посадочных мест в ресторане(100), а самое маленькое у кафе(78). У значений посадочных месть очень большие выбросы."
   ]
  },
  {
   "cell_type": "code",
   "execution_count": 34,
   "id": "cc5206f8",
   "metadata": {
    "id": "cc5206f8"
   },
   "outputs": [
    {
     "data": {
      "text/plain": [
       "count    8403.000000\n",
       "mean        4.229894\n",
       "std         0.470426\n",
       "min         1.000000\n",
       "25%         4.100000\n",
       "50%         4.300000\n",
       "75%         4.400000\n",
       "max         5.000000\n",
       "Name: rating, dtype: float64"
      ]
     },
     "execution_count": 34,
     "metadata": {},
     "output_type": "execute_result"
    }
   ],
   "source": [
    "df['rating'].describe()# статистическое описание данных"
   ]
  },
  {
   "cell_type": "code",
   "execution_count": 35,
   "id": "aff49619",
   "metadata": {},
   "outputs": [
    {
     "name": "stdout",
     "output_type": "stream",
     "text": [
      "category\n",
      "бар,паб            4.387696\n",
      "пиццерия           4.301264\n",
      "ресторан           4.290401\n",
      "кофейня            4.277282\n",
      "булочная           4.268359\n",
      "столовая           4.211429\n",
      "кафе               4.123896\n",
      "быстрое питание    4.050249\n",
      "Name: rating, dtype: float32\n"
     ]
    }
   ],
   "source": [
    "category_rating = df.groupby('category')['rating'].mean().sort_values(ascending=False)\n",
    "print(category_rating)"
   ]
  },
  {
   "cell_type": "code",
   "execution_count": 36,
   "id": "3e0ec5d7",
   "metadata": {
    "id": "3e0ec5d7"
   },
   "outputs": [
    {
     "data": {
      "image/png": "[encoded data removed]",
      "text/plain": [
       "<Figure size 864x576 with 1 Axes>"
      ]
     },
     "metadata": {
      "needs_background": "light"
     },
     "output_type": "display_data"
    }
   ],
   "source": [
    "# Строим столбчатую диаграмму для среднего рейтинга по категориям\n",
    "colors = ['skyblue', 'salmon', 'lightgreen', 'gold', 'violet', 'grey', 'red', 'darkblue']\n",
    "category_rating.plot(kind = 'bar', color=colors, figsize=(12, 8))\n",
    "\n",
    "# Оформление\n",
    "plt.title('Распределение среднего рейтинга по категориям', fontsize=14)\n",
    "plt.xlabel('Категория', fontsize=12)\n",
    "plt.ylabel('Средний рейтинг', fontsize=12)\n",
    "plt.xticks(rotation=45)  # Наклон подписей категорий\n",
    "plt.grid(axis='y', linestyle='--', alpha=0.7)  # Сетка по оси Y\n",
    "plt.tight_layout()\n",
    "plt.show()"
   ]
  },
  {
   "cell_type": "markdown",
   "id": "0efe43c1",
   "metadata": {
    "id": "766c86cb"
   },
   "source": [
    "В среднем показателе рейтинга нет ничего особенного, все значения примерно равны."
   ]
  },
  {
   "cell_type": "code",
   "execution_count": 37,
   "id": "15400eb9",
   "metadata": {
    "id": "15400eb9",
    "scrolled": false
   },
   "outputs": [
    {
     "name": "stdout",
     "output_type": "stream",
     "text": [
      "Collecting phik\n",
      "  Downloading phik-0.12.4-cp39-cp39-manylinux_2_17_x86_64.manylinux2014_x86_64.whl (686 kB)\n",
      "\u001b[K     |████████████████████████████████| 686 kB 2.4 MB/s eta 0:00:01\n",
      "\u001b[?25hRequirement already satisfied: numpy>=1.18.0 in /opt/conda/lib/python3.9/site-packages (from phik) (1.21.1)\n",
      "Requirement already satisfied: scipy>=1.5.2 in /opt/conda/lib/python3.9/site-packages (from phik) (1.9.1)\n",
      "Requirement already satisfied: matplotlib>=2.2.3 in /opt/conda/lib/python3.9/site-packages (from phik) (3.3.4)\n",
      "Requirement already satisfied: pandas>=0.25.1 in /opt/conda/lib/python3.9/site-packages (from phik) (1.2.4)\n",
      "Requirement already satisfied: joblib>=0.14.1 in /opt/conda/lib/python3.9/site-packages (from phik) (1.1.0)\n",
      "Requirement already satisfied: pillow>=6.2.0 in /opt/conda/lib/python3.9/site-packages (from matplotlib>=2.2.3->phik) (8.4.0)\n",
      "Requirement already satisfied: python-dateutil>=2.1 in /opt/conda/lib/python3.9/site-packages (from matplotlib>=2.2.3->phik) (2.8.1)\n",
      "Requirement already satisfied: cycler>=0.10 in /opt/conda/lib/python3.9/site-packages (from matplotlib>=2.2.3->phik) (0.11.0)\n",
      "Requirement already satisfied: pyparsing!=2.0.4,!=2.1.2,!=2.1.6,>=2.0.3 in /opt/conda/lib/python3.9/site-packages (from matplotlib>=2.2.3->phik) (2.4.7)\n",
      "Requirement already satisfied: kiwisolver>=1.0.1 in /opt/conda/lib/python3.9/site-packages (from matplotlib>=2.2.3->phik) (1.4.4)\n",
      "Requirement already satisfied: pytz>=2017.3 in /opt/conda/lib/python3.9/site-packages (from pandas>=0.25.1->phik) (2021.1)\n",
      "Requirement already satisfied: six>=1.5 in /opt/conda/lib/python3.9/site-packages (from python-dateutil>=2.1->matplotlib>=2.2.3->phik) (1.16.0)\n",
      "Installing collected packages: phik\n",
      "Successfully installed phik-0.12.4\n"
     ]
    }
   ],
   "source": [
    "!pip install phik"
   ]
  },
  {
   "cell_type": "code",
   "execution_count": 38,
   "id": "b55d2643",
   "metadata": {},
   "outputs": [],
   "source": [
    "# Загружаем библиотеку для расчёта коэффициента корреляции phi_k\n",
    "from phik import phik_matrix"
   ]
  },
  {
   "cell_type": "code",
   "execution_count": 39,
   "id": "031fca61",
   "metadata": {},
   "outputs": [
    {
     "name": "stdout",
     "output_type": "stream",
     "text": [
      "      category                              district  rating  chain  seats  \\\n",
      "0         кафе       Северный административный округ     5.0      0   <NA>   \n",
      "1     ресторан       Северный административный округ     4.5      0      4   \n",
      "2         кафе       Северный административный округ     4.6      0     45   \n",
      "3      кофейня       Северный административный округ     5.0      0   <NA>   \n",
      "4     пиццерия       Северный административный округ     5.0      1    148   \n",
      "...        ...                                   ...     ...    ...    ...   \n",
      "8401      кафе   Юго-Западный административный округ     4.4      0     86   \n",
      "8402      кафе          Южный административный округ     4.8      0    150   \n",
      "8403      кафе  Юго-Восточный административный округ     3.9      0    150   \n",
      "8404      кафе  Юго-Восточный административный округ     4.2      1    150   \n",
      "8405      кафе          Южный административный округ     3.9      0     12   \n",
      "\n",
      "              price  is_24_7  \n",
      "0               NaN    False  \n",
      "1     выше среднего    False  \n",
      "2           средние    False  \n",
      "3               NaN    False  \n",
      "4           средние    False  \n",
      "...             ...      ...  \n",
      "8401            NaN    False  \n",
      "8402            NaN    False  \n",
      "8403            NaN     True  \n",
      "8404            NaN     True  \n",
      "8405            NaN     True  \n",
      "\n",
      "[8403 rows x 7 columns]\n"
     ]
    }
   ],
   "source": [
    "new_df = df[['category', 'district', 'rating', 'chain', 'seats', 'price', 'is_24_7']]# Создали датафрейм для корреляции\n",
    "print(new_df)"
   ]
  },
  {
   "cell_type": "code",
   "execution_count": 40,
   "id": "0176602e",
   "metadata": {},
   "outputs": [
    {
     "name": "stdout",
     "output_type": "stream",
     "text": [
      "interval columns not set, guessing: ['rating', 'chain', 'seats']\n",
      "Корреляция Phik между rating и другими столбцами:\n",
      "price       0.262056\n",
      "category    0.198917\n",
      "district    0.189389\n",
      "is_24_7     0.160864\n",
      "chain       0.119061\n",
      "seats       0.000000\n",
      "Name: rating, dtype: float64\n"
     ]
    },
    {
     "data": {
      "image/png": "[encoded data removed]",
      "text/plain": [
       "<Figure size 720x432 with 1 Axes>"
      ]
     },
     "metadata": {
      "needs_background": "light"
     },
     "output_type": "display_data"
    }
   ],
   "source": [
    "# Создаем корреляцию\n",
    "phik_matrix = new_df.phik_matrix()\n",
    "\n",
    "# Извлекаем корреляции только для столбца 'rating' (исключая его самого)\n",
    "rating_corr = phik_matrix['rating'].drop('rating')\n",
    "\n",
    "# Сортируем по убыванию абсолютных значений\n",
    "sorted_corr = rating_corr.abs().sort_values(ascending=False)\n",
    "\n",
    "# Выводим результаты\n",
    "print(\"Корреляция Phik между rating и другими столбцами:\")\n",
    "print(sorted_corr)\n",
    "\n",
    "# Визуализация\n",
    "plt.figure(figsize=(10, 6))\n",
    "sorted_corr.plot(kind='barh', color='skyblue')\n",
    "plt.title('Корреляция Phik с рейтингом (rating)')\n",
    "plt.xlabel('Коэффициент Phik (φK)')\n",
    "plt.ylabel('Столбцы')\n",
    "plt.grid(axis='x', linestyle='--', alpha=0.7)\n",
    "plt.show()"
   ]
  },
  {
   "cell_type": "markdown",
   "id": "402af0b5",
   "metadata": {
    "id": "8f0379af"
   },
   "source": [
    "Самая высокая корреляция с ценой. Все корреляции положительные, единственный столбец чей коэфициент равен 0 это `seats`."
   ]
  },
  {
   "cell_type": "code",
   "execution_count": 41,
   "id": "5d828a9a",
   "metadata": {
    "id": "5d828a9a"
   },
   "outputs": [
    {
     "name": "stdout",
     "output_type": "stream",
     "text": [
      "                                     name  category  num_venues  avg_rating\n",
      "1126                          шоколадница   кофейня         119    4.178151\n",
      "496                        домино'с пицца  пиццерия          76    4.169737\n",
      "489                            додо пицца  пиццерия          74    4.286487\n",
      "205                      one price coffee   кофейня          71    4.064789\n",
      "1142                         яндекс лавка  ресторан          69    3.872464\n",
      "72                                  cofix   кофейня          65    4.075385\n",
      "241                                 prime  ресторан          49    4.114285\n",
      "617                              кофепорт   кофейня          42    4.147619\n",
      "632   кулинарная лавка братьев караваевых      кафе          39    4.394872\n",
      "963                               теремок  ресторан          36    4.105556\n",
      "50                               cofefest   кофейня          31    3.977419\n",
      "1050                              чайхана      кафе          26    3.946154\n",
      "384                               буханка  булочная          25    4.416000\n",
      "89                             drive café      кафе          24    4.025000\n",
      "615                             кофемания   кофейня          22    4.463636\n"
     ]
    }
   ],
   "source": [
    "# Найдем топ 15 популярных заведений заведений \n",
    "df_chain = df[df['chain'] == 1].copy()# Для сетевых заведений\n",
    "chain_stats = df_chain.groupby(['name', 'category'], as_index=False).agg(\n",
    "    num_venues=('name', 'count'),  # количество заведений в сети\n",
    "    avg_rating=('rating', 'mean')  # средний рейтинг\n",
    ")\n",
    "\n",
    "# Сортируем по популярности и берём топ-15\n",
    "top_chains = chain_stats.sort_values('num_venues', ascending=False).head(15)\n",
    "print(top_chains)"
   ]
  },
  {
   "cell_type": "code",
   "execution_count": 42,
   "id": "d013c598",
   "metadata": {
    "id": "d013c598"
   },
   "outputs": [
    {
     "data": {
      "image/png": "[encoded data removed]",
      "text/plain": [
       "<Figure size 1008x720 with 1 Axes>"
      ]
     },
     "metadata": {
      "needs_background": "light"
     },
     "output_type": "display_data"
    }
   ],
   "source": [
    "# строим столбчатую диаграмму\n",
    "plt.figure(figsize=(14, 10))\n",
    "sns.barplot(\n",
    "    x='num_venues', \n",
    "    y='name', \n",
    "    data=top_chains,\n",
    "    palette='coolwarm',  # Цветовая гамма\n",
    "    edgecolor='black' # Границы столбцов\n",
    ")\n",
    "\n",
    "# Настройка оформления\n",
    "plt.title('Топ-15 сетей по количеству заведений в Москве', fontsize=16)\n",
    "plt.xlabel('Количество заведений', fontsize=12)\n",
    "plt.ylabel('Название сети', fontsize=12)\n",
    "plt.grid(axis='x', linestyle='--', alpha=0.7)  # Сетка только по X\n",
    "\n",
    "# Отображаем график\n",
    "plt.tight_layout()\n",
    "plt.show()"
   ]
  },
  {
   "cell_type": "code",
   "execution_count": 44,
   "id": "777ebb0d",
   "metadata": {
    "scrolled": true
   },
   "outputs": [
    {
     "name": "stdout",
     "output_type": "stream",
     "text": [
      "                                     name  category  num_venues  avg_rating\n",
      "615                             кофемания   кофейня          22    4.463636\n",
      "384                               буханка  булочная          25    4.416000\n",
      "632   кулинарная лавка братьев караваевых      кафе          39    4.394872\n",
      "489                            додо пицца  пиццерия          74    4.286487\n",
      "1126                          шоколадница   кофейня         119    4.178151\n",
      "496                        домино'с пицца  пиццерия          76    4.169737\n",
      "617                              кофепорт   кофейня          42    4.147619\n",
      "241                                 prime  ресторан          49    4.114285\n",
      "963                               теремок  ресторан          36    4.105556\n",
      "72                                  cofix   кофейня          65    4.075385\n",
      "205                      one price coffee   кофейня          71    4.064789\n",
      "89                             drive café      кафе          24    4.025000\n",
      "50                               cofefest   кофейня          31    3.977419\n",
      "1050                              чайхана      кафе          26    3.946154\n",
      "1142                         яндекс лавка  ресторан          69    3.872464\n"
     ]
    }
   ],
   "source": [
    "# Найдем топ 15 популярных заведений заведений \n",
    "df_chain = df[df['chain'] == 1].copy()# Для сетевых заведений\n",
    "chain_stats = df_chain.groupby(['name', 'category'], as_index=False).agg(\n",
    "    num_venues=('name', 'count'),  # количество заведений в сети\n",
    "    avg_rating=('rating', 'mean')  # средний рейтинг\n",
    ")\n",
    "\n",
    "# Сортируем по популярности и берём топ-15\n",
    "top_chains1 = chain_stats.sort_values('num_venues', ascending=False).head(15)\n",
    "top_chains2=top_chains1.sort_values('avg_rating', ascending=False)\n",
    "print(top_chains2)"
   ]
  },
  {
   "cell_type": "code",
   "execution_count": 45,
   "id": "774348d5",
   "metadata": {
    "id": "774348d5"
   },
   "outputs": [
    {
     "data": {
      "image/png": "[encoded data removed]",
      "text/plain": [
       "<Figure size 1008x720 with 1 Axes>"
      ]
     },
     "metadata": {
      "needs_background": "light"
     },
     "output_type": "display_data"
    }
   ],
   "source": [
    "# строим столбчатую диаграмму\n",
    "plt.figure(figsize=(14, 10))\n",
    "sns.barplot(\n",
    "    x='avg_rating', \n",
    "    y='name', \n",
    "    data=top_chains2,\n",
    "    color='lightblue',  # Цветовая гамма\n",
    "    edgecolor='black' # Границы столбцов\n",
    ")\n",
    "\n",
    "# Настройка оформления\n",
    "plt.title('Средний рейтинг топ-15 сетей заведений в Москве', fontsize=16)\n",
    "plt.xlabel('Средний рейтинг', fontsize=12)\n",
    "plt.ylabel('Название сети', fontsize=12)\n",
    "plt.grid(axis='x', linestyle='--', alpha=0.7)  # Сетка только по X\n",
    "\n",
    "# Отображаем график\n",
    "plt.tight_layout()\n",
    "plt.show()"
   ]
  },
  {
   "cell_type": "markdown",
   "id": "5c1f5c72",
   "metadata": {},
   "source": [
    "Самые популярные заведения это кофейня Шоколадница(120 заведений) и пиццерия Домино'с Пицца(76 заведений), а самые не популярные это Drive-cafe(24 заведений) и Кофемания(22 заведений). А самая низкая оценка у яндекс лавки."
   ]
  },
  {
   "cell_type": "code",
   "execution_count": null,
   "id": "5fb4ffc6",
   "metadata": {
    "id": "5fb4ffc6"
   },
   "outputs": [],
   "source": [
    "district_bill = df.groupby('district').agg(\n",
    "    avg=('middle_avg_bill', 'mean'))\n",
    "district_bill = district_bill.sort_values('avg', ascending=False)\n",
    "print(district_bill)"
   ]
  },
  {
   "cell_type": "code",
   "execution_count": null,
   "id": "b98066c1",
   "metadata": {
    "id": "b98066c1"
   },
   "outputs": [],
   "source": [
    "# Строим столбчатую диаграмму\n",
    "district_bill.plot(kind='barh', color='skyblue', grid=True, figsize=(12, 8))  # Тип диаграммы и цвет\n",
    "\n",
    "# Добавляем подписи\n",
    "plt.title('Распределение админестративных районов', fontsize=16)\n",
    "plt.xlabel('Количество', fontsize=14)\n",
    "plt.ylabel('Район', fontsize=14)\n",
    "plt.xticks(rotation=0)  # Наклон подписей по оси X для удобства\n",
    "\n",
    "# Отображаем график\n",
    "plt.tight_layout()  # Автоматическая настройка отступов\n",
    "plt.show()"
   ]
  },
  {
   "cell_type": "markdown",
   "id": "6859ffc6",
   "metadata": {
    "id": "9b5e00a5"
   },
   "source": [
    "Чем дальше от центра города тем меньше цены. В центральном районе самые высокие цены в городе(средний чек 1191), западная часть города на втором месте(средний чек 1053), самые дешевые округа это Юго-восточный(средний чек 654) и Северо-восточный(средний чек 716)."
   ]
  },
  {
   "cell_type": "markdown",
   "id": "c150bd4f",
   "metadata": {
    "id": "c150bd4f"
   },
   "source": [
    "---\n"
   ]
  },
  {
   "cell_type": "markdown",
   "id": "f2c54e9a",
   "metadata": {
    "id": "f2c54e9a"
   },
   "source": [
    "---\n",
    "\n",
    "### Промежуточный вывод\n",
    "\n"
   ]
  },
  {
   "cell_type": "markdown",
   "id": "87391f74",
   "metadata": {
    "id": "c8869609"
   },
   "source": [
    "- средний чек самый высокий в центре города.\n",
    "- самая популярная категория сетевых заведений кофейня.\n",
    "- самый высокий средний рейтинг у пабов или баров.\n",
    "- самый высокий показатель среднего числа посадочных мест у ресторанов.\n",
    "- сетевых заведений меньше чем не сетевых.\n",
    "- самая популярная категория всех заведений кафе.\n",
    "- самое большое количество заведений в центральном районе.\n",
    "- в центральном районе больше всего заведений типа ресторан."
   ]
  },
  {
   "cell_type": "markdown",
   "id": "480f3422",
   "metadata": {
    "id": "480f3422"
   },
   "source": [
    "## 4. Итоговый вывод и рекомендации\n",
    "\n",
    "\n",
    "\n",
    " **1. Общий обзор проделанной работы:**\n",
    "- Исследовали количество объектов общественного питания по каждой категории.\n",
    "- Исследовали распределение количества заведений по административным районам Москвы.\n",
    "- Исследовали: Каких заведений больше — сетевых или несетевых.\n",
    "- Исследовали количество посадочных мест в заведениях.\n",
    "- Исследовали рейтинг заведений.\n",
    "- Изучили, с какими данными показывают самую сильную корреляцию рейтинги заведений.\n",
    "- Нашли топ-15 популярных сетей в Москве.\n",
    "- Изучили вариацию среднего чека заведения в зависимости от района Москвы\n",
    "\n",
    " **2. Ответы на исследовательские вопросы, или главные выводы:**\n",
    "- средний чек самый высокий в центре города.\n",
    "- самая популярная категория сетевых заведений кофейня.\n",
    "- самый высокий средний рейтинг у пабов или баров.\n",
    "- самый высокий показатель среднего числа посадочных мест у ресторанов.\n",
    "- сетевых заведений меньше чем не сетевых.\n",
    "- самая популярная категория всех заведений кафе.\n",
    "- самое большое количество заведений в центральном районе.\n",
    "- в центральном районе больше всего заведений типа ресторан.\n",
    "\n",
    " **3. Рекомендации на основе анализа данных:**\n",
    "Открыть в центре города сетевую кофейню совмещенную с рестораном и баром работающим круглосуточно."
   ]
  }
 ],
 "metadata": {
  "ExecuteTimeLog": [
   {
    "duration": 1475,
    "start_time": "2025-04-23T17:52:50.253Z"
   },
   {
    "duration": 3,
    "start_time": "2025-04-23T17:54:19.805Z"
   },
   {
    "duration": 2,
    "start_time": "2025-04-23T17:54:24.951Z"
   },
   {
    "duration": 318,
    "start_time": "2025-04-23T17:56:43.993Z"
   },
   {
    "duration": 16,
    "start_time": "2025-04-23T18:02:31.743Z"
   },
   {
    "duration": 15,
    "start_time": "2025-04-23T18:03:12.843Z"
   },
   {
    "duration": 10,
    "start_time": "2025-04-23T18:07:56.633Z"
   },
   {
    "duration": 11,
    "start_time": "2025-04-23T18:08:36.294Z"
   },
   {
    "duration": 11,
    "start_time": "2025-04-23T18:36:04.957Z"
   },
   {
    "duration": 14,
    "start_time": "2025-04-23T18:36:08.373Z"
   },
   {
    "duration": 50,
    "start_time": "2025-04-26T15:55:07.705Z"
   },
   {
    "duration": 1302,
    "start_time": "2025-04-26T15:55:23.509Z"
   },
   {
    "duration": 460,
    "start_time": "2025-04-26T15:55:24.813Z"
   },
   {
    "duration": 2,
    "start_time": "2025-04-26T15:55:25.275Z"
   },
   {
    "duration": 18,
    "start_time": "2025-04-26T15:55:25.280Z"
   },
   {
    "duration": 16,
    "start_time": "2025-04-26T15:55:25.300Z"
   },
   {
    "duration": 9,
    "start_time": "2025-04-26T15:55:25.318Z"
   },
   {
    "duration": 42,
    "start_time": "2025-04-26T15:55:25.329Z"
   },
   {
    "duration": 11,
    "start_time": "2025-04-26T15:55:25.372Z"
   },
   {
    "duration": 15,
    "start_time": "2025-04-26T15:55:25.385Z"
   },
   {
    "duration": 126,
    "start_time": "2025-04-26T15:55:25.402Z"
   },
   {
    "duration": 8,
    "start_time": "2025-04-26T15:55:36.220Z"
   },
   {
    "duration": 9,
    "start_time": "2025-04-26T15:58:27.531Z"
   },
   {
    "duration": 9,
    "start_time": "2025-04-26T16:00:16.908Z"
   },
   {
    "duration": 10,
    "start_time": "2025-04-26T16:00:27.244Z"
   },
   {
    "duration": 17,
    "start_time": "2025-04-26T16:00:50.701Z"
   },
   {
    "duration": 15,
    "start_time": "2025-04-26T16:00:59.045Z"
   },
   {
    "duration": 13,
    "start_time": "2025-04-26T16:04:19.677Z"
   },
   {
    "duration": 15,
    "start_time": "2025-04-26T16:08:33.934Z"
   },
   {
    "duration": 15,
    "start_time": "2025-04-26T16:08:58.509Z"
   },
   {
    "duration": 15,
    "start_time": "2025-04-26T16:11:06.061Z"
   },
   {
    "duration": 17,
    "start_time": "2025-04-26T16:13:26.808Z"
   },
   {
    "duration": 15,
    "start_time": "2025-04-26T16:14:53.471Z"
   },
   {
    "duration": 9,
    "start_time": "2025-04-26T16:19:18.286Z"
   },
   {
    "duration": 11,
    "start_time": "2025-04-26T16:25:26.270Z"
   },
   {
    "duration": 10,
    "start_time": "2025-04-26T16:25:42.335Z"
   },
   {
    "duration": 5036,
    "start_time": "2025-04-27T12:44:09.624Z"
   },
   {
    "duration": 3,
    "start_time": "2025-04-27T12:44:44.681Z"
   },
   {
    "duration": 1318,
    "start_time": "2025-04-27T12:44:57.163Z"
   },
   {
    "duration": 166,
    "start_time": "2025-04-27T12:44:58.483Z"
   },
   {
    "duration": 3,
    "start_time": "2025-04-27T12:44:58.650Z"
   },
   {
    "duration": 18,
    "start_time": "2025-04-27T12:44:58.655Z"
   },
   {
    "duration": 15,
    "start_time": "2025-04-27T12:44:58.674Z"
   },
   {
    "duration": 21,
    "start_time": "2025-04-27T12:44:58.691Z"
   },
   {
    "duration": 72,
    "start_time": "2025-04-27T12:44:58.714Z"
   },
   {
    "duration": 68,
    "start_time": "2025-04-27T12:44:58.788Z"
   },
   {
    "duration": 108,
    "start_time": "2025-04-27T12:44:58.857Z"
   },
   {
    "duration": 18,
    "start_time": "2025-04-27T12:44:58.968Z"
   },
   {
    "duration": 8,
    "start_time": "2025-04-27T12:44:58.988Z"
   },
   {
    "duration": 18,
    "start_time": "2025-04-27T12:44:58.998Z"
   },
   {
    "duration": 3,
    "start_time": "2025-04-27T12:45:50.977Z"
   },
   {
    "duration": 213,
    "start_time": "2025-04-27T12:45:56.280Z"
   },
   {
    "duration": 1304,
    "start_time": "2025-04-27T12:46:04.691Z"
   },
   {
    "duration": 156,
    "start_time": "2025-04-27T12:46:05.998Z"
   },
   {
    "duration": 3,
    "start_time": "2025-04-27T12:46:06.156Z"
   },
   {
    "duration": 146,
    "start_time": "2025-04-27T12:46:06.160Z"
   },
   {
    "duration": 21,
    "start_time": "2025-04-27T12:46:06.309Z"
   },
   {
    "duration": 12,
    "start_time": "2025-04-27T12:46:06.332Z"
   },
   {
    "duration": 37,
    "start_time": "2025-04-27T12:46:06.346Z"
   },
   {
    "duration": 30,
    "start_time": "2025-04-27T12:46:06.385Z"
   },
   {
    "duration": 17,
    "start_time": "2025-04-27T12:46:06.417Z"
   },
   {
    "duration": 20,
    "start_time": "2025-04-27T12:46:06.436Z"
   },
   {
    "duration": 11,
    "start_time": "2025-04-27T12:46:06.458Z"
   },
   {
    "duration": 22,
    "start_time": "2025-04-27T12:46:06.477Z"
   },
   {
    "duration": 13,
    "start_time": "2025-04-27T12:47:47.509Z"
   },
   {
    "duration": 6,
    "start_time": "2025-04-27T12:50:34.589Z"
   },
   {
    "duration": 7,
    "start_time": "2025-04-27T12:52:30.150Z"
   },
   {
    "duration": 7,
    "start_time": "2025-04-27T12:56:50.955Z"
   },
   {
    "duration": 106,
    "start_time": "2025-04-27T12:58:29.848Z"
   },
   {
    "duration": 12,
    "start_time": "2025-04-27T12:58:38.287Z"
   },
   {
    "duration": 12,
    "start_time": "2025-04-27T13:05:33.361Z"
   },
   {
    "duration": 11,
    "start_time": "2025-04-27T13:06:00.049Z"
   },
   {
    "duration": 22,
    "start_time": "2025-04-27T13:09:39.846Z"
   },
   {
    "duration": 14,
    "start_time": "2025-04-27T13:09:59.367Z"
   },
   {
    "duration": 21,
    "start_time": "2025-04-27T13:15:16.268Z"
   },
   {
    "duration": 12,
    "start_time": "2025-04-27T13:17:24.502Z"
   },
   {
    "duration": 11,
    "start_time": "2025-04-27T13:17:29.100Z"
   },
   {
    "duration": 5,
    "start_time": "2025-04-27T13:18:29.892Z"
   },
   {
    "duration": 4,
    "start_time": "2025-04-27T13:18:58.124Z"
   },
   {
    "duration": 13,
    "start_time": "2025-04-27T13:19:16.532Z"
   },
   {
    "duration": 10,
    "start_time": "2025-04-27T13:19:44.195Z"
   },
   {
    "duration": 5,
    "start_time": "2025-04-27T13:19:46.580Z"
   },
   {
    "duration": 6,
    "start_time": "2025-04-27T13:20:49.092Z"
   },
   {
    "duration": 9,
    "start_time": "2025-04-27T13:22:59.524Z"
   },
   {
    "duration": 6,
    "start_time": "2025-04-27T13:23:02.084Z"
   },
   {
    "duration": 7,
    "start_time": "2025-04-27T13:32:47.797Z"
   },
   {
    "duration": 344,
    "start_time": "2025-04-27T13:35:20.700Z"
   },
   {
    "duration": 308,
    "start_time": "2025-04-27T13:36:02.596Z"
   },
   {
    "duration": 266,
    "start_time": "2025-04-27T13:37:12.283Z"
   },
   {
    "duration": 308,
    "start_time": "2025-04-27T13:37:24.188Z"
   },
   {
    "duration": 288,
    "start_time": "2025-04-27T13:37:52.846Z"
   },
   {
    "duration": 304,
    "start_time": "2025-04-27T13:40:00.022Z"
   },
   {
    "duration": 193,
    "start_time": "2025-04-27T13:41:03.557Z"
   },
   {
    "duration": 357,
    "start_time": "2025-04-27T13:41:40.988Z"
   },
   {
    "duration": 324,
    "start_time": "2025-04-27T13:44:35.710Z"
   },
   {
    "duration": 317,
    "start_time": "2025-04-27T13:44:52.638Z"
   },
   {
    "duration": 281,
    "start_time": "2025-04-27T13:45:10.773Z"
   },
   {
    "duration": 295,
    "start_time": "2025-04-27T13:46:14.246Z"
   },
   {
    "duration": 7,
    "start_time": "2025-04-27T13:51:44.370Z"
   },
   {
    "duration": 300,
    "start_time": "2025-04-27T13:55:03.370Z"
   },
   {
    "duration": 346,
    "start_time": "2025-04-27T13:55:19.481Z"
   },
   {
    "duration": 357,
    "start_time": "2025-04-27T13:55:43.921Z"
   },
   {
    "duration": 357,
    "start_time": "2025-04-27T13:57:03.409Z"
   },
   {
    "duration": 343,
    "start_time": "2025-04-27T13:57:33.562Z"
   },
   {
    "duration": 354,
    "start_time": "2025-04-27T13:57:50.057Z"
   },
   {
    "duration": 504,
    "start_time": "2025-04-27T13:58:00.514Z"
   },
   {
    "duration": 379,
    "start_time": "2025-04-27T13:58:12.084Z"
   },
   {
    "duration": 324,
    "start_time": "2025-04-27T13:58:54.619Z"
   },
   {
    "duration": 316,
    "start_time": "2025-04-27T14:06:38.091Z"
   },
   {
    "duration": 1389,
    "start_time": "2025-04-27T14:07:40.719Z"
   },
   {
    "duration": 174,
    "start_time": "2025-04-27T14:07:42.110Z"
   },
   {
    "duration": 3,
    "start_time": "2025-04-27T14:07:42.286Z"
   },
   {
    "duration": 29,
    "start_time": "2025-04-27T14:07:42.292Z"
   },
   {
    "duration": 52,
    "start_time": "2025-04-27T14:07:42.323Z"
   },
   {
    "duration": 11,
    "start_time": "2025-04-27T14:07:42.377Z"
   },
   {
    "duration": 13,
    "start_time": "2025-04-27T14:07:42.390Z"
   },
   {
    "duration": 11,
    "start_time": "2025-04-27T14:07:42.405Z"
   },
   {
    "duration": 15,
    "start_time": "2025-04-27T14:07:42.418Z"
   },
   {
    "duration": 53,
    "start_time": "2025-04-27T14:07:42.437Z"
   },
   {
    "duration": 15,
    "start_time": "2025-04-27T14:07:42.491Z"
   },
   {
    "duration": 11,
    "start_time": "2025-04-27T14:07:42.508Z"
   },
   {
    "duration": 12,
    "start_time": "2025-04-27T14:07:42.521Z"
   },
   {
    "duration": 14,
    "start_time": "2025-04-27T14:07:42.535Z"
   },
   {
    "duration": 14,
    "start_time": "2025-04-27T14:07:42.575Z"
   },
   {
    "duration": 64,
    "start_time": "2025-04-27T14:07:42.591Z"
   },
   {
    "duration": 8,
    "start_time": "2025-04-27T14:07:42.657Z"
   },
   {
    "duration": 10,
    "start_time": "2025-04-27T14:07:42.666Z"
   },
   {
    "duration": 333,
    "start_time": "2025-04-27T14:07:42.678Z"
   },
   {
    "duration": 6,
    "start_time": "2025-04-27T14:07:43.013Z"
   },
   {
    "duration": 391,
    "start_time": "2025-04-27T14:07:43.020Z"
   },
   {
    "duration": 124,
    "start_time": "2025-04-27T14:12:54.025Z"
   },
   {
    "duration": 293,
    "start_time": "2025-04-27T14:17:49.545Z"
   },
   {
    "duration": 6,
    "start_time": "2025-04-27T14:22:50.359Z"
   },
   {
    "duration": 7,
    "start_time": "2025-04-27T14:26:41.763Z"
   },
   {
    "duration": 5,
    "start_time": "2025-04-27T14:34:18.125Z"
   },
   {
    "duration": 7,
    "start_time": "2025-04-27T14:35:06.509Z"
   },
   {
    "duration": 323,
    "start_time": "2025-04-27T14:36:41.630Z"
   },
   {
    "duration": 325,
    "start_time": "2025-04-27T14:38:44.992Z"
   },
   {
    "duration": 343,
    "start_time": "2025-04-27T14:39:00.517Z"
   },
   {
    "duration": 319,
    "start_time": "2025-04-27T14:41:17.151Z"
   },
   {
    "duration": 400,
    "start_time": "2025-04-27T14:41:25.878Z"
   },
   {
    "duration": 372,
    "start_time": "2025-04-27T14:46:51.983Z"
   },
   {
    "duration": 118,
    "start_time": "2025-04-27T14:51:20.146Z"
   },
   {
    "duration": 17,
    "start_time": "2025-04-27T14:51:41.104Z"
   },
   {
    "duration": 318,
    "start_time": "2025-04-27T14:56:50.049Z"
   },
   {
    "duration": 218,
    "start_time": "2025-04-27T14:57:45.712Z"
   },
   {
    "duration": 326,
    "start_time": "2025-04-27T14:57:55.161Z"
   },
   {
    "duration": 352,
    "start_time": "2025-04-27T14:58:08.474Z"
   },
   {
    "duration": 370,
    "start_time": "2025-04-27T14:59:11.688Z"
   },
   {
    "duration": 352,
    "start_time": "2025-04-27T14:59:26.314Z"
   },
   {
    "duration": 344,
    "start_time": "2025-04-27T14:59:40.808Z"
   },
   {
    "duration": 438,
    "start_time": "2025-04-27T15:00:23.209Z"
   },
   {
    "duration": 329,
    "start_time": "2025-04-27T15:01:18.754Z"
   },
   {
    "duration": 7,
    "start_time": "2025-04-27T15:06:55.593Z"
   },
   {
    "duration": 6,
    "start_time": "2025-04-27T15:07:19.738Z"
   },
   {
    "duration": 350,
    "start_time": "2025-04-27T15:07:35.012Z"
   },
   {
    "duration": 348,
    "start_time": "2025-04-27T15:07:51.298Z"
   },
   {
    "duration": 412,
    "start_time": "2025-04-27T15:08:35.515Z"
   },
   {
    "duration": 10,
    "start_time": "2025-04-27T15:10:52.788Z"
   },
   {
    "duration": 13,
    "start_time": "2025-04-27T15:16:36.476Z"
   },
   {
    "duration": 12,
    "start_time": "2025-04-27T15:20:09.429Z"
   },
   {
    "duration": 579,
    "start_time": "2025-04-27T15:23:50.173Z"
   },
   {
    "duration": 124,
    "start_time": "2025-04-27T15:23:56.437Z"
   },
   {
    "duration": 16,
    "start_time": "2025-04-27T15:24:33.806Z"
   },
   {
    "duration": 129,
    "start_time": "2025-04-27T15:25:21.680Z"
   },
   {
    "duration": 131,
    "start_time": "2025-04-27T15:26:48.871Z"
   },
   {
    "duration": 250,
    "start_time": "2025-04-27T15:27:00.238Z"
   },
   {
    "duration": 138,
    "start_time": "2025-04-27T15:27:12.207Z"
   },
   {
    "duration": 133,
    "start_time": "2025-04-27T15:28:16.510Z"
   },
   {
    "duration": 136,
    "start_time": "2025-04-27T15:28:30.278Z"
   },
   {
    "duration": 131,
    "start_time": "2025-04-27T15:29:26.792Z"
   },
   {
    "duration": 8,
    "start_time": "2025-04-27T15:31:13.809Z"
   },
   {
    "duration": 14,
    "start_time": "2025-04-27T15:31:37.952Z"
   },
   {
    "duration": 13,
    "start_time": "2025-04-27T15:33:21.505Z"
   },
   {
    "duration": 13,
    "start_time": "2025-04-27T15:33:31.393Z"
   },
   {
    "duration": 13,
    "start_time": "2025-04-27T15:34:41.211Z"
   },
   {
    "duration": 7,
    "start_time": "2025-04-27T15:34:46.673Z"
   },
   {
    "duration": 18,
    "start_time": "2025-04-27T15:37:15.482Z"
   },
   {
    "duration": 10,
    "start_time": "2025-04-27T15:37:22.514Z"
   },
   {
    "duration": 12,
    "start_time": "2025-04-27T15:37:49.122Z"
   },
   {
    "duration": 12,
    "start_time": "2025-04-27T15:38:04.665Z"
   },
   {
    "duration": 312,
    "start_time": "2025-04-27T15:40:38.050Z"
   },
   {
    "duration": 11,
    "start_time": "2025-04-27T15:41:33.908Z"
   },
   {
    "duration": 327,
    "start_time": "2025-04-27T15:41:41.003Z"
   },
   {
    "duration": 311,
    "start_time": "2025-04-27T15:42:07.068Z"
   },
   {
    "duration": 11,
    "start_time": "2025-04-27T15:43:13.035Z"
   },
   {
    "duration": 133,
    "start_time": "2025-04-27T15:43:40.067Z"
   },
   {
    "duration": 311,
    "start_time": "2025-04-27T16:32:05.428Z"
   },
   {
    "duration": 13,
    "start_time": "2025-04-27T16:38:09.424Z"
   },
   {
    "duration": 283,
    "start_time": "2025-04-27T16:38:43.063Z"
   },
   {
    "duration": 81,
    "start_time": "2025-04-27T16:41:15.242Z"
   },
   {
    "duration": 11,
    "start_time": "2025-04-27T16:42:01.508Z"
   },
   {
    "duration": 10,
    "start_time": "2025-04-27T16:42:54.154Z"
   },
   {
    "duration": 10,
    "start_time": "2025-04-27T16:43:34.362Z"
   },
   {
    "duration": 8,
    "start_time": "2025-04-27T16:43:47.748Z"
   },
   {
    "duration": 423,
    "start_time": "2025-04-27T16:45:31.939Z"
   },
   {
    "duration": 315,
    "start_time": "2025-04-27T16:47:47.196Z"
   },
   {
    "duration": 327,
    "start_time": "2025-04-27T16:48:28.116Z"
   },
   {
    "duration": 314,
    "start_time": "2025-04-27T16:48:53.148Z"
   },
   {
    "duration": 7,
    "start_time": "2025-04-27T16:50:30.973Z"
   },
   {
    "duration": 297,
    "start_time": "2025-04-27T16:50:35.468Z"
   },
   {
    "duration": 310,
    "start_time": "2025-04-27T16:51:12.525Z"
   },
   {
    "duration": 292,
    "start_time": "2025-04-27T16:51:13.661Z"
   },
   {
    "duration": 341,
    "start_time": "2025-04-27T16:51:54.412Z"
   },
   {
    "duration": 15,
    "start_time": "2025-04-27T16:52:09.887Z"
   },
   {
    "duration": 370,
    "start_time": "2025-04-27T16:52:34.422Z"
   },
   {
    "duration": 307,
    "start_time": "2025-04-27T16:52:58.022Z"
   },
   {
    "duration": 494,
    "start_time": "2025-04-27T16:53:15.885Z"
   },
   {
    "duration": 295,
    "start_time": "2025-04-27T16:53:24.855Z"
   },
   {
    "duration": 74,
    "start_time": "2025-04-27T16:54:17.821Z"
   },
   {
    "duration": 61,
    "start_time": "2025-04-28T16:12:44.831Z"
   },
   {
    "duration": 1605,
    "start_time": "2025-04-28T16:12:51.016Z"
   },
   {
    "duration": 0,
    "start_time": "2025-04-28T16:12:52.624Z"
   },
   {
    "duration": 0,
    "start_time": "2025-04-28T16:12:52.625Z"
   },
   {
    "duration": 0,
    "start_time": "2025-04-28T16:12:52.627Z"
   },
   {
    "duration": 0,
    "start_time": "2025-04-28T16:12:52.642Z"
   },
   {
    "duration": 0,
    "start_time": "2025-04-28T16:12:52.643Z"
   },
   {
    "duration": 0,
    "start_time": "2025-04-28T16:12:52.645Z"
   },
   {
    "duration": 0,
    "start_time": "2025-04-28T16:12:52.646Z"
   },
   {
    "duration": 0,
    "start_time": "2025-04-28T16:12:52.647Z"
   },
   {
    "duration": 0,
    "start_time": "2025-04-28T16:12:52.648Z"
   },
   {
    "duration": 0,
    "start_time": "2025-04-28T16:12:52.649Z"
   },
   {
    "duration": 0,
    "start_time": "2025-04-28T16:12:52.650Z"
   },
   {
    "duration": 0,
    "start_time": "2025-04-28T16:12:52.651Z"
   },
   {
    "duration": 0,
    "start_time": "2025-04-28T16:12:52.652Z"
   },
   {
    "duration": 0,
    "start_time": "2025-04-28T16:12:52.653Z"
   },
   {
    "duration": 0,
    "start_time": "2025-04-28T16:12:52.654Z"
   },
   {
    "duration": 0,
    "start_time": "2025-04-28T16:12:52.655Z"
   },
   {
    "duration": 0,
    "start_time": "2025-04-28T16:12:52.656Z"
   },
   {
    "duration": 0,
    "start_time": "2025-04-28T16:12:52.658Z"
   },
   {
    "duration": 0,
    "start_time": "2025-04-28T16:12:52.659Z"
   },
   {
    "duration": 0,
    "start_time": "2025-04-28T16:12:52.660Z"
   },
   {
    "duration": 0,
    "start_time": "2025-04-28T16:12:52.661Z"
   },
   {
    "duration": 0,
    "start_time": "2025-04-28T16:12:52.662Z"
   },
   {
    "duration": 0,
    "start_time": "2025-04-28T16:12:52.663Z"
   },
   {
    "duration": 0,
    "start_time": "2025-04-28T16:12:52.666Z"
   },
   {
    "duration": 0,
    "start_time": "2025-04-28T16:12:52.667Z"
   },
   {
    "duration": 0,
    "start_time": "2025-04-28T16:12:52.668Z"
   },
   {
    "duration": 0,
    "start_time": "2025-04-28T16:12:52.669Z"
   },
   {
    "duration": 0,
    "start_time": "2025-04-28T16:12:52.670Z"
   },
   {
    "duration": 0,
    "start_time": "2025-04-28T16:12:52.671Z"
   },
   {
    "duration": 0,
    "start_time": "2025-04-28T16:12:52.673Z"
   },
   {
    "duration": 0,
    "start_time": "2025-04-28T16:12:52.674Z"
   },
   {
    "duration": 8,
    "start_time": "2025-04-28T16:13:03.924Z"
   },
   {
    "duration": 8,
    "start_time": "2025-04-28T16:13:14.493Z"
   },
   {
    "duration": 1363,
    "start_time": "2025-04-28T16:13:32.624Z"
   },
   {
    "duration": 0,
    "start_time": "2025-04-28T16:13:33.989Z"
   },
   {
    "duration": 0,
    "start_time": "2025-04-28T16:13:33.991Z"
   },
   {
    "duration": 0,
    "start_time": "2025-04-28T16:13:33.992Z"
   },
   {
    "duration": 0,
    "start_time": "2025-04-28T16:13:33.993Z"
   },
   {
    "duration": 0,
    "start_time": "2025-04-28T16:13:33.994Z"
   },
   {
    "duration": 0,
    "start_time": "2025-04-28T16:13:33.995Z"
   },
   {
    "duration": 0,
    "start_time": "2025-04-28T16:13:33.996Z"
   },
   {
    "duration": 0,
    "start_time": "2025-04-28T16:13:33.997Z"
   },
   {
    "duration": 0,
    "start_time": "2025-04-28T16:13:33.998Z"
   },
   {
    "duration": 0,
    "start_time": "2025-04-28T16:13:33.999Z"
   },
   {
    "duration": 0,
    "start_time": "2025-04-28T16:13:34.000Z"
   },
   {
    "duration": 0,
    "start_time": "2025-04-28T16:13:34.001Z"
   },
   {
    "duration": 0,
    "start_time": "2025-04-28T16:13:34.002Z"
   },
   {
    "duration": 0,
    "start_time": "2025-04-28T16:13:34.003Z"
   },
   {
    "duration": 0,
    "start_time": "2025-04-28T16:13:34.003Z"
   },
   {
    "duration": 0,
    "start_time": "2025-04-28T16:13:34.005Z"
   },
   {
    "duration": 0,
    "start_time": "2025-04-28T16:13:34.005Z"
   },
   {
    "duration": 0,
    "start_time": "2025-04-28T16:13:34.006Z"
   },
   {
    "duration": 0,
    "start_time": "2025-04-28T16:13:34.007Z"
   },
   {
    "duration": 0,
    "start_time": "2025-04-28T16:13:34.048Z"
   },
   {
    "duration": 0,
    "start_time": "2025-04-28T16:13:34.049Z"
   },
   {
    "duration": 0,
    "start_time": "2025-04-28T16:13:34.051Z"
   },
   {
    "duration": 0,
    "start_time": "2025-04-28T16:13:34.052Z"
   },
   {
    "duration": 0,
    "start_time": "2025-04-28T16:13:34.053Z"
   },
   {
    "duration": 0,
    "start_time": "2025-04-28T16:13:34.054Z"
   },
   {
    "duration": 0,
    "start_time": "2025-04-28T16:13:34.055Z"
   },
   {
    "duration": 0,
    "start_time": "2025-04-28T16:13:34.056Z"
   },
   {
    "duration": 0,
    "start_time": "2025-04-28T16:13:34.058Z"
   },
   {
    "duration": 0,
    "start_time": "2025-04-28T16:13:34.059Z"
   },
   {
    "duration": 0,
    "start_time": "2025-04-28T16:13:34.061Z"
   },
   {
    "duration": 0,
    "start_time": "2025-04-28T16:13:34.063Z"
   },
   {
    "duration": 1182,
    "start_time": "2025-04-28T16:14:54.813Z"
   },
   {
    "duration": 3562,
    "start_time": "2025-04-28T16:15:05.765Z"
   },
   {
    "duration": 3935,
    "start_time": "2025-04-28T16:15:32.273Z"
   },
   {
    "duration": 255,
    "start_time": "2025-04-28T16:15:36.210Z"
   },
   {
    "duration": 8,
    "start_time": "2025-04-28T16:15:36.469Z"
   },
   {
    "duration": 54,
    "start_time": "2025-04-28T16:15:36.482Z"
   },
   {
    "duration": 44,
    "start_time": "2025-04-28T16:15:36.538Z"
   },
   {
    "duration": 79,
    "start_time": "2025-04-28T16:15:36.584Z"
   },
   {
    "duration": 86,
    "start_time": "2025-04-28T16:15:36.665Z"
   },
   {
    "duration": 34,
    "start_time": "2025-04-28T16:15:36.755Z"
   },
   {
    "duration": 80,
    "start_time": "2025-04-28T16:15:36.791Z"
   },
   {
    "duration": 40,
    "start_time": "2025-04-28T16:15:36.873Z"
   },
   {
    "duration": 59,
    "start_time": "2025-04-28T16:15:36.915Z"
   },
   {
    "duration": 38,
    "start_time": "2025-04-28T16:15:36.975Z"
   },
   {
    "duration": 82,
    "start_time": "2025-04-28T16:15:37.015Z"
   },
   {
    "duration": 25,
    "start_time": "2025-04-28T16:15:37.099Z"
   },
   {
    "duration": 98,
    "start_time": "2025-04-28T16:15:37.126Z"
   },
   {
    "duration": 48,
    "start_time": "2025-04-28T16:15:37.226Z"
   },
   {
    "duration": 75,
    "start_time": "2025-04-28T16:15:37.275Z"
   },
   {
    "duration": 75,
    "start_time": "2025-04-28T16:15:37.352Z"
   },
   {
    "duration": 432,
    "start_time": "2025-04-28T16:15:37.429Z"
   },
   {
    "duration": 10,
    "start_time": "2025-04-28T16:15:37.864Z"
   },
   {
    "duration": 389,
    "start_time": "2025-04-28T16:15:37.876Z"
   },
   {
    "duration": 6,
    "start_time": "2025-04-28T16:15:38.269Z"
   },
   {
    "duration": 26,
    "start_time": "2025-04-28T16:15:38.277Z"
   },
   {
    "duration": 58,
    "start_time": "2025-04-28T16:15:38.305Z"
   },
   {
    "duration": 422,
    "start_time": "2025-04-28T16:15:38.366Z"
   },
   {
    "duration": 12,
    "start_time": "2025-04-28T16:15:38.790Z"
   },
   {
    "duration": 192,
    "start_time": "2025-04-28T16:15:38.803Z"
   },
   {
    "duration": 14,
    "start_time": "2025-04-28T16:15:38.997Z"
   },
   {
    "duration": 298,
    "start_time": "2025-04-28T16:15:39.013Z"
   },
   {
    "duration": 14,
    "start_time": "2025-04-28T16:15:39.344Z"
   },
   {
    "duration": 36,
    "start_time": "2025-04-28T16:15:39.360Z"
   },
   {
    "duration": 332,
    "start_time": "2025-04-28T16:15:39.399Z"
   },
   {
    "duration": 7,
    "start_time": "2025-04-28T16:21:27.866Z"
   },
   {
    "duration": 140,
    "start_time": "2025-04-28T16:36:04.037Z"
   },
   {
    "duration": 81,
    "start_time": "2025-04-28T16:36:26.259Z"
   },
   {
    "duration": 223,
    "start_time": "2025-04-28T16:36:36.458Z"
   },
   {
    "duration": 2597,
    "start_time": "2025-04-28T16:45:15.308Z"
   },
   {
    "duration": 1302,
    "start_time": "2025-04-28T16:45:20.052Z"
   },
   {
    "duration": 117,
    "start_time": "2025-04-28T16:45:36.157Z"
   },
   {
    "duration": 10,
    "start_time": "2025-04-28T16:45:58.860Z"
   },
   {
    "duration": 11,
    "start_time": "2025-04-28T16:46:36.853Z"
   },
   {
    "duration": 2605,
    "start_time": "2025-04-28T16:46:45.664Z"
   },
   {
    "duration": 1259,
    "start_time": "2025-04-28T16:46:48.271Z"
   },
   {
    "duration": 215,
    "start_time": "2025-04-28T16:46:49.532Z"
   },
   {
    "duration": 18,
    "start_time": "2025-04-28T16:46:49.750Z"
   },
   {
    "duration": 25,
    "start_time": "2025-04-28T16:46:49.770Z"
   },
   {
    "duration": 18,
    "start_time": "2025-04-28T16:46:49.797Z"
   },
   {
    "duration": 49,
    "start_time": "2025-04-28T16:46:49.817Z"
   },
   {
    "duration": 26,
    "start_time": "2025-04-28T16:46:49.868Z"
   },
   {
    "duration": 36,
    "start_time": "2025-04-28T16:46:49.896Z"
   },
   {
    "duration": 30,
    "start_time": "2025-04-28T16:46:49.934Z"
   },
   {
    "duration": 30,
    "start_time": "2025-04-28T16:46:49.966Z"
   },
   {
    "duration": 29,
    "start_time": "2025-04-28T16:46:49.998Z"
   },
   {
    "duration": 31,
    "start_time": "2025-04-28T16:46:50.028Z"
   },
   {
    "duration": 11,
    "start_time": "2025-04-28T16:46:50.061Z"
   },
   {
    "duration": 33,
    "start_time": "2025-04-28T16:46:50.074Z"
   },
   {
    "duration": 26,
    "start_time": "2025-04-28T16:46:50.109Z"
   },
   {
    "duration": 28,
    "start_time": "2025-04-28T16:46:50.136Z"
   },
   {
    "duration": 23,
    "start_time": "2025-04-28T16:46:50.166Z"
   },
   {
    "duration": 330,
    "start_time": "2025-04-28T16:46:50.191Z"
   },
   {
    "duration": 7,
    "start_time": "2025-04-28T16:46:50.522Z"
   },
   {
    "duration": 374,
    "start_time": "2025-04-28T16:46:50.539Z"
   },
   {
    "duration": 7,
    "start_time": "2025-04-28T16:46:50.915Z"
   },
   {
    "duration": 27,
    "start_time": "2025-04-28T16:46:50.923Z"
   },
   {
    "duration": 40,
    "start_time": "2025-04-28T16:46:50.953Z"
   },
   {
    "duration": 399,
    "start_time": "2025-04-28T16:46:50.996Z"
   },
   {
    "duration": 11,
    "start_time": "2025-04-28T16:46:51.396Z"
   },
   {
    "duration": 156,
    "start_time": "2025-04-28T16:46:51.408Z"
   },
   {
    "duration": 14,
    "start_time": "2025-04-28T16:46:51.567Z"
   },
   {
    "duration": 339,
    "start_time": "2025-04-28T16:46:51.582Z"
   },
   {
    "duration": 24,
    "start_time": "2025-04-28T16:46:51.922Z"
   },
   {
    "duration": 8,
    "start_time": "2025-04-28T16:46:51.948Z"
   },
   {
    "duration": 315,
    "start_time": "2025-04-28T16:46:51.958Z"
   },
   {
    "duration": 48,
    "start_time": "2025-04-28T16:47:56.729Z"
   },
   {
    "duration": 6,
    "start_time": "2025-04-28T16:49:55.212Z"
   },
   {
    "duration": 5,
    "start_time": "2025-04-28T16:49:55.973Z"
   },
   {
    "duration": 9,
    "start_time": "2025-04-28T16:50:38.542Z"
   },
   {
    "duration": 6,
    "start_time": "2025-04-28T16:50:39.765Z"
   },
   {
    "duration": 6,
    "start_time": "2025-04-28T16:50:40.501Z"
   },
   {
    "duration": 5,
    "start_time": "2025-04-28T16:50:41.525Z"
   },
   {
    "duration": 8,
    "start_time": "2025-04-28T16:50:41.957Z"
   },
   {
    "duration": 6,
    "start_time": "2025-04-28T16:52:16.166Z"
   },
   {
    "duration": 2611,
    "start_time": "2025-04-28T16:52:25.198Z"
   },
   {
    "duration": 1338,
    "start_time": "2025-04-28T16:52:27.811Z"
   },
   {
    "duration": 208,
    "start_time": "2025-04-28T16:52:29.150Z"
   },
   {
    "duration": 17,
    "start_time": "2025-04-28T16:52:29.366Z"
   },
   {
    "duration": 50,
    "start_time": "2025-04-28T16:52:29.384Z"
   },
   {
    "duration": 26,
    "start_time": "2025-04-28T16:52:29.436Z"
   },
   {
    "duration": 11,
    "start_time": "2025-04-28T16:52:29.466Z"
   },
   {
    "duration": 16,
    "start_time": "2025-04-28T16:52:29.479Z"
   },
   {
    "duration": 15,
    "start_time": "2025-04-28T16:52:29.497Z"
   },
   {
    "duration": 16,
    "start_time": "2025-04-28T16:52:29.515Z"
   },
   {
    "duration": 32,
    "start_time": "2025-04-28T16:52:29.532Z"
   },
   {
    "duration": 13,
    "start_time": "2025-04-28T16:52:29.565Z"
   },
   {
    "duration": 18,
    "start_time": "2025-04-28T16:52:29.580Z"
   },
   {
    "duration": 7,
    "start_time": "2025-04-28T16:52:29.599Z"
   },
   {
    "duration": 55,
    "start_time": "2025-04-28T16:52:29.608Z"
   },
   {
    "duration": 14,
    "start_time": "2025-04-28T16:52:29.666Z"
   },
   {
    "duration": 7,
    "start_time": "2025-04-28T16:52:29.681Z"
   },
   {
    "duration": 16,
    "start_time": "2025-04-28T16:52:29.689Z"
   },
   {
    "duration": 323,
    "start_time": "2025-04-28T16:52:29.706Z"
   },
   {
    "duration": 15,
    "start_time": "2025-04-28T16:52:30.040Z"
   },
   {
    "duration": 405,
    "start_time": "2025-04-28T16:52:30.057Z"
   },
   {
    "duration": 8,
    "start_time": "2025-04-28T16:52:30.465Z"
   },
   {
    "duration": 17,
    "start_time": "2025-04-28T16:52:30.475Z"
   },
   {
    "duration": 38,
    "start_time": "2025-04-28T16:52:30.494Z"
   },
   {
    "duration": 396,
    "start_time": "2025-04-28T16:52:30.534Z"
   },
   {
    "duration": 20,
    "start_time": "2025-04-28T16:52:30.933Z"
   },
   {
    "duration": 162,
    "start_time": "2025-04-28T16:52:30.954Z"
   },
   {
    "duration": 14,
    "start_time": "2025-04-28T16:52:31.119Z"
   },
   {
    "duration": 310,
    "start_time": "2025-04-28T16:52:31.147Z"
   },
   {
    "duration": 9,
    "start_time": "2025-04-28T16:52:31.463Z"
   },
   {
    "duration": 50,
    "start_time": "2025-04-28T16:52:31.473Z"
   },
   {
    "duration": 371,
    "start_time": "2025-04-28T16:52:31.525Z"
   },
   {
    "duration": 88,
    "start_time": "2025-04-28T16:53:39.490Z"
   },
   {
    "duration": 60,
    "start_time": "2025-04-28T16:54:00.928Z"
   },
   {
    "duration": 6,
    "start_time": "2025-04-28T16:57:58.155Z"
   },
   {
    "duration": 7,
    "start_time": "2025-04-28T16:57:58.986Z"
   },
   {
    "duration": 7,
    "start_time": "2025-04-28T16:57:59.474Z"
   },
   {
    "duration": 7,
    "start_time": "2025-04-28T16:57:59.842Z"
   },
   {
    "duration": 7,
    "start_time": "2025-04-28T16:58:00.218Z"
   },
   {
    "duration": 6,
    "start_time": "2025-04-28T16:58:00.587Z"
   },
   {
    "duration": 7,
    "start_time": "2025-04-28T16:58:02.522Z"
   },
   {
    "duration": 6,
    "start_time": "2025-04-28T16:58:14.874Z"
   },
   {
    "duration": 6,
    "start_time": "2025-04-28T16:58:15.706Z"
   },
   {
    "duration": 6,
    "start_time": "2025-04-28T16:58:44.458Z"
   },
   {
    "duration": 6,
    "start_time": "2025-04-28T16:58:46.730Z"
   },
   {
    "duration": 6,
    "start_time": "2025-04-28T16:58:47.986Z"
   },
   {
    "duration": 7,
    "start_time": "2025-04-28T17:04:21.475Z"
   },
   {
    "duration": 6,
    "start_time": "2025-04-28T17:04:22.282Z"
   },
   {
    "duration": 2796,
    "start_time": "2025-04-28T17:04:28.352Z"
   },
   {
    "duration": 1338,
    "start_time": "2025-04-28T17:04:31.151Z"
   },
   {
    "duration": 182,
    "start_time": "2025-04-28T17:04:32.492Z"
   },
   {
    "duration": 19,
    "start_time": "2025-04-28T17:04:32.677Z"
   },
   {
    "duration": 21,
    "start_time": "2025-04-28T17:04:32.698Z"
   },
   {
    "duration": 10,
    "start_time": "2025-04-28T17:04:32.721Z"
   },
   {
    "duration": 27,
    "start_time": "2025-04-28T17:04:32.732Z"
   },
   {
    "duration": 17,
    "start_time": "2025-04-28T17:04:32.762Z"
   },
   {
    "duration": 16,
    "start_time": "2025-04-28T17:04:32.781Z"
   },
   {
    "duration": 51,
    "start_time": "2025-04-28T17:04:32.798Z"
   },
   {
    "duration": 30,
    "start_time": "2025-04-28T17:04:32.852Z"
   },
   {
    "duration": 11,
    "start_time": "2025-04-28T17:04:32.884Z"
   },
   {
    "duration": 24,
    "start_time": "2025-04-28T17:04:32.897Z"
   },
   {
    "duration": 5,
    "start_time": "2025-04-28T17:04:32.922Z"
   },
   {
    "duration": 51,
    "start_time": "2025-04-28T17:04:32.929Z"
   },
   {
    "duration": 12,
    "start_time": "2025-04-28T17:04:32.982Z"
   },
   {
    "duration": 10,
    "start_time": "2025-04-28T17:04:32.996Z"
   },
   {
    "duration": 11,
    "start_time": "2025-04-28T17:04:33.007Z"
   },
   {
    "duration": 323,
    "start_time": "2025-04-28T17:04:33.019Z"
   },
   {
    "duration": 9,
    "start_time": "2025-04-28T17:04:33.345Z"
   },
   {
    "duration": 412,
    "start_time": "2025-04-28T17:04:33.356Z"
   },
   {
    "duration": 9,
    "start_time": "2025-04-28T17:04:33.770Z"
   },
   {
    "duration": 11,
    "start_time": "2025-04-28T17:04:33.781Z"
   },
   {
    "duration": 14,
    "start_time": "2025-04-28T17:04:33.794Z"
   },
   {
    "duration": 408,
    "start_time": "2025-04-28T17:04:33.810Z"
   },
   {
    "duration": 28,
    "start_time": "2025-04-28T17:04:34.220Z"
   },
   {
    "duration": 153,
    "start_time": "2025-04-28T17:04:34.250Z"
   },
   {
    "duration": 14,
    "start_time": "2025-04-28T17:04:34.404Z"
   },
   {
    "duration": 326,
    "start_time": "2025-04-28T17:04:34.420Z"
   },
   {
    "duration": 13,
    "start_time": "2025-04-28T17:04:34.748Z"
   },
   {
    "duration": 13,
    "start_time": "2025-04-28T17:04:34.763Z"
   },
   {
    "duration": 374,
    "start_time": "2025-04-28T17:04:34.778Z"
   },
   {
    "duration": 21,
    "start_time": "2025-04-28T17:04:35.155Z"
   },
   {
    "duration": 1220,
    "start_time": "2025-04-28T17:05:59.181Z"
   },
   {
    "duration": 594,
    "start_time": "2025-04-28T17:06:00.403Z"
   },
   {
    "duration": 14,
    "start_time": "2025-04-28T17:06:00.999Z"
   },
   {
    "duration": 61,
    "start_time": "2025-04-28T17:06:01.015Z"
   },
   {
    "duration": 9,
    "start_time": "2025-04-28T17:06:01.078Z"
   },
   {
    "duration": 45,
    "start_time": "2025-04-28T17:06:01.089Z"
   },
   {
    "duration": 29,
    "start_time": "2025-04-28T17:06:01.136Z"
   },
   {
    "duration": 14,
    "start_time": "2025-04-28T17:06:01.166Z"
   },
   {
    "duration": 16,
    "start_time": "2025-04-28T17:06:01.182Z"
   },
   {
    "duration": 13,
    "start_time": "2025-04-28T17:06:01.200Z"
   },
   {
    "duration": 51,
    "start_time": "2025-04-28T17:06:01.214Z"
   },
   {
    "duration": 88,
    "start_time": "2025-04-28T17:06:01.267Z"
   },
   {
    "duration": 16,
    "start_time": "2025-04-28T17:06:01.357Z"
   },
   {
    "duration": 19,
    "start_time": "2025-04-28T17:06:01.375Z"
   },
   {
    "duration": 12,
    "start_time": "2025-04-28T17:06:01.396Z"
   },
   {
    "duration": 56,
    "start_time": "2025-04-28T17:06:01.410Z"
   },
   {
    "duration": 54,
    "start_time": "2025-04-28T17:06:01.468Z"
   },
   {
    "duration": 369,
    "start_time": "2025-04-28T17:06:01.523Z"
   },
   {
    "duration": 6,
    "start_time": "2025-04-28T17:06:01.894Z"
   },
   {
    "duration": 397,
    "start_time": "2025-04-28T17:06:01.902Z"
   },
   {
    "duration": 5,
    "start_time": "2025-04-28T17:06:02.301Z"
   },
   {
    "duration": 37,
    "start_time": "2025-04-28T17:06:02.307Z"
   },
   {
    "duration": 49,
    "start_time": "2025-04-28T17:06:02.346Z"
   },
   {
    "duration": 421,
    "start_time": "2025-04-28T17:06:02.397Z"
   },
   {
    "duration": 20,
    "start_time": "2025-04-28T17:06:02.820Z"
   },
   {
    "duration": 148,
    "start_time": "2025-04-28T17:06:02.842Z"
   },
   {
    "duration": 13,
    "start_time": "2025-04-28T17:06:02.991Z"
   },
   {
    "duration": 366,
    "start_time": "2025-04-28T17:06:03.007Z"
   },
   {
    "duration": 8,
    "start_time": "2025-04-28T17:06:03.375Z"
   },
   {
    "duration": 6,
    "start_time": "2025-04-28T17:06:03.384Z"
   },
   {
    "duration": 332,
    "start_time": "2025-04-28T17:06:03.391Z"
   },
   {
    "duration": 24,
    "start_time": "2025-04-28T17:06:03.725Z"
   },
   {
    "duration": 135,
    "start_time": "2025-04-28T17:06:03.752Z"
   },
   {
    "duration": 14,
    "start_time": "2025-04-28T17:06:17.899Z"
   },
   {
    "duration": 87,
    "start_time": "2025-04-28T17:08:10.821Z"
   },
   {
    "duration": 83,
    "start_time": "2025-04-28T17:10:17.996Z"
   },
   {
    "duration": 44,
    "start_time": "2025-04-28T17:13:46.267Z"
   },
   {
    "duration": 7,
    "start_time": "2025-04-28T17:14:28.260Z"
   },
   {
    "duration": 7,
    "start_time": "2025-04-28T17:20:51.422Z"
   },
   {
    "duration": 1226,
    "start_time": "2025-04-28T17:23:26.222Z"
   },
   {
    "duration": 1198,
    "start_time": "2025-04-28T17:23:31.869Z"
   },
   {
    "duration": 208,
    "start_time": "2025-04-28T17:23:33.070Z"
   },
   {
    "duration": 15,
    "start_time": "2025-04-28T17:23:33.279Z"
   },
   {
    "duration": 39,
    "start_time": "2025-04-28T17:23:33.296Z"
   },
   {
    "duration": 12,
    "start_time": "2025-04-28T17:23:33.337Z"
   },
   {
    "duration": 21,
    "start_time": "2025-04-28T17:23:33.351Z"
   },
   {
    "duration": 11,
    "start_time": "2025-04-28T17:23:33.373Z"
   },
   {
    "duration": 13,
    "start_time": "2025-04-28T17:23:33.386Z"
   },
   {
    "duration": 29,
    "start_time": "2025-04-28T17:23:33.401Z"
   },
   {
    "duration": 15,
    "start_time": "2025-04-28T17:23:33.439Z"
   },
   {
    "duration": 49,
    "start_time": "2025-04-28T17:23:33.456Z"
   },
   {
    "duration": 62,
    "start_time": "2025-04-28T17:23:33.506Z"
   },
   {
    "duration": 7,
    "start_time": "2025-04-28T17:23:33.569Z"
   },
   {
    "duration": 30,
    "start_time": "2025-04-28T17:23:33.578Z"
   },
   {
    "duration": 13,
    "start_time": "2025-04-28T17:23:33.610Z"
   },
   {
    "duration": 36,
    "start_time": "2025-04-28T17:23:33.625Z"
   },
   {
    "duration": 59,
    "start_time": "2025-04-28T17:23:33.664Z"
   },
   {
    "duration": 328,
    "start_time": "2025-04-28T17:23:33.724Z"
   },
   {
    "duration": 9,
    "start_time": "2025-04-28T17:23:34.054Z"
   },
   {
    "duration": 366,
    "start_time": "2025-04-28T17:23:34.065Z"
   },
   {
    "duration": 12,
    "start_time": "2025-04-28T17:23:34.433Z"
   },
   {
    "duration": 19,
    "start_time": "2025-04-28T17:23:34.447Z"
   },
   {
    "duration": 17,
    "start_time": "2025-04-28T17:23:34.468Z"
   },
   {
    "duration": 407,
    "start_time": "2025-04-28T17:23:34.487Z"
   },
   {
    "duration": 11,
    "start_time": "2025-04-28T17:23:34.896Z"
   },
   {
    "duration": 173,
    "start_time": "2025-04-28T17:23:34.909Z"
   },
   {
    "duration": 13,
    "start_time": "2025-04-28T17:23:35.084Z"
   },
   {
    "duration": 313,
    "start_time": "2025-04-28T17:23:35.100Z"
   },
   {
    "duration": 8,
    "start_time": "2025-04-28T17:23:35.415Z"
   },
   {
    "duration": 18,
    "start_time": "2025-04-28T17:23:35.425Z"
   },
   {
    "duration": 355,
    "start_time": "2025-04-28T17:23:35.445Z"
   },
   {
    "duration": 120,
    "start_time": "2025-04-28T17:23:35.802Z"
   },
   {
    "duration": 0,
    "start_time": "2025-04-28T17:23:35.923Z"
   },
   {
    "duration": 21,
    "start_time": "2025-04-28T17:24:46.867Z"
   },
   {
    "duration": 19,
    "start_time": "2025-04-28T17:25:27.315Z"
   },
   {
    "duration": 21,
    "start_time": "2025-04-28T17:25:48.945Z"
   },
   {
    "duration": 27,
    "start_time": "2025-04-28T17:26:42.599Z"
   },
   {
    "duration": 23,
    "start_time": "2025-04-28T17:29:43.805Z"
   },
   {
    "duration": 16,
    "start_time": "2025-04-28T17:29:54.058Z"
   },
   {
    "duration": 24,
    "start_time": "2025-04-28T17:30:39.810Z"
   },
   {
    "duration": 20,
    "start_time": "2025-04-28T17:32:08.946Z"
   },
   {
    "duration": 20,
    "start_time": "2025-04-28T17:32:23.707Z"
   },
   {
    "duration": 1203,
    "start_time": "2025-04-28T17:40:09.561Z"
   },
   {
    "duration": 217,
    "start_time": "2025-04-28T17:40:10.766Z"
   },
   {
    "duration": 18,
    "start_time": "2025-04-28T17:40:10.985Z"
   },
   {
    "duration": 13,
    "start_time": "2025-04-28T17:40:11.005Z"
   },
   {
    "duration": 20,
    "start_time": "2025-04-28T17:40:11.020Z"
   },
   {
    "duration": 15,
    "start_time": "2025-04-28T17:40:11.041Z"
   },
   {
    "duration": 30,
    "start_time": "2025-04-28T17:40:11.058Z"
   },
   {
    "duration": 16,
    "start_time": "2025-04-28T17:40:11.089Z"
   },
   {
    "duration": 17,
    "start_time": "2025-04-28T17:40:11.107Z"
   },
   {
    "duration": 18,
    "start_time": "2025-04-28T17:40:11.126Z"
   },
   {
    "duration": 11,
    "start_time": "2025-04-28T17:40:11.147Z"
   },
   {
    "duration": 20,
    "start_time": "2025-04-28T17:40:11.160Z"
   },
   {
    "duration": 6,
    "start_time": "2025-04-28T17:40:11.182Z"
   },
   {
    "duration": 24,
    "start_time": "2025-04-28T17:40:11.190Z"
   },
   {
    "duration": 13,
    "start_time": "2025-04-28T17:40:11.239Z"
   },
   {
    "duration": 12,
    "start_time": "2025-04-28T17:40:11.254Z"
   },
   {
    "duration": 23,
    "start_time": "2025-04-28T17:40:11.268Z"
   },
   {
    "duration": 318,
    "start_time": "2025-04-28T17:40:11.294Z"
   },
   {
    "duration": 6,
    "start_time": "2025-04-28T17:40:11.614Z"
   },
   {
    "duration": 321,
    "start_time": "2025-04-28T17:40:11.621Z"
   },
   {
    "duration": 6,
    "start_time": "2025-04-28T17:40:11.943Z"
   },
   {
    "duration": 9,
    "start_time": "2025-04-28T17:40:11.950Z"
   },
   {
    "duration": 18,
    "start_time": "2025-04-28T17:40:11.960Z"
   },
   {
    "duration": 374,
    "start_time": "2025-04-28T17:40:11.980Z"
   },
   {
    "duration": 11,
    "start_time": "2025-04-28T17:40:12.355Z"
   },
   {
    "duration": 142,
    "start_time": "2025-04-28T17:40:12.368Z"
   },
   {
    "duration": 27,
    "start_time": "2025-04-28T17:40:12.512Z"
   },
   {
    "duration": 271,
    "start_time": "2025-04-28T17:40:12.543Z"
   },
   {
    "duration": 8,
    "start_time": "2025-04-28T17:40:12.815Z"
   },
   {
    "duration": 19,
    "start_time": "2025-04-28T17:40:12.825Z"
   },
   {
    "duration": 280,
    "start_time": "2025-04-28T17:40:12.845Z"
   },
   {
    "duration": 114,
    "start_time": "2025-04-28T17:40:13.127Z"
   },
   {
    "duration": 0,
    "start_time": "2025-04-28T17:40:13.242Z"
   },
   {
    "duration": 0,
    "start_time": "2025-04-28T17:40:13.244Z"
   },
   {
    "duration": 19,
    "start_time": "2025-04-28T17:40:56.640Z"
   },
   {
    "duration": 13236,
    "start_time": "2025-04-28T17:41:00.224Z"
   },
   {
    "duration": 389,
    "start_time": "2025-04-28T17:42:08.432Z"
   },
   {
    "duration": 415,
    "start_time": "2025-04-28T17:43:25.664Z"
   },
   {
    "duration": 30,
    "start_time": "2025-04-28T17:44:09.729Z"
   },
   {
    "duration": 565,
    "start_time": "2025-04-28T17:44:24.924Z"
   },
   {
    "duration": 18,
    "start_time": "2025-04-28T17:45:22.370Z"
   },
   {
    "duration": 463,
    "start_time": "2025-04-28T17:45:28.033Z"
   },
   {
    "duration": 456,
    "start_time": "2025-04-28T17:47:13.714Z"
   },
   {
    "duration": 14279,
    "start_time": "2025-04-28T17:47:31.250Z"
   },
   {
    "duration": 522,
    "start_time": "2025-04-28T17:48:43.217Z"
   },
   {
    "duration": 440,
    "start_time": "2025-04-28T17:49:28.969Z"
   },
   {
    "duration": 9,
    "start_time": "2025-04-28T17:53:28.729Z"
   },
   {
    "duration": 188,
    "start_time": "2025-04-28T17:54:39.162Z"
   },
   {
    "duration": 13,
    "start_time": "2025-04-28T17:55:00.377Z"
   },
   {
    "duration": 18,
    "start_time": "2025-04-28T17:55:33.866Z"
   },
   {
    "duration": 48,
    "start_time": "2025-04-28T17:55:37.825Z"
   },
   {
    "duration": 35,
    "start_time": "2025-04-28T17:56:36.818Z"
   },
   {
    "duration": 341,
    "start_time": "2025-04-28T17:59:57.034Z"
   },
   {
    "duration": 79,
    "start_time": "2025-04-28T18:00:49.196Z"
   },
   {
    "duration": 85,
    "start_time": "2025-04-28T18:01:18.650Z"
   },
   {
    "duration": 127,
    "start_time": "2025-04-28T18:01:28.434Z"
   },
   {
    "duration": 227,
    "start_time": "2025-04-28T18:01:42.866Z"
   },
   {
    "duration": 389,
    "start_time": "2025-04-28T18:02:00.455Z"
   },
   {
    "duration": 118,
    "start_time": "2025-04-28T18:02:25.763Z"
   },
   {
    "duration": 140,
    "start_time": "2025-04-28T18:02:56.499Z"
   },
   {
    "duration": 415,
    "start_time": "2025-04-28T18:03:05.259Z"
   },
   {
    "duration": 401,
    "start_time": "2025-04-28T18:03:17.715Z"
   },
   {
    "duration": 369,
    "start_time": "2025-04-28T18:04:39.818Z"
   },
   {
    "duration": 395,
    "start_time": "2025-04-28T18:06:21.275Z"
   },
   {
    "duration": 386,
    "start_time": "2025-04-28T18:06:34.411Z"
   },
   {
    "duration": 21,
    "start_time": "2025-04-28T18:13:27.139Z"
   },
   {
    "duration": 21,
    "start_time": "2025-04-28T18:15:15.605Z"
   },
   {
    "duration": 424,
    "start_time": "2025-04-28T18:17:15.869Z"
   },
   {
    "duration": 14,
    "start_time": "2025-04-28T18:17:35.636Z"
   },
   {
    "duration": 378,
    "start_time": "2025-04-28T18:18:07.117Z"
   },
   {
    "duration": 431,
    "start_time": "2025-04-28T18:18:32.956Z"
   },
   {
    "duration": 523,
    "start_time": "2025-04-28T18:20:32.110Z"
   },
   {
    "duration": 389,
    "start_time": "2025-04-28T18:20:44.093Z"
   },
   {
    "duration": 411,
    "start_time": "2025-04-28T18:22:48.551Z"
   },
   {
    "duration": 27,
    "start_time": "2025-04-28T18:35:48.736Z"
   },
   {
    "duration": 20,
    "start_time": "2025-04-28T18:38:46.736Z"
   },
   {
    "duration": 81,
    "start_time": "2025-04-28T18:39:00.552Z"
   },
   {
    "duration": 17,
    "start_time": "2025-04-28T18:39:18.904Z"
   },
   {
    "duration": 98,
    "start_time": "2025-04-28T18:40:23.657Z"
   },
   {
    "duration": 23,
    "start_time": "2025-04-28T18:40:32.239Z"
   },
   {
    "duration": 21,
    "start_time": "2025-04-28T18:46:42.904Z"
   },
   {
    "duration": 28,
    "start_time": "2025-04-28T18:47:17.648Z"
   },
   {
    "duration": 26,
    "start_time": "2025-04-28T18:48:03.601Z"
   },
   {
    "duration": 27,
    "start_time": "2025-04-28T18:48:56.730Z"
   },
   {
    "duration": 34,
    "start_time": "2025-04-28T18:48:57.641Z"
   },
   {
    "duration": 27,
    "start_time": "2025-04-28T18:49:46.547Z"
   },
   {
    "duration": 434,
    "start_time": "2025-04-28T18:50:42.098Z"
   },
   {
    "duration": 439,
    "start_time": "2025-04-28T18:51:46.561Z"
   },
   {
    "duration": 6,
    "start_time": "2025-04-28T18:56:07.761Z"
   },
   {
    "duration": 14,
    "start_time": "2025-04-28T18:57:56.314Z"
   },
   {
    "duration": 13,
    "start_time": "2025-04-28T18:58:23.914Z"
   },
   {
    "duration": 13,
    "start_time": "2025-04-28T19:01:49.322Z"
   },
   {
    "duration": 13,
    "start_time": "2025-04-28T19:02:02.833Z"
   },
   {
    "duration": 14,
    "start_time": "2025-04-28T19:03:10.322Z"
   },
   {
    "duration": 323,
    "start_time": "2025-04-28T19:04:39.722Z"
   },
   {
    "duration": 364,
    "start_time": "2025-04-28T19:05:20.195Z"
   },
   {
    "duration": 12,
    "start_time": "2025-04-28T19:06:04.506Z"
   },
   {
    "duration": 364,
    "start_time": "2025-04-28T19:06:31.778Z"
   },
   {
    "duration": 329,
    "start_time": "2025-04-28T19:15:54.868Z"
   },
   {
    "duration": 1137,
    "start_time": "2025-04-29T04:43:59.488Z"
   },
   {
    "duration": 680,
    "start_time": "2025-04-29T04:44:00.627Z"
   },
   {
    "duration": 14,
    "start_time": "2025-04-29T04:44:01.308Z"
   },
   {
    "duration": 20,
    "start_time": "2025-04-29T04:44:01.324Z"
   },
   {
    "duration": 9,
    "start_time": "2025-04-29T04:44:01.346Z"
   },
   {
    "duration": 11,
    "start_time": "2025-04-29T04:44:01.357Z"
   },
   {
    "duration": 27,
    "start_time": "2025-04-29T04:44:01.369Z"
   },
   {
    "duration": 19,
    "start_time": "2025-04-29T04:44:01.398Z"
   },
   {
    "duration": 15,
    "start_time": "2025-04-29T04:44:01.418Z"
   },
   {
    "duration": 14,
    "start_time": "2025-04-29T04:44:01.435Z"
   },
   {
    "duration": 38,
    "start_time": "2025-04-29T04:44:01.450Z"
   },
   {
    "duration": 21,
    "start_time": "2025-04-29T04:44:01.489Z"
   },
   {
    "duration": 6,
    "start_time": "2025-04-29T04:44:01.512Z"
   },
   {
    "duration": 24,
    "start_time": "2025-04-29T04:44:01.520Z"
   },
   {
    "duration": 12,
    "start_time": "2025-04-29T04:44:01.546Z"
   },
   {
    "duration": 39,
    "start_time": "2025-04-29T04:44:01.559Z"
   },
   {
    "duration": 14,
    "start_time": "2025-04-29T04:44:01.601Z"
   },
   {
    "duration": 294,
    "start_time": "2025-04-29T04:44:01.617Z"
   },
   {
    "duration": 6,
    "start_time": "2025-04-29T04:44:01.912Z"
   },
   {
    "duration": 324,
    "start_time": "2025-04-29T04:44:01.919Z"
   },
   {
    "duration": 5,
    "start_time": "2025-04-29T04:44:02.245Z"
   },
   {
    "duration": 22,
    "start_time": "2025-04-29T04:44:02.261Z"
   },
   {
    "duration": 77,
    "start_time": "2025-04-29T04:44:02.285Z"
   },
   {
    "duration": 389,
    "start_time": "2025-04-29T04:44:02.364Z"
   },
   {
    "duration": 15,
    "start_time": "2025-04-29T04:44:02.754Z"
   },
   {
    "duration": 147,
    "start_time": "2025-04-29T04:44:02.771Z"
   },
   {
    "duration": 11,
    "start_time": "2025-04-29T04:44:02.920Z"
   },
   {
    "duration": 276,
    "start_time": "2025-04-29T04:44:02.933Z"
   },
   {
    "duration": 8,
    "start_time": "2025-04-29T04:44:03.210Z"
   },
   {
    "duration": 5,
    "start_time": "2025-04-29T04:44:03.220Z"
   },
   {
    "duration": 299,
    "start_time": "2025-04-29T04:44:03.227Z"
   },
   {
    "duration": 18,
    "start_time": "2025-04-29T04:44:03.528Z"
   },
   {
    "duration": 388,
    "start_time": "2025-04-29T04:44:03.548Z"
   },
   {
    "duration": 364,
    "start_time": "2025-04-29T04:44:03.937Z"
   },
   {
    "duration": 13,
    "start_time": "2025-04-29T04:44:04.303Z"
   },
   {
    "duration": 447,
    "start_time": "2025-04-29T04:44:04.317Z"
   },
   {
    "duration": 55,
    "start_time": "2025-04-29T16:13:46.290Z"
   },
   {
    "duration": 1488,
    "start_time": "2025-04-29T16:13:57.591Z"
   },
   {
    "duration": 213,
    "start_time": "2025-04-29T16:13:59.081Z"
   },
   {
    "duration": 17,
    "start_time": "2025-04-29T16:13:59.296Z"
   },
   {
    "duration": 18,
    "start_time": "2025-04-29T16:13:59.315Z"
   },
   {
    "duration": 10,
    "start_time": "2025-04-29T16:13:59.335Z"
   },
   {
    "duration": 15,
    "start_time": "2025-04-29T16:13:59.347Z"
   },
   {
    "duration": 25,
    "start_time": "2025-04-29T16:13:59.364Z"
   },
   {
    "duration": 15,
    "start_time": "2025-04-29T16:13:59.404Z"
   },
   {
    "duration": 42,
    "start_time": "2025-04-29T16:13:59.421Z"
   },
   {
    "duration": 10,
    "start_time": "2025-04-29T16:13:59.466Z"
   },
   {
    "duration": 37,
    "start_time": "2025-04-29T16:13:59.478Z"
   },
   {
    "duration": 18,
    "start_time": "2025-04-29T16:13:59.517Z"
   },
   {
    "duration": 78,
    "start_time": "2025-04-29T16:13:59.537Z"
   },
   {
    "duration": 41,
    "start_time": "2025-04-29T16:13:59.617Z"
   },
   {
    "duration": 11,
    "start_time": "2025-04-29T16:13:59.660Z"
   },
   {
    "duration": 18,
    "start_time": "2025-04-29T16:13:59.673Z"
   },
   {
    "duration": 17,
    "start_time": "2025-04-29T16:13:59.693Z"
   },
   {
    "duration": 402,
    "start_time": "2025-04-29T16:13:59.712Z"
   },
   {
    "duration": 8,
    "start_time": "2025-04-29T16:14:00.116Z"
   },
   {
    "duration": 404,
    "start_time": "2025-04-29T16:14:00.126Z"
   },
   {
    "duration": 7,
    "start_time": "2025-04-29T16:14:00.532Z"
   },
   {
    "duration": 56,
    "start_time": "2025-04-29T16:14:00.541Z"
   },
   {
    "duration": 56,
    "start_time": "2025-04-29T16:14:00.599Z"
   },
   {
    "duration": 493,
    "start_time": "2025-04-29T16:14:00.657Z"
   },
   {
    "duration": 13,
    "start_time": "2025-04-29T16:14:01.152Z"
   },
   {
    "duration": 166,
    "start_time": "2025-04-29T16:14:01.167Z"
   },
   {
    "duration": 14,
    "start_time": "2025-04-29T16:14:01.335Z"
   },
   {
    "duration": 433,
    "start_time": "2025-04-29T16:14:01.353Z"
   },
   {
    "duration": 17,
    "start_time": "2025-04-29T16:14:01.788Z"
   },
   {
    "duration": 21,
    "start_time": "2025-04-29T16:14:01.807Z"
   },
   {
    "duration": 354,
    "start_time": "2025-04-29T16:14:01.831Z"
   },
   {
    "duration": 31,
    "start_time": "2025-04-29T16:14:02.187Z"
   },
   {
    "duration": 447,
    "start_time": "2025-04-29T16:14:02.220Z"
   },
   {
    "duration": 395,
    "start_time": "2025-04-29T16:14:02.668Z"
   },
   {
    "duration": 13,
    "start_time": "2025-04-29T16:14:03.064Z"
   },
   {
    "duration": 505,
    "start_time": "2025-04-29T16:14:03.079Z"
   },
   {
    "duration": 10,
    "start_time": "2025-04-29T16:17:55.101Z"
   },
   {
    "duration": 15,
    "start_time": "2025-04-29T16:22:35.269Z"
   },
   {
    "duration": 13,
    "start_time": "2025-04-29T16:22:42.015Z"
   },
   {
    "duration": 10,
    "start_time": "2025-04-29T16:23:22.117Z"
   },
   {
    "duration": 5,
    "start_time": "2025-04-29T16:23:27.911Z"
   },
   {
    "duration": 14,
    "start_time": "2025-04-29T16:23:33.654Z"
   },
   {
    "duration": 7,
    "start_time": "2025-04-29T16:23:35.701Z"
   },
   {
    "duration": 10,
    "start_time": "2025-04-29T16:23:46.422Z"
   },
   {
    "duration": 6,
    "start_time": "2025-04-29T16:23:48.902Z"
   },
   {
    "duration": 8,
    "start_time": "2025-04-29T16:27:11.015Z"
   },
   {
    "duration": 108,
    "start_time": "2025-04-29T16:31:57.158Z"
   },
   {
    "duration": 13,
    "start_time": "2025-04-29T16:33:48.950Z"
   },
   {
    "duration": 13,
    "start_time": "2025-04-29T16:35:55.749Z"
   },
   {
    "duration": 10,
    "start_time": "2025-04-29T16:36:58.237Z"
   },
   {
    "duration": 10,
    "start_time": "2025-04-29T16:39:23.788Z"
   },
   {
    "duration": 12,
    "start_time": "2025-04-29T16:40:40.420Z"
   },
   {
    "duration": 355,
    "start_time": "2025-04-29T16:53:02.517Z"
   },
   {
    "duration": 334,
    "start_time": "2025-04-29T16:54:20.916Z"
   },
   {
    "duration": 8,
    "start_time": "2025-04-29T17:03:21.389Z"
   },
   {
    "duration": 122,
    "start_time": "2025-04-29T17:09:07.695Z"
   },
   {
    "duration": 584,
    "start_time": "2025-04-29T17:12:35.658Z"
   },
   {
    "duration": 15,
    "start_time": "2025-04-29T17:18:30.115Z"
   },
   {
    "duration": 17,
    "start_time": "2025-04-29T17:20:21.652Z"
   },
   {
    "duration": 365,
    "start_time": "2025-04-29T17:22:18.380Z"
   },
   {
    "duration": 16,
    "start_time": "2025-04-29T17:23:06.101Z"
   },
   {
    "duration": 86,
    "start_time": "2025-04-29T17:26:40.615Z"
   },
   {
    "duration": 412,
    "start_time": "2025-04-29T17:26:44.845Z"
   },
   {
    "duration": 391,
    "start_time": "2025-04-29T17:27:10.246Z"
   },
   {
    "duration": 10,
    "start_time": "2025-04-29T17:28:01.454Z"
   },
   {
    "duration": 22,
    "start_time": "2025-04-29T17:29:23.990Z"
   },
   {
    "duration": 16,
    "start_time": "2025-04-29T17:29:51.033Z"
   },
   {
    "duration": 76,
    "start_time": "2025-04-29T17:29:58.735Z"
   },
   {
    "duration": 412,
    "start_time": "2025-04-29T17:30:24.022Z"
   },
   {
    "duration": 411,
    "start_time": "2025-04-29T17:34:37.352Z"
   },
   {
    "duration": 410,
    "start_time": "2025-04-29T17:34:54.943Z"
   },
   {
    "duration": 382,
    "start_time": "2025-04-29T17:37:22.751Z"
   },
   {
    "duration": 3,
    "start_time": "2025-04-29T17:39:06.447Z"
   },
   {
    "duration": 14,
    "start_time": "2025-04-29T17:44:02.199Z"
   },
   {
    "duration": 16,
    "start_time": "2025-04-29T17:44:20.621Z"
   },
   {
    "duration": 12,
    "start_time": "2025-04-29T17:45:00.243Z"
   },
   {
    "duration": 13,
    "start_time": "2025-04-29T17:48:21.801Z"
   },
   {
    "duration": 303,
    "start_time": "2025-04-29T17:48:26.087Z"
   },
   {
    "duration": 8,
    "start_time": "2025-04-29T17:49:15.879Z"
   },
   {
    "duration": 362,
    "start_time": "2025-04-29T17:49:17.952Z"
   },
   {
    "duration": 28,
    "start_time": "2025-04-29T17:51:06.608Z"
   },
   {
    "duration": 32,
    "start_time": "2025-04-29T17:51:37.392Z"
   },
   {
    "duration": 24,
    "start_time": "2025-04-29T17:52:58.528Z"
   },
   {
    "duration": 77,
    "start_time": "2025-04-29T17:53:31.744Z"
   },
   {
    "duration": 477,
    "start_time": "2025-04-29T17:53:52.496Z"
   },
   {
    "duration": 24,
    "start_time": "2025-04-29T17:55:42.336Z"
   },
   {
    "duration": 575,
    "start_time": "2025-04-29T17:55:45.584Z"
   },
   {
    "duration": 26,
    "start_time": "2025-04-29T17:56:22.241Z"
   },
   {
    "duration": 387,
    "start_time": "2025-04-29T17:56:26.080Z"
   },
   {
    "duration": 25,
    "start_time": "2025-04-29T17:58:06.624Z"
   },
   {
    "duration": 459,
    "start_time": "2025-04-29T17:58:09.800Z"
   },
   {
    "duration": 3713,
    "start_time": "2025-04-29T18:00:40.033Z"
   },
   {
    "duration": 2789,
    "start_time": "2025-04-29T18:01:51.898Z"
   },
   {
    "duration": 1409,
    "start_time": "2025-04-29T18:02:57.985Z"
   },
   {
    "duration": 14,
    "start_time": "2025-04-29T18:03:17.837Z"
   },
   {
    "duration": 13,
    "start_time": "2025-04-29T18:04:29.458Z"
   },
   {
    "duration": 13,
    "start_time": "2025-04-29T18:09:53.522Z"
   },
   {
    "duration": 181,
    "start_time": "2025-04-29T18:11:18.291Z"
   },
   {
    "duration": 343,
    "start_time": "2025-04-29T18:11:25.389Z"
   },
   {
    "duration": 16,
    "start_time": "2025-04-29T18:14:51.516Z"
   },
   {
    "duration": 18,
    "start_time": "2025-04-29T18:16:37.317Z"
   },
   {
    "duration": 1232,
    "start_time": "2025-04-30T08:34:30.510Z"
   },
   {
    "duration": 258,
    "start_time": "2025-04-30T08:34:31.745Z"
   },
   {
    "duration": 16,
    "start_time": "2025-04-30T08:34:32.005Z"
   },
   {
    "duration": 16,
    "start_time": "2025-04-30T08:34:32.023Z"
   },
   {
    "duration": 18,
    "start_time": "2025-04-30T08:34:32.041Z"
   },
   {
    "duration": 30,
    "start_time": "2025-04-30T08:34:32.061Z"
   },
   {
    "duration": 50,
    "start_time": "2025-04-30T08:34:32.093Z"
   },
   {
    "duration": 19,
    "start_time": "2025-04-30T08:34:32.145Z"
   },
   {
    "duration": 41,
    "start_time": "2025-04-30T08:34:32.166Z"
   },
   {
    "duration": 20,
    "start_time": "2025-04-30T08:34:32.210Z"
   },
   {
    "duration": 11,
    "start_time": "2025-04-30T08:34:32.232Z"
   },
   {
    "duration": 16,
    "start_time": "2025-04-30T08:34:32.245Z"
   },
   {
    "duration": 6,
    "start_time": "2025-04-30T08:34:32.262Z"
   },
   {
    "duration": 28,
    "start_time": "2025-04-30T08:34:32.270Z"
   },
   {
    "duration": 12,
    "start_time": "2025-04-30T08:34:32.300Z"
   },
   {
    "duration": 12,
    "start_time": "2025-04-30T08:34:32.313Z"
   },
   {
    "duration": 10,
    "start_time": "2025-04-30T08:34:32.327Z"
   },
   {
    "duration": 33,
    "start_time": "2025-04-30T08:34:32.338Z"
   },
   {
    "duration": 29,
    "start_time": "2025-04-30T08:34:32.372Z"
   },
   {
    "duration": 15,
    "start_time": "2025-04-30T08:34:32.403Z"
   },
   {
    "duration": 350,
    "start_time": "2025-04-30T08:34:32.421Z"
   },
   {
    "duration": 6,
    "start_time": "2025-04-30T08:34:32.773Z"
   },
   {
    "duration": 376,
    "start_time": "2025-04-30T08:34:32.781Z"
   },
   {
    "duration": 279,
    "start_time": "2025-04-30T08:34:33.163Z"
   },
   {
    "duration": 19,
    "start_time": "2025-04-30T08:34:33.444Z"
   },
   {
    "duration": 22,
    "start_time": "2025-04-30T08:34:33.465Z"
   },
   {
    "duration": 23,
    "start_time": "2025-04-30T08:34:33.489Z"
   },
   {
    "duration": 31,
    "start_time": "2025-04-30T08:34:33.515Z"
   },
   {
    "duration": 404,
    "start_time": "2025-04-30T08:34:33.548Z"
   },
   {
    "duration": 12,
    "start_time": "2025-04-30T08:34:33.962Z"
   },
   {
    "duration": 138,
    "start_time": "2025-04-30T08:34:33.975Z"
   },
   {
    "duration": 13,
    "start_time": "2025-04-30T08:34:34.115Z"
   },
   {
    "duration": 315,
    "start_time": "2025-04-30T08:34:34.130Z"
   },
   {
    "duration": 18,
    "start_time": "2025-04-30T08:34:34.446Z"
   },
   {
    "duration": 71,
    "start_time": "2025-04-30T08:34:34.465Z"
   },
   {
    "duration": 311,
    "start_time": "2025-04-30T08:34:34.538Z"
   },
   {
    "duration": 2565,
    "start_time": "2025-04-30T08:34:34.851Z"
   },
   {
    "duration": 260,
    "start_time": "2025-04-30T08:34:37.418Z"
   },
   {
    "duration": 14,
    "start_time": "2025-04-30T08:34:37.680Z"
   },
   {
    "duration": 469,
    "start_time": "2025-04-30T08:34:37.695Z"
   },
   {
    "duration": 23,
    "start_time": "2025-04-30T08:34:38.166Z"
   },
   {
    "duration": 474,
    "start_time": "2025-04-30T08:34:38.191Z"
   },
   {
    "duration": 133,
    "start_time": "2025-04-30T08:34:38.667Z"
   },
   {
    "duration": 0,
    "start_time": "2025-04-30T08:34:38.801Z"
   },
   {
    "duration": 0,
    "start_time": "2025-04-30T08:34:38.803Z"
   },
   {
    "duration": 0,
    "start_time": "2025-04-30T08:34:38.804Z"
   },
   {
    "duration": 1300,
    "start_time": "2025-04-30T16:14:16.362Z"
   },
   {
    "duration": 298,
    "start_time": "2025-04-30T16:14:17.664Z"
   },
   {
    "duration": 15,
    "start_time": "2025-04-30T16:14:17.964Z"
   },
   {
    "duration": 14,
    "start_time": "2025-04-30T16:14:17.981Z"
   },
   {
    "duration": 8,
    "start_time": "2025-04-30T16:14:17.997Z"
   },
   {
    "duration": 10,
    "start_time": "2025-04-30T16:14:18.007Z"
   },
   {
    "duration": 28,
    "start_time": "2025-04-30T16:14:18.019Z"
   },
   {
    "duration": 14,
    "start_time": "2025-04-30T16:14:18.048Z"
   },
   {
    "duration": 26,
    "start_time": "2025-04-30T16:14:18.063Z"
   },
   {
    "duration": 9,
    "start_time": "2025-04-30T16:14:18.092Z"
   },
   {
    "duration": 12,
    "start_time": "2025-04-30T16:14:18.103Z"
   },
   {
    "duration": 16,
    "start_time": "2025-04-30T16:14:18.137Z"
   },
   {
    "duration": 6,
    "start_time": "2025-04-30T16:14:18.155Z"
   },
   {
    "duration": 19,
    "start_time": "2025-04-30T16:14:18.162Z"
   },
   {
    "duration": 7,
    "start_time": "2025-04-30T16:14:18.183Z"
   },
   {
    "duration": 11,
    "start_time": "2025-04-30T16:14:18.191Z"
   },
   {
    "duration": 43,
    "start_time": "2025-04-30T16:14:18.203Z"
   },
   {
    "duration": 9,
    "start_time": "2025-04-30T16:14:18.248Z"
   },
   {
    "duration": 11,
    "start_time": "2025-04-30T16:14:18.258Z"
   },
   {
    "duration": 6,
    "start_time": "2025-04-30T16:14:18.270Z"
   },
   {
    "duration": 363,
    "start_time": "2025-04-30T16:14:18.277Z"
   },
   {
    "duration": 6,
    "start_time": "2025-04-30T16:14:18.642Z"
   },
   {
    "duration": 315,
    "start_time": "2025-04-30T16:14:18.649Z"
   },
   {
    "duration": 321,
    "start_time": "2025-04-30T16:14:18.966Z"
   },
   {
    "duration": 5,
    "start_time": "2025-04-30T16:14:19.289Z"
   },
   {
    "duration": 12,
    "start_time": "2025-04-30T16:14:19.296Z"
   },
   {
    "duration": 8,
    "start_time": "2025-04-30T16:14:19.309Z"
   },
   {
    "duration": 12,
    "start_time": "2025-04-30T16:14:19.337Z"
   },
   {
    "duration": 394,
    "start_time": "2025-04-30T16:14:19.350Z"
   },
   {
    "duration": 11,
    "start_time": "2025-04-30T16:14:19.745Z"
   },
   {
    "duration": 139,
    "start_time": "2025-04-30T16:14:19.757Z"
   },
   {
    "duration": 12,
    "start_time": "2025-04-30T16:14:19.898Z"
   },
   {
    "duration": 298,
    "start_time": "2025-04-30T16:14:19.912Z"
   },
   {
    "duration": 9,
    "start_time": "2025-04-30T16:14:20.212Z"
   },
   {
    "duration": 20,
    "start_time": "2025-04-30T16:14:20.222Z"
   },
   {
    "duration": 279,
    "start_time": "2025-04-30T16:14:20.244Z"
   },
   {
    "duration": 3242,
    "start_time": "2025-04-30T16:14:20.525Z"
   },
   {
    "duration": 51,
    "start_time": "2025-04-30T16:14:23.769Z"
   },
   {
    "duration": 13,
    "start_time": "2025-04-30T16:14:23.822Z"
   },
   {
    "duration": 454,
    "start_time": "2025-04-30T16:14:23.837Z"
   },
   {
    "duration": 23,
    "start_time": "2025-04-30T16:14:24.293Z"
   },
   {
    "duration": 527,
    "start_time": "2025-04-30T16:14:24.317Z"
   },
   {
    "duration": 126,
    "start_time": "2025-04-30T16:14:24.845Z"
   },
   {
    "duration": 0,
    "start_time": "2025-04-30T16:14:24.972Z"
   },
   {
    "duration": 0,
    "start_time": "2025-04-30T16:14:24.974Z"
   },
   {
    "duration": 0,
    "start_time": "2025-04-30T16:14:24.975Z"
   },
   {
    "duration": 23,
    "start_time": "2025-04-30T16:14:49.689Z"
   },
   {
    "duration": 399,
    "start_time": "2025-04-30T16:14:54.423Z"
   }
  ],
  "colab": {
   "provenance": []
  },
  "kernelspec": {
   "display_name": "Python 3 (ipykernel)",
   "language": "python",
   "name": "python3"
  },
  "language_info": {
   "codemirror_mode": {
    "name": "ipython",
    "version": 3
   },
   "file_extension": ".py",
   "mimetype": "text/x-python",
   "name": "python",
   "nbconvert_exporter": "python",
   "pygments_lexer": "ipython3",
   "version": "3.9.5"
  },
  "toc": {
   "base_numbering": 1,
   "nav_menu": {},
   "number_sections": true,
   "sideBar": true,
   "skip_h1_title": true,
   "title_cell": "Table of Contents",
   "title_sidebar": "Contents",
   "toc_cell": false,
   "toc_position": {},
   "toc_section_display": true,
   "toc_window_display": false
  }
 },
 "nbformat": 4,
 "nbformat_minor": 5
}
