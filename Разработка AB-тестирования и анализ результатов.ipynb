{
 "cells": [
  {
   "cell_type": "markdown",
   "metadata": {
    "id": "u98L9TgH0eMk"
   },
   "source": [
    "# Разработка A/B-тестирования и анализ результатов\n",
    "\n"
   ]
  },
  {
   "cell_type": "markdown",
   "metadata": {
    "id": "LJBRALHs0eMf"
   },
   "source": [
    "## Описание данных\n",
    "\n",
    "\n",
    "\n",
    "У этих таблиц почти совпадает структура и содержание колонок, различаются лишь периоды наблюдения.\n",
    "\n",
    "Поля таблиц :\n",
    "\n",
    "- `user_id` — идентификатор пользователя;\n",
    "\n",
    "- `session_id` — идентификатор сессии в приложении;\n",
    "\n",
    "- `session_date` — дата сессии;\n",
    "\n",
    "- `session_start_ts` — дата и время начала сессии;\n",
    "\n",
    "- `install_date` — дата установки приложения;\n",
    "\n",
    "- `session_number` — порядковый номер сессии для конкретного пользователя;\n",
    "\n",
    "- `registration_flag` — является ли пользователь зарегистрированным;\n",
    "\n",
    "- `page_counter` — количество просмотренных страниц во время сессии;\n",
    "\n",
    "- `region` — регион пользователя;\n",
    "\n",
    "- `device` — тип устройства пользователя;\n",
    "\n",
    "- `test_group` — тестовая группа (в таблице с историческими данными этого столбца нет).\n",
    "\n",
    "\n",
    "## Что нужно сделать\n",
    "Ваши задачи: рассчитать параметры теста, оценить корректность его проведения и проанализировать результаты эксперимента."
   ]
  },
  {
   "cell_type": "markdown",
   "metadata": {
    "id": "UpOucjID0eMl"
   },
   "source": [
    "### 1. Работа с историческими данными (EDA)"
   ]
  },
  {
   "cell_type": "markdown",
   "metadata": {
    "id": "8iJMtL-30eMl"
   },
   "source": [
    "#### 1.1. Загрузка исторических данных\n",
    "На первом этапе поработайте с историческими данными приложения:\n",
    "\n",
    "- Импортируйте библиотеку pandas.\n",
    "\n",
    "- Считайте и сохраните в датафрейм `s` CSV-файл с историческими данными о сессиях пользователей `s`.\n",
    "\n",
    "Выведите на экран первые пять строк полученного датафрейма."
   ]
  },
  {
   "cell_type": "code",
   "execution_count": 1,
   "metadata": {
    "id": "6TPR2-1RPboT"
   },
   "outputs": [],
   "source": [
    "import pandas as pd # Импортируем библиотеку"
   ]
  },
  {
   "cell_type": "code",
   "execution_count": 2,
   "metadata": {},
   "outputs": [],
   "source": [
    "sessions_history = pd.read_csv('') # Сохраняем датафрейм"
   ]
  },
  {
   "cell_type": "code",
   "execution_count": 3,
   "metadata": {},
   "outputs": [
    {
     "name": "stdout",
     "output_type": "stream",
     "text": [
      "            user_id        session_id session_date     session_start_ts  \\\n",
      "0  E302123B7000BFE4  F9AF61A0C2023832   2025-08-15  2025-08-15 17:47:35   \n",
      "1  2530F72E221829FB  85003A206CBDAC6F   2025-08-15  2025-08-15 16:42:14   \n",
      "2  876E020A4FC512F5  3677423E49D72DEE   2025-08-15  2025-08-15 12:30:00   \n",
      "3  2640B349E1D81584  956B45F5915CA225   2025-08-15  2025-08-15 15:31:31   \n",
      "4  94E1CBFAEF1F5EE9  83BF0DA35F9F1F40   2025-08-15  2025-08-15 21:33:53   \n",
      "\n",
      "  install_date  session_number  registration_flag  page_counter region  \\\n",
      "0   2025-08-15               1                  0             3    CIS   \n",
      "1   2025-08-15               1                  0             4   MENA   \n",
      "2   2025-08-15               1                  0             4     EU   \n",
      "3   2025-08-15               1                  0             4    CIS   \n",
      "4   2025-08-15               1                  0             3    CIS   \n",
      "\n",
      "    device  \n",
      "0   iPhone  \n",
      "1  Android  \n",
      "2       PC  \n",
      "3  Android  \n",
      "4  Android  \n"
     ]
    }
   ],
   "source": [
    "print(sessions_history.head(5)) # Выводим первые пять строк датафрейма"
   ]
  },
  {
   "cell_type": "markdown",
   "metadata": {
    "id": "qTDoiODz0eMo"
   },
   "source": [
    "#### 1.2. Знакомство с данными\n",
    "\n",
    "\n"
   ]
  },
  {
   "cell_type": "code",
   "execution_count": 4,
   "metadata": {},
   "outputs": [
    {
     "name": "stdout",
     "output_type": "stream",
     "text": [
      "                 user_id  session_id\n",
      "0       00005FB6A13A6FBE           2\n",
      "1       0000B15A18D77ED9           3\n",
      "2       0000C4E3A4A571A9           2\n",
      "3       000293FAF9E67A81           4\n",
      "4       00029C5AE889A6C3           2\n",
      "...                  ...         ...\n",
      "134034  FFFCDE7746148710           4\n",
      "134035  FFFDD413285E753F           3\n",
      "134036  FFFECBA0F2578AB0           2\n",
      "134037  FFFEDB68228B5F21           5\n",
      "134038  FFFF4228DF580C3B           3\n",
      "\n",
      "[134039 rows x 2 columns]\n"
     ]
    }
   ],
   "source": [
    " # Считаем для каждого пользователя кол-во сессий \n",
    "sessions_per_user = sessions_history.groupby('user_id')['session_id'].nunique().reset_index()\n",
    "print(sessions_per_user)"
   ]
  },
  {
   "cell_type": "code",
   "execution_count": 5,
   "metadata": {},
   "outputs": [
    {
     "name": "stdout",
     "output_type": "stream",
     "text": [
      "                 user_id        session_id session_date     session_start_ts  \\\n",
      "115558  10E0DEFC1ABDBBE0  B8F0423BBFFCF5DC   2025-08-14  2025-08-14 13:57:39   \n",
      "191751  10E0DEFC1ABDBBE0  87CA2FA549473837   2025-08-15  2025-08-15 16:42:10   \n",
      "239370  10E0DEFC1ABDBBE0  4ADD8011DCDCE318   2025-08-16  2025-08-16 19:53:21   \n",
      "274629  10E0DEFC1ABDBBE0  DF0FD0E09BF1F3D7   2025-08-17  2025-08-17 15:03:43   \n",
      "302501  10E0DEFC1ABDBBE0  3C221774B4DE6885   2025-08-18  2025-08-18 17:29:14   \n",
      "325557  10E0DEFC1ABDBBE0  031BD7A67048105B   2025-08-19  2025-08-19 13:23:55   \n",
      "345336  10E0DEFC1ABDBBE0  FF4315CF4AD4B100   2025-08-20  2025-08-20 19:31:54   \n",
      "377532  10E0DEFC1ABDBBE0  4045FEA0747203B4   2025-08-22  2025-08-22 17:54:13   \n",
      "403538  10E0DEFC1ABDBBE0  344B086C421C7F37   2025-08-24  2025-08-24 14:46:13   \n",
      "414743  10E0DEFC1ABDBBE0  054F20BA371E4C9D   2025-08-25  2025-08-25 18:36:41   \n",
      "\n",
      "       install_date  session_number  registration_flag  page_counter region  \\\n",
      "115558   2025-08-14               1                  0             4    CIS   \n",
      "191751   2025-08-14               2                  0             3    CIS   \n",
      "239370   2025-08-14               3                  0             3    CIS   \n",
      "274629   2025-08-14               4                  0             1    CIS   \n",
      "302501   2025-08-14               5                  0             4    CIS   \n",
      "325557   2025-08-14               6                  0             2    CIS   \n",
      "345336   2025-08-14               7                  0             2    CIS   \n",
      "377532   2025-08-14               8                  0             2    CIS   \n",
      "403538   2025-08-14               9                  0             2    CIS   \n",
      "414743   2025-08-14              10                  0             3    CIS   \n",
      "\n",
      "         device  \n",
      "115558  Android  \n",
      "191751  Android  \n",
      "239370  Android  \n",
      "274629  Android  \n",
      "302501  Android  \n",
      "325557  Android  \n",
      "345336  Android  \n",
      "377532  Android  \n",
      "403538  Android  \n",
      "414743  Android  \n"
     ]
    }
   ],
   "source": [
    "# Ищем пользователя с наибольшим кол-вом сессий\n",
    "max_sessions_user = sessions_per_user.loc[sessions_per_user['session_id'].idxmax(), 'user_id']\n",
    "# Выводим все записи этого пользователя\n",
    "user_data = sessions_history[sessions_history['user_id'] == max_sessions_user]\n",
    "print(user_data)"
   ]
  },
  {
   "cell_type": "markdown",
   "metadata": {
    "id": "CmcGpJTP0eMq"
   },
   "source": [
    "#### 1.3. Анализ числа регистраций\n"
   ]
  },
  {
   "cell_type": "code",
   "execution_count": 6,
   "metadata": {},
   "outputs": [
    {
     "name": "stdout",
     "output_type": "stream",
     "text": [
      "   session_date  unique_users  registered_users\n",
      "0    2025-08-11          3919               169\n",
      "1    2025-08-12          6056               336\n",
      "2    2025-08-13          8489               464\n",
      "3    2025-08-14         10321               625\n",
      "4    2025-08-15         14065               840\n",
      "5    2025-08-16         12205               916\n",
      "6    2025-08-17         11200               833\n",
      "7    2025-08-18         10839               860\n",
      "8    2025-08-19         12118               831\n",
      "9    2025-08-20         13514              1008\n",
      "10   2025-08-21         15051              1063\n",
      "11   2025-08-22         17563              1251\n",
      "12   2025-08-23         16082              1253\n",
      "13   2025-08-24         13683              1181\n",
      "14   2025-08-25         13635              1060\n",
      "15   2025-08-26         13289              1050\n",
      "16   2025-08-27         14766              1076\n",
      "17   2025-08-28         15388              1175\n",
      "18   2025-08-29         16873              1174\n",
      "19   2025-08-30         14891              1165\n",
      "20   2025-08-31         13266              1105\n",
      "21   2025-09-01         12685              1028\n",
      "22   2025-09-02         12672              1039\n",
      "23   2025-09-03         12777              1035\n",
      "24   2025-09-04         13683              1007\n",
      "25   2025-09-05         15324              1030\n",
      "26   2025-09-06         13078              1023\n",
      "27   2025-09-07         12367              1069\n",
      "28   2025-09-08         11826              1009\n",
      "29   2025-09-09         11780               980\n",
      "30   2025-09-10         12526              1015\n",
      "31   2025-09-11          8623               824\n",
      "32   2025-09-12          6436               669\n",
      "33   2025-09-13          5183               537\n",
      "34   2025-09-14          4364               440\n",
      "35   2025-09-15          3698               383\n",
      "36   2025-09-16          3032               286\n",
      "37   2025-09-17          2548               272\n",
      "38   2025-09-18          1952               201\n",
      "39   2025-09-19          1418               132\n",
      "40   2025-09-20          1100               107\n",
      "41   2025-09-21           776                87\n",
      "42   2025-09-22           546                68\n",
      "43   2025-09-23           317                32\n"
     ]
    }
   ],
   "source": [
    "daily_stats = sessions_history.groupby('session_date').agg(\n",
    "    unique_users=('user_id', 'nunique'),  # Число уникальных пользователей\n",
    "    registered_users=('registration_flag', 'sum')  # Число зарегистрированных\n",
    ").reset_index()\n",
    "print(daily_stats)"
   ]
  },
  {
   "cell_type": "code",
   "execution_count": 7,
   "metadata": {},
   "outputs": [],
   "source": [
    "# Импортируем библиотеки для создания графиков\n",
    "import matplotlib.pyplot as plt\n",
    "import seaborn as sns"
   ]
  },
  {
   "cell_type": "code",
   "execution_count": 8,
   "metadata": {},
   "outputs": [
    {
     "data": {
      "image/png": "[encoded data removed]",
      "text/plain": [
       "<Figure size 864x432 with 1 Axes>"
      ]
     },
     "metadata": {
      "needs_background": "light"
     },
     "output_type": "display_data"
    }
   ],
   "source": [
    "# Создаем график\n",
    "plt.figure(figsize=(12, 6))\n",
    "sns.set_style(\"whitegrid\")\n",
    "\n",
    "# Линия общего числа пользователей\n",
    "sns.lineplot(data=daily_stats, x='session_date', y='unique_users', \n",
    "             label='Все пользователи', linewidth=2, color='blue')\n",
    "\n",
    "# Линия зарегистрированных пользователей\n",
    "sns.lineplot(data=daily_stats, x='session_date', y='registered_users', \n",
    "             label='Зарегистрированные', linewidth=2, color='green')\n",
    "\n",
    "# Настройки графика\n",
    "plt.title('Динамика пользователей по дням', fontsize=14)\n",
    "plt.xlabel('Дата', fontsize=12)\n",
    "plt.ylabel('Количество пользователей', fontsize=12)\n",
    "plt.xticks(rotation=45)\n",
    "plt.legend(fontsize=12)\n",
    "plt.tight_layout()\n",
    "\n",
    "# Отображаем график\n",
    "plt.show()"
   ]
  },
  {
   "cell_type": "code",
   "execution_count": 9,
   "metadata": {},
   "outputs": [],
   "source": [
    "# Расчет доли зарегистрированных пользователей\n",
    "daily_stats['registered_ratio'] = daily_stats['registered_users'] / daily_stats['unique_users'] * 100"
   ]
  },
  {
   "cell_type": "code",
   "execution_count": 10,
   "metadata": {
    "id": "tN_6Ml3EPatS"
   },
   "outputs": [
    {
     "data": {
      "image/png": "[encoded data removed]",
      "text/plain": [
       "<Figure size 864x432 with 1 Axes>"
      ]
     },
     "metadata": {},
     "output_type": "display_data"
    }
   ],
   "source": [
    "# Создаем график\n",
    "plt.figure(figsize=(12, 6))\n",
    "sns.set_style(\"whitegrid\")\n",
    "\n",
    "# Линия доли зарегистрированных пользователей\n",
    "sns.lineplot(data=daily_stats, x='session_date', y='registered_ratio',\n",
    "             linewidth=2, color='purple', label='Доля зарегистрированных')\n",
    "\n",
    "# Настройки графика\n",
    "plt.title('Доля зарегистрированных пользователей по дням', fontsize=14)\n",
    "plt.xlabel('Дата', fontsize=12)\n",
    "plt.ylabel('Доля зарегистрированных (%)', fontsize=12)\n",
    "plt.xticks(rotation=45)\n",
    "plt.ylim(0, 15)  # Ограничиваем ось Y от 0 до 100%\n",
    "plt.grid(True, linestyle='--', alpha=0.7)\n",
    "plt.legend(fontsize=12)\n",
    "plt.tight_layout()\n",
    "\n",
    "plt.show()"
   ]
  },
  {
   "cell_type": "markdown",
   "metadata": {
    "id": "UR7D7RhF0eMr"
   },
   "source": [
    "#### 1.4. Анализ числа просмотренных страниц\n"
   ]
  },
  {
   "cell_type": "code",
   "execution_count": 11,
   "metadata": {},
   "outputs": [],
   "source": [
    "# Находим кол-во сессий для каждого кол-ва просмотренных страниц\n",
    "page_session_counts = sessions_history.groupby('page_counter')['session_id'].count().reset_index()\n",
    "# Переименовываем столбцы\n",
    "page_session_counts.columns = ['pages_viewed', 'session_count']"
   ]
  },
  {
   "cell_type": "code",
   "execution_count": 12,
   "metadata": {},
   "outputs": [
    {
     "data": {
      "image/png": "[encoded data removed]",
      "text/plain": [
       "<Figure size 864x432 with 1 Axes>"
      ]
     },
     "metadata": {},
     "output_type": "display_data"
    }
   ],
   "source": [
    "# Создаем график\n",
    "plt.figure(figsize=(12, 6))\n",
    "plt.bar(page_session_counts['pages_viewed'], page_session_counts['session_count'])\n",
    "plt.xlabel('Количество просмотренных страниц')\n",
    "plt.ylabel('Количество сессий')\n",
    "plt.title('Распределение сессий по количеству просмотренных страниц')\n",
    "plt.show()"
   ]
  },
  {
   "cell_type": "markdown",
   "metadata": {
    "id": "xDltSpVP0eMr"
   },
   "source": [
    "#### 1.5. Доля пользователей, просмотревших более четырёх страниц\n"
   ]
  },
  {
   "cell_type": "code",
   "execution_count": 13,
   "metadata": {},
   "outputs": [],
   "source": [
    "# Создаем новый столбец good_session\n",
    "sessions_history['good_session'] = sessions_history['page_counter'].apply(\n",
    "    lambda x: 1 if x >= 4 else 0)"
   ]
  },
  {
   "cell_type": "code",
   "execution_count": 14,
   "metadata": {},
   "outputs": [],
   "source": [
    "# Считаем долю успешных сессий по дням\n",
    "daily_good_sessions = sessions_history.groupby('session_date')['good_session'].mean().reset_index()\n",
    "daily_good_sessions.columns = ['date', 'good_session_ratio']"
   ]
  },
  {
   "cell_type": "code",
   "execution_count": 15,
   "metadata": {
    "id": "iygaPfixPYMW"
   },
   "outputs": [
    {
     "data": {
      "image/png": "[encoded data removed]",
      "text/plain": [
       "<Figure size 1008x504 with 1 Axes>"
      ]
     },
     "metadata": {},
     "output_type": "display_data"
    }
   ],
   "source": [
    "# Создаем график\n",
    "plt.figure(figsize=(14, 7))\n",
    "sns.set_style(\"whitegrid\")\n",
    "\n",
    "# Линейный график\n",
    "sns.lineplot(data=daily_good_sessions, \n",
    "             x='date', \n",
    "             y='good_session_ratio',\n",
    "             linewidth=2,\n",
    "             color='green')\n",
    "\n",
    "# Горизонтальная линия среднего значения\n",
    "mean_ratio = daily_good_sessions['good_session_ratio'].mean()\n",
    "plt.axhline(y=mean_ratio, color='red', linestyle='--', linewidth=0.5,\n",
    "            label=f'Среднее: {mean_ratio:.1%}')\n",
    "\n",
    "# Настройки графика\n",
    "plt.title('Доля успешных сессий по дням', fontsize=16)\n",
    "plt.xlabel('Дата', fontsize=14)\n",
    "plt.ylabel('Доля успешных сессий', fontsize=14)\n",
    "plt.xticks(rotation=45)\n",
    "plt.ylim(0.2, 0.4)  # Ограничение от 0% до 100%\n",
    "\n",
    "plt.legend(fontsize=12)\n",
    "plt.grid(True, alpha=0.3)\n",
    "plt.tight_layout()\n",
    "plt.show()"
   ]
  },
  {
   "cell_type": "markdown",
   "metadata": {
    "id": "21JcG77Y0eMt"
   },
   "source": [
    "### 2. Подготовка к тесту\n"
   ]
  },
  {
   "cell_type": "markdown",
   "metadata": {
    "id": "kXdcwkjf859k"
   },
   "source": [
    "#### 2.1 Формулировка нулевой и альтернативной гипотез\n",
    "\n"
   ]
  },
  {
   "cell_type": "markdown",
   "metadata": {},
   "source": [
    "Основная метрика, которая будет использоваться для оценки нового алгоритма — среднее количество просмотренных страниц за сессию (`page_counter`).\n",
    "\n",
    "**Нулевая гипотеза:** новый алгоритм рекомендаций не влияет на среднее количество просмотренных страниц за сессию.\n",
    "\n",
    "**Альтернативная гипотеза:** новый алгоритм увеличивает среднее количество просмотренных страниц за сессию.\n"
   ]
  },
  {
   "cell_type": "markdown",
   "metadata": {
    "id": "uzaeln270eMt"
   },
   "source": [
    "#### 2.2. Расчёт размера выборки\n"
   ]
  },
  {
   "cell_type": "code",
   "execution_count": 16,
   "metadata": {
    "id": "zSxJyPGPNdaI"
   },
   "outputs": [
    {
     "name": "stdout",
     "output_type": "stream",
     "text": [
      "Необходимый размер выборки для каждой группы: 3761\n"
     ]
    }
   ],
   "source": [
    "from statsmodels.stats.power import NormalIndPower\n",
    "from statsmodels.stats.proportion import proportion_effectsize\n",
    "\n",
    "# Задаём параметры\n",
    "alpha = 0.05  # Уровень значимости\n",
    "beta = 0.2  # Ошибка второго рода, часто 1 - мощность\n",
    "power = 0.8  # Мощность теста\n",
    "p = 0.3 # Базовый уровень доли\n",
    "mde = 0.03  # Минимальный детектируемый эффект\n",
    "effect_size = proportion_effectsize(p, p + mde)\n",
    "\n",
    "# Инициализируем класс NormalIndPower\n",
    "power_analysis = NormalIndPower()\n",
    "\n",
    "# Рассчитываем размер выборки\n",
    "sample_size = power_analysis.solve_power(\n",
    "    effect_size = effect_size,\n",
    "    power = power,\n",
    "    alpha = alpha,\n",
    "    ratio = 1 # Равномерное распределение выборок\n",
    ")\n",
    "\n",
    "print(f\"Необходимый размер выборки для каждой группы: {int(sample_size)}\")"
   ]
  },
  {
   "cell_type": "markdown",
   "metadata": {
    "id": "qLEv4RoV0eMu"
   },
   "source": [
    "#### 2.3. Расчёт длительности A/B-теста\n",
    "\n"
   ]
  },
  {
   "cell_type": "code",
   "execution_count": 17,
   "metadata": {
    "id": "KZDRbryDOGHa"
   },
   "outputs": [
    {
     "name": "stdout",
     "output_type": "stream",
     "text": [
      "Рассчитанная длительность A/B-теста при текущем уровене трафика в 9907 пользователей в день составит 1 дней\n"
     ]
    }
   ],
   "source": [
    "from math import ceil\n",
    "\n",
    "# Среднее количество пользователей приложения в день по историческим данным\n",
    "avg_daily_users = round(sessions_history.groupby('session_date').agg({\"user_id\" : 'nunique'}).mean().iloc[0])\n",
    "\n",
    "# Рассчитываем длительность теста в днях как отношение размера выборки к среднему числу пользователей\n",
    "test_duration = ceil(sample_size *2 / avg_daily_users)\n",
    "\n",
    "print(f\"Рассчитанная длительность A/B-теста при текущем уровене трафика в {avg_daily_users} пользователей в день составит {test_duration} дней\")"
   ]
  },
  {
   "cell_type": "markdown",
   "metadata": {
    "id": "ZuvtAdha0eMv"
   },
   "source": [
    "### 3. Мониторинг А/В-теста"
   ]
  },
  {
   "cell_type": "markdown",
   "metadata": {
    "id": "jq5sE3Ya0eMv"
   },
   "source": [
    "#### 3.1. Проверка распределения пользователей\n",
    "\n"
   ]
  },
  {
   "cell_type": "code",
   "execution_count": 18,
   "metadata": {},
   "outputs": [],
   "source": [
    "sessions_test_part = pd.read_csv('/datasets/sessions_project_test_part.csv') # Сохраняем датафрейм"
   ]
  },
  {
   "cell_type": "code",
   "execution_count": 19,
   "metadata": {},
   "outputs": [],
   "source": [
    "# Уникальные пользователи по группам\n",
    "users_per_group = sessions_test_part.groupby('test_group')['user_id'].nunique()"
   ]
  },
  {
   "cell_type": "code",
   "execution_count": 20,
   "metadata": {},
   "outputs": [
    {
     "name": "stdout",
     "output_type": "stream",
     "text": [
      "Количество уникальных пользователей по группам:\n",
      "test_group\n",
      "A    1477\n",
      "B    1466\n",
      "Name: user_id, dtype: int64\n"
     ]
    }
   ],
   "source": [
    "print(\"Количество уникальных пользователей по группам:\")\n",
    "print(users_per_group)"
   ]
  },
  {
   "cell_type": "code",
   "execution_count": 21,
   "metadata": {},
   "outputs": [
    {
     "name": "stdout",
     "output_type": "stream",
     "text": [
      "Процентная разница между группами: 0.75%\n"
     ]
    }
   ],
   "source": [
    "# Расчет процентной разницы\n",
    "group_a = users_per_group['A']\n",
    "group_b = users_per_group['B']\n",
    "diff_percent = abs(group_a - group_b) / ((group_a + group_b)/2) * 100\n",
    "print(f\"Процентная разница между группами: {diff_percent:.2f}%\")"
   ]
  },
  {
   "cell_type": "code",
   "execution_count": 22,
   "metadata": {},
   "outputs": [
    {
     "data": {
      "image/png": "[encoded data removed]",
      "text/plain": [
       "<Figure size 720x432 with 1 Axes>"
      ]
     },
     "metadata": {},
     "output_type": "display_data"
    }
   ],
   "source": [
    "# Настройка стиля\n",
    "plt.style.use('seaborn')\n",
    "\n",
    "# Создание столбчатой диаграммы\n",
    "fig, ax = plt.subplots(figsize=(10, 6))\n",
    "\n",
    "# Данные для графика\n",
    "groups = ['Группа A', 'Группа B']\n",
    "users = [group_a, group_b]\n",
    "colors = ['red', 'blue']\n",
    "\n",
    "# Построение графика\n",
    "bars = ax.bar(groups, users, color=colors, width=0.6)\n",
    "\n",
    "# Добавление значений на столбцы\n",
    "for bar in bars:\n",
    "    height = bar.get_height()\n",
    "    ax.text(bar.get_x() + bar.get_width()/2., height,\n",
    "            f'{height:,}\\n({height/sum(users)*100:.1f}%)',\n",
    "            ha='center', va='bottom', fontsize=12)\n",
    "\n",
    "# Настройка оформления\n",
    "ax.set_title('Распределение пользователей по группам A/B', pad=20, fontsize=14)\n",
    "ax.set_ylabel('Количество пользователей', fontsize=12)\n",
    "ax.spines['top'].set_visible(False)\n",
    "ax.spines['right'].set_visible(False)\n",
    "ax.grid(axis='y', linestyle='--', alpha=0.7)\n",
    "\n",
    "# Линия для обозначения идеального равенства\n",
    "ax.axhline(y=sum(users)/2, color='black', linestyle='--', alpha=0.5)\n",
    "ax.text(0.5, sum(users)/2*1.02, 'Идеальное равенство', \n",
    "        color='black', ha='center', fontsize=10)\n",
    "\n",
    "plt.tight_layout()\n",
    "plt.show()"
   ]
  },
  {
   "cell_type": "markdown",
   "metadata": {
    "id": "sgpNY5bv0eM0"
   },
   "source": [
    "#### 3.2. Проверка пересечений пользователей\n"
   ]
  },
  {
   "cell_type": "code",
   "execution_count": 23,
   "metadata": {
    "id": "E72ozN9FOX1u"
   },
   "outputs": [
    {
     "name": "stdout",
     "output_type": "stream",
     "text": [
      "Группы независимы. Нет пользователей, присутствующих в обеих группах.\n"
     ]
    }
   ],
   "source": [
    "# Получаем списки уникальных пользователей из каждой группы\n",
    "users_a = set(sessions_test_part[sessions_test_part['test_group'] == 'A']['user_id'].unique())\n",
    "users_b = set(sessions_test_part[sessions_test_part['test_group'] == 'B']['user_id'].unique())\n",
    "\n",
    "# Находим пересечение пользователей\n",
    "common_users = users_a & users_b\n",
    "num_common_users = len(common_users)\n",
    "\n",
    "if num_common_users == 0:\n",
    "    print(\"Группы независимы. Нет пользователей, присутствующих в обеих группах.\")\n",
    "else:\n",
    "    print(f\"Обнаружено {num_common_users} пользователей в обеих группах:\")"
   ]
  },
  {
   "cell_type": "markdown",
   "metadata": {
    "id": "6RvkNLrg0eM1"
   },
   "source": [
    "#### 3.3. Равномерность разделения пользователей по устройствам\n",
    "\n"
   ]
  },
  {
   "cell_type": "code",
   "execution_count": 36,
   "metadata": {
    "id": "x_IP6PUNPWHC"
   },
   "outputs": [
    {
     "data": {
      "image/png": "[encoded data removed]",
      "text/plain": [
       "<Figure size 1008x432 with 2 Axes>"
      ]
     },
     "metadata": {},
     "output_type": "display_data"
    }
   ],
   "source": [
    "# Получаем уникальных пользователей с их устройствами\n",
    "unique_users = sessions_test_part.drop_duplicates(subset=['user_id', 'device'])\n",
    "# Настройка стиля графиков\n",
    "sns.set_style(\"whitegrid\")\n",
    "plt.figure(figsize=(14, 6))\n",
    "\n",
    "# График для группы A\n",
    "plt.subplot(1, 2, 1)\n",
    "device_dist_a = unique_users[unique_users['test_group'] == 'A']['device'].value_counts(normalize=True)\n",
    "device_dist_a.plot(kind='bar', color='#3498db', alpha=0.7)\n",
    "plt.title('Распределение устройств\\n(Группа A)', pad=20, fontsize=14)\n",
    "plt.xlabel('Тип устройства', fontsize=12)\n",
    "plt.ylabel('Доля пользователей', fontsize=12)\n",
    "plt.xticks(rotation=45, ha='right')\n",
    "plt.ylim(0, 1)\n",
    "for i, v in enumerate(device_dist_a):\n",
    "    plt.text(i, v + 0.02, f\"{v:.1%}\", ha='center', fontsize=10)\n",
    "\n",
    "# График для группы B\n",
    "plt.subplot(1, 2, 2)\n",
    "device_dist_b = unique_users[unique_users['test_group'] == 'B']['device'].value_counts(normalize=True)\n",
    "device_dist_b.plot(kind='bar', color='#e74c3c', alpha=0.7)\n",
    "plt.title('Распределение устройств\\n(Группа B)', pad=20, fontsize=14)\n",
    "plt.xlabel('Тип устройства', fontsize=12)\n",
    "plt.ylabel('Доля пользователей', fontsize=12)\n",
    "plt.xticks(rotation=45, ha='right')\n",
    "plt.ylim(0, 1)\n",
    "for i, v in enumerate(device_dist_b):\n",
    "    plt.text(i, v + 0.02, f\"{v:.1%}\", ha='center', fontsize=10)\n",
    "\n",
    "plt.tight_layout()\n",
    "plt.show()"
   ]
  },
  {
   "cell_type": "markdown",
   "metadata": {
    "id": "gAgmP6vo0eM1"
   },
   "source": [
    "#### 3.4. Равномерность распределения пользователей по регионам\n",
    "\n"
   ]
  },
  {
   "cell_type": "code",
   "execution_count": 37,
   "metadata": {
    "id": "3hAq-FG4OdYM"
   },
   "outputs": [
    {
     "data": {
      "image/png": "[encoded data removed]",
      "text/plain": [
       "<Figure size 1008x432 with 2 Axes>"
      ]
     },
     "metadata": {},
     "output_type": "display_data"
    }
   ],
   "source": [
    "# Получаем уникальных пользователей с их устройствами\n",
    "unique_users_region = sessions_test_part.drop_duplicates(subset=['user_id', 'region'])\n",
    "# Настройка стиля графиков\n",
    "sns.set_style(\"whitegrid\")\n",
    "plt.figure(figsize=(14, 6))\n",
    "\n",
    "# График для группы A\n",
    "plt.subplot(1, 2, 1)\n",
    "device_dist_a = unique_users_region[unique_users_region['test_group'] == 'A']['region'].value_counts(normalize=True)\n",
    "device_dist_a.plot(kind='bar', color='#3498db', alpha=0.7)\n",
    "plt.title('Распределение по регионам\\n(Группа A)', pad=20, fontsize=14)\n",
    "plt.xlabel('Регион', fontsize=12)\n",
    "plt.ylabel('Доля пользователей', fontsize=12)\n",
    "plt.xticks(rotation=45, ha='right')\n",
    "plt.ylim(0, 1)\n",
    "for i, v in enumerate(device_dist_a):\n",
    "    plt.text(i, v + 0.02, f\"{v:.1%}\", ha='center', fontsize=10)\n",
    "\n",
    "# График для группы B\n",
    "plt.subplot(1, 2, 2)\n",
    "device_dist_b = unique_users_region[unique_users_region['test_group'] == 'B']['region'].value_counts(normalize=True)\n",
    "device_dist_b.plot(kind='bar', color='#e74c3c', alpha=0.7)\n",
    "plt.title('Распределение по регионам\\n(Группа B)', pad=20, fontsize=14)\n",
    "plt.xlabel('Регион', fontsize=12)\n",
    "plt.ylabel('Доля пользователей', fontsize=12)\n",
    "plt.xticks(rotation=45, ha='right')\n",
    "plt.ylim(0, 1)\n",
    "for i, v in enumerate(device_dist_b):\n",
    "    plt.text(i, v + 0.02, f\"{v:.1%}\", ha='center', fontsize=10)\n",
    "\n",
    "plt.tight_layout()\n",
    "plt.show()"
   ]
  },
  {
   "cell_type": "markdown",
   "metadata": {
    "id": "X2WSZ-sDrSUi"
   },
   "source": [
    "#### 3.5. Вывод после проверки A/B-теста\n",
    "\n"
   ]
  },
  {
   "cell_type": "markdown",
   "metadata": {
    "id": "dDELHlAcOi8d"
   },
   "source": [
    "**- Расчитали процентное различие между двумя группами, оно незначительное и всего лишь 0.75%.**\n",
    "\n",
    "**- Выборки являются независимыми, так как не было обнаружено пересечений пользователей из групп А и Б.**\n",
    "\n",
    "**- Категориальные переменные естественно не идеально ровные, но критических различий нет, группы получились плюс минус равномерными.**\n",
    "\n",
    "**A/B-тест проходит корректно.**"
   ]
  },
  {
   "cell_type": "markdown",
   "metadata": {
    "id": "nudRr_BQ0eM2"
   },
   "source": [
    "### 4. Проверка результатов A/B-теста\n",
    "\n"
   ]
  },
  {
   "cell_type": "markdown",
   "metadata": {
    "id": "JVve-YBB0eM2"
   },
   "source": [
    "#### 4.1. Получение результатов теста и подсчёт основной метрики\n",
    "\n"
   ]
  },
  {
   "cell_type": "code",
   "execution_count": 26,
   "metadata": {
    "id": "EqRlwMtKPTir"
   },
   "outputs": [
    {
     "name": "stdout",
     "output_type": "stream",
     "text": [
      "            user_id        session_id session_date     session_start_ts  \\\n",
      "0  6DAE3B3654DA738E  C69249E26E58F6E2   2025-10-26  2025-10-26 18:15:05   \n",
      "1  0A3FE5D1DD59110A  66D66D7C9F5181B7   2025-10-21  2025-10-21 17:04:53   \n",
      "2  2041F1D7AA740B88  50DE51D42215E74C   2025-10-23  2025-10-23 17:39:29   \n",
      "3  43D7585009168086  5763C0C353C22263   2025-10-24  2025-10-24 15:01:57   \n",
      "4  15AD68B14D62D88C  B1AD09F93C1053BC   2025-10-17  2025-10-17 17:34:39   \n",
      "5  31F7A42B32103403  E9B64B779C3348ED   2025-10-20  2025-10-20 17:09:41   \n",
      "6  87C09E3E3B334959  FECFF83C13DC9364   2025-10-22  2025-10-22 23:51:42   \n",
      "7  457F2674E87EF6E7  14F71C18BE2CEC08   2025-10-19  2025-10-19 11:49:11   \n",
      "\n",
      "  install_date  session_number  registration_flag  page_counter region  \\\n",
      "0   2025-10-16               3                  0             3   MENA   \n",
      "1   2025-10-15               2                  1             2    CIS   \n",
      "2   2025-10-19               3                  0             2   MENA   \n",
      "3   2025-10-18               4                  0             1    CIS   \n",
      "4   2025-10-17               1                  0             2   MENA   \n",
      "5   2025-10-19               2                  0             2    CIS   \n",
      "6   2025-10-20               3                  0             4    CIS   \n",
      "7   2025-10-19               1                  0             3   MENA   \n",
      "\n",
      "    device test_group  good_session  \n",
      "0  Android          A             0  \n",
      "1  Android          B             0  \n",
      "2  Android          A             0  \n",
      "3   iPhone          B             0  \n",
      "4  Android          B             0  \n",
      "5       PC          B             0  \n",
      "6   iPhone          B             1  \n",
      "7      Mac          A             0  \n"
     ]
    }
   ],
   "source": [
    "sessions_test = pd.read_csv('/datasets/sessions_project_test.csv') # Сохраняем датафрейм\n",
    "# Создаем новый столбец good_session\n",
    "sessions_test['good_session'] = sessions_test['page_counter'].apply(\n",
    "    lambda x: 1 if x >= 4 else 0)\n",
    "print(sessions_test.head(8))"
   ]
  },
  {
   "cell_type": "markdown",
   "metadata": {
    "id": "aeYhrMYy0eM2"
   },
   "source": [
    "#### 4.2. Проверка корректности результатов теста\n",
    "\n"
   ]
  },
  {
   "cell_type": "code",
   "execution_count": 27,
   "metadata": {
    "scrolled": true
   },
   "outputs": [
    {
     "name": "stdout",
     "output_type": "stream",
     "text": [
      "Количество уникальных сессий по дням и группам:\n",
      "test_group       A     B\n",
      "session_date            \n",
      "2025-10-14    1502  1628\n",
      "2025-10-15    2235  2283\n",
      "2025-10-16    3280  3241\n",
      "2025-10-17    4089  4054\n",
      "2025-10-18    5013  5059\n",
      "2025-10-19    6535  6779\n",
      "2025-10-20    5837  6089\n",
      "2025-10-21    3927  3981\n",
      "2025-10-22    3083  3111\n",
      "2025-10-23    2470  2548\n",
      "2025-10-24    2090  2068\n",
      "2025-10-25    1897  1814\n",
      "2025-10-26    1669  1692\n",
      "2025-10-27    1454  1517\n",
      "2025-10-28    1279  1289\n",
      "2025-10-29    1068  1131\n",
      "2025-10-30     887   876\n",
      "2025-10-31     644   669\n",
      "2025-11-01     434   465\n",
      "2025-11-02     158   160\n"
     ]
    }
   ],
   "source": [
    "# Группировка по дате и тестовой группе + подсчет уникальных сессий\n",
    "daily_sessions = sessions_test.groupby(['session_date', 'test_group'])['session_id'].nunique().unstack()\n",
    "\n",
    "# Визуализация результатов\n",
    "print(\"Количество уникальных сессий по дням и группам:\")\n",
    "print(daily_sessions)"
   ]
  },
  {
   "cell_type": "code",
   "execution_count": 28,
   "metadata": {},
   "outputs": [
    {
     "data": {
      "image/png": "[encoded data removed]",
      "text/plain": [
       "<Figure size 864x432 with 1 Axes>"
      ]
     },
     "metadata": {},
     "output_type": "display_data"
    }
   ],
   "source": [
    "plt.figure(figsize=(12, 6))\n",
    "sns.boxplot(data=daily_sessions.melt(), x='test_group', y='value')\n",
    "plt.title('Распределение количества сессий по группам')\n",
    "plt.xlabel('Группа')\n",
    "plt.ylabel('Количество сессий в день')\n",
    "plt.show()"
   ]
  },
  {
   "cell_type": "code",
   "execution_count": 29,
   "metadata": {},
   "outputs": [
    {
     "name": "stdout",
     "output_type": "stream",
     "text": [
      "Тест на нормальность (группа A): p-value = 0.101\n",
      "Тест на нормальность (группа B): p-value = 0.075\n",
      "\n",
      "Тест на равенство дисперсий: p-value = 0.960\n"
     ]
    }
   ],
   "source": [
    "# Проверка нормальности распределения (тест Шапиро-Уилка)\n",
    "from scipy.stats import shapiro\n",
    "\n",
    "_, p_a = shapiro(daily_sessions['A'])\n",
    "_, p_b = shapiro(daily_sessions['B'])\n",
    "\n",
    "print(f\"Тест на нормальность (группа A): p-value = {p_a:.3f}\")\n",
    "print(f\"Тест на нормальность (группа B): p-value = {p_b:.3f}\")\n",
    "\n",
    "# Проверка равенства дисперсий (тест Левена)\n",
    "from scipy.stats import levene\n",
    "\n",
    "_, p_levene = levene(daily_sessions['A'], daily_sessions['B'])\n",
    "print(f\"\\nТест на равенство дисперсий: p-value = {p_levene:.3f}\")"
   ]
  },
  {
   "cell_type": "code",
   "execution_count": 30,
   "metadata": {},
   "outputs": [
    {
     "name": "stdout",
     "output_type": "stream",
     "text": [
      "\n",
      "Результаты t-теста:\n",
      "t-статистика = -0.078\n",
      "p-value = 0.938\n",
      "\n",
      " Различия не статистически значимы (p > 0.05)\n",
      "Количество сессий в группах можно считать одинаковым\n"
     ]
    }
   ],
   "source": [
    "from scipy.stats import ttest_ind  # Добавляем импорт функции\n",
    "t_stat, p_value = ttest_ind(daily_sessions['A'], \n",
    "                           daily_sessions['B'],\n",
    "                           equal_var=(p_levene > 0.05))  # Учитываем результат теста Левена\n",
    "\n",
    "print(f\"\\nРезультаты t-теста:\")\n",
    "print(f\"t-статистика = {t_stat:.3f}\")\n",
    "print(f\"p-value = {p_value:.3f}\")\n",
    "\n",
    "# Интерпретация\n",
    "alpha = 0.05\n",
    "if p_value > alpha:\n",
    "    print(\"\\n Различия не статистически значимы (p > 0.05)\")\n",
    "    print(\"Количество сессий в группах можно считать одинаковым\")\n",
    "else:\n",
    "    print(\"\\n⚠️ Обнаружены статистически значимые различия (p ≤ 0.05)\")\n",
    "    print(f\"Среднее в группе A: {daily_sessions['A'].mean():.1f}\")\n",
    "    print(f\"Среднее в группе B: {daily_sessions['B'].mean():.1f}\")"
   ]
  },
  {
   "cell_type": "markdown",
   "metadata": {},
   "source": [
    "Этот анализ подтверждает, что распределение трафика между группами было равномерным в течение всего теста."
   ]
  },
  {
   "cell_type": "markdown",
   "metadata": {
    "id": "7kwRxzg70eM3"
   },
   "source": [
    "#### 4.3. Сравнение доли успешных сессий\n",
    "\n"
   ]
  },
  {
   "cell_type": "code",
   "execution_count": 31,
   "metadata": {
    "id": "Uku-V1CpPRCz"
   },
   "outputs": [],
   "source": [
    "# Расчет доли успешных сессий по группам\n",
    "grouped = sessions_test.groupby('test_group')['good_session'].agg(['mean', 'size'])\n",
    "grouped.columns = ['success_rate', 'total_sessions']\n",
    "\n",
    "# Разница между группами\n",
    "diff = grouped.loc['B', 'success_rate'] - grouped.loc['A', 'success_rate']\n",
    "rel_diff = diff / grouped.loc['A', 'success_rate'] * 100  "
   ]
  },
  {
   "cell_type": "code",
   "execution_count": 32,
   "metadata": {},
   "outputs": [
    {
     "name": "stdout",
     "output_type": "stream",
     "text": [
      "Доля успешных сессий:\n",
      "Группа A: 30.77% (49551 сессий)\n",
      "Группа B: 31.83% (50454 сессий)\n",
      "\n",
      "Абсолютная разница: 0.0106\n",
      "Относительная разница: 3.43%\n",
      "\n"
     ]
    }
   ],
   "source": [
    "# Вывод результатов\n",
    "print(f\"Доля успешных сессий:\\n\"\n",
    "      f\"Группа A: {grouped.loc['A', 'success_rate']:.2%} ({grouped.loc['A', 'total_sessions']} сессий)\\n\"\n",
    "      f\"Группа B: {grouped.loc['B', 'success_rate']:.2%} ({grouped.loc['B', 'total_sessions']} сессий)\\n\"\n",
    "      f\"\\nАбсолютная разница: {diff:.4f}\\n\"\n",
    "      f\"Относительная разница: {rel_diff:.2f}%\\n\")"
   ]
  },
  {
   "cell_type": "markdown",
   "metadata": {
    "id": "9fMFuja10eM4"
   },
   "source": [
    "#### 4.4. Насколько статистически значимо изменение ключевой метрики\n",
    "\n"
   ]
  },
  {
   "cell_type": "code",
   "execution_count": 33,
   "metadata": {
    "id": "gFvhRGwlPLS0"
   },
   "outputs": [
    {
     "name": "stdout",
     "output_type": "stream",
     "text": [
      "p-value = 0.0003148608995858183\n",
      "\n",
      "Вывод: различия статистически значимы (p ≤ 0.05)\n",
      "Группа B показывает лучший результат\n"
     ]
    }
   ],
   "source": [
    "# Проверка статистической значимости\n",
    "t_stat, p_value = ttest_ind(\n",
    "    sessions_test[sessions_test['test_group'] == 'A']['good_session'],\n",
    "    sessions_test[sessions_test['test_group'] == 'B']['good_session'])\n",
    "alpha = 0.05\n",
    "print(f\"p-value = {p_value:}\")\n",
    "if p_value > alpha:\n",
    "    print(\"\\nВывод: различия не статистически значимы (p > 0.05)\")\n",
    "else:\n",
    "    print(f\"\\nВывод: различия статистически значимы (p ≤ 0.05)\")\n",
    "    if diff > 0:\n",
    "        print(\"Группа B показывает лучший результат\")\n",
    "    else:\n",
    "        print(\"Группа A показывает лучший результат\")"
   ]
  },
  {
   "cell_type": "markdown",
   "metadata": {
    "id": "GnJrkY9Q63zS"
   },
   "source": [
    "#### 4.5. Вывод по результатам A/B-эксперимента\n",
    "\n"
   ]
  },
  {
   "cell_type": "markdown",
   "metadata": {
    "id": "rri8KRIgPMrW"
   },
   "source": [
    "Характеристики:\n",
    "\n",
    "- Длительность эксперимента: 20 дней.\n",
    "\n",
    "- Количество задействованных пользователей: группа A = 1477 и группа B = 1466."
   ]
  },
  {
   "cell_type": "markdown",
   "metadata": {},
   "source": [
    "Внедрение нового алгоритма повлияло на рост ключевой метрики положительно. Количество успешных сессий в тестовой выборке примерно на 1.1% выше, чем в контрольной и p-value = 0.0003148608995858183. "
   ]
  },
  {
   "cell_type": "markdown",
   "metadata": {},
   "source": [
    "Новый алгоритм рекомендаций стоит внедрить, так как:\n",
    "\n",
    "Статистическая значимость: крайне низкий p-value свидетельствует, что разница не случайна и вероятность ложноположительного результата (ошибка I рода) менее 0.03%.\n",
    "\n",
    "Практическая значимость:\n",
    "\n",
    "Рост на 1.1% может казаться небольшим, но для платформы с миллионами сессий это даст:\n",
    "\n",
    "Дополнительные XX,000 успешных сессий в месяц, увеличение времени пребывания в приложении, потенциальный рост дохода от рекламы/подписок."
   ]
  }
 ],
 "metadata": {
  "ExecuteTimeLog": [
   {
    "duration": 416,
    "start_time": "2025-06-30T16:22:00.554Z"
   },
   {
    "duration": 2,
    "start_time": "2025-06-30T16:26:50.894Z"
   },
   {
    "duration": 64,
    "start_time": "2025-06-30T16:28:00.590Z"
   },
   {
    "duration": 7,
    "start_time": "2025-06-30T16:28:14.696Z"
   },
   {
    "duration": 38,
    "start_time": "2025-06-30T16:28:23.485Z"
   },
   {
    "duration": 1030,
    "start_time": "2025-06-30T16:29:16.699Z"
   },
   {
    "duration": 8,
    "start_time": "2025-06-30T16:29:21.109Z"
   },
   {
    "duration": 7,
    "start_time": "2025-06-30T16:29:53.221Z"
   },
   {
    "duration": 585,
    "start_time": "2025-06-30T16:34:24.889Z"
   },
   {
    "duration": 591,
    "start_time": "2025-06-30T16:36:24.921Z"
   },
   {
    "duration": 39,
    "start_time": "2025-06-30T16:40:32.369Z"
   },
   {
    "duration": 173,
    "start_time": "2025-06-30T16:45:38.266Z"
   },
   {
    "duration": 9,
    "start_time": "2025-06-30T16:47:57.013Z"
   },
   {
    "duration": 945,
    "start_time": "2025-06-30T16:49:18.441Z"
   },
   {
    "duration": 999,
    "start_time": "2025-06-30T16:49:21.394Z"
   },
   {
    "duration": 3,
    "start_time": "2025-06-30T16:51:54.008Z"
   },
   {
    "duration": 796,
    "start_time": "2025-06-30T16:53:29.909Z"
   },
   {
    "duration": 798,
    "start_time": "2025-06-30T16:54:42.783Z"
   },
   {
    "duration": 820,
    "start_time": "2025-06-30T16:57:03.703Z"
   },
   {
    "duration": 48,
    "start_time": "2025-06-30T17:03:26.639Z"
   },
   {
    "duration": 1277,
    "start_time": "2025-06-30T17:09:17.458Z"
   },
   {
    "duration": 29,
    "start_time": "2025-06-30T17:10:34.034Z"
   },
   {
    "duration": 265,
    "start_time": "2025-06-30T17:10:37.874Z"
   },
   {
    "duration": 137,
    "start_time": "2025-06-30T17:15:34.233Z"
   },
   {
    "duration": 46,
    "start_time": "2025-06-30T17:19:39.019Z"
   },
   {
    "duration": 1003,
    "start_time": "2025-06-30T17:21:04.660Z"
   },
   {
    "duration": 947,
    "start_time": "2025-06-30T17:22:23.842Z"
   },
   {
    "duration": 19,
    "start_time": "2025-06-30T17:45:03.285Z"
   },
   {
    "duration": 13,
    "start_time": "2025-06-30T17:45:15.615Z"
   },
   {
    "duration": 174,
    "start_time": "2025-06-30T17:53:07.683Z"
   },
   {
    "duration": 155,
    "start_time": "2025-06-30T17:53:58.203Z"
   },
   {
    "duration": 178,
    "start_time": "2025-06-30T17:55:06.392Z"
   },
   {
    "duration": 436,
    "start_time": "2025-07-01T16:03:22.820Z"
   },
   {
    "duration": 1155,
    "start_time": "2025-07-01T16:03:23.258Z"
   },
   {
    "duration": 8,
    "start_time": "2025-07-01T16:03:24.415Z"
   },
   {
    "duration": 611,
    "start_time": "2025-07-01T16:03:24.425Z"
   },
   {
    "duration": 42,
    "start_time": "2025-07-01T16:03:25.041Z"
   },
   {
    "duration": 206,
    "start_time": "2025-07-01T16:03:25.085Z"
   },
   {
    "duration": 978,
    "start_time": "2025-07-01T16:03:25.293Z"
   },
   {
    "duration": 978,
    "start_time": "2025-07-01T16:03:26.272Z"
   },
   {
    "duration": 5,
    "start_time": "2025-07-01T16:03:27.252Z"
   },
   {
    "duration": 920,
    "start_time": "2025-07-01T16:03:27.259Z"
   },
   {
    "duration": 70,
    "start_time": "2025-07-01T16:03:28.180Z"
   },
   {
    "duration": 201,
    "start_time": "2025-07-01T16:03:28.252Z"
   },
   {
    "duration": 135,
    "start_time": "2025-07-01T16:03:28.455Z"
   },
   {
    "duration": 58,
    "start_time": "2025-07-01T16:03:28.591Z"
   },
   {
    "duration": 1009,
    "start_time": "2025-07-01T16:03:28.651Z"
   },
   {
    "duration": 21,
    "start_time": "2025-07-01T16:03:29.661Z"
   },
   {
    "duration": 291,
    "start_time": "2025-07-01T16:03:29.684Z"
   },
   {
    "duration": 34,
    "start_time": "2025-07-01T16:22:08.280Z"
   },
   {
    "duration": 105,
    "start_time": "2025-07-01T16:29:42.862Z"
   },
   {
    "duration": 5,
    "start_time": "2025-07-01T16:30:25.812Z"
   },
   {
    "duration": 4,
    "start_time": "2025-07-01T16:30:28.673Z"
   },
   {
    "duration": 59,
    "start_time": "2025-07-01T16:34:34.292Z"
   },
   {
    "duration": 74,
    "start_time": "2025-07-01T16:41:13.164Z"
   },
   {
    "duration": 52,
    "start_time": "2025-07-01T16:41:20.638Z"
   },
   {
    "duration": 4,
    "start_time": "2025-07-01T16:42:43.470Z"
   },
   {
    "duration": 341,
    "start_time": "2025-07-01T16:43:18.672Z"
   },
   {
    "duration": 446,
    "start_time": "2025-07-01T16:44:19.948Z"
   },
   {
    "duration": 310,
    "start_time": "2025-07-01T16:44:52.002Z"
   },
   {
    "duration": 10,
    "start_time": "2025-07-01T16:49:36.872Z"
   },
   {
    "duration": 24,
    "start_time": "2025-07-01T16:50:32.782Z"
   },
   {
    "duration": 9,
    "start_time": "2025-07-01T16:50:58.792Z"
   },
   {
    "duration": 8,
    "start_time": "2025-07-01T16:51:14.001Z"
   },
   {
    "duration": 443,
    "start_time": "2025-07-01T16:56:54.363Z"
   },
   {
    "duration": 422,
    "start_time": "2025-07-01T17:02:05.064Z"
   },
   {
    "duration": 1088,
    "start_time": "2025-07-01T17:11:41.785Z"
   },
   {
    "duration": 155,
    "start_time": "2025-07-01T17:12:46.551Z"
   },
   {
    "duration": 289,
    "start_time": "2025-07-01T17:14:34.290Z"
   },
   {
    "duration": 43,
    "start_time": "2025-07-01T17:17:01.365Z"
   },
   {
    "duration": 12,
    "start_time": "2025-07-01T17:20:44.660Z"
   },
   {
    "duration": 159,
    "start_time": "2025-07-01T17:21:50.620Z"
   },
   {
    "duration": 6,
    "start_time": "2025-07-01T17:24:32.082Z"
   },
   {
    "duration": 7,
    "start_time": "2025-07-01T17:27:47.611Z"
   },
   {
    "duration": 12,
    "start_time": "2025-07-01T17:31:45.765Z"
   },
   {
    "duration": 84,
    "start_time": "2025-07-01T17:32:20.900Z"
   },
   {
    "duration": 56,
    "start_time": "2025-07-01T17:32:41.170Z"
   },
   {
    "duration": 4,
    "start_time": "2025-07-01T17:33:12.805Z"
   },
   {
    "duration": 14,
    "start_time": "2025-07-01T17:33:57.259Z"
   },
   {
    "duration": 50,
    "start_time": "2025-07-01T17:35:47.612Z"
   },
   {
    "duration": 34,
    "start_time": "2025-07-01T17:36:15.643Z"
   },
   {
    "duration": 32,
    "start_time": "2025-07-01T17:36:40.272Z"
   },
   {
    "duration": 41,
    "start_time": "2025-07-01T17:39:33.321Z"
   },
   {
    "duration": 43,
    "start_time": "2025-07-01T17:39:47.712Z"
   },
   {
    "duration": 383,
    "start_time": "2025-07-01T19:07:59.986Z"
   },
   {
    "duration": 1118,
    "start_time": "2025-07-01T19:08:00.371Z"
   },
   {
    "duration": 9,
    "start_time": "2025-07-01T19:08:01.490Z"
   },
   {
    "duration": 609,
    "start_time": "2025-07-01T19:08:01.500Z"
   },
   {
    "duration": 47,
    "start_time": "2025-07-01T19:08:02.112Z"
   },
   {
    "duration": 219,
    "start_time": "2025-07-01T19:08:02.161Z"
   },
   {
    "duration": 791,
    "start_time": "2025-07-01T19:08:02.382Z"
   },
   {
    "duration": 957,
    "start_time": "2025-07-01T19:08:03.175Z"
   },
   {
    "duration": 8,
    "start_time": "2025-07-01T19:08:04.133Z"
   },
   {
    "duration": 842,
    "start_time": "2025-07-01T19:08:04.143Z"
   },
   {
    "duration": 34,
    "start_time": "2025-07-01T19:08:04.987Z"
   },
   {
    "duration": 230,
    "start_time": "2025-07-01T19:08:05.023Z"
   },
   {
    "duration": 152,
    "start_time": "2025-07-01T19:08:05.254Z"
   },
   {
    "duration": 49,
    "start_time": "2025-07-01T19:08:05.410Z"
   },
   {
    "duration": 1026,
    "start_time": "2025-07-01T19:08:05.461Z"
   },
   {
    "duration": 22,
    "start_time": "2025-07-01T19:08:06.489Z"
   },
   {
    "duration": 204,
    "start_time": "2025-07-01T19:08:06.513Z"
   },
   {
    "duration": 23,
    "start_time": "2025-07-01T19:08:06.719Z"
   },
   {
    "duration": 98,
    "start_time": "2025-07-01T19:08:06.743Z"
   },
   {
    "duration": 17,
    "start_time": "2025-07-01T19:08:06.843Z"
   },
   {
    "duration": 30,
    "start_time": "2025-07-01T19:08:06.862Z"
   },
   {
    "duration": 311,
    "start_time": "2025-07-01T19:08:06.894Z"
   },
   {
    "duration": 10,
    "start_time": "2025-07-01T19:08:07.207Z"
   },
   {
    "duration": 575,
    "start_time": "2025-07-01T19:08:07.219Z"
   },
   {
    "duration": 412,
    "start_time": "2025-07-01T19:08:07.796Z"
   },
   {
    "duration": 298,
    "start_time": "2025-07-01T19:08:08.210Z"
   },
   {
    "duration": 50,
    "start_time": "2025-07-01T19:08:08.510Z"
   },
   {
    "duration": 165,
    "start_time": "2025-07-01T19:08:08.561Z"
   },
   {
    "duration": 14,
    "start_time": "2025-07-01T19:08:08.728Z"
   },
   {
    "duration": 57,
    "start_time": "2025-07-01T19:08:08.744Z"
   },
   {
    "duration": 35,
    "start_time": "2025-07-01T19:08:08.803Z"
   },
   {
    "duration": 12,
    "start_time": "2025-07-01T19:08:08.840Z"
   },
   {
    "duration": 50,
    "start_time": "2025-07-01T19:08:08.854Z"
   },
   {
    "duration": 182,
    "start_time": "2025-07-01T19:20:04.657Z"
   },
   {
    "duration": 400,
    "start_time": "2025-07-02T16:41:32.677Z"
   },
   {
    "duration": 1063,
    "start_time": "2025-07-02T16:41:33.078Z"
   },
   {
    "duration": 7,
    "start_time": "2025-07-02T16:41:34.143Z"
   },
   {
    "duration": 571,
    "start_time": "2025-07-02T16:41:34.158Z"
   },
   {
    "duration": 48,
    "start_time": "2025-07-02T16:41:34.731Z"
   },
   {
    "duration": 202,
    "start_time": "2025-07-02T16:41:34.780Z"
   },
   {
    "duration": 1008,
    "start_time": "2025-07-02T16:41:34.983Z"
   },
   {
    "duration": 978,
    "start_time": "2025-07-02T16:41:35.993Z"
   },
   {
    "duration": 5,
    "start_time": "2025-07-02T16:41:36.973Z"
   },
   {
    "duration": 950,
    "start_time": "2025-07-02T16:41:36.980Z"
   },
   {
    "duration": 49,
    "start_time": "2025-07-02T16:41:37.932Z"
   },
   {
    "duration": 198,
    "start_time": "2025-07-02T16:41:37.983Z"
   },
   {
    "duration": 135,
    "start_time": "2025-07-02T16:41:38.183Z"
   },
   {
    "duration": 51,
    "start_time": "2025-07-02T16:41:38.320Z"
   },
   {
    "duration": 964,
    "start_time": "2025-07-02T16:41:38.373Z"
   },
   {
    "duration": 31,
    "start_time": "2025-07-02T16:41:39.339Z"
   },
   {
    "duration": 187,
    "start_time": "2025-07-02T16:41:39.372Z"
   },
   {
    "duration": 22,
    "start_time": "2025-07-02T16:41:39.561Z"
   },
   {
    "duration": 129,
    "start_time": "2025-07-02T16:41:39.585Z"
   },
   {
    "duration": 16,
    "start_time": "2025-07-02T16:41:39.716Z"
   },
   {
    "duration": 26,
    "start_time": "2025-07-02T16:41:39.734Z"
   },
   {
    "duration": 339,
    "start_time": "2025-07-02T16:41:39.763Z"
   },
   {
    "duration": 8,
    "start_time": "2025-07-02T16:41:40.104Z"
   },
   {
    "duration": 503,
    "start_time": "2025-07-02T16:41:40.114Z"
   },
   {
    "duration": 396,
    "start_time": "2025-07-02T16:41:40.618Z"
   },
   {
    "duration": 289,
    "start_time": "2025-07-02T16:41:41.016Z"
   },
   {
    "duration": 51,
    "start_time": "2025-07-02T16:41:41.307Z"
   },
   {
    "duration": 163,
    "start_time": "2025-07-02T16:41:41.362Z"
   },
   {
    "duration": 8,
    "start_time": "2025-07-02T16:41:41.527Z"
   },
   {
    "duration": 86,
    "start_time": "2025-07-02T16:41:41.537Z"
   },
   {
    "duration": 109,
    "start_time": "2025-07-02T16:41:41.625Z"
   },
   {
    "duration": 4,
    "start_time": "2025-07-02T16:41:41.736Z"
   },
   {
    "duration": 39,
    "start_time": "2025-07-02T16:41:41.742Z"
   },
   {
    "duration": 953,
    "start_time": "2025-07-02T16:42:42.338Z"
   },
   {
    "duration": 976,
    "start_time": "2025-07-02T16:43:46.377Z"
   },
   {
    "duration": 941,
    "start_time": "2025-07-02T16:44:16.417Z"
   },
   {
    "duration": 958,
    "start_time": "2025-07-02T16:44:26.467Z"
   },
   {
    "duration": 992,
    "start_time": "2025-07-02T16:46:01.627Z"
   },
   {
    "duration": 1063,
    "start_time": "2025-07-02T16:46:16.417Z"
   },
   {
    "duration": 937,
    "start_time": "2025-07-02T16:46:45.405Z"
   },
   {
    "duration": 992,
    "start_time": "2025-07-02T16:47:36.097Z"
   },
   {
    "duration": 934,
    "start_time": "2025-07-02T16:47:45.746Z"
   },
   {
    "duration": 181,
    "start_time": "2025-07-02T16:48:38.487Z"
   },
   {
    "duration": 164,
    "start_time": "2025-07-02T16:48:47.677Z"
   },
   {
    "duration": 163,
    "start_time": "2025-07-02T16:49:12.957Z"
   },
   {
    "duration": 325,
    "start_time": "2025-07-02T16:57:02.083Z"
   },
   {
    "duration": 176,
    "start_time": "2025-07-02T16:58:09.388Z"
   },
   {
    "duration": 181,
    "start_time": "2025-07-02T16:58:50.624Z"
   },
   {
    "duration": 162,
    "start_time": "2025-07-02T16:59:07.086Z"
   },
   {
    "duration": 228,
    "start_time": "2025-07-02T16:59:27.387Z"
   },
   {
    "duration": 140,
    "start_time": "2025-07-02T16:59:57.617Z"
   },
   {
    "duration": 516,
    "start_time": "2025-07-02T17:00:28.198Z"
   },
   {
    "duration": 164,
    "start_time": "2025-07-02T17:10:04.098Z"
   },
   {
    "duration": 163,
    "start_time": "2025-07-02T17:10:15.657Z"
   },
   {
    "duration": 405,
    "start_time": "2025-07-02T17:19:53.422Z"
   },
   {
    "duration": 1053,
    "start_time": "2025-07-02T17:19:53.830Z"
   },
   {
    "duration": 9,
    "start_time": "2025-07-02T17:19:54.884Z"
   },
   {
    "duration": 618,
    "start_time": "2025-07-02T17:19:54.895Z"
   },
   {
    "duration": 53,
    "start_time": "2025-07-02T17:19:55.515Z"
   },
   {
    "duration": 206,
    "start_time": "2025-07-02T17:19:55.570Z"
   },
   {
    "duration": 799,
    "start_time": "2025-07-02T17:19:55.778Z"
   },
   {
    "duration": 874,
    "start_time": "2025-07-02T17:19:56.579Z"
   },
   {
    "duration": 4,
    "start_time": "2025-07-02T17:19:57.455Z"
   },
   {
    "duration": 890,
    "start_time": "2025-07-02T17:19:57.461Z"
   },
   {
    "duration": 38,
    "start_time": "2025-07-02T17:19:58.354Z"
   },
   {
    "duration": 216,
    "start_time": "2025-07-02T17:19:58.393Z"
   },
   {
    "duration": 148,
    "start_time": "2025-07-02T17:19:58.611Z"
   },
   {
    "duration": 44,
    "start_time": "2025-07-02T17:19:58.760Z"
   },
   {
    "duration": 993,
    "start_time": "2025-07-02T17:19:58.806Z"
   },
   {
    "duration": 19,
    "start_time": "2025-07-02T17:19:59.801Z"
   },
   {
    "duration": 207,
    "start_time": "2025-07-02T17:19:59.822Z"
   },
   {
    "duration": 24,
    "start_time": "2025-07-02T17:20:00.030Z"
   },
   {
    "duration": 26,
    "start_time": "2025-07-02T17:20:00.055Z"
   },
   {
    "duration": 16,
    "start_time": "2025-07-02T17:20:00.083Z"
   },
   {
    "duration": 6,
    "start_time": "2025-07-02T17:20:00.101Z"
   },
   {
    "duration": 376,
    "start_time": "2025-07-02T17:20:00.108Z"
   },
   {
    "duration": 8,
    "start_time": "2025-07-02T17:20:00.486Z"
   },
   {
    "duration": 510,
    "start_time": "2025-07-02T17:20:00.495Z"
   },
   {
    "duration": 416,
    "start_time": "2025-07-02T17:20:01.007Z"
   },
   {
    "duration": 343,
    "start_time": "2025-07-02T17:20:01.425Z"
   },
   {
    "duration": 47,
    "start_time": "2025-07-02T17:20:01.770Z"
   },
   {
    "duration": 228,
    "start_time": "2025-07-02T17:20:01.820Z"
   },
   {
    "duration": 8,
    "start_time": "2025-07-02T17:20:02.050Z"
   },
   {
    "duration": 29,
    "start_time": "2025-07-02T17:20:02.059Z"
   },
   {
    "duration": 19,
    "start_time": "2025-07-02T17:20:02.090Z"
   },
   {
    "duration": 15,
    "start_time": "2025-07-02T17:20:02.111Z"
   },
   {
    "duration": 58,
    "start_time": "2025-07-02T17:20:02.127Z"
   },
   {
    "duration": 465,
    "start_time": "2025-07-02T17:26:35.227Z"
   },
   {
    "duration": 461,
    "start_time": "2025-07-02T17:28:16.551Z"
   },
   {
    "duration": 455,
    "start_time": "2025-07-02T17:28:47.766Z"
   },
   {
    "duration": 449,
    "start_time": "2025-07-02T17:33:41.169Z"
   }
  ],
  "colab": {
   "provenance": []
  },
  "kernelspec": {
   "display_name": "Python 3 (ipykernel)",
   "language": "python",
   "name": "python3"
  },
  "language_info": {
   "codemirror_mode": {
    "name": "ipython",
    "version": 3
   },
   "file_extension": ".py",
   "mimetype": "text/x-python",
   "name": "python",
   "nbconvert_exporter": "python",
   "pygments_lexer": "ipython3",
   "version": "3.9.5"
  },
  "toc": {
   "base_numbering": 1,
   "nav_menu": {},
   "number_sections": true,
   "sideBar": true,
   "skip_h1_title": true,
   "title_cell": "Table of Contents",
   "title_sidebar": "Contents",
   "toc_cell": false,
   "toc_position": {},
   "toc_section_display": true,
   "toc_window_display": false
  }
 },
 "nbformat": 4,
 "nbformat_minor": 1
}
